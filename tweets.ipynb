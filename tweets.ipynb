{
  "cells": [
    {
      "cell_type": "markdown",
      "metadata": {
        "colab_type": "text",
        "id": "view-in-github"
      },
      "source": [
        "<a href=\"https://colab.research.google.com/github/begumtekoz/sentiment-analysis-of-tweets/blob/main/tweets.ipynb\" target=\"_parent\"><img src=\"https://colab.research.google.com/assets/colab-badge.svg\" alt=\"Open In Colab\"/></a>"
      ]
    },
    {
      "cell_type": "markdown",
      "metadata": {
        "id": "fQpTAQWrfpLZ"
      },
      "source": [
        "# Analysis of Tweets about education in Covid 19"
      ]
    },
    {
      "cell_type": "markdown",
      "metadata": {
        "id": "wIgYuVkYfpLc"
      },
      "source": [
        "The digitalization of life with Covid-19 affected everyone to some extent. Especially the education area with the most interaction was interrupted with the arrival of the quarantine. That's why this area started to digitalize and transform.\n",
        "Online education models have improved considerably in recent years, especially universities are more familiar with this subject.\n"
      ]
    },
    {
      "cell_type": "markdown",
      "metadata": {
        "id": "qPqn478AfpLd"
      },
      "source": [
        "Linda Weiser Friedman and Hershey H. Friedman referred to this in their article \"Using Social Media Technologies to Enhance Online Learning\".This article states that approximately 30% of university students take online courses. Online courses include many platforms such as blogs, social media technologies and web-based sites. So even though our transition to online education has increased with quarantine, most schools and universities had sufficient infrastructure for online education.\n",
        "There were people unfamiliar with online education. People's opinions about online education were divided. Some people think that online education is very tiring and inefficient, but on the contrary, it increases the more useful and interactive performance."
      ]
    },
    {
      "cell_type": "markdown",
      "metadata": {
        "id": "sUZ2IEWWfpLd"
      },
      "source": [
        "In this study, we will examine people's thoughts about online education and Covid19 with tweets from certain regions. Population density in the areas we chose would create a significant biased. Fixing the random number of tweets will create an unbiased environment in the study. It contains the last hundred tweets posted in London and New York until 12.11.2020.\n"
      ]
    },
    {
      "cell_type": "markdown",
      "metadata": {
        "id": "uvii_7tgfpLe"
      },
      "source": [
        "#  Data taken from USA"
      ]
    },
    {
      "cell_type": "code",
      "execution_count": null,
      "metadata": {
        "id": "2eEirE8pfpLe",
        "outputId": "d9d007ca-d1f4-4b07-ad62-d2a592cc93d0"
      },
      "outputs": [
        {
          "name": "stdout",
          "output_type": "stream",
          "text": [
            "Requirement already satisfied: tweet-preprocessor in c:\\users\\begum\\anaconda3\\lib\\site-packages (0.6.0)\n"
          ]
        }
      ],
      "source": [
        "import tweepy # for pulling tweets\n",
        "import csv # for exporting and importing CSV files\n",
        "import json # for formatting, exporting, and importing JSON files\n",
        "import datetime # for date formatting\n",
        "import html # for unescaping certain characters in the text\n",
        "\n",
        "import os\n",
        "import tweepy as tw\n",
        "import pandas as pd\n",
        "\n",
        "\n",
        "from tweepy import *\n",
        "\n",
        "import pandas as pd\n",
        "import csv\n",
        "import re\n",
        "import string\n",
        "\n",
        "!pip install tweet-preprocessor\n",
        "\n",
        "import preprocessor as p\n"
      ]
    },
    {
      "cell_type": "markdown",
      "metadata": {
        "id": "aM96rGKqfpLg"
      },
      "source": [
        "In the beginning of the analyze the consumer key, consumer secret, access token and access token secret are taken from the Twitter Developer acount. It is applied for the both data from USA and UK"
      ]
    },
    {
      "cell_type": "code",
      "execution_count": null,
      "metadata": {
        "id": "8x0huP_ifpLg"
      },
      "outputs": [],
      "source": [
        "CONSUMER_KEY = \"\" # fill this\n",
        "CONSUMER_SECRET = \"\" # fill this\n",
        "ACCESS_TOKEN = \"\" # fill this (required only for OAuth 1a)\n",
        "ACCESS_TOKEN_SECRET = \"\" # fill this (required only for OAuth 1a)"
      ]
    },
    {
      "cell_type": "code",
      "execution_count": null,
      "metadata": {
        "id": "uQ09CGA5fpLh"
      },
      "outputs": [],
      "source": [
        "# OAuth 1a: Authentication with the user context\n",
        "\n",
        "auth = tweepy.OAuthHandler(CONSUMER_KEY, CONSUMER_SECRET)\n",
        "auth.set_access_token(ACCESS_TOKEN, ACCESS_TOKEN_SECRET)\n",
        "api = tweepy.API(auth)\n",
        "\n",
        "# OAuth 2: Authentication without the user context\n",
        "\n",
        "# auth = tweepy.AppAuthHandler(CONSUMER_KEY, CONSUMER_SECRET)\n",
        "# api = tweepy.API(auth)"
      ]
    },
    {
      "cell_type": "markdown",
      "metadata": {
        "id": "4IrKJCZkfpLh"
      },
      "source": [
        "Its location was taken centered in Washington. And it covers 200 kilometers around."
      ]
    },
    {
      "cell_type": "code",
      "execution_count": null,
      "metadata": {
        "id": "hsQiVsFrfpLh",
        "outputId": "0c4a6996-1f49-4083-b393-307adad6b737"
      },
      "outputs": [
        {
          "name": "stdout",
          "output_type": "stream",
          "text": [
            "Discover how #Rwanda is using digitalization to address the education challenges brought on by #COVID19 #ResilientRecovery: https://t.co/55rgCStz8V https://t.co/iPbHobpGaM\n",
            "Amid the #COVID19 pandemic and a White House transition, what's next for American schools? \n",
            "\n",
            "Join us Tuesday for an expert discussion of the future of US education, including pandemic recovery, school choice, and more. Register: https://t.co/c2mFMKB8FT\n",
            "eLearning's Time To Shine? Apparently Not https://t.co/IphPqnejEz #Education #Federal #State #Local #News #Crime #Fire #Politics #COVID19 #Security #Mayor #Teachers #TechNews #Sports Please Retweet\n",
            "Navajo Nation Readies For Vaccine To Fight 'Invisible Monster' https://t.co/bdiibgEV88 #Education #Federal #State #Local #News #Crime #Fire #Politics #COVID19 #Security #Mayor #Teachers #TechNews #Sports Please Retweet\n",
            "8 Ways eLearning Can Help Us Prepare For A New World Of Work https://t.co/opcKTjiyZr #Education #Federal #State #Local #News #Crime #Fire #Politics #COVID19 #Security #Mayor #Teachers #TechNews #Sports Please Retweet\n",
            "In the first 3 months of the #COVID19 pandemic, people in IDA countries faced higher risks than the rest of the developing world: \n",
            "💵 Higher risk of income loss \n",
            "✏️ Disruptions in education \n",
            "🥗 Undernourishment\n",
            "Read more in our new blog: https://t.co/IDxEGXCzAk https://t.co/xS94RWbMdP\n",
            "First COVID-19 vaccine shipments leave Pfizer plant in Michigan https://t.co/yxacVvpZqm #Education #Federal #State #Local #News #Crime #Fire #Politics #COVID19 #Security #Mayor #Teachers #TechNews #Sports Please Retweet\n",
            "FDA chief: Americans&amp;#039; hesitancy to get vaccine a &amp;#039;significant problem&amp;#039; https://t.co/CXFEbMywjt #Education #Federal #State #Local #News #Crime #Fire #Politics #COVID19 #Security #Mayor #Teachers #TechNews #Sports Please Retweet\n",
            "Finding Balance in Today's Classroom https://t.co/u3ZBDXtRAS #Education #Federal #State #Local #News #Crime #Fire #Politics #COVID19 #Security #Mayor #Teachers #TechNews #Sports Please Retweet\n",
            "Perfect Presentations Through Technology: Part 2 https://t.co/Esdrus6V1u #Education #Federal #State #Local #News #Crime #Fire #Politics #COVID19 #Security #Mayor #Teachers #TechNews #Sports Please Retweet\n",
            "Cartoons and illustrations are such a great way to depict #data + health &amp; safety msgs. Interesting to see how @MIT alum have been doing this for #COVID19. It all starts with understanding what drives your audiences’ behavior. https://t.co/G9VRjUaBWu\n",
            "#COVID19 most commonly harms your lungs, but it can also cause serious heart problems. Learn more about COVID-19 and your heart: https://t.co/t0KVLph2xA. https://t.co/LkpgFpmBM3\n",
            "ATTN: #DrivingEducators! ANSTSE developed a new resource that provides temporary solutions for Behind-the-Wheel instruction &amp; assessment during #COVID19.  @ChildrensPhila's CIRP experts worked on the task groups. View the resource: https://t.co/tj3mqfaTjR https://t.co/tgVP9AolpU\n",
            "Learn about Forging Meaningful Connections to Engage Students and Families with #education experts. It is FREE and on-demand! Register today:  \n",
            "\n",
            "https://t.co/Z32FQfsFVg\n",
            "\n",
            "#EdChat #Educhat #COVID19 #DistanceLearning @AFTunion @sharemylesson @CTULocal1 @MarlaUcelli @EducationMN https://t.co/nW568fmGGV\n",
            "Turn Your Spreadsheets Into Interactive Educational Apps Using this Handy Tool https://t.co/bt5ySX9QKL #Education #Federal #State #Local #News #Crime #Fire #Politics #COVID19 #Security #Mayor #Teachers #TechNews #Sports Please Retweet\n",
            "Navajo Nation will receive first doses of COVID-19 vaccine early this week https://t.co/ZBu5PdoB0I #Education #Federal #State #Local #News #Crime #Fire #Politics #COVID19 #Security #Mayor #Teachers #TechNews #Sports Please Retweet\n",
            "COVID-19 infections spread rapidly as officials race to distribute vaccine https://t.co/xo3VszxnyY #Education #Federal #State #Local #News #Crime #Fire #Politics #COVID19 #Security #Mayor #Teachers #TechNews #Sports Please Retweet\n",
            "Why You Need To Add A Digital Card Game To Your eLearning Toolkit https://t.co/mA6MXX0e9W #Education #Federal #State #Local #News #Crime #Fire #Politics #COVID19 #Security #Mayor #Teachers #TechNews #Sports Please Retweet\n",
            "Here Is How to Sync YouTube Videos with Google Slides to Create Instructional Videos https://t.co/TvgSuPBYPt #Education #Federal #State #Local #News #Crime #Fire #Politics #COVID19 #Security #Mayor #Teachers #TechNews #Sports Please Retweet\n",
            "CDC panel recommends moving forward with Pfizer vaccine https://t.co/CItshhXtxX #Education #Federal #State #Local #News #Crime #Fire #Politics #COVID19 #Security #Mayor #Teachers #TechNews #Sports Please Retweet\n",
            "The Week in Review - Time to Pick Up Sticks https://t.co/aAgpFwrjFF #Education #Federal #State #Local #News #Crime #Fire #Politics #COVID19 #Security #Mayor #Teachers #TechNews #Sports Please Retweet\n",
            "7 Tips To Improve Online Training With A Job Task Analysis https://t.co/QuwycP6FNg #Education #Federal #State #Local #News #Crime #Fire #Politics #COVID19 #Security #Mayor #Teachers #TechNews #Sports Please Retweet\n",
            "Questions about #COVID19 vaccines? Join us for a no-cost webinar on Thursday, Dec 17 at 12:00 noon ET with Drs. @brennahughesmd, @SwamyGeeta and @HeatherLipkind. Advanced registration is required:  https://t.co/pq6OlVoWcO https://t.co/99iy7fbC7w\n",
            "Amid the #COVID19 pandemic, displaced women &amp; girls are facing challenges like:\n",
            "✖️Increase in gender-based violence\n",
            "✖️Loss of livelihoods\n",
            "✖️Disrupted education\n",
            "✖️Reduced access to health services\n",
            "@devoncone explains what the Biden admin can do:\n",
            "https://t.co/G1rTOa3XCE\n",
            "States will receive initial COVID-19 vaccine doses beginning Monday https://t.co/pVIRKJk9vK #Education #Federal #State #Local #News #Crime #Fire #Politics #COVID19 #Security #Mayor #Teachers #TechNews #Sports Please Retweet\n",
            "Educators haven't played politics. They've fought tooth and nail to #ReopenSafely to make sure students get the instruction they need while minimizing the spread of #COVID19.  https://t.co/KWVI4esBh9\n",
            "Crafting Meaningful Artist Statements https://t.co/XRUtjv7riP #Education #Federal #State #Local #News #Crime #Fire #Politics #COVID19 #Security #Mayor #Teachers #TechNews #Sports Please Retweet\n",
            "Addressing The Needs Of The Online Learner https://t.co/a9fbNEAPR0 #Education #Federal #State #Local #News #Crime #Fire #Politics #COVID19 #Security #Mayor #Teachers #TechNews #Sports Please Retweet\n",
            "Jeff Ubben bets on underperforming for-profit education stock https://t.co/Xj6HdLky7M #BankingAndFinanceNews #COVID19 #Online #Banking #Bank #Business #Services #Finance #Home #Money #Loan #Lease #Lending #Markets Please Retweet\n",
            "Very timely #covid19 vaccine education by @dr_jeph @cafp_familydocs #fmforum20 https://t.co/1rxoiWXv0I\n",
            "Let Training Take Your Business From Surviving To Thriving https://t.co/WgnlVQMfDb #Education #Federal #State #Local #News #Crime #Fire #Politics #COVID19 #Security #Mayor #Teachers #TechNews #Sports Please Retweet\n",
            "Amid the #COVID19 pandemic and a White House transition, what's next for American schools? \n",
            "\n",
            "Join us Tuesday for an expert discussion of the future of US education, including pandemic recovery, school choice, and more. Register: https://t.co/vEnojI7O8L\n",
            "In the first 3 months of the #COVID19 pandemic, people in IDA countries faced higher risks than the rest of the developing world: \n",
            "💵 Higher risk of income loss \n",
            "✏️ Disruptions in education \n",
            "🥗 Undernourishment\n",
            "Read more in our new blog: https://t.co/QEBYHjb3hn https://t.co/XLRaSSPEuQ\n",
            "ACC President @athenapoppas kicks off #NYCVS20, thanking clinicians &amp; health care workers in for their tireless efforts on the front lines protecting patients &amp; communities during #COVID19 pandemic. View the agenda: https://t.co/Wz0LEnhyOY. #ACCED https://t.co/xgLTYgxcGf\n",
            "Union holds ‘sweater-weather’ drive for students https://t.co/EnIG5ok9IQ #Education #Federal #State #Local #News #Crime #Fire #Politics #COVID19 #Security #Mayor #Teachers #TechNews #Sports Please Retweet\n",
            "Khan Academy Ed Talks featuring Brooke Mabry - Wednesday, December 16 https://t.co/byz7n2W6E7 #Education #Federal #State #Local #News #Crime #Fire #Politics #COVID19 #Security #Mayor #Teachers #TechNews #Sports Please Retweet\n",
            "Senator Blocks Legislation On Museums Dedicated To Latinos, Women https://t.co/TSvrM8OBpj #Education #Federal #State #Local #News #Crime #Fire #Politics #COVID19 #Security #Mayor #Teachers #TechNews #Sports Please Retweet\n",
            "CDC studies impact of &amp;#039;forever chemical&amp;#039; exposure on COVID-19 antibodies https://t.co/XeqCq13Zxy #Education #Federal #State #Local #News #Crime #Fire #Politics #COVID19 #Security #Mayor #Teachers #TechNews #Sports Please Retweet\n",
            "Cuomo shutters indoor dining in New York City as COVID-19 spikes https://t.co/Qvl9cpfuqq #Education #Federal #State #Local #News #Crime #Fire #Politics #COVID19 #Security #Mayor #Teachers #TechNews #Sports Please Retweet\n",
            "Supreme Court Allows Muslim Men to Sue FBI Agents https://t.co/Hki03kSlva #Education #Federal #State #Local #News #Crime #Fire #Politics #COVID19 #Security #Mayor #Teachers #TechNews #Sports Please Retweet\n",
            "A Chat With Canada's Funniest Teacher! https://t.co/bTIP72qda6 #Education #Federal #State #Local #News #Crime #Fire #Politics #COVID19 #Security #Mayor #Teachers #TechNews #Sports Please Retweet\n",
            "Biden-Harris Team Named Time's \"Person Of The Year\" https://t.co/URwROmN8tU #Education #Federal #State #Local #News #Crime #Fire #Politics #COVID19 #Security #Mayor #Teachers #TechNews #Sports Please Retweet\n",
            "Sampling distribution of the difference in sample means | AP Statistics | Khan Academy https://t.co/6yilNhvjcc #Education #Federal #State #Local #News #Crime #Fire #Politics #COVID19 #Security #Mayor #Teachers #TechNews #Sports Please Retweet\n",
            "Sanders, Hawley vow fight next week over stimulus checks https://t.co/pVUnkGPSHF #Education #Federal #State #Local #News #Crime #Fire #Politics #COVID19 #Security #Mayor #Teachers #TechNews #Sports Please Retweet\n",
            "An Excellent Google Forms Add-on to Use in Your Teaching https://t.co/lXJLUQUrYx #Education #Federal #State #Local #News #Crime #Fire #Politics #COVID19 #Security #Mayor #Teachers #TechNews #Sports Please Retweet\n",
            "US enters brutal stretch of pandemic, even with approaching vaccines https://t.co/q5H7q3oLK5 #Education #Federal #State #Local #News #Crime #Fire #Politics #COVID19 #Security #Mayor #Teachers #TechNews #Sports Please Retweet\n",
            "Trump administration to purchase another 100M doses of Moderna vaccine https://t.co/a9uGCyhJcf #Education #Federal #State #Local #News #Crime #Fire #Politics #COVID19 #Security #Mayor #Teachers #TechNews #Sports Please Retweet\n",
            "Breakout Rooms in Microsoft Teams https://t.co/v48Z4q4Spl #Education #Federal #State #Local #News #Crime #Fire #Politics #COVID19 #Security #Mayor #Teachers #TechNews #Sports Please Retweet\n",
            "Representation Matters: The Evolution Of Diversity And Inclusion Illustrations In eLearning Courses https://t.co/YGx1019FDD #Education #Federal #State #Local #News #Crime #Fire #Politics #COVID19 #Security #Mayor #Teachers #TechNews #Sports Please Retweet\n",
            "The Octopus Whisperer https://t.co/2QOfi79tZA #Education #Federal #State #Local #News #Crime #Fire #Politics #COVID19 #Security #Mayor #Teachers #TechNews #Sports Please Retweet\n",
            "Breaking Into The Industry: The Ultimate Guide For New Human Resource Development Professionals https://t.co/ngrdqqgx7v #Education #Federal #State #Local #News #Crime #Fire #Politics #COVID19 #Security #Mayor #Teachers #TechNews #Sports Please Retweet\n",
            "Sen. Rand Paul Delays Vote On Defense Bill https://t.co/s64VHTekjp #Education #Federal #State #Local #News #Crime #Fire #Politics #COVID19 #Security #Mayor #Teachers #TechNews #Sports Please Retweet\n",
            "Here Is How to Easily Convert Your Google Slides Presentations into Video Slideshows https://t.co/3ptKxlwu9O #Education #Federal #State #Local #News #Crime #Fire #Politics #COVID19 #Security #Mayor #Teachers #TechNews #Sports Please Retweet\n",
            "Committees reach bipartisan deal to protect patients from surprise medical bills https://t.co/fMyoSYsav2 #Education #Federal #State #Local #News #Crime #Fire #Politics #COVID19 #Security #Mayor #Teachers #TechNews #Sports Please Retweet\n",
            "Mix Landscape and Portrait Layouts in Google Docs https://t.co/DQiLQRsk3t #Education #Federal #State #Local #News #Crime #Fire #Politics #COVID19 #Security #Mayor #Teachers #TechNews #Sports Please Retweet\n",
            "FDA clears nation&amp;#039;s first COVID-19 vaccine https://t.co/ZyYU5bvves #Education #Federal #State #Local #News #Crime #Fire #Politics #COVID19 #Security #Mayor #Teachers #TechNews #Sports Please Retweet\n",
            "White House presses FDA chief over COVID-19 vaccine https://t.co/KsRIoCFsZC #Education #Federal #State #Local #News #Crime #Fire #Politics #COVID19 #Security #Mayor #Teachers #TechNews #Sports Please Retweet\n",
            "Respiratory Therapists Exhausted By Pandemic Surges https://t.co/UBzT7M9OjV #Education #Federal #State #Local #News #Crime #Fire #Politics #COVID19 #Security #Mayor #Teachers #TechNews #Sports Please Retweet\n",
            "Three snow leopards at Louisville Zoo test positive for COVID-19 https://t.co/OMma72Ef54 #Education #Federal #State #Local #News #Crime #Fire #Politics #COVID19 #Security #Mayor #Teachers #TechNews #Sports Please Retweet\n",
            "Bring mass #COVID19 testing to schools across England.\n",
            "Why hasn't this happened already given rates in the north were more than double what they are in London now a few weeks ago. Is this another example of your 'levelling up' @BorisJohnson @Conservatives?\n",
            "https://t.co/dzGcNrNrC6\n",
            "6/ My oldest son is also 11. Landon's death has weighed on my heart for the past 8 months. I grieve for Landon &amp; his family. My heart is breaking daily for all of #NewMexico's school kids who are being denied an education by @NMPED @GovMLG's #covid19 policies\n",
            "Which face coverings are best for student comprehension? This question of which #masks allow for the best speech intelligibility has a large impact on education. https://t.co/POohPh8Kuw #COVID19 https://t.co/0xlGnxhVoW\n",
            "The cost of a college education, combined with #COVID19, is forcing thousands of college students – most of them low income or students of color – to put their dreams on hold.  https://t.co/VBh9gEPkL6\n",
            ".@beth_kontos is right. Testing is an important safety guardrail to preventing the spread of #COVID19, and it should be more widely available to students and educators.  https://t.co/803wwAoQmR\n",
            "#COVID19 has had an outsized effect on persons with disabilities.  \n",
            "\n",
            "Here’s how committees in #Jordan are amplifying voices within this historically marginalized group—and ensuring access to basic education and health services during the pandemic. https://t.co/Aft2Sh7p0z https://t.co/l0TsQAkQZ7\n",
            "Closures of schools and other learning facilities due to #COVID19 have exacerbated pre-existing educational disparities, further undermining the right to education for all. (2/2) \n",
            "https://t.co/DbdE1Nv8Ih\n",
            "#COVID19 stole graduate student @aphra_v_murray's sense of community. Read how she's getting it back here: https://t.co/LslJCcGsfz https://t.co/POtiR049a6\n",
            "#Covid19 crisis adds to substantial existing shortcomings in #education. But, as @DavidMalpassWBG writes in his @FT Op-Ed, the pandemic offers a chance to accelerate changes that are urgently needed, while ensuring a safe return to school. https://t.co/CznHShgXxz\n",
            "12 (sm)ART Storytelling Lenses For Any Scenario https://t.co/FDOIU7Xc1J #Education #Federal #State #Local #News #Crime #Fire #Politics #COVID19 #Security #Mayor #Teachers #TechNews #Sports Please Retweet\n",
            "A strategy for supporting and listening to others | Jeremy Brewer https://t.co/wfIfG6EPDo #Education #Federal #State #Local #News #Crime #Fire #Politics #COVID19 #Security #Mayor #Teachers #TechNews #Sports Please Retweet\n",
            "Tom Vilsack To Become Secretary Of Agriculture For Third Term; Rice Gets Top White House Post https://t.co/meUh81EtOZ #Education #Federal #State #Local #News #Crime #Fire #Politics #COVID19 #Security #Mayor #Teachers #TechNews #Sports Please Retweet\n",
            "COVID-19’s third wave is hammering the Midwest https://t.co/nyObDjdFan #Education #Federal #State #Local #News #Crime #Fire #Politics #COVID19 #Security #Mayor #Teachers #TechNews #Sports Please Retweet\n",
            "A strategy for supporting and listening to others | Jeremy Brewer https://t.co/6wDKgSlrrq #Education #Federal #State #Local #News #Crime #Fire #Politics #COVID19 #Security #Mayor #Teachers #TechNews #Sports Please Retweet\n",
            "We know that pensions are all the more for teachers given that their salary is substantially lower than other professionals with comparable education and experience.  https://t.co/z9SkhF0CLX\n",
            "\n",
            "@CNBC #teachers #salary #retirement #COVID19\n",
            "To understand the impact of #COVID19 on Veteran education and workforce trends the U.S. Department of Veterans Affairs and Accenture conducted study. Read the findings. https://t.co/iCdczKMKz9\n",
            "“The numbers don’t lie, and the human toll behind each of those numbers demand that we pause in-person learning until the situation rights itself.” #COVID19 #VEAStrong https://t.co/G3FToqrfsc\n",
            "AstraZeneca to start COVID-19 trial combined with Russia&amp;#039;s Sputnik V vaccine https://t.co/hzriqGo5Qe #Education #Federal #State #Local #News #Crime #Fire #Politics #COVID19 #Security #Mayor #Teachers #TechNews #Sports Please Retweet\n",
            "Boston conference in February linked to as many as 300,000 coronavirus cases worldwide https://t.co/8drqQclDnb #Education #Federal #State #Local #News #Crime #Fire #Politics #COVID19 #Security #Mayor #Teachers #TechNews #Sports Please Retweet\n",
            "Sanofi, Glaxo announces setback in coronavirus vaccine project https://t.co/UjuqLHV865 #Education #Federal #State #Local #News #Crime #Fire #Politics #COVID19 #Security #Mayor #Teachers #TechNews #Sports Please Retweet\n",
            "Azar: First vaccinations could come Monday or Tuesday from Pfizer vaccine https://t.co/T3JBLB24MO #Education #Federal #State #Local #News #Crime #Fire #Politics #COVID19 #Security #Mayor #Teachers #TechNews #Sports Please Retweet\n",
            "Perfect Presentations Through Technology: Part 1 https://t.co/p8nYub2Vxe #Education #Federal #State #Local #News #Crime #Fire #Politics #COVID19 #Security #Mayor #Teachers #TechNews #Sports Please Retweet\n",
            "Listen to @AASAHQ's Bryan Joffe and @TranscendBuilds' Sujata Bhatt talk about roads to reinvention for school districts in 2021 as a result of #COVID19 on @edutalkradio. #edequity @AASATotalChild https://t.co/qtuWWtbC10 #edleaders\n",
            "Learning Loss in Canada due to #COVID19 induced school closures:\n",
            "\n",
            "- Ontario: failure rate 16%, twice as large as last year\n",
            "- Quebec: three times the usual failure rate\n",
            "\n",
            "https://t.co/iKsEyArrMW\n",
            "Pleasure to present today at the 10th International Research-to-Practice Conference \"Early Childhood Care and Education\" (#ECCE 2020 Digital) - Moscow - on the costs of #COVID19 school closures\n",
            "https://t.co/f1xxv6VT4f https://t.co/9AG9zfsfFK\n",
            "Over 1 billion children are at risk for increased academic achievement gaps due to school closures. In our last round of #COVID19 funding, we gave special attention to organizations working to ensure continuing education for all children. https://t.co/7t1YJ0c4id #CDP4Recovery\n",
            "Proposals for racial justice and worker mobility https://t.co/7nSJpp6xIc #Education #Federal #State #Local #News #Crime #Fire #Politics #COVID19 #Security #Mayor #Teachers #TechNews #Sports Please Retweet\n",
            "Proposals for racial justice and worker mobility https://t.co/z9r3EddTga #Education #Federal #State #Local #News #Crime #Fire #Politics #COVID19 #Security #Mayor #Teachers #TechNews #Sports Please Retweet\n",
            "5 Important Google Drive Updates for Teachers and Educators https://t.co/FrgQNidrrm #Education #Federal #State #Local #News #Crime #Fire #Politics #COVID19 #Security #Mayor #Teachers #TechNews #Sports Please Retweet\n",
            "FDA panel member says she voted against vaccine authorization because of limited data on &amp;#039;younger participants&amp;#039; https://t.co/sAsA7ydgaJ #Education #Federal #State #Local #News #Crime #Fire #Politics #COVID19 #Security #Mayor #Teachers #TechNews #Sports Please Retweet\n",
            "L.A. Homeless Shelters Cut Beds Due To Virus; Deaths Surge On Streets https://t.co/RPwf9iFd96 #Education #Federal #State #Local #News #Crime #Fire #Politics #COVID19 #Security #Mayor #Teachers #TechNews #Sports Please Retweet\n",
            "Lebron James Named Time's Athlete Of The Year https://t.co/jV3goFflD1 #Education #Federal #State #Local #News #Crime #Fire #Politics #COVID19 #Security #Mayor #Teachers #TechNews #Sports Please Retweet\n",
            "Coalition warns wealthier countries are hoarding COVID-19 vaccines https://t.co/8mkS3ZsXl5 #Education #Federal #State #Local #News #Crime #Fire #Politics #COVID19 #Security #Mayor #Teachers #TechNews #Sports Please Retweet\n",
            "Pfizer Vaccine Distribution Could Face A Bumpy Road https://t.co/5Wvudz256b #Education #Federal #State #Local #News #Crime #Fire #Politics #COVID19 #Security #Mayor #Teachers #TechNews #Sports Please Retweet\n",
            "“Learning losses will be made up,” Fedderman said, “but loss of life cannot be.”\n",
            "@MarkWarner\n",
            "@GovernorVA\n",
            "@timkaine\n",
            "#COVID19\n",
            "#Virginia\n",
            "#virtuallearning\n",
            "#edutwitter\n",
            "#Virginiaeducationassociation\n",
            "\n",
            "https://t.co/omeNMgWCwq\n",
            "our new Institute for Advancing Health Equity, Sutter is teaming up with @RootsEmpowers to increase #COVID19 testing, expand outreach &amp; enhance education in Black communities disproportionately impacted by the pandemic. https://t.co/yP7nzjsXRC #TeamSutter https://t.co/LC5mT1Xlxu\n",
            "Sanders, Hawley team up to demand vote on second round of stimulus checks https://t.co/1meL43ntQS #Education #Federal #State #Local #News #Crime #Fire #Politics #COVID19 #Security #Mayor #Teachers #TechNews #Sports Please Retweet\n",
            "Biden says FDA panel vote on Pfizer vaccine a &amp;#039;bright light in a needlessly dark time&amp;#039; https://t.co/IdAKNkUoCD #Education #Federal #State #Local #News #Crime #Fire #Politics #COVID19 #Security #Mayor #Teachers #TechNews #Sports Please Retweet\n",
            "Minneapolis Approves Cutting Police Budget https://t.co/0uoj8PFydj #Education #Federal #State #Local #News #Crime #Fire #Politics #COVID19 #Security #Mayor #Teachers #TechNews #Sports Please Retweet\n",
            "Poverty among professors clocked in new survey https://t.co/OGTSwLWB3J #Education #Federal #State #Local #News #Crime #Fire #Politics #COVID19 #Security #Mayor #Teachers #TechNews #Sports Please Retweet\n",
            "FDA panel votes in favor of Pfizer COVID-19 vaccine https://t.co/W2NK0ErF5t #Education #Federal #State #Local #News #Crime #Fire #Politics #COVID19 #Security #Mayor #Teachers #TechNews #Sports Please Retweet\n"
          ]
        }
      ],
      "source": [
        "tweets_searched = tweepy.Cursor(api.search, q=\"#covid19 education -rt -filter:nativeretweets -public\",\n",
        "                                lang=\"en\",\n",
        "                                count=100,\n",
        "                                tweet_mode=\"extended\",\n",
        "                                geocode=\"38.9117,-77.01017,200km\").items(100)\n",
        "\n",
        "tweets_json = []\n",
        "\n",
        "for result_tweet in tweets_searched:\n",
        "    print(result_tweet.full_text)\n",
        "    tweets_json.append(result_tweet._json)"
      ]
    },
    {
      "cell_type": "markdown",
      "metadata": {
        "id": "OMRIUGz1fpLh"
      },
      "source": [
        "We access the JSON object to examine its content more easily."
      ]
    },
    {
      "cell_type": "code",
      "execution_count": null,
      "metadata": {
        "id": "OyjguFErfpLh"
      },
      "outputs": [],
      "source": [
        "# # Saving it in a JSON file\n",
        "with open(\"tweetsUS.json\", 'w', encoding=\"UTF-8\") as outfile:\n",
        "    # You can remove the indent parameter to make it more compact.\n",
        "    json.dump(tweets_json, outfile, ensure_ascii=False, indent=4)"
      ]
    },
    {
      "cell_type": "code",
      "execution_count": null,
      "metadata": {
        "id": "tdOuG5GhfpLi",
        "outputId": "e263e885-2dd5-4833-d34c-4c4e4236de59"
      },
      "outputs": [],
      "source": [
        "with open(\"tweetsUS.json\", 'r', encoding=\"UTF-8\") as file:\n",
        "    tweets_json = json.load(file)\n"
      ]
    },
    {
      "cell_type": "markdown",
      "metadata": {
        "id": "_xz8rywtfpLi"
      },
      "source": [
        "After Json is created, we have selected the attributes we want below. These attributes will contain specific patterns that we will use when analyzing. We took the attributes in the tweet using objects. As an example, we used tweet [\"favorite_count\"] to get the favorite numbers in the tweet. And we created them below for all attributes."
      ]
    },
    {
      "cell_type": "code",
      "execution_count": null,
      "metadata": {
        "id": "W7ODsH1LfpLi",
        "outputId": "625ba255-8685-45af-c3a1-cb8ba723f4a5"
      },
      "outputs": [],
      "source": [
        "def get_tweet_timestamp(created_at):\n",
        "    # A utility function that returns UNIX timestamp from the created_at attribute\n",
        "    return int(datetime.datetime.strptime(created_at, \"%a %b %d %H:%M:%S %z %Y\").timestamp())\n",
        "\n",
        "def get_unique_hashtags(hashtags_dict, serialize=False):\n",
        "    # A utility function that returns UNIX timestamp from the created_at attribute\n",
        "    hashtags = {hashtag[\"text\"] for hashtag in hashtags_dict}\n",
        "    if serialize:\n",
        "        # Returns it as a simple string, hashtags are separated by \",\"\n",
        "        return ','.join(hashtags)\n",
        "    else:\n",
        "        return hashtags\n",
        "\n",
        "for tweet in tweets_json:\n",
        "    print(\"User handle:\",tweet[\"user\"][\"screen_name\"])\n",
        "    print(\"User name:\",tweet[\"user\"][\"name\"])\n",
        "    # In this case, name and screen_name correspond to the same value, but most of the\n",
        "    # time, it is not the case.\n",
        "\n",
        "    print(\"Date and time:\",tweet[\"created_at\"])\n",
        "    # Obtaining a UNIX timestamp from the date and time (might come handy for further\n",
        "    # analyses):\n",
        "    print(\"UNIX timestamp from date:\",get_tweet_timestamp(tweet[\"created_at\"]))\n",
        "\n",
        "    print(\"Tweet:\",tweet[\"full_text\"])\n",
        "    print(\"Hashtags:\",tweet[\"entities\"][\"hashtags\"])\n",
        "    # If you do not need the indices, this directly gives you the unique hashtags:\n",
        "    print(\"Unique hashtags:\",get_unique_hashtags(tweet[\"entities\"][\"hashtags\"]))\n",
        "    print(\"Favorite count:\",tweet[\"favorite_count\"])\n",
        "    print(\"Retweet count:\",tweet[\"retweet_count\"])\n",
        "    print(\"Source:\",tweet[\"source\"])"
      ]
    },
    {
      "cell_type": "markdown",
      "metadata": {
        "id": "G7w3s__mfpLj"
      },
      "source": [
        "\n",
        "We first took the simplified version of the text.\n",
        "This json made it easy to convert the attributes we chose to csv."
      ]
    },
    {
      "cell_type": "code",
      "execution_count": null,
      "metadata": {
        "id": "42OuRu3YfpLj"
      },
      "outputs": [],
      "source": [
        "# The function we had also used while collecting some tweets:\n",
        "def simplify_text(text):\n",
        "    # Practically replaces line breaks or other whitespace characters with a single\n",
        "    # space and then unescapes characters.\n",
        "    return html.unescape(\" \".join(text.split()))"
      ]
    },
    {
      "cell_type": "code",
      "execution_count": null,
      "metadata": {
        "id": "PdeIrUUcfpLj"
      },
      "outputs": [],
      "source": [
        "with open(\"tweetsUS.csv\", 'w', encoding=\"UTF-8\") as outfile:\n",
        "    writer = csv.writer(outfile, delimiter=',', quotechar='\"', quoting=csv.QUOTE_MINIMAL, lineterminator='\\n')\n",
        "    # Writing the headers\n",
        "    writer.writerow([\"screen_name\",\n",
        "\n",
        "                     \"follower_count\",\n",
        "                     \"timestamp\",\n",
        "                     \"text\",\n",
        "                     \"hashtags\",\n",
        "                     \"favorite_count\",\n",
        "                     \"retweet_count\",\n",
        "                    \"source\"])\n",
        "\n",
        "    # Writing each tweet on a line\n",
        "    for tweet in tweets_json:\n",
        "        writer.writerow([tweet[\"user\"][\"screen_name\"],\n",
        "                         tweet[\"user\"][\"followers_count\"],\n",
        "                         get_tweet_timestamp(tweet[\"created_at\"]),\n",
        "                         simplify_text(tweet[\"full_text\"]),\n",
        "                         get_unique_hashtags(tweet[\"entities\"][\"hashtags\"], serialize=True),\n",
        "                         tweet[\"favorite_count\"],\n",
        "                         tweet[\"retweet_count\"],\n",
        "                         tweet[\"source\"]])"
      ]
    },
    {
      "cell_type": "markdown",
      "metadata": {
        "id": "bE0lewNLfpLk"
      },
      "source": [
        "The created CSV is run in the below"
      ]
    },
    {
      "cell_type": "code",
      "execution_count": null,
      "metadata": {
        "id": "qTQ8Ukv_fpLk",
        "outputId": "79cb2dd8-224d-4ec8-fa20-fdc280fb8609"
      },
      "outputs": [
        {
          "data": {
            "text/html": [
              "<div>\n",
              "<style scoped>\n",
              "    .dataframe tbody tr th:only-of-type {\n",
              "        vertical-align: middle;\n",
              "    }\n",
              "\n",
              "    .dataframe tbody tr th {\n",
              "        vertical-align: top;\n",
              "    }\n",
              "\n",
              "    .dataframe thead th {\n",
              "        text-align: right;\n",
              "    }\n",
              "</style>\n",
              "<table border=\"1\" class=\"dataframe\">\n",
              "  <thead>\n",
              "    <tr style=\"text-align: right;\">\n",
              "      <th></th>\n",
              "      <th>screen_name</th>\n",
              "      <th>follower_count</th>\n",
              "      <th>timestamp</th>\n",
              "      <th>text</th>\n",
              "      <th>hashtags</th>\n",
              "      <th>favorite_count</th>\n",
              "      <th>retweet_count</th>\n",
              "      <th>source</th>\n",
              "    </tr>\n",
              "  </thead>\n",
              "  <tbody>\n",
              "    <tr>\n",
              "      <th>3</th>\n",
              "      <td>AJBlackston</td>\n",
              "      <td>1701</td>\n",
              "      <td>1607891513</td>\n",
              "      <td>Navajo Nation Readies For Vaccine To Fight 'Invisible Monster' https://t.co/bdiibgEV88 #Education #Federal #State #Local #News #Crime #Fire #Politics #COVID19 #Security #Mayor #Teachers #TechNews #Sports Please Retweet</td>\n",
              "      <td>State,Crime,Education,TechNews,Teachers,Security,Sports,Federal,Local,COVID19,Mayor,Politics,Fire,News</td>\n",
              "      <td>0</td>\n",
              "      <td>0</td>\n",
              "      <td>&lt;a href=\"http://www.powerapps.com\" rel=\"nofollow\"&gt;Microsoft Power Platform&lt;/a&gt;</td>\n",
              "    </tr>\n",
              "    <tr>\n",
              "      <th>9</th>\n",
              "      <td>AJBlackston</td>\n",
              "      <td>1701</td>\n",
              "      <td>1607875166</td>\n",
              "      <td>Perfect Presentations Through Technology: Part 2 https://t.co/Esdrus6V1u #Education #Federal #State #Local #News #Crime #Fire #Politics #COVID19 #Security #Mayor #Teachers #TechNews #Sports Please Retweet</td>\n",
              "      <td>State,Crime,Education,TechNews,Teachers,Security,Sports,Federal,Local,COVID19,Mayor,Politics,Fire,News</td>\n",
              "      <td>0</td>\n",
              "      <td>0</td>\n",
              "      <td>&lt;a href=\"http://www.powerapps.com\" rel=\"nofollow\"&gt;Microsoft Power Platform&lt;/a&gt;</td>\n",
              "    </tr>\n",
              "  </tbody>\n",
              "</table>\n",
              "</div>"
            ],
            "text/plain": [
              "   screen_name  follower_count   timestamp  \\\n",
              "3  AJBlackston  1701            1607891513   \n",
              "9  AJBlackston  1701            1607875166   \n",
              "\n",
              "                                                                                                                                                                                                                         text  \\\n",
              "3  Navajo Nation Readies For Vaccine To Fight 'Invisible Monster' https://t.co/bdiibgEV88 #Education #Federal #State #Local #News #Crime #Fire #Politics #COVID19 #Security #Mayor #Teachers #TechNews #Sports Please Retweet   \n",
              "9  Perfect Presentations Through Technology: Part 2 https://t.co/Esdrus6V1u #Education #Federal #State #Local #News #Crime #Fire #Politics #COVID19 #Security #Mayor #Teachers #TechNews #Sports Please Retweet                 \n",
              "\n",
              "                                                                                                 hashtags  \\\n",
              "3  State,Crime,Education,TechNews,Teachers,Security,Sports,Federal,Local,COVID19,Mayor,Politics,Fire,News   \n",
              "9  State,Crime,Education,TechNews,Teachers,Security,Sports,Federal,Local,COVID19,Mayor,Politics,Fire,News   \n",
              "\n",
              "   favorite_count  retweet_count  \\\n",
              "3  0               0               \n",
              "9  0               0               \n",
              "\n",
              "                                                                           source  \n",
              "3  <a href=\"http://www.powerapps.com\" rel=\"nofollow\">Microsoft Power Platform</a>  \n",
              "9  <a href=\"http://www.powerapps.com\" rel=\"nofollow\">Microsoft Power Platform</a>  "
            ]
          },
          "execution_count": 1099,
          "metadata": {},
          "output_type": "execute_result"
        }
      ],
      "source": [
        "import pandas as pd\n",
        "import html\n",
        "\n",
        "# Importing it using Pandas:\n",
        "dataset = pd.read_csv(\"tweetsUS.csv\")\n",
        "dataset.sample(2)\n"
      ]
    },
    {
      "cell_type": "markdown",
      "metadata": {
        "id": "YGod0u_-fpLk"
      },
      "source": [
        "\n",
        "Twitter data taken from America is above. We checked how many attributes and observations this data consists of. The dimension of data is 100 and 8. That means, there is 100 tweets and 8 attributes."
      ]
    },
    {
      "cell_type": "code",
      "execution_count": null,
      "metadata": {
        "id": "WXQmJn7UfpLk",
        "outputId": "506f5854-7d60-4e70-ecb0-c0a42132ac60"
      },
      "outputs": [
        {
          "data": {
            "text/plain": [
              "(100, 8)"
            ]
          },
          "execution_count": 1100,
          "metadata": {},
          "output_type": "execute_result"
        }
      ],
      "source": [
        "dataset.shape"
      ]
    },
    {
      "cell_type": "markdown",
      "metadata": {
        "id": "BGXC7dOhfpLk"
      },
      "source": [
        "\n",
        "Although the data was taken in English, the language of the data was checked again. According to the result, all of tweets' language is English."
      ]
    },
    {
      "cell_type": "code",
      "execution_count": null,
      "metadata": {
        "id": "w247v_RefpLk",
        "outputId": "d09ab73c-1ccd-4d1c-a23b-bf5797ffdfca"
      },
      "outputs": [
        {
          "data": {
            "text/plain": [
              "en    100\n",
              "Name: lang, dtype: int64"
            ]
          },
          "execution_count": 1101,
          "metadata": {},
          "output_type": "execute_result"
        }
      ],
      "source": [
        "from langdetect import detect\n",
        "\n",
        "def detect_tweet_lang(tweet):\n",
        "    # This roughly removes user handles and URLs:\n",
        "#     tweet = ' '.join(re.sub(\"(@[A-Za-z0-9_\\-]+ )|(https?:\\/\\/.* )|(www\\..* )\",\" \",tweet).split())\n",
        "    try:\n",
        "        lang = detect(tweet)\n",
        "    except:\n",
        "        lang = \"\"\n",
        "\n",
        "    return lang\n",
        "#this code enables us to understande the language of tweets\n",
        "dataset[\"lang\"] = dataset[\"text\"].map(detect_tweet_lang)\n",
        "\n",
        "# Summarizes detected language counts:\n",
        "dataset[\"lang\"].value_counts()\n",
        "#It is filtered that the language of tweets and the result shows there is only english tweets"
      ]
    },
    {
      "cell_type": "markdown",
      "metadata": {
        "id": "_mUhQjB9fpLk"
      },
      "source": [
        "\n",
        "The most important part of the data to be analyzed is the text part. Although we tried to simplify the data in previous codes, the data contains too many elements. Therefore, the things that break the text integrity in the text are transferred to other columns. This transferred data also contains important information. This will be studied in the following sections of this analysis. Hashtags and links in the text have been transferred to new columns. And most importantly, the cleaned data is in a new column called clean_text."
      ]
    },
    {
      "cell_type": "code",
      "execution_count": null,
      "metadata": {
        "id": "S3jx2hc7fpLk",
        "outputId": "f6e7f760-0eb6-46e0-fdd0-8db3a9f44361"
      },
      "outputs": [
        {
          "data": {
            "text/html": [
              "<div>\n",
              "<style scoped>\n",
              "    .dataframe tbody tr th:only-of-type {\n",
              "        vertical-align: middle;\n",
              "    }\n",
              "\n",
              "    .dataframe tbody tr th {\n",
              "        vertical-align: top;\n",
              "    }\n",
              "\n",
              "    .dataframe thead th {\n",
              "        text-align: right;\n",
              "    }\n",
              "</style>\n",
              "<table border=\"1\" class=\"dataframe\">\n",
              "  <thead>\n",
              "    <tr style=\"text-align: right;\">\n",
              "      <th></th>\n",
              "      <th>screen_name</th>\n",
              "      <th>follower_count</th>\n",
              "      <th>timestamp</th>\n",
              "      <th>text</th>\n",
              "      <th>hashtags</th>\n",
              "      <th>favorite_count</th>\n",
              "      <th>retweet_count</th>\n",
              "      <th>source</th>\n",
              "      <th>lang</th>\n",
              "      <th>tags</th>\n",
              "      <th>links</th>\n",
              "      <th>clean_text</th>\n",
              "    </tr>\n",
              "  </thead>\n",
              "  <tbody>\n",
              "    <tr>\n",
              "      <th>41</th>\n",
              "      <td>AJBlackston</td>\n",
              "      <td>1701</td>\n",
              "      <td>1607760712</td>\n",
              "      <td>Biden-Harris Team Named Time's \"Person Of The Year\" https://t.co/URwROmN8tU #Education #Federal #State #Local #News #Crime #Fire #Politics #COVID19 #Security #Mayor #Teachers #TechNews #Sports Please Retweet</td>\n",
              "      <td>State,Crime,Education,TechNews,Teachers,Security,Sports,Federal,Local,COVID19,Mayor,Politics,Fire,News</td>\n",
              "      <td>0</td>\n",
              "      <td>0</td>\n",
              "      <td>&lt;a href=\"http://www.powerapps.com\" rel=\"nofollow\"&gt;Microsoft Power Platform&lt;/a&gt;</td>\n",
              "      <td>en</td>\n",
              "      <td>[]</td>\n",
              "      <td>[https://t.co/URwROmN8tU]</td>\n",
              "      <td>Biden-Harris Team Named Time's \"Person Of The Year\"  Education Federal State Local News Crime Fire Politics COVID19 Security Mayor Teachers TechNews Sports Please Retweet</td>\n",
              "    </tr>\n",
              "    <tr>\n",
              "      <th>63</th>\n",
              "      <td>rweingarten</td>\n",
              "      <td>109000</td>\n",
              "      <td>1607724493</td>\n",
              "      <td>.@beth_kontos is right. Testing is an important safety guardrail to preventing the spread of #COVID19, and it should be more widely available to students and educators. https://t.co/803wwAoQmR</td>\n",
              "      <td>COVID19</td>\n",
              "      <td>2</td>\n",
              "      <td>0</td>\n",
              "      <td>&lt;a href=\"http://twitter.com/download/iphone\" rel=\"nofollow\"&gt;Twitter for iPhone&lt;/a&gt;</td>\n",
              "      <td>en</td>\n",
              "      <td>[@beth_kontos]</td>\n",
              "      <td>[https://t.co/803wwAoQmR]</td>\n",
              "      <td>. is right. Testing is an important safety guardrail to preventing the spread of COVID19, and it should be more widely available to students and educators.</td>\n",
              "    </tr>\n",
              "  </tbody>\n",
              "</table>\n",
              "</div>"
            ],
            "text/plain": [
              "    screen_name  follower_count   timestamp  \\\n",
              "41  AJBlackston  1701            1607760712   \n",
              "63  rweingarten  109000          1607724493   \n",
              "\n",
              "                                                                                                                                                                                                               text  \\\n",
              "41  Biden-Harris Team Named Time's \"Person Of The Year\" https://t.co/URwROmN8tU #Education #Federal #State #Local #News #Crime #Fire #Politics #COVID19 #Security #Mayor #Teachers #TechNews #Sports Please Retweet   \n",
              "63  .@beth_kontos is right. Testing is an important safety guardrail to preventing the spread of #COVID19, and it should be more widely available to students and educators. https://t.co/803wwAoQmR                  \n",
              "\n",
              "                                                                                                  hashtags  \\\n",
              "41  State,Crime,Education,TechNews,Teachers,Security,Sports,Federal,Local,COVID19,Mayor,Politics,Fire,News   \n",
              "63  COVID19                                                                                                  \n",
              "\n",
              "    favorite_count  retweet_count  \\\n",
              "41  0               0               \n",
              "63  2               0               \n",
              "\n",
              "                                                                                source  \\\n",
              "41  <a href=\"http://www.powerapps.com\" rel=\"nofollow\">Microsoft Power Platform</a>       \n",
              "63  <a href=\"http://twitter.com/download/iphone\" rel=\"nofollow\">Twitter for iPhone</a>   \n",
              "\n",
              "   lang            tags                      links  \\\n",
              "41  en   []              [https://t.co/URwROmN8tU]   \n",
              "63  en   [@beth_kontos]  [https://t.co/803wwAoQmR]   \n",
              "\n",
              "                                                                                                                                                                    clean_text  \n",
              "41  Biden-Harris Team Named Time's \"Person Of The Year\"  Education Federal State Local News Crime Fire Politics COVID19 Security Mayor Teachers TechNews Sports Please Retweet  \n",
              "63  . is right. Testing is an important safety guardrail to preventing the spread of COVID19, and it should be more widely available to students and educators.                 "
            ]
          },
          "execution_count": 1102,
          "metadata": {},
          "output_type": "execute_result"
        }
      ],
      "source": [
        "\n",
        "def get_at(row):\n",
        "    return re.findall(\"@[\\w]+\", row[\"text\"])\n",
        "\n",
        "def get_http(row):\n",
        "    return re.findall(\"http[\\:\\/\\.\\w]+\", row[\"text\"])\n",
        "\n",
        "def get_hashtags(row):\n",
        "    return re.findall(\"#[\\w]+\", row[\"text\"])\n",
        "\n",
        "\n",
        "def clean_text(row):\n",
        "    clean = row[\"text\"]\n",
        "\n",
        "    if len(row[\"tags\"]) != 0:\n",
        "        for word in row[\"tags\"]:\n",
        "            clean = clean.replace(word, \"\")\n",
        "\n",
        "    if len(row[\"links\"]) != 0:\n",
        "        for word in row[\"links\"]:\n",
        "            clean = clean.replace(word, \"\")\n",
        "\n",
        "    #only remove the # symbol\n",
        "    clean = clean.replace(\"#\", \"\").replace(\"/\", \"\").replace(\"(\", \"\").replace(\")\", \"\")\n",
        "\n",
        "    return clean.strip()\n",
        "\n",
        "dataset[\"tags\"] = dataset.apply(lambda row: get_at(row), axis = 1)\n",
        "dataset[\"links\"] = dataset.apply(lambda row: get_http(row), axis = 1)\n",
        "dataset[\"clean_text\"] = dataset.apply(lambda row: clean_text(row), axis = 1)\n",
        "\n",
        "dataset.sample(2)"
      ]
    },
    {
      "cell_type": "markdown",
      "metadata": {
        "id": "5ZsyDF5TfpLk"
      },
      "source": [
        "\n",
        "In the above result, two observations were taken from the data. In the newly created data, the cleared version of the text, hashtags and link are seen separately. However, the commas in the hashtags have been removed because they will be a problem for the further steps of the analysis."
      ]
    },
    {
      "cell_type": "code",
      "execution_count": null,
      "metadata": {
        "id": "iMKriOsAfpLl",
        "outputId": "6a314f95-ef5d-49ee-fc9b-4e6cb1135bf6"
      },
      "outputs": [
        {
          "data": {
            "text/plain": [
              "0    Rwanda COVID19 ResilientRecovery                                                                      \n",
              "1    COVID19                                                                                               \n",
              "2    State Crime Education TechNews Teachers Security Sports Federal Local COVID19 Mayor Politics Fire News\n",
              "3    State Crime Education TechNews Teachers Security Sports Federal Local COVID19 Mayor Politics Fire News\n",
              "4    State Crime Education TechNews Teachers Security Sports Federal Local COVID19 Mayor Politics Fire News\n",
              "Name: hashtags, dtype: object"
            ]
          },
          "execution_count": 1103,
          "metadata": {},
          "output_type": "execute_result"
        }
      ],
      "source": [
        "# remove punctuation\n",
        "dataset['hashtags'] = dataset['hashtags'].map(lambda x: re.sub('[,\\@#.!?]', \" \", x))\n",
        "dataset['hashtags'].head()"
      ]
    },
    {
      "cell_type": "code",
      "execution_count": null,
      "metadata": {
        "id": "k_DQSYHafpLl"
      },
      "outputs": [],
      "source": [
        "\n",
        "#It is applied that for removing emojis and also I apllied different methadology for\n",
        "#removing emojis in further steps.\n",
        "def remove_emoji(clean_text):\n",
        "    emoji_pattern = re.compile(\"[\"\n",
        "                               u\"\\U0001F600-\\U0001F64F\"  # emoticons\n",
        "                               u\"\\U0001F300-\\U0001F5FF\"  # symbols & pictographs\n",
        "                               u\"\\U0001F680-\\U0001F6FF\"  # transport & map symbols\n",
        "                               u\"\\U0001F1E0-\\U0001F1FF\"  # flags (iOS)\n",
        "                               u\"\\U00002500-\\U00002BEF\"  # chinese char\n",
        "                               u\"\\U00002702-\\U000027B0\"\n",
        "                               u\"\\U00002702-\\U000027B0\"\n",
        "                               u\"\\U000024C2-\\U0001F251\"\n",
        "                               u\"\\U0001f926-\\U0001f937\"\n",
        "                               u\"\\U00010000-\\U0010ffff\"\n",
        "                               u\"\\u2640-\\u2642\"\n",
        "                               u\"\\u2600-\\u2B55\"\n",
        "                               u\"\\u200d\"\n",
        "                               u\"\\u23cf\"\n",
        "                               u\"\\u23e9\"\n",
        "                               u\"\\u231a\"\n",
        "                               u\"\\ufe0f\"  # dingbats\n",
        "                               u\"\\u3030\"\n",
        "                               \"]+\", flags=re.UNICODE)\n",
        "    return emoji_pattern.sub(r'', clean_text)"
      ]
    },
    {
      "cell_type": "markdown",
      "metadata": {
        "id": "fhK5f1zIfpLm"
      },
      "source": [
        "\n",
        "Although the contents of the text were cleared before, at this stage, any signs in the text were removed. Additionally words have been changed from uppercase to lowercase"
      ]
    },
    {
      "cell_type": "code",
      "execution_count": null,
      "metadata": {
        "id": "19v-dx--fpLm",
        "outputId": "25707e8b-f91d-470c-d85a-78c9b0b58424"
      },
      "outputs": [
        {
          "data": {
            "text/plain": [
              "\"amid the covid19 pandemic and a white house transition what's next for american schools join us tuesday for an expert discussion of the future of us education including pandemic recovery school choice and more register\""
            ]
          },
          "execution_count": 1105,
          "metadata": {},
          "output_type": "execute_result"
        }
      ],
      "source": [
        "def remove_url(dataset):\n",
        "    return \" \".join(re.sub(\"([^0-9A-Za-z \\t])|(\\w+:\\/\\/\\S+)\", \"\", txt).split())\n",
        "\n",
        "dataset[\"clean_text\"] = dataset[\"clean_text\"].apply(lambda x: re.sub('[!@#$:).;,?&]', '', x.lower()))\n",
        "dataset[\"clean_text\"] = dataset[\"clean_text\"].apply(lambda x: re.sub('  ', ' ', x))\n",
        "dataset[\"clean_text\"][1]"
      ]
    },
    {
      "cell_type": "code",
      "execution_count": null,
      "metadata": {
        "id": "mn6kzekLfpLm",
        "outputId": "2015766c-da29-425c-a9c9-d95114a8ac67"
      },
      "outputs": [
        {
          "data": {
            "text/plain": [
              "0    discover how rwanda is using digitalization to address the education challenges brought on by covid19 resilientrecovery                                                                                                             \n",
              "1    amid the covid19 pandemic and a white house transition what's next for american schools join us tuesday for an expert discussion of the future of us education including pandemic recovery school choice and more register          \n",
              "2    elearning's time to shine apparently not education federal state local news crime fire politics covid19 security mayor teachers technews sports please retweet                                                                      \n",
              "3    navajo nation readies for vaccine to fight 'invisible monster' education federal state local news crime fire politics covid19 security mayor teachers technews sports please retweet                                                \n",
              "4    8 ways elearning can help us prepare for a new world of work education federal state local news crime fire politics covid19 security mayor teachers technews sports please retweet                                                  \n",
              "5    in the first 3 months of the covid19 pandemic people in ida countries faced higher risks than the rest of the developing world 💵 higher risk of income loss ✏️ disruptions in education 🥗 undernourishment read more in our new blog\n",
              "6    first covid-19 vaccine shipments leave pfizer plant in michigan education federal state local news crime fire politics covid19 security mayor teachers technews sports please retweet                                               \n",
              "7    fda chief americans039 hesitancy to get vaccine a 039significant problem039 education federal state local news crime fire politics covid19 security mayor teachers technews sports please retweet                                   \n",
              "8    finding balance in today's classroom education federal state local news crime fire politics covid19 security mayor teachers technews sports please retweet                                                                          \n",
              "9    perfect presentations through technology part 2 education federal state local news crime fire politics covid19 security mayor teachers technews sports please retweet                                                               \n",
              "Name: clean_text, dtype: object"
            ]
          },
          "execution_count": 1106,
          "metadata": {},
          "output_type": "execute_result"
        }
      ],
      "source": [
        "# The function we had also used while collecting some tweets:\n",
        "def simplify_text(text):\n",
        "    # Practically replaces line breaks or other whitespace characters with a single\n",
        "    # space and then unescapes characters.\n",
        "    return html.unescape(\" \".join(text.split()))\n",
        "\n",
        "# It looks like tweets do not require HTML-unescaping anyway, but applying\n",
        "# simplify_text() to all texts should at least get rid of unnecessary whitespace:\n",
        "dataset[\"clean_text\"] = dataset[\"clean_text\"].map(simplify_text)\n",
        "\n",
        "# This option will automatically set the column width when we display data:\n",
        "pd.set_option('display.max_colwidth', 0)\n",
        "\n",
        "# Taking a look at the tweet contents:\n",
        "dataset[\"clean_text\"].head(n=10)"
      ]
    },
    {
      "cell_type": "markdown",
      "metadata": {
        "id": "cGbzC8O3fpLm"
      },
      "source": [
        "\n",
        "Column names checked"
      ]
    },
    {
      "cell_type": "code",
      "execution_count": null,
      "metadata": {
        "id": "hHSWbzLufpLn",
        "outputId": "d3eea281-09bf-4792-c743-c91d28ea235e"
      },
      "outputs": [
        {
          "name": "stdout",
          "output_type": "stream",
          "text": [
            "screen_name\n",
            "follower_count\n",
            "timestamp\n",
            "text\n",
            "hashtags\n",
            "favorite_count\n",
            "retweet_count\n",
            "source\n",
            "lang\n",
            "tags\n",
            "links\n",
            "clean_text\n"
          ]
        }
      ],
      "source": [
        "for col_name in dataset.columns:\n",
        "    print(col_name)"
      ]
    },
    {
      "cell_type": "markdown",
      "metadata": {
        "id": "t6CJX7nJfpLn"
      },
      "source": [
        "The source included in the data as an attribute was examined. How many of the same variety are subtracted and their names are renewed.The result has been checked again"
      ]
    },
    {
      "cell_type": "code",
      "execution_count": null,
      "metadata": {
        "id": "nec1YoBffpLn",
        "outputId": "fc9570a9-ff6d-4270-8a42-b168ba0e0e67"
      },
      "outputs": [
        {
          "name": "stdout",
          "output_type": "stream",
          "text": [
            "source\n",
            "<a href=\"http://dynamicsignal.com/\" rel=\"nofollow\">Dynamic Signal</a>                   1 \n",
            "<a href=\"http://twitter.com/download/android\" rel=\"nofollow\">Twitter for Android</a>    2 \n",
            "<a href=\"http://twitter.com/download/iphone\" rel=\"nofollow\">Twitter for iPhone</a>      3 \n",
            "<a href=\"http://www.linkedin.com/\" rel=\"nofollow\">LinkedIn</a>                          1 \n",
            "<a href=\"http://www.powerapps.com\" rel=\"nofollow\">Microsoft Power Platform</a>          68\n",
            "<a href=\"https://about.twitter.com/products/tweetdeck\" rel=\"nofollow\">TweetDeck</a>     2 \n",
            "<a href=\"https://buffer.com\" rel=\"nofollow\">Buffer</a>                                  1 \n",
            "<a href=\"https://mobile.twitter.com\" rel=\"nofollow\">Twitter Web App</a>                 8 \n",
            "<a href=\"https://sproutsocial.com\" rel=\"nofollow\">Sprout Social</a>                     6 \n",
            "<a href=\"https://studio.twitter.com\" rel=\"nofollow\">Twitter Media Studio</a>            1 \n",
            "<a href=\"https://www.hootsuite.com\" rel=\"nofollow\">Hootsuite Inc.</a>                   7 \n",
            "dtype: int64\n",
            "source\n",
            "Buffer                      1 \n",
            "Dynamic Signal              1 \n",
            "Hootsuite Inc               7 \n",
            "LinkedIn                    1 \n",
            "Microsoft Power Platform    68\n",
            "Sprout Social               6 \n",
            "TweetDeck                   2 \n",
            "Twitter Media Studio        1 \n",
            "Twitter Web App             8 \n",
            "Twitter for Android         2 \n",
            "Twitter for iPhone          3 \n",
            "dtype: int64\n"
          ]
        }
      ],
      "source": [
        "changes=pd.DataFrame(dataset, columns=[\"source\"])\n",
        "trial=changes.pivot_table(index=['source'], aggfunc='size')\n",
        "print(trial)\n",
        "dataset['source'] = dataset['source'].replace(['<a href=\"http://twitter.com/download/android\" rel=\"nofollow\">Twitter for Android</a>'],'Twitter for Android')\n",
        "dataset['source'] = dataset['source'].replace(['<a href=\"http://twitter.com/download/iphone\" rel=\"nofollow\">Twitter for iPhone</a>'],'Twitter for iPhone')\n",
        "dataset['source'] = dataset['source'].replace(['<a href=\"http://www.powerapps.com\" rel=\"nofollow\">Microsoft Power Platform</a>'],'Microsoft Power Platform')\n",
        "dataset['source'] = dataset['source'].replace(['<a href=\"https://buffer.com\" rel=\"nofollow\">Buffer</a>'],'Buffer')\n",
        "dataset['source'] = dataset['source'].replace(['<a href=\"https://mobile.twitter.com\" rel=\"nofollow\">Twitter Web App</a>'],'Twitter Web App')\n",
        "dataset['source'] = dataset['source'].replace(['<a href=\"https://www.hootsuite.com\" rel=\"nofollow\">Hootsuite Inc.</a>'],'Hootsuite Inc')\n",
        "dataset['source'] = dataset['source'].replace(['<a href=\"http://dynamicsignal.com/\" rel=\"nofollow\">Dynamic Signal</a>'],'Dynamic Signal')\n",
        "dataset['source'] = dataset['source'].replace(['<a href=\"http://www.linkedin.com/\" rel=\"nofollow\">LinkedIn</a>'],'LinkedIn')\n",
        "dataset['source'] = dataset['source'].replace(['<a href=\"http://www.socialflow.com\" rel=\"nofollow\">SocialFlow</a> '],'SocialFlow')\n",
        "dataset['source'] = dataset['source'].replace(['<a href=\"https://about.twitter.com/products/tweetdeck\" rel=\"nofollow\">TweetDeck</a>'],'TweetDeck')\n",
        "dataset['source'] = dataset['source'].replace(['<a href=\"https://sproutsocial.com\" rel=\"nofollow\">Sprout Social</a>'],'Sprout Social')\n",
        "dataset['source'] = dataset['source'].replace(['<a href=\"http://www.socialflow.com\" rel=\"nofollow\">SocialFlow</a>'],'SocialFlow')\n",
        "dataset['source'] = dataset['source'].replace(['<a href=\"https://studio.twitter.com\" rel=\"nofollow\">Twitter Media Studio</a>'],'Twitter Media Studio')\n",
        "dataset['source'] = dataset['source'].replace(['<a href=\"https://ifttt.com\" rel=\"nofollow\">IFTTT</a>'],'IFTTT')\n",
        "changes=pd.DataFrame(dataset, columns=[\"source\"])\n",
        "trial=changes.pivot_table(index=['source'], aggfunc='size')\n",
        "print(trial)"
      ]
    },
    {
      "cell_type": "markdown",
      "metadata": {
        "id": "IrcLKnoGfpLn"
      },
      "source": [
        "# Basic Natural Language Processing (NLP)"
      ]
    },
    {
      "cell_type": "markdown",
      "metadata": {
        "id": "-bZFEnyZfpLo"
      },
      "source": [
        "\n",
        "At this stage after organizing our data, Basic Natural Language Processing was consulted. Transactions were made using the NLTK package."
      ]
    },
    {
      "cell_type": "code",
      "execution_count": null,
      "metadata": {
        "id": "A_8YhbvcfpLx",
        "outputId": "80b98f22-2a50-4fbf-c356-3238e8347e7e"
      },
      "outputs": [
        {
          "name": "stderr",
          "output_type": "stream",
          "text": [
            "[nltk_data] Downloading collection 'popular'\n",
            "[nltk_data]    | \n",
            "[nltk_data]    | Downloading package cmudict to\n",
            "[nltk_data]    |     C:\\Users\\begum\\AppData\\Roaming\\nltk_data...\n",
            "[nltk_data]    |   Package cmudict is already up-to-date!\n",
            "[nltk_data]    | Downloading package gazetteers to\n",
            "[nltk_data]    |     C:\\Users\\begum\\AppData\\Roaming\\nltk_data...\n",
            "[nltk_data]    |   Package gazetteers is already up-to-date!\n",
            "[nltk_data]    | Downloading package genesis to\n",
            "[nltk_data]    |     C:\\Users\\begum\\AppData\\Roaming\\nltk_data...\n",
            "[nltk_data]    |   Package genesis is already up-to-date!\n",
            "[nltk_data]    | Downloading package gutenberg to\n",
            "[nltk_data]    |     C:\\Users\\begum\\AppData\\Roaming\\nltk_data...\n",
            "[nltk_data]    |   Package gutenberg is already up-to-date!\n",
            "[nltk_data]    | Downloading package inaugural to\n",
            "[nltk_data]    |     C:\\Users\\begum\\AppData\\Roaming\\nltk_data...\n",
            "[nltk_data]    |   Package inaugural is already up-to-date!\n",
            "[nltk_data]    | Downloading package movie_reviews to\n",
            "[nltk_data]    |     C:\\Users\\begum\\AppData\\Roaming\\nltk_data...\n",
            "[nltk_data]    |   Package movie_reviews is already up-to-date!\n",
            "[nltk_data]    | Downloading package names to\n",
            "[nltk_data]    |     C:\\Users\\begum\\AppData\\Roaming\\nltk_data...\n",
            "[nltk_data]    |   Package names is already up-to-date!\n",
            "[nltk_data]    | Downloading package shakespeare to\n",
            "[nltk_data]    |     C:\\Users\\begum\\AppData\\Roaming\\nltk_data...\n",
            "[nltk_data]    |   Package shakespeare is already up-to-date!\n",
            "[nltk_data]    | Downloading package stopwords to\n",
            "[nltk_data]    |     C:\\Users\\begum\\AppData\\Roaming\\nltk_data...\n",
            "[nltk_data]    |   Package stopwords is already up-to-date!\n",
            "[nltk_data]    | Downloading package treebank to\n",
            "[nltk_data]    |     C:\\Users\\begum\\AppData\\Roaming\\nltk_data...\n",
            "[nltk_data]    |   Package treebank is already up-to-date!\n",
            "[nltk_data]    | Downloading package twitter_samples to\n",
            "[nltk_data]    |     C:\\Users\\begum\\AppData\\Roaming\\nltk_data...\n",
            "[nltk_data]    |   Package twitter_samples is already up-to-date!\n",
            "[nltk_data]    | Downloading package omw to\n",
            "[nltk_data]    |     C:\\Users\\begum\\AppData\\Roaming\\nltk_data...\n",
            "[nltk_data]    |   Package omw is already up-to-date!\n",
            "[nltk_data]    | Downloading package wordnet to\n",
            "[nltk_data]    |     C:\\Users\\begum\\AppData\\Roaming\\nltk_data...\n",
            "[nltk_data]    |   Package wordnet is already up-to-date!\n",
            "[nltk_data]    | Downloading package wordnet_ic to\n",
            "[nltk_data]    |     C:\\Users\\begum\\AppData\\Roaming\\nltk_data...\n",
            "[nltk_data]    |   Package wordnet_ic is already up-to-date!\n",
            "[nltk_data]    | Downloading package words to\n",
            "[nltk_data]    |     C:\\Users\\begum\\AppData\\Roaming\\nltk_data...\n",
            "[nltk_data]    |   Package words is already up-to-date!\n",
            "[nltk_data]    | Downloading package maxent_ne_chunker to\n",
            "[nltk_data]    |     C:\\Users\\begum\\AppData\\Roaming\\nltk_data...\n",
            "[nltk_data]    |   Package maxent_ne_chunker is already up-to-date!\n",
            "[nltk_data]    | Downloading package punkt to\n",
            "[nltk_data]    |     C:\\Users\\begum\\AppData\\Roaming\\nltk_data...\n",
            "[nltk_data]    |   Package punkt is already up-to-date!\n",
            "[nltk_data]    | Downloading package snowball_data to\n",
            "[nltk_data]    |     C:\\Users\\begum\\AppData\\Roaming\\nltk_data...\n",
            "[nltk_data]    |   Package snowball_data is already up-to-date!\n",
            "[nltk_data]    | Downloading package averaged_perceptron_tagger to\n",
            "[nltk_data]    |     C:\\Users\\begum\\AppData\\Roaming\\nltk_data...\n",
            "[nltk_data]    |   Package averaged_perceptron_tagger is already up-\n",
            "[nltk_data]    |       to-date!\n",
            "[nltk_data]    | \n",
            "[nltk_data]  Done downloading collection popular\n",
            "[nltk_data] Downloading package tagsets to\n",
            "[nltk_data]     C:\\Users\\begum\\AppData\\Roaming\\nltk_data...\n",
            "[nltk_data]   Package tagsets is already up-to-date!\n",
            "[nltk_data] Downloading package vader_lexicon to\n",
            "[nltk_data]     C:\\Users\\begum\\AppData\\Roaming\\nltk_data...\n",
            "[nltk_data]   Package vader_lexicon is already up-to-date!\n"
          ]
        },
        {
          "data": {
            "text/plain": [
              "True"
            ]
          },
          "execution_count": 1109,
          "metadata": {},
          "output_type": "execute_result"
        }
      ],
      "source": [
        "import numpy as np # linear algebra\n",
        "import nltk\n",
        "import re\n",
        "import matplotlib.pyplot as plt\n",
        "from collections import Counter\n",
        "\n",
        "import os\n",
        "from nltk import download\n",
        "download(\"popular\") # Popular datasets\n",
        "download('tagsets') # Tagsets for POS tagging\n",
        "download('vader_lexicon') # Lexicon for sentiment analysis"
      ]
    },
    {
      "cell_type": "code",
      "execution_count": null,
      "metadata": {
        "id": "J6EYMFnMfpLx"
      },
      "outputs": [],
      "source": [
        "from nltk.sentiment.util import mark_negation\n",
        "from nltk.tokenize import TweetTokenizer\n",
        "from nltk.stem import PorterStemmer\n",
        "from nltk.stem import LancasterStemmer\n",
        "from nltk.tokenize import sent_tokenize, word_tokenize"
      ]
    },
    {
      "cell_type": "markdown",
      "metadata": {
        "id": "8i2HgdEifpLx"
      },
      "source": [
        "\n",
        "The \"clean text\" variable in the data was named text."
      ]
    },
    {
      "cell_type": "code",
      "execution_count": null,
      "metadata": {
        "id": "Ih_QXU6wfpLx"
      },
      "outputs": [],
      "source": [
        "text = dataset[\"clean_text\"]\n"
      ]
    },
    {
      "cell_type": "markdown",
      "metadata": {
        "id": "FEZECp29fpLx"
      },
      "source": [
        "The TweetTokenizer enables us to split text into small units.\n",
        "This tokenization process takes place according to the gaps in the data. It is applied this process to \"clean_text\" and \"hashtags\" in our data."
      ]
    },
    {
      "cell_type": "code",
      "execution_count": null,
      "metadata": {
        "id": "IKbVHLebfpLx"
      },
      "outputs": [],
      "source": [
        "\n",
        "tokenizer = TweetTokenizer(preserve_case=False, reduce_len=True)\n"
      ]
    },
    {
      "cell_type": "markdown",
      "metadata": {
        "id": "GySUf9tJfpLy"
      },
      "source": [
        "\n",
        "Words in sentences are an important step in understanding the sentence. In addition, it is important to examine the root of the word after tokenization. This was done with the Snowball Stemmer algorithm in NLTK. It is checked if stemming works in the code below."
      ]
    },
    {
      "cell_type": "code",
      "execution_count": null,
      "metadata": {
        "id": "MWJ0Tv6tfpLy",
        "outputId": "eb52b015-1cbe-4bc6-c76d-7b426695f0f4"
      },
      "outputs": [
        {
          "name": "stdout",
          "output_type": "stream",
          "text": [
            "Stemmed sentence\n",
            "discov how rwanda is use digit to address the educ challeng brought on by covid19 resilientrecoveri \n"
          ]
        }
      ],
      "source": [
        "#STEMMING TRIAL\n",
        "from nltk.tokenize import sent_tokenize, word_tokenize\n",
        "from nltk.stem import PorterStemmer\n",
        "\n",
        "porter=PorterStemmer()\n",
        "\n",
        "def stemSentence(sentence):\n",
        "    token_words=word_tokenize(sentence)\n",
        "    token_words\n",
        "    stem_sentence=[]\n",
        "    for word in token_words:\n",
        "        stem_sentence.append(porter.stem(word))\n",
        "        stem_sentence.append(\" \")\n",
        "    return \"\".join(stem_sentence)\n",
        "\n",
        "\n",
        "print(\"Stemmed sentence\")\n",
        "x=stemSentence(text[0])\n",
        "print(x)"
      ]
    },
    {
      "cell_type": "code",
      "execution_count": null,
      "metadata": {
        "id": "HDr5xq1ZfpLy",
        "outputId": "77d7ea10-d18a-408f-9a5d-24989d142b26"
      },
      "outputs": [
        {
          "name": "stdout",
          "output_type": "stream",
          "text": [
            "['discover how rwanda is using digitalization to address the education challenges brought on by covid19 resilientrecovery']\n"
          ]
        }
      ],
      "source": [
        "#Trial\n",
        "sentences = sent_tokenize(text[0])\n",
        "print(sentences)"
      ]
    },
    {
      "cell_type": "markdown",
      "metadata": {
        "id": "N8xYyoP1fpLy"
      },
      "source": [
        "\n",
        "Stop words in the word have been removed."
      ]
    },
    {
      "cell_type": "code",
      "execution_count": null,
      "metadata": {
        "id": "hMw305gUfpLy",
        "outputId": "2ee6edf1-8312-485a-9a22-2808da6e01b2"
      },
      "outputs": [
        {
          "name": "stdout",
          "output_type": "stream",
          "text": [
            "discover how rwanda is using digitalization to address the education challenges brought on by covid19 resilientrecovery\n"
          ]
        }
      ],
      "source": [
        "#Trial\n",
        "from nltk.corpus import stopwords\n",
        "#Create object of PorterStemmer\n",
        "stemmer=PorterStemmer()\n",
        "\n",
        "for i in range(len(sentences)):\n",
        "    words=word_tokenize(sentences[i])\n",
        "    #List comprehension\n",
        "    words=[stemmer.stem(word) for word in words if word not in set(stopwords.words('english'))]\n",
        "    sentences[i]=' '.join(words)\n",
        "\n",
        "    sentences =text\n",
        "\n",
        "    print (sentences[0])"
      ]
    },
    {
      "cell_type": "code",
      "execution_count": null,
      "metadata": {
        "id": "gbBz1xPPfpLy"
      },
      "outputs": [],
      "source": [
        "from nltk import pos_tag\n",
        "from nltk.stem import WordNetLemmatizer\n",
        "from nltk.corpus import wordnet as wn"
      ]
    },
    {
      "cell_type": "markdown",
      "metadata": {
        "id": "uOSpc-qLfpL9"
      },
      "source": [
        "Using root may not always give the correct result. Therefore, it would be more logical to do lemmatization instead of stemming. The aim here is to find the tag of the word via postag's instead of taking the root word. Like Adjective noun."
      ]
    },
    {
      "cell_type": "code",
      "execution_count": null,
      "metadata": {
        "id": "DRTqQUTEfpL9",
        "outputId": "17fecc08-a26d-4b64-a354-1e7f8677a200"
      },
      "outputs": [],
      "source": [
        "from nltk.sentiment.util import mark_negation\n",
        "from nltk.tokenize import TweetTokenizer\n",
        "\n",
        "lemmatizer = WordNetLemmatizer()\n",
        "\n",
        "def get_lemmatizer_pos(pos):\n",
        "    pos_start = pos[0] # Takes the first letter to simplify the POS tag\n",
        "    if pos_start == \"J\":\n",
        "        return wn.ADJ\n",
        "    elif pos_start == \"V\":\n",
        "        return wn.VERB\n",
        "    elif pos_start == \"R\":\n",
        "        return wn.ADV\n",
        "    else:\n",
        "        return wn.NOUN\n",
        "\n",
        "tokenizer = TweetTokenizer(preserve_case=False, reduce_len=True)\n",
        "\n",
        "\n",
        "for sentence in sentences:\n",
        "    sentence_tokens_pos = pos_tag(tokenizer.tokenize(sentence))\n",
        "    sentence_lemmas = [lemmatizer.lemmatize(token[0], pos=get_lemmatizer_pos(token[1])) for token in sentence_tokens_pos]\n",
        "    # Negations are marked here:\n",
        "    sentence_lemmas_negated = mark_negation(sentence_lemmas)\n",
        "    print(sentence_lemmas_negated)"
      ]
    },
    {
      "cell_type": "markdown",
      "metadata": {
        "id": "DPp2dpVRfpL-"
      },
      "source": [
        "\n",
        "In this part of the analysis, the emoji in the text were discarded."
      ]
    },
    {
      "cell_type": "code",
      "execution_count": null,
      "metadata": {
        "id": "yYzmnPHVfpL-"
      },
      "outputs": [],
      "source": [
        "from nltk.corpus import stopwords\n",
        "from nltk.tokenize import TweetTokenizer\n",
        "import sys\n",
        "import re\n",
        "import nltk.data\n",
        "from nltk import pos_tag_sents\n",
        "# Tries to import autocorrect and emoji packages. If you have Anaconda, you can install\n",
        "# emoji using \"conda install -c conda-forge emoji\" command. You can download autocorrect\n",
        "# using pip and \"target\" parameter: \"pip install autocorrect --target=<directory>\"\n",
        "try:\n",
        "    from autocorrect import Speller\n",
        "    from emoji import get_emoji_regexp\n",
        "except:\n",
        "    print(sys.exc_info()[0])\n",
        "    print(\"WARNING: Probable missing packages, you may not be able to remove emojis or autocorrect texts.\")\n",
        "\n",
        "# Note that it looks like the POS tagger prefers us to feed sentences separately (or\n",
        "# feed them as a list to pos_tag_sents()). Therefore, we will tokenize sentences first.\n",
        "# Sentence tokenizer tokenizes sentences while also trying to handle periods that do not\n",
        "# function as a sentence terminator (such as the period in \"Mr.\").\n",
        "sentence_tokenizer = nltk.data.load('tokenizers/punkt/english.pickle')"
      ]
    },
    {
      "cell_type": "markdown",
      "metadata": {
        "id": "KjBzMN81fpL-"
      },
      "source": [
        "\n",
        "Running the code piece by piece was very important to see any errors that could arise. The code that includes all this is attached below."
      ]
    },
    {
      "cell_type": "code",
      "execution_count": null,
      "metadata": {
        "id": "qgBSE6CDfpL-"
      },
      "outputs": [],
      "source": [
        "from nltk.tokenize import TweetTokenizer"
      ]
    },
    {
      "cell_type": "code",
      "execution_count": null,
      "metadata": {
        "id": "kmjaYhQwfpL-"
      },
      "outputs": [],
      "source": [
        "lemmatizer = WordNetLemmatizer()\n",
        "\n",
        "def get_lemmatizer_pos(pos):\n",
        "    pos_start = pos[0] # Takes the first letter to simplify the POS tag\n",
        "    if pos_start == \"J\":\n",
        "        return wn.ADJ\n",
        "    elif pos_start == \"V\":\n",
        "        return wn.VERB\n",
        "    elif pos_start == \"R\":\n",
        "        return wn.ADV\n",
        "    else:\n",
        "        return wn.NOUN\n",
        "\n",
        "\n",
        "\n",
        "def tokenize_normalize(tweet, sentence_tokenizer=nltk.data.load('tokenizers/punkt/english.pickle'),\n",
        "                       tokenizer=TweetTokenizer(preserve_case=False), return_bigrams=False,\n",
        "                       tokenize_numbers=False, tokenize_users=False, tokenize_hashtags=False,\n",
        "                       tokenize_urls=False, remove_emoji=True, remove_punct=True,\n",
        "                       handle_negation=True, autocorrect=False):\n",
        "\n",
        "    # This retrieves a list of stop words in English, which will be used to remove the\n",
        "    # stop words:\n",
        "    stop_words = stopwords.words(\"english\")\n",
        "\n",
        "    # These combined punctuations will be used to remove punctuations from tweets (it\n",
        "    # is an extension to string.punctuation):\n",
        "    punctuations = \"!\\\"“”#$%&'‘’()*+,-./:;<=>?@[\\]^_`{|}~‍\"\n",
        "\n",
        "    # We will use this function to correct typographic errors:\n",
        "    if autocorrect and \"autocorrect\" in sys.modules:\n",
        "        spell = Speller()\n",
        "\n",
        "    # Separates tweets into sentences:\n",
        "    tweet_sentences = sentence_tokenizer.tokenize(tweet)\n",
        "\n",
        "    # Tokenization outputs are kept in separate lists for each sentence:\n",
        "    tweet_sentences_tokens = [tokenizer.tokenize(sentence) for sentence in tweet_sentences]\n",
        "\n",
        "    # POS tagging happens separately for each sentence before they are combined:\n",
        "    tokens_pos = [pos_tag for pos_tags in pos_tag_sents(tweet_sentences_tokens) for pos_tag in pos_tags]\n",
        "\n",
        "    # For each POS-tagged token, a lemma is obtained:\n",
        "    lemmas = [lemmatizer.lemmatize(token[0], pos=get_lemmatizer_pos(token[1])) for token in tokens_pos]\n",
        "#     print(lemmas)\n",
        "\n",
        "    # Marks negations:\n",
        "    if handle_negation:\n",
        "        lemmas = mark_negation(lemmas)\n",
        "\n",
        "    filtered_lemmas = []\n",
        "    bigrams = []\n",
        "    last_filtered_lemma_index = None\n",
        "    last_filtered_lemma = None\n",
        "    for lemma_index, lemma in enumerate(lemmas):\n",
        "\n",
        "        # The amount of emojis has skyrocketed, and the way new emojis or their\n",
        "        # varients are added technically complicates handling emojis. For example,\n",
        "        # some emojis are formed by combining different emojis and a zero-width joiner\n",
        "        # in between. Removing variation selectors such as hair/skin color and gender\n",
        "        # for emojis since they cause noise and tokenization problems:\n",
        "        if re.sub(\"[\\\\uFE00-\\\\uFE0F♂♀‍]+\", \"\", lemma) == \"\":\n",
        "            continue\n",
        "\n",
        "        # Filters hashtags:\n",
        "        if lemma.startswith(\"#\"):\n",
        "            if tokenize_hashtags:\n",
        "                lemma = \"<hashtag>\"\n",
        "            else:\n",
        "                continue\n",
        "\n",
        "        # Filters user handles:\n",
        "        if lemma.startswith(\"@\"):\n",
        "            if tokenize_users:\n",
        "                lemma = \"<user>\"\n",
        "            else:\n",
        "                continue\n",
        "\n",
        "        # Filters stop words (considers negations):\n",
        "        if lemma.replace(\"_NEG\", \"\") in stop_words:\n",
        "            continue\n",
        "\n",
        "        # Filters the lemma by searching for \"https://,\" \"http://,\" or \"www.\" using\n",
        "        # regular expression. If one of them exists, they are not retrieved. Regular\n",
        "        # expression may seem daunting at first. It is not mandatory, but you can check\n",
        "        # tutorials like this: https://regexone.com/lesson/introduction_abcs\n",
        "        if re.search(\"(https?:\\/\\/)|(www\\.)\", lemma):\n",
        "            if tokenize_urls:\n",
        "                lemma = \"<url>\"\n",
        "            else:\n",
        "                continue\n",
        "\n",
        "        # Filters emojis using emeji package (considers negations):\n",
        "        if remove_emoji and \"emoji\" in sys.modules:\n",
        "            lemma = get_emoji_regexp().sub(u'', lemma.replace(\"_NEG\", \"\"))\n",
        "\n",
        "        # Filters punctuation (considers negations):\n",
        "        if remove_punct and lemma.replace(\"_NEG\", \"\").translate(lemma.replace(\"_NEG\", \"\").maketrans('', '', punctuations)) == \"\":\n",
        "            continue\n",
        "\n",
        "        # Corrects typographic errors using autocorrect package (considers negations):\n",
        "        if autocorrect and \"autocorrect\" in sys.modules and spell:\n",
        "            if \"_NEG\" in lemma:\n",
        "                # Removing \"_NEG\" and adding it back after autocorrection:\n",
        "                lemma_autocorrected = spell(lemma.replace(\"_NEG\", \"\")).join(\"_NEG\")\n",
        "            else:\n",
        "                lemma_autocorrected = spell(lemma)\n",
        "\n",
        "            if lemma != lemma_autocorrected:\n",
        "#                 print(lemma,\"autocorrected to\",lemma_autocorrected) # Uncomment this line to print the corrections\n",
        "                lemma = lemma_autocorrected\n",
        "\n",
        "        # Tries to convert a number from string to float while also handling commas\n",
        "        # and percentage signs. If the token is a number, it is transformed to \"<number>\"\n",
        "        # token or not retrieved. If not, it silently ignores the exception and\n",
        "        # continues.\n",
        "        try:\n",
        "            float(lemma.replace(\",\", \"\").replace(\"%\", \"\"))\n",
        "            if tokenize_numbers:\n",
        "                lemma = \"<number>\"\n",
        "            else:\n",
        "                continue\n",
        "        except:\n",
        "            pass\n",
        "\n",
        "        # If the lemma survives all these processes, it is appended to the list\n",
        "        filtered_lemmas.append(lemma)\n",
        "\n",
        "        # If returning bigrams is set to True, this part extracts the bigrams:\n",
        "        if return_bigrams:\n",
        "            # If there is a last filtered lemma, if its location in the sentences is\n",
        "            # right before the current lemma, and if the current lemma is not a\n",
        "            # punctuation:\n",
        "            if last_filtered_lemma and last_filtered_lemma_index + 1 == lemma_index and\\\n",
        "            lemma.replace(\"_NEG\", \"\").translate(lemma.replace(\"_NEG\", \"\").maketrans('', '', punctuations)) != \"\":\n",
        "                # The lemma group (bigram) is appended to the bigram list\n",
        "                bigrams.append([last_filtered_lemma, lemma])\n",
        "\n",
        "            last_filtered_lemma_index = lemma_index\n",
        "            last_filtered_lemma = lemma\n",
        "\n",
        "    if return_bigrams:\n",
        "        # It returns filtered lemmas and bigrams together\n",
        "        return (filtered_lemmas, bigrams)\n",
        "    else:\n",
        "        return filtered_lemmas"
      ]
    },
    {
      "cell_type": "markdown",
      "metadata": {
        "id": "6I7XF7FSfpL_"
      },
      "source": [
        "It is normalized by using this code and it is created normalized tweet and retrives biagrams."
      ]
    },
    {
      "cell_type": "code",
      "execution_count": null,
      "metadata": {
        "id": "WOJ_v9pXfpL_",
        "outputId": "7cc114b4-14c1-49d3-b63e-5ace7bef23bc"
      },
      "outputs": [
        {
          "data": {
            "text/html": [
              "<div>\n",
              "<style scoped>\n",
              "    .dataframe tbody tr th:only-of-type {\n",
              "        vertical-align: middle;\n",
              "    }\n",
              "\n",
              "    .dataframe tbody tr th {\n",
              "        vertical-align: top;\n",
              "    }\n",
              "\n",
              "    .dataframe thead th {\n",
              "        text-align: right;\n",
              "    }\n",
              "</style>\n",
              "<table border=\"1\" class=\"dataframe\">\n",
              "  <thead>\n",
              "    <tr style=\"text-align: right;\">\n",
              "      <th></th>\n",
              "      <th>clean_text</th>\n",
              "      <th>text_processed</th>\n",
              "      <th>text_bigrams</th>\n",
              "    </tr>\n",
              "  </thead>\n",
              "  <tbody>\n",
              "    <tr>\n",
              "      <th>0</th>\n",
              "      <td>discover how rwanda is using digitalization to address the education challenges brought on by covid19 resilientrecovery</td>\n",
              "      <td>[discover, rwanda, use, digitalization, address, education, challenge, bring, covid, resilientrecovery]</td>\n",
              "      <td>[[use, digitalization], [education, challenge], [challenge, bring]]</td>\n",
              "    </tr>\n",
              "    <tr>\n",
              "      <th>1</th>\n",
              "      <td>amid the covid19 pandemic and a white house transition what's next for american schools join us tuesday for an expert discussion of the future of us education including pandemic recovery school choice and more register</td>\n",
              "      <td>[amid, covid, pandemic, white, house, transition, what's, next, american, school, join, u, tuesday, expert, discussion, future, u, education, include, pandemic, recovery, school, choice, register]</td>\n",
              "      <td>[[white, house], [house, transition], [transition, what's], [what's, next], [american, school], [school, join], [join, u], [u, tuesday], [expert, discussion], [u, education], [education, include], [include, pandemic], [pandemic, recovery], [recovery, school], [school, choice]]</td>\n",
              "    </tr>\n",
              "    <tr>\n",
              "      <th>2</th>\n",
              "      <td>elearning's time to shine apparently not education federal state local news crime fire politics covid19 security mayor teachers technews sports please retweet</td>\n",
              "      <td>[elearning's, time, shine, apparently, education, federal, state, local, news, crime, fire, politics, covid, security, mayor, teacher, technews, sport, please, retweet]</td>\n",
              "      <td>[[elearning's, time], [shine, apparently], [education, federal], [federal, state], [state, local], [local, news], [news, crime], [crime, fire], [fire, politics], [politics, covid], [security, mayor], [mayor, teacher], [teacher, technews], [technews, sport], [sport, please], [please, retweet]]</td>\n",
              "    </tr>\n",
              "    <tr>\n",
              "      <th>3</th>\n",
              "      <td>navajo nation readies for vaccine to fight 'invisible monster' education federal state local news crime fire politics covid19 security mayor teachers technews sports please retweet</td>\n",
              "      <td>[navajo, nation, ready, vaccine, fight, invisible, monster, education, federal, state, local, news, crime, fire, politics, covid, security, mayor, teacher, technews, sport, please, retweet]</td>\n",
              "      <td>[[navajo, nation], [nation, ready], [invisible, monster], [education, federal], [federal, state], [state, local], [local, news], [news, crime], [crime, fire], [fire, politics], [politics, covid], [security, mayor], [mayor, teacher], [teacher, technews], [technews, sport], [sport, please], [please, retweet]]</td>\n",
              "    </tr>\n",
              "    <tr>\n",
              "      <th>4</th>\n",
              "      <td>8 ways elearning can help us prepare for a new world of work education federal state local news crime fire politics covid19 security mayor teachers technews sports please retweet</td>\n",
              "      <td>[way, elearning, help, u, prepare, new, world, work, education, federal, state, local, news, crime, fire, politics, covid, security, mayor, teacher, technews, sport, please, retweet]</td>\n",
              "      <td>[[way, elearning], [help, u], [u, prepare], [new, world], [work, education], [education, federal], [federal, state], [state, local], [local, news], [news, crime], [crime, fire], [fire, politics], [politics, covid], [security, mayor], [mayor, teacher], [teacher, technews], [technews, sport], [sport, please], [please, retweet]]</td>\n",
              "    </tr>\n",
              "    <tr>\n",
              "      <th>5</th>\n",
              "      <td>in the first 3 months of the covid19 pandemic people in ida countries faced higher risks than the rest of the developing world 💵 higher risk of income loss ✏️ disruptions in education 🥗 undernourishment read more in our new blog</td>\n",
              "      <td>[first, month, covid, pandemic, people, ida, country, face, high, risk, rest, developing, world, high, risk, income, loss, disruption, education, undernourishment, read, new, blog]</td>\n",
              "      <td>[[pandemic, people], [ida, country], [country, face], [face, high], [high, risk], [developing, world], [high, risk], [income, loss], [undernourishment, read], [new, blog]]</td>\n",
              "    </tr>\n",
              "    <tr>\n",
              "      <th>6</th>\n",
              "      <td>first covid-19 vaccine shipments leave pfizer plant in michigan education federal state local news crime fire politics covid19 security mayor teachers technews sports please retweet</td>\n",
              "      <td>[first, covid, vaccine, shipment, leave, pfizer, plant, michigan, education, federal, state, local, news, crime, fire, politics, covid, security, mayor, teacher, technews, sport, please, retweet]</td>\n",
              "      <td>[[first, covid], [vaccine, shipment], [shipment, leave], [leave, pfizer], [pfizer, plant], [michigan, education], [education, federal], [federal, state], [state, local], [local, news], [news, crime], [crime, fire], [fire, politics], [politics, covid], [security, mayor], [mayor, teacher], [teacher, technews], [technews, sport], [sport, please], [please, retweet]]</td>\n",
              "    </tr>\n",
              "    <tr>\n",
              "      <th>7</th>\n",
              "      <td>fda chief americans039 hesitancy to get vaccine a 039significant problem039 education federal state local news crime fire politics covid19 security mayor teachers technews sports please retweet</td>\n",
              "      <td>[fda, chief, american, hesitancy, get, vaccine, 039significant, problem, education, federal, state, local, news, crime, fire, politics, covid, security, mayor, teacher, technews, sport, please, retweet]</td>\n",
              "      <td>[[fda, chief], [chief, american], [get, vaccine], [039significant, problem], [education, federal], [federal, state], [state, local], [local, news], [news, crime], [crime, fire], [fire, politics], [politics, covid], [security, mayor], [mayor, teacher], [teacher, technews], [technews, sport], [sport, please], [please, retweet]]</td>\n",
              "    </tr>\n",
              "    <tr>\n",
              "      <th>8</th>\n",
              "      <td>finding balance in today's classroom education federal state local news crime fire politics covid19 security mayor teachers technews sports please retweet</td>\n",
              "      <td>[find, balance, today's, classroom, education, federal, state, local, news, crime, fire, politics, covid, security, mayor, teacher, technews, sport, please, retweet]</td>\n",
              "      <td>[[find, balance], [today's, classroom], [classroom, education], [education, federal], [federal, state], [state, local], [local, news], [news, crime], [crime, fire], [fire, politics], [politics, covid], [security, mayor], [mayor, teacher], [teacher, technews], [technews, sport], [sport, please], [please, retweet]]</td>\n",
              "    </tr>\n",
              "    <tr>\n",
              "      <th>9</th>\n",
              "      <td>perfect presentations through technology part 2 education federal state local news crime fire politics covid19 security mayor teachers technews sports please retweet</td>\n",
              "      <td>[perfect, presentation, technology, part, education, federal, state, local, news, crime, fire, politics, covid, security, mayor, teacher, technews, sport, please, retweet]</td>\n",
              "      <td>[[perfect, presentation], [technology, part], [education, federal], [federal, state], [state, local], [local, news], [news, crime], [crime, fire], [fire, politics], [politics, covid], [security, mayor], [mayor, teacher], [teacher, technews], [technews, sport], [sport, please], [please, retweet]]</td>\n",
              "    </tr>\n",
              "    <tr>\n",
              "      <th>10</th>\n",
              "      <td>cartoons and illustrations are such a great way to depict data + health safety msgs interesting to see how alum have been doing this for covid19 it all starts with understanding what drives your audiences’ behavior</td>\n",
              "      <td>[cartoon, illustration, great, way, depict, data, health, safety, msg, interest, see, alum, covid, start, understand, drive, audience, behavior]</td>\n",
              "      <td>[[great, way], [depict, data], [health, safety], [safety, msg], [msg, interest]]</td>\n",
              "    </tr>\n",
              "    <tr>\n",
              "      <th>11</th>\n",
              "      <td>covid19 most commonly harms your lungs but it can also cause serious heart problems learn more about covid-19 and your heart</td>\n",
              "      <td>[covid, commonly, harm, lung, also, cause, serious, heart, problem, learn, covid, heart]</td>\n",
              "      <td>[[commonly, harm], [also, cause], [cause, serious], [serious, heart], [heart, problem], [problem, learn]]</td>\n",
              "    </tr>\n",
              "    <tr>\n",
              "      <th>12</th>\n",
              "      <td>attn drivingeducators anstse developed a new resource that provides temporary solutions for behind-the-wheel instruction assessment during covid19 's cirp experts worked on the task groups view the resource</td>\n",
              "      <td>[attn, drivingeducators, anstse, develop, new, resource, provide, temporary, solution, behind-the-wheel, instruction, assessment, covid, cirp, expert, work, task, group, view, resource]</td>\n",
              "      <td>[[attn, drivingeducators], [drivingeducators, anstse], [anstse, develop], [new, resource], [provide, temporary], [temporary, solution], [behind-the-wheel, instruction], [instruction, assessment], [cirp, expert], [expert, work], [task, group], [group, view]]</td>\n",
              "    </tr>\n",
              "    <tr>\n",
              "      <th>13</th>\n",
              "      <td>learn about forging meaningful connections to engage students and families with education experts it is free and on-demand register today edchat educhat covid19 distancelearning</td>\n",
              "      <td>[learn, forge, meaningful, connection, engage, student, family, education, expert, free, on-demand, register, today, edchat, educhat, covid, distancelearning]</td>\n",
              "      <td>[[forge, meaningful], [meaningful, connection], [engage, student], [education, expert], [on-demand, register], [register, today], [today, edchat], [edchat, educhat], [educhat, covid]]</td>\n",
              "    </tr>\n",
              "    <tr>\n",
              "      <th>14</th>\n",
              "      <td>turn your spreadsheets into interactive educational apps using this handy tool education federal state local news crime fire politics covid19 security mayor teachers technews sports please retweet</td>\n",
              "      <td>[turn, spreadsheet, interactive, educational, apps, use, handy, tool, education, federal, state, local, news, crime, fire, politics, covid, security, mayor, teacher, technews, sport, please, retweet]</td>\n",
              "      <td>[[interactive, educational], [educational, apps], [apps, use], [handy, tool], [tool, education], [education, federal], [federal, state], [state, local], [local, news], [news, crime], [crime, fire], [fire, politics], [politics, covid], [security, mayor], [mayor, teacher], [teacher, technews], [technews, sport], [sport, please], [please, retweet]]</td>\n",
              "    </tr>\n",
              "    <tr>\n",
              "      <th>15</th>\n",
              "      <td>navajo nation will receive first doses of covid-19 vaccine early this week education federal state local news crime fire politics covid19 security mayor teachers technews sports please retweet</td>\n",
              "      <td>[navajo, nation, receive, first, dos, covid, vaccine, early, week, education, federal, state, local, news, crime, fire, politics, covid, security, mayor, teacher, technews, sport, please, retweet]</td>\n",
              "      <td>[[navajo, nation], [receive, first], [first, dos], [vaccine, early], [week, education], [education, federal], [federal, state], [state, local], [local, news], [news, crime], [crime, fire], [fire, politics], [politics, covid], [security, mayor], [mayor, teacher], [teacher, technews], [technews, sport], [sport, please], [please, retweet]]</td>\n",
              "    </tr>\n",
              "    <tr>\n",
              "      <th>16</th>\n",
              "      <td>covid-19 infections spread rapidly as officials race to distribute vaccine education federal state local news crime fire politics covid19 security mayor teachers technews sports please retweet</td>\n",
              "      <td>[covid, infection, spread, rapidly, official, race, distribute, vaccine, education, federal, state, local, news, crime, fire, politics, covid, security, mayor, teacher, technews, sport, please, retweet]</td>\n",
              "      <td>[[infection, spread], [spread, rapidly], [official, race], [distribute, vaccine], [vaccine, education], [education, federal], [federal, state], [state, local], [local, news], [news, crime], [crime, fire], [fire, politics], [politics, covid], [security, mayor], [mayor, teacher], [teacher, technews], [technews, sport], [sport, please], [please, retweet]]</td>\n",
              "    </tr>\n",
              "    <tr>\n",
              "      <th>17</th>\n",
              "      <td>why you need to add a digital card game to your elearning toolkit education federal state local news crime fire politics covid19 security mayor teachers technews sports please retweet</td>\n",
              "      <td>[need, add, digital, card, game, elearning, toolkit, education, federal, state, local, news, crime, fire, politics, covid, security, mayor, teacher, technews, sport, please, retweet]</td>\n",
              "      <td>[[digital, card], [card, game], [elearning, toolkit], [toolkit, education], [education, federal], [federal, state], [state, local], [local, news], [news, crime], [crime, fire], [fire, politics], [politics, covid], [security, mayor], [mayor, teacher], [teacher, technews], [technews, sport], [sport, please], [please, retweet]]</td>\n",
              "    </tr>\n",
              "    <tr>\n",
              "      <th>18</th>\n",
              "      <td>here is how to sync youtube videos with google slides to create instructional videos education federal state local news crime fire politics covid19 security mayor teachers technews sports please retweet</td>\n",
              "      <td>[sync, youtube, video, google, slide, create, instructional, video, education, federal, state, local, news, crime, fire, politics, covid, security, mayor, teacher, technews, sport, please, retweet]</td>\n",
              "      <td>[[sync, youtube], [youtube, video], [google, slide], [create, instructional], [instructional, video], [video, education], [education, federal], [federal, state], [state, local], [local, news], [news, crime], [crime, fire], [fire, politics], [politics, covid], [security, mayor], [mayor, teacher], [teacher, technews], [technews, sport], [sport, please], [please, retweet]]</td>\n",
              "    </tr>\n",
              "    <tr>\n",
              "      <th>19</th>\n",
              "      <td>cdc panel recommends moving forward with pfizer vaccine education federal state local news crime fire politics covid19 security mayor teachers technews sports please retweet</td>\n",
              "      <td>[cdc, panel, recommend, move, forward, pfizer, vaccine, education, federal, state, local, news, crime, fire, politics, covid, security, mayor, teacher, technews, sport, please, retweet]</td>\n",
              "      <td>[[cdc, panel], [panel, recommend], [recommend, move], [move, forward], [pfizer, vaccine], [vaccine, education], [education, federal], [federal, state], [state, local], [local, news], [news, crime], [crime, fire], [fire, politics], [politics, covid], [security, mayor], [mayor, teacher], [teacher, technews], [technews, sport], [sport, please], [please, retweet]]</td>\n",
              "    </tr>\n",
              "  </tbody>\n",
              "</table>\n",
              "</div>"
            ],
            "text/plain": [
              "                                                                                                                                                                                                                              clean_text  \\\n",
              "0   discover how rwanda is using digitalization to address the education challenges brought on by covid19 resilientrecovery                                                                                                                \n",
              "1   amid the covid19 pandemic and a white house transition what's next for american schools join us tuesday for an expert discussion of the future of us education including pandemic recovery school choice and more register             \n",
              "2   elearning's time to shine apparently not education federal state local news crime fire politics covid19 security mayor teachers technews sports please retweet                                                                         \n",
              "3   navajo nation readies for vaccine to fight 'invisible monster' education federal state local news crime fire politics covid19 security mayor teachers technews sports please retweet                                                   \n",
              "4   8 ways elearning can help us prepare for a new world of work education federal state local news crime fire politics covid19 security mayor teachers technews sports please retweet                                                     \n",
              "5   in the first 3 months of the covid19 pandemic people in ida countries faced higher risks than the rest of the developing world 💵 higher risk of income loss ✏️ disruptions in education 🥗 undernourishment read more in our new blog   \n",
              "6   first covid-19 vaccine shipments leave pfizer plant in michigan education federal state local news crime fire politics covid19 security mayor teachers technews sports please retweet                                                  \n",
              "7   fda chief americans039 hesitancy to get vaccine a 039significant problem039 education federal state local news crime fire politics covid19 security mayor teachers technews sports please retweet                                      \n",
              "8   finding balance in today's classroom education federal state local news crime fire politics covid19 security mayor teachers technews sports please retweet                                                                             \n",
              "9   perfect presentations through technology part 2 education federal state local news crime fire politics covid19 security mayor teachers technews sports please retweet                                                                  \n",
              "10  cartoons and illustrations are such a great way to depict data + health safety msgs interesting to see how alum have been doing this for covid19 it all starts with understanding what drives your audiences’ behavior                 \n",
              "11  covid19 most commonly harms your lungs but it can also cause serious heart problems learn more about covid-19 and your heart                                                                                                           \n",
              "12  attn drivingeducators anstse developed a new resource that provides temporary solutions for behind-the-wheel instruction assessment during covid19 's cirp experts worked on the task groups view the resource                         \n",
              "13  learn about forging meaningful connections to engage students and families with education experts it is free and on-demand register today edchat educhat covid19 distancelearning                                                      \n",
              "14  turn your spreadsheets into interactive educational apps using this handy tool education federal state local news crime fire politics covid19 security mayor teachers technews sports please retweet                                   \n",
              "15  navajo nation will receive first doses of covid-19 vaccine early this week education federal state local news crime fire politics covid19 security mayor teachers technews sports please retweet                                       \n",
              "16  covid-19 infections spread rapidly as officials race to distribute vaccine education federal state local news crime fire politics covid19 security mayor teachers technews sports please retweet                                       \n",
              "17  why you need to add a digital card game to your elearning toolkit education federal state local news crime fire politics covid19 security mayor teachers technews sports please retweet                                                \n",
              "18  here is how to sync youtube videos with google slides to create instructional videos education federal state local news crime fire politics covid19 security mayor teachers technews sports please retweet                             \n",
              "19  cdc panel recommends moving forward with pfizer vaccine education federal state local news crime fire politics covid19 security mayor teachers technews sports please retweet                                                          \n",
              "\n",
              "                                                                                                                                                                                                text_processed  \\\n",
              "0   [discover, rwanda, use, digitalization, address, education, challenge, bring, covid, resilientrecovery]                                                                                                      \n",
              "1   [amid, covid, pandemic, white, house, transition, what's, next, american, school, join, u, tuesday, expert, discussion, future, u, education, include, pandemic, recovery, school, choice, register]         \n",
              "2   [elearning's, time, shine, apparently, education, federal, state, local, news, crime, fire, politics, covid, security, mayor, teacher, technews, sport, please, retweet]                                     \n",
              "3   [navajo, nation, ready, vaccine, fight, invisible, monster, education, federal, state, local, news, crime, fire, politics, covid, security, mayor, teacher, technews, sport, please, retweet]                \n",
              "4   [way, elearning, help, u, prepare, new, world, work, education, federal, state, local, news, crime, fire, politics, covid, security, mayor, teacher, technews, sport, please, retweet]                       \n",
              "5   [first, month, covid, pandemic, people, ida, country, face, high, risk, rest, developing, world, high, risk, income, loss, disruption, education, undernourishment, read, new, blog]                         \n",
              "6   [first, covid, vaccine, shipment, leave, pfizer, plant, michigan, education, federal, state, local, news, crime, fire, politics, covid, security, mayor, teacher, technews, sport, please, retweet]          \n",
              "7   [fda, chief, american, hesitancy, get, vaccine, 039significant, problem, education, federal, state, local, news, crime, fire, politics, covid, security, mayor, teacher, technews, sport, please, retweet]   \n",
              "8   [find, balance, today's, classroom, education, federal, state, local, news, crime, fire, politics, covid, security, mayor, teacher, technews, sport, please, retweet]                                        \n",
              "9   [perfect, presentation, technology, part, education, federal, state, local, news, crime, fire, politics, covid, security, mayor, teacher, technews, sport, please, retweet]                                  \n",
              "10  [cartoon, illustration, great, way, depict, data, health, safety, msg, interest, see, alum, covid, start, understand, drive, audience, behavior]                                                             \n",
              "11  [covid, commonly, harm, lung, also, cause, serious, heart, problem, learn, covid, heart]                                                                                                                     \n",
              "12  [attn, drivingeducators, anstse, develop, new, resource, provide, temporary, solution, behind-the-wheel, instruction, assessment, covid, cirp, expert, work, task, group, view, resource]                    \n",
              "13  [learn, forge, meaningful, connection, engage, student, family, education, expert, free, on-demand, register, today, edchat, educhat, covid, distancelearning]                                               \n",
              "14  [turn, spreadsheet, interactive, educational, apps, use, handy, tool, education, federal, state, local, news, crime, fire, politics, covid, security, mayor, teacher, technews, sport, please, retweet]      \n",
              "15  [navajo, nation, receive, first, dos, covid, vaccine, early, week, education, federal, state, local, news, crime, fire, politics, covid, security, mayor, teacher, technews, sport, please, retweet]         \n",
              "16  [covid, infection, spread, rapidly, official, race, distribute, vaccine, education, federal, state, local, news, crime, fire, politics, covid, security, mayor, teacher, technews, sport, please, retweet]   \n",
              "17  [need, add, digital, card, game, elearning, toolkit, education, federal, state, local, news, crime, fire, politics, covid, security, mayor, teacher, technews, sport, please, retweet]                       \n",
              "18  [sync, youtube, video, google, slide, create, instructional, video, education, federal, state, local, news, crime, fire, politics, covid, security, mayor, teacher, technews, sport, please, retweet]        \n",
              "19  [cdc, panel, recommend, move, forward, pfizer, vaccine, education, federal, state, local, news, crime, fire, politics, covid, security, mayor, teacher, technews, sport, please, retweet]                    \n",
              "\n",
              "                                                                                                                                                                                                                                                                                                                                                                            text_bigrams  \n",
              "0   [[use, digitalization], [education, challenge], [challenge, bring]]                                                                                                                                                                                                                                                                                                                   \n",
              "1   [[white, house], [house, transition], [transition, what's], [what's, next], [american, school], [school, join], [join, u], [u, tuesday], [expert, discussion], [u, education], [education, include], [include, pandemic], [pandemic, recovery], [recovery, school], [school, choice]]                                                                                                 \n",
              "2   [[elearning's, time], [shine, apparently], [education, federal], [federal, state], [state, local], [local, news], [news, crime], [crime, fire], [fire, politics], [politics, covid], [security, mayor], [mayor, teacher], [teacher, technews], [technews, sport], [sport, please], [please, retweet]]                                                                                 \n",
              "3   [[navajo, nation], [nation, ready], [invisible, monster], [education, federal], [federal, state], [state, local], [local, news], [news, crime], [crime, fire], [fire, politics], [politics, covid], [security, mayor], [mayor, teacher], [teacher, technews], [technews, sport], [sport, please], [please, retweet]]                                                                  \n",
              "4   [[way, elearning], [help, u], [u, prepare], [new, world], [work, education], [education, federal], [federal, state], [state, local], [local, news], [news, crime], [crime, fire], [fire, politics], [politics, covid], [security, mayor], [mayor, teacher], [teacher, technews], [technews, sport], [sport, please], [please, retweet]]                                               \n",
              "5   [[pandemic, people], [ida, country], [country, face], [face, high], [high, risk], [developing, world], [high, risk], [income, loss], [undernourishment, read], [new, blog]]                                                                                                                                                                                                           \n",
              "6   [[first, covid], [vaccine, shipment], [shipment, leave], [leave, pfizer], [pfizer, plant], [michigan, education], [education, federal], [federal, state], [state, local], [local, news], [news, crime], [crime, fire], [fire, politics], [politics, covid], [security, mayor], [mayor, teacher], [teacher, technews], [technews, sport], [sport, please], [please, retweet]]          \n",
              "7   [[fda, chief], [chief, american], [get, vaccine], [039significant, problem], [education, federal], [federal, state], [state, local], [local, news], [news, crime], [crime, fire], [fire, politics], [politics, covid], [security, mayor], [mayor, teacher], [teacher, technews], [technews, sport], [sport, please], [please, retweet]]                                               \n",
              "8   [[find, balance], [today's, classroom], [classroom, education], [education, federal], [federal, state], [state, local], [local, news], [news, crime], [crime, fire], [fire, politics], [politics, covid], [security, mayor], [mayor, teacher], [teacher, technews], [technews, sport], [sport, please], [please, retweet]]                                                            \n",
              "9   [[perfect, presentation], [technology, part], [education, federal], [federal, state], [state, local], [local, news], [news, crime], [crime, fire], [fire, politics], [politics, covid], [security, mayor], [mayor, teacher], [teacher, technews], [technews, sport], [sport, please], [please, retweet]]                                                                              \n",
              "10  [[great, way], [depict, data], [health, safety], [safety, msg], [msg, interest]]                                                                                                                                                                                                                                                                                                      \n",
              "11  [[commonly, harm], [also, cause], [cause, serious], [serious, heart], [heart, problem], [problem, learn]]                                                                                                                                                                                                                                                                             \n",
              "12  [[attn, drivingeducators], [drivingeducators, anstse], [anstse, develop], [new, resource], [provide, temporary], [temporary, solution], [behind-the-wheel, instruction], [instruction, assessment], [cirp, expert], [expert, work], [task, group], [group, view]]                                                                                                                     \n",
              "13  [[forge, meaningful], [meaningful, connection], [engage, student], [education, expert], [on-demand, register], [register, today], [today, edchat], [edchat, educhat], [educhat, covid]]                                                                                                                                                                                               \n",
              "14  [[interactive, educational], [educational, apps], [apps, use], [handy, tool], [tool, education], [education, federal], [federal, state], [state, local], [local, news], [news, crime], [crime, fire], [fire, politics], [politics, covid], [security, mayor], [mayor, teacher], [teacher, technews], [technews, sport], [sport, please], [please, retweet]]                           \n",
              "15  [[navajo, nation], [receive, first], [first, dos], [vaccine, early], [week, education], [education, federal], [federal, state], [state, local], [local, news], [news, crime], [crime, fire], [fire, politics], [politics, covid], [security, mayor], [mayor, teacher], [teacher, technews], [technews, sport], [sport, please], [please, retweet]]                                    \n",
              "16  [[infection, spread], [spread, rapidly], [official, race], [distribute, vaccine], [vaccine, education], [education, federal], [federal, state], [state, local], [local, news], [news, crime], [crime, fire], [fire, politics], [politics, covid], [security, mayor], [mayor, teacher], [teacher, technews], [technews, sport], [sport, please], [please, retweet]]                    \n",
              "17  [[digital, card], [card, game], [elearning, toolkit], [toolkit, education], [education, federal], [federal, state], [state, local], [local, news], [news, crime], [crime, fire], [fire, politics], [politics, covid], [security, mayor], [mayor, teacher], [teacher, technews], [technews, sport], [sport, please], [please, retweet]]                                                \n",
              "18  [[sync, youtube], [youtube, video], [google, slide], [create, instructional], [instructional, video], [video, education], [education, federal], [federal, state], [state, local], [local, news], [news, crime], [crime, fire], [fire, politics], [politics, covid], [security, mayor], [mayor, teacher], [teacher, technews], [technews, sport], [sport, please], [please, retweet]]  \n",
              "19  [[cdc, panel], [panel, recommend], [recommend, move], [move, forward], [pfizer, vaccine], [vaccine, education], [education, federal], [federal, state], [state, local], [local, news], [news, crime], [crime, fire], [fire, politics], [politics, covid], [security, mayor], [mayor, teacher], [teacher, technews], [technews, sport], [sport, please], [please, retweet]]            "
            ]
          },
          "execution_count": 1121,
          "metadata": {},
          "output_type": "execute_result"
        }
      ],
      "source": [
        "\n",
        "dataset[\"text_processed\"], dataset[\"text_bigrams\"] = map(list, zip(*[tokenize_normalize(fulltext, return_bigrams=True) for fulltext in dataset[\"clean_text\"].values.tolist()]))\n",
        "dataset[[\"clean_text\", \"text_processed\", \"text_bigrams\"]].head(n=20)"
      ]
    },
    {
      "cell_type": "markdown",
      "metadata": {
        "id": "chMNkgtEfpMA"
      },
      "source": [
        "\n",
        "In the code found below, the lists have been flattened together and counted the values.\n",
        "\n",
        "In the following steps, the graphics of the most repeating words in the text were given."
      ]
    },
    {
      "cell_type": "code",
      "execution_count": null,
      "metadata": {
        "id": "NAuyk08nfpMA",
        "outputId": "81315580-9658-4463-b15f-9eddf935e80d"
      },
      "outputs": [
        {
          "data": {
            "text/plain": [
              "covid        114\n",
              "education    87 \n",
              "teacher      71 \n",
              "state        68 \n",
              "politics     68 \n",
              "retweet      68 \n",
              "please       68 \n",
              "news         67 \n",
              "mayor        67 \n",
              "federal      67 \n",
              "Name: text_processed, dtype: int64"
            ]
          },
          "execution_count": 1122,
          "metadata": {},
          "output_type": "execute_result"
        }
      ],
      "source": [
        "\n",
        "terms = pd.Series(dataset.explode('text_processed').text_processed).value_counts()\n",
        "\n",
        "terms.head(n=10)"
      ]
    },
    {
      "cell_type": "markdown",
      "metadata": {
        "id": "aOaGE9nOfpMA"
      },
      "source": [
        "Flattening the lists together, joining bigram list elements, and counting the values"
      ]
    },
    {
      "cell_type": "code",
      "execution_count": null,
      "metadata": {
        "id": "DUpb_csqfpMA",
        "outputId": "60f13647-bdd2-4dfd-e0f6-e330f63fe970"
      },
      "outputs": [
        {
          "data": {
            "text/plain": [
              "please - retweet       68\n",
              "sport - please         67\n",
              "local - news           67\n",
              "news - crime           67\n",
              "fire - politics        67\n",
              "education - federal    67\n",
              "federal - state        67\n",
              "security - mayor       67\n",
              "crime - fire           67\n",
              "mayor - teacher        67\n",
              "dtype: int64"
            ]
          },
          "execution_count": 1123,
          "metadata": {},
          "output_type": "execute_result"
        }
      ],
      "source": [
        "bigrams = pd.Series([bigram[0]+\" - \"+bigram[1] for bigram in dataset.explode(\"text_bigrams\").text_bigrams.to_list() if type(bigram) == list]).value_counts().head(n=50)\n",
        "\n",
        "bigrams.head(n=10)"
      ]
    },
    {
      "cell_type": "markdown",
      "metadata": {
        "id": "gHOZK7DOfpMA"
      },
      "source": [
        "Sentiment Analysis"
      ]
    },
    {
      "cell_type": "markdown",
      "metadata": {
        "id": "AnGNs6NvfpMA"
      },
      "source": [
        "Analysis was performed using NLTK's sensitivity analyzer using VADER tool and dictionary. Emotion rating is evaluated between 1 and -1."
      ]
    },
    {
      "cell_type": "code",
      "execution_count": null,
      "metadata": {
        "id": "pu-K2AKefpMA",
        "outputId": "7dabc781-1684-4cca-c1cd-fa3241949e45"
      },
      "outputs": [],
      "source": [
        "from nltk.sentiment.vader import SentimentIntensityAnalyzer\n",
        "\n",
        "sentiment_analyzer = SentimentIntensityAnalyzer()\n",
        "\n",
        "# Notice how sentiment scores differ for the following sentences:\n",
        "sentences = text\n",
        "\n",
        "for sentence in sentences:\n",
        "    # It retrieves separate scores for negativity, neutrality, and positivity, but we\n",
        "    # can generally simply use the compound score as well.\n",
        "    print(sentence,sentiment_analyzer.polarity_scores(sentence))"
      ]
    },
    {
      "cell_type": "markdown",
      "metadata": {
        "id": "TujYeLm9fpMA"
      },
      "source": [
        "This function the dataset and obtain the average sentiment score of each tweet"
      ]
    },
    {
      "cell_type": "code",
      "execution_count": null,
      "metadata": {
        "id": "ceNdNbj8fpMB"
      },
      "outputs": [],
      "source": [
        "\n",
        "# This function optionally takes tokenizer and analyzer objects. This is not needed,\n",
        "# but it can help with portability.\n",
        "def analyze_sentiment(tweet, sentence_tokenizer=nltk.data.load('tokenizers/punkt/english.pickle'),\n",
        "                      sentiment_analyzer=SentimentIntensityAnalyzer()):\n",
        "\n",
        "    # Sentences are tokenized:\n",
        "    sentences = sentence_tokenizer.tokenize(tweet)\n",
        "\n",
        "    # Remember that tweets have hashtags, URLs, etc. that may confuse sentiment\n",
        "    # analysis process and pull the sentiment towards the middle. A sentiment score\n",
        "    # is not retrieved if the sentence has no sentiment and it has less than four\n",
        "    # tokens (including punctuation). So that a URL would not affect the sentiment\n",
        "    # while genuinely neutral sentences, given that they are long enough, would not\n",
        "    # be disregarded. Some of the processes we have used (such as URL removal) could\n",
        "    # be applied here as well. Feel free to play with its logic.\n",
        "    sentiments = [sentiment_analyzer.polarity_scores(sentence)[\"compound\"] for sentence in sentences\n",
        "                  if sentiment_analyzer.polarity_scores(sentence)[\"compound\"] != 0 or len(tokenizer.tokenize(sentence)) > 3]\n",
        "\n",
        "    # Returns the average compound sentiment score if a sentiment is detected.\n",
        "    if sentiments:\n",
        "        return sum(sentiments)/len(sentiments)\n",
        "    # Returns 0 if a sentiment is not detected:\n",
        "    else:\n",
        "        return 0"
      ]
    },
    {
      "cell_type": "markdown",
      "metadata": {
        "id": "wIaam0Q1fpMB"
      },
      "source": [
        "The example of text and sentiment"
      ]
    },
    {
      "cell_type": "code",
      "execution_count": null,
      "metadata": {
        "id": "Z47ML1SWfpMB",
        "outputId": "f22e13de-bf1d-4516-e1b9-562fc2600f5c"
      },
      "outputs": [
        {
          "data": {
            "text/html": [
              "<div>\n",
              "<style scoped>\n",
              "    .dataframe tbody tr th:only-of-type {\n",
              "        vertical-align: middle;\n",
              "    }\n",
              "\n",
              "    .dataframe tbody tr th {\n",
              "        vertical-align: top;\n",
              "    }\n",
              "\n",
              "    .dataframe thead th {\n",
              "        text-align: right;\n",
              "    }\n",
              "</style>\n",
              "<table border=\"1\" class=\"dataframe\">\n",
              "  <thead>\n",
              "    <tr style=\"text-align: right;\">\n",
              "      <th></th>\n",
              "      <th>clean_text</th>\n",
              "      <th>sentiment</th>\n",
              "    </tr>\n",
              "  </thead>\n",
              "  <tbody>\n",
              "    <tr>\n",
              "      <th>0</th>\n",
              "      <td>discover how rwanda is using digitalization to address the education challenges brought on by covid19 resilientrecovery</td>\n",
              "      <td>0.0772</td>\n",
              "    </tr>\n",
              "    <tr>\n",
              "      <th>1</th>\n",
              "      <td>amid the covid19 pandemic and a white house transition what's next for american schools join us tuesday for an expert discussion of the future of us education including pandemic recovery school choice and more register</td>\n",
              "      <td>0.2960</td>\n",
              "    </tr>\n",
              "    <tr>\n",
              "      <th>2</th>\n",
              "      <td>elearning's time to shine apparently not education federal state local news crime fire politics covid19 security mayor teachers technews sports please retweet</td>\n",
              "      <td>-0.2960</td>\n",
              "    </tr>\n",
              "    <tr>\n",
              "      <th>3</th>\n",
              "      <td>navajo nation readies for vaccine to fight 'invisible monster' education federal state local news crime fire politics covid19 security mayor teachers technews sports please retweet</td>\n",
              "      <td>-0.5859</td>\n",
              "    </tr>\n",
              "    <tr>\n",
              "      <th>4</th>\n",
              "      <td>8 ways elearning can help us prepare for a new world of work education federal state local news crime fire politics covid19 security mayor teachers technews sports please retweet</td>\n",
              "      <td>0.1280</td>\n",
              "    </tr>\n",
              "  </tbody>\n",
              "</table>\n",
              "</div>"
            ],
            "text/plain": [
              "                                                                                                                                                                                                                   clean_text  \\\n",
              "0  discover how rwanda is using digitalization to address the education challenges brought on by covid19 resilientrecovery                                                                                                      \n",
              "1  amid the covid19 pandemic and a white house transition what's next for american schools join us tuesday for an expert discussion of the future of us education including pandemic recovery school choice and more register   \n",
              "2  elearning's time to shine apparently not education federal state local news crime fire politics covid19 security mayor teachers technews sports please retweet                                                               \n",
              "3  navajo nation readies for vaccine to fight 'invisible monster' education federal state local news crime fire politics covid19 security mayor teachers technews sports please retweet                                         \n",
              "4  8 ways elearning can help us prepare for a new world of work education federal state local news crime fire politics covid19 security mayor teachers technews sports please retweet                                           \n",
              "\n",
              "   sentiment  \n",
              "0  0.0772     \n",
              "1  0.2960     \n",
              "2 -0.2960     \n",
              "3 -0.5859     \n",
              "4  0.1280     "
            ]
          },
          "execution_count": 1126,
          "metadata": {},
          "output_type": "execute_result"
        }
      ],
      "source": [
        "dataset[\"sentiment\"] = dataset[\"clean_text\"].map(analyze_sentiment)\n",
        "\n",
        "dataset[[\"clean_text\", \"sentiment\"]].head(5)"
      ]
    },
    {
      "cell_type": "markdown",
      "metadata": {
        "id": "32747DcKfpMB"
      },
      "source": [
        "After measuring the sentiment of the tweets, we rated it by adding a new column to the data. This rating is negative if sentiment is less than 0, positive if greater than 0, and neutral if equal."
      ]
    },
    {
      "cell_type": "code",
      "execution_count": null,
      "metadata": {
        "id": "gZ5nrZABfpMB"
      },
      "outputs": [],
      "source": [
        "import pandas as pd\n",
        "\n",
        "\n",
        "dataset.loc[dataset['sentiment'] < 0, 'Type of Sentiment'] = 'negative'\n",
        "dataset.loc[dataset['sentiment'] == 0, 'Type of Sentiment'] = 'neutral'\n",
        "dataset.loc[dataset['sentiment'] > 0,'Type of Sentiment'] = 'positive'"
      ]
    },
    {
      "cell_type": "code",
      "execution_count": null,
      "metadata": {
        "id": "RMdrhoFufpMC",
        "outputId": "124d502e-97ec-460f-f9a7-151b32a75a13"
      },
      "outputs": [
        {
          "data": {
            "text/html": [
              "<div>\n",
              "<style scoped>\n",
              "    .dataframe tbody tr th:only-of-type {\n",
              "        vertical-align: middle;\n",
              "    }\n",
              "\n",
              "    .dataframe tbody tr th {\n",
              "        vertical-align: top;\n",
              "    }\n",
              "\n",
              "    .dataframe thead th {\n",
              "        text-align: right;\n",
              "    }\n",
              "</style>\n",
              "<table border=\"1\" class=\"dataframe\">\n",
              "  <thead>\n",
              "    <tr style=\"text-align: right;\">\n",
              "      <th></th>\n",
              "      <th>screen_name</th>\n",
              "      <th>follower_count</th>\n",
              "      <th>timestamp</th>\n",
              "      <th>text</th>\n",
              "      <th>hashtags</th>\n",
              "      <th>favorite_count</th>\n",
              "      <th>retweet_count</th>\n",
              "      <th>source</th>\n",
              "      <th>lang</th>\n",
              "      <th>tags</th>\n",
              "      <th>links</th>\n",
              "      <th>clean_text</th>\n",
              "      <th>text_processed</th>\n",
              "      <th>text_bigrams</th>\n",
              "      <th>sentiment</th>\n",
              "      <th>Type of Sentiment</th>\n",
              "    </tr>\n",
              "  </thead>\n",
              "  <tbody>\n",
              "    <tr>\n",
              "      <th>57</th>\n",
              "      <td>AJBlackston</td>\n",
              "      <td>1701</td>\n",
              "      <td>1607760712</td>\n",
              "      <td>Respiratory Therapists Exhausted By Pandemic Surges https://t.co/UBzT7M9OjV #Education #Federal #State #Local #News #Crime #Fire #Politics #COVID19 #Security #Mayor #Teachers #TechNews #Sports Please Retweet</td>\n",
              "      <td>State Crime Education TechNews Teachers Security Sports Federal Local COVID19 Mayor Politics Fire News</td>\n",
              "      <td>0</td>\n",
              "      <td>0</td>\n",
              "      <td>Microsoft Power Platform</td>\n",
              "      <td>en</td>\n",
              "      <td>[]</td>\n",
              "      <td>[https://t.co/UBzT7M9OjV]</td>\n",
              "      <td>respiratory therapists exhausted by pandemic surges education federal state local news crime fire politics covid19 security mayor teachers technews sports please retweet</td>\n",
              "      <td>[respiratory, therapist, exhaust, pandemic, surge, education, federal, state, local, news, crime, fire, politics, covid, security, mayor, teacher, technews, sport, please, retweet]</td>\n",
              "      <td>[[respiratory, therapist], [therapist, exhaust], [pandemic, surge], [surge, education], [education, federal], [federal, state], [state, local], [local, news], [news, crime], [crime, fire], [fire, politics], [politics, covid], [security, mayor], [mayor, teacher], [teacher, technews], [technews, sport], [sport, please], [please, retweet]]</td>\n",
              "      <td>-0.5719</td>\n",
              "      <td>negative</td>\n",
              "    </tr>\n",
              "  </tbody>\n",
              "</table>\n",
              "</div>"
            ],
            "text/plain": [
              "    screen_name  follower_count   timestamp  \\\n",
              "57  AJBlackston  1701            1607760712   \n",
              "\n",
              "                                                                                                                                                                                                               text  \\\n",
              "57  Respiratory Therapists Exhausted By Pandemic Surges https://t.co/UBzT7M9OjV #Education #Federal #State #Local #News #Crime #Fire #Politics #COVID19 #Security #Mayor #Teachers #TechNews #Sports Please Retweet   \n",
              "\n",
              "                                                                                                  hashtags  \\\n",
              "57  State Crime Education TechNews Teachers Security Sports Federal Local COVID19 Mayor Politics Fire News   \n",
              "\n",
              "    favorite_count  retweet_count                    source lang tags  \\\n",
              "57  0               0              Microsoft Power Platform  en   []    \n",
              "\n",
              "                        links  \\\n",
              "57  [https://t.co/UBzT7M9OjV]   \n",
              "\n",
              "                                                                                                                                                                   clean_text  \\\n",
              "57  respiratory therapists exhausted by pandemic surges education federal state local news crime fire politics covid19 security mayor teachers technews sports please retweet   \n",
              "\n",
              "                                                                                                                                                                          text_processed  \\\n",
              "57  [respiratory, therapist, exhaust, pandemic, surge, education, federal, state, local, news, crime, fire, politics, covid, security, mayor, teacher, technews, sport, please, retweet]   \n",
              "\n",
              "                                                                                                                                                                                                                                                                                                                                          text_bigrams  \\\n",
              "57  [[respiratory, therapist], [therapist, exhaust], [pandemic, surge], [surge, education], [education, federal], [federal, state], [state, local], [local, news], [news, crime], [crime, fire], [fire, politics], [politics, covid], [security, mayor], [mayor, teacher], [teacher, technews], [technews, sport], [sport, please], [please, retweet]]   \n",
              "\n",
              "    sentiment Type of Sentiment  \n",
              "57 -0.5719     negative          "
            ]
          },
          "execution_count": 1128,
          "metadata": {},
          "output_type": "execute_result"
        }
      ],
      "source": [
        "dataset.sample(1)"
      ]
    },
    {
      "cell_type": "code",
      "execution_count": null,
      "metadata": {
        "id": "xesbjGpSfpMC"
      },
      "outputs": [],
      "source": [
        "dataset= dataset.drop(['timestamp', 'lang','links','tags','follower_count'], axis=1)"
      ]
    },
    {
      "cell_type": "markdown",
      "metadata": {
        "id": "4RDRPQqwfpMC"
      },
      "source": [
        "\n",
        "In this section, we have tokenized our hashtags. We will use it later in the analysis."
      ]
    },
    {
      "cell_type": "code",
      "execution_count": null,
      "metadata": {
        "id": "bBkOEm3PfpMC",
        "outputId": "4d2dbb7f-51c9-463b-f576-c264cb61d6e4"
      },
      "outputs": [
        {
          "name": "stdout",
          "output_type": "stream",
          "text": [
            "Rwanda COVID19 ResilientRecovery \n",
            "└─> ['rwanda', 'covid', '19', 'resilientrecovery'] \n",
            "\n",
            "COVID19 \n",
            "└─> ['covid', '19'] \n",
            "\n",
            "State Crime Education TechNews Teachers Security Sports Federal Local COVID19 Mayor Politics Fire News \n",
            "└─> ['state', 'crime', 'education', 'technews', 'teachers', 'security', 'sports', 'federal', 'local', 'covid', '19', 'mayor', 'politics', 'fire', 'news'] \n",
            "\n",
            "State Crime Education TechNews Teachers Security Sports Federal Local COVID19 Mayor Politics Fire News \n",
            "└─> ['state', 'crime', 'education', 'technews', 'teachers', 'security', 'sports', 'federal', 'local', 'covid', '19', 'mayor', 'politics', 'fire', 'news'] \n",
            "\n",
            "State Crime Education TechNews Teachers Security Sports Federal Local COVID19 Mayor Politics Fire News \n",
            "└─> ['state', 'crime', 'education', 'technews', 'teachers', 'security', 'sports', 'federal', 'local', 'covid', '19', 'mayor', 'politics', 'fire', 'news'] \n",
            "\n"
          ]
        },
        {
          "data": {
            "text/html": [
              "<div>\n",
              "<style scoped>\n",
              "    .dataframe tbody tr th:only-of-type {\n",
              "        vertical-align: middle;\n",
              "    }\n",
              "\n",
              "    .dataframe tbody tr th {\n",
              "        vertical-align: top;\n",
              "    }\n",
              "\n",
              "    .dataframe thead th {\n",
              "        text-align: right;\n",
              "    }\n",
              "</style>\n",
              "<table border=\"1\" class=\"dataframe\">\n",
              "  <thead>\n",
              "    <tr style=\"text-align: right;\">\n",
              "      <th></th>\n",
              "      <th>screen_name</th>\n",
              "      <th>text</th>\n",
              "      <th>hashtags</th>\n",
              "      <th>favorite_count</th>\n",
              "      <th>retweet_count</th>\n",
              "      <th>source</th>\n",
              "      <th>clean_text</th>\n",
              "      <th>text_processed</th>\n",
              "      <th>text_bigrams</th>\n",
              "      <th>sentiment</th>\n",
              "      <th>Type of Sentiment</th>\n",
              "    </tr>\n",
              "  </thead>\n",
              "  <tbody>\n",
              "    <tr>\n",
              "      <th>0</th>\n",
              "      <td>WorldBank</td>\n",
              "      <td>Discover how #Rwanda is using digitalization to address the education challenges brought on by #COVID19 #ResilientRecovery: https://t.co/55rgCStz8V https://t.co/iPbHobpGaM</td>\n",
              "      <td>[rwanda, covid19, resilientrecovery]</td>\n",
              "      <td>14</td>\n",
              "      <td>5</td>\n",
              "      <td>Hootsuite Inc</td>\n",
              "      <td>discover how rwanda is using digitalization to address the education challenges brought on by covid19 resilientrecovery</td>\n",
              "      <td>[discover, rwanda, use, digitalization, address, education, challenge, bring, covid, resilientrecovery]</td>\n",
              "      <td>[[use, digitalization], [education, challenge], [challenge, bring]]</td>\n",
              "      <td>0.0772</td>\n",
              "      <td>positive</td>\n",
              "    </tr>\n",
              "    <tr>\n",
              "      <th>1</th>\n",
              "      <td>BrookingsGov</td>\n",
              "      <td>Amid the #COVID19 pandemic and a White House transition, what's next for American schools? Join us Tuesday for an expert discussion of the future of US education, including pandemic recovery, school choice, and more. Register: https://t.co/c2mFMKB8FT</td>\n",
              "      <td>[covid19]</td>\n",
              "      <td>0</td>\n",
              "      <td>0</td>\n",
              "      <td>Sprout Social</td>\n",
              "      <td>amid the covid19 pandemic and a white house transition what's next for american schools join us tuesday for an expert discussion of the future of us education including pandemic recovery school choice and more register</td>\n",
              "      <td>[amid, covid, pandemic, white, house, transition, what's, next, american, school, join, u, tuesday, expert, discussion, future, u, education, include, pandemic, recovery, school, choice, register]</td>\n",
              "      <td>[[white, house], [house, transition], [transition, what's], [what's, next], [american, school], [school, join], [join, u], [u, tuesday], [expert, discussion], [u, education], [education, include], [include, pandemic], [pandemic, recovery], [recovery, school], [school, choice]]</td>\n",
              "      <td>0.2960</td>\n",
              "      <td>positive</td>\n",
              "    </tr>\n",
              "    <tr>\n",
              "      <th>2</th>\n",
              "      <td>AJBlackston</td>\n",
              "      <td>eLearning's Time To Shine? Apparently Not https://t.co/IphPqnejEz #Education #Federal #State #Local #News #Crime #Fire #Politics #COVID19 #Security #Mayor #Teachers #TechNews #Sports Please Retweet</td>\n",
              "      <td>[state, crime, education, technews, teachers, security, sports, federal, local, covid19, mayor, politics, fire, news]</td>\n",
              "      <td>0</td>\n",
              "      <td>0</td>\n",
              "      <td>Microsoft Power Platform</td>\n",
              "      <td>elearning's time to shine apparently not education federal state local news crime fire politics covid19 security mayor teachers technews sports please retweet</td>\n",
              "      <td>[elearning's, time, shine, apparently, education, federal, state, local, news, crime, fire, politics, covid, security, mayor, teacher, technews, sport, please, retweet]</td>\n",
              "      <td>[[elearning's, time], [shine, apparently], [education, federal], [federal, state], [state, local], [local, news], [news, crime], [crime, fire], [fire, politics], [politics, covid], [security, mayor], [mayor, teacher], [teacher, technews], [technews, sport], [sport, please], [please, retweet]]</td>\n",
              "      <td>-0.2960</td>\n",
              "      <td>negative</td>\n",
              "    </tr>\n",
              "    <tr>\n",
              "      <th>3</th>\n",
              "      <td>AJBlackston</td>\n",
              "      <td>Navajo Nation Readies For Vaccine To Fight 'Invisible Monster' https://t.co/bdiibgEV88 #Education #Federal #State #Local #News #Crime #Fire #Politics #COVID19 #Security #Mayor #Teachers #TechNews #Sports Please Retweet</td>\n",
              "      <td>[state, crime, education, technews, teachers, security, sports, federal, local, covid19, mayor, politics, fire, news]</td>\n",
              "      <td>0</td>\n",
              "      <td>0</td>\n",
              "      <td>Microsoft Power Platform</td>\n",
              "      <td>navajo nation readies for vaccine to fight 'invisible monster' education federal state local news crime fire politics covid19 security mayor teachers technews sports please retweet</td>\n",
              "      <td>[navajo, nation, ready, vaccine, fight, invisible, monster, education, federal, state, local, news, crime, fire, politics, covid, security, mayor, teacher, technews, sport, please, retweet]</td>\n",
              "      <td>[[navajo, nation], [nation, ready], [invisible, monster], [education, federal], [federal, state], [state, local], [local, news], [news, crime], [crime, fire], [fire, politics], [politics, covid], [security, mayor], [mayor, teacher], [teacher, technews], [technews, sport], [sport, please], [please, retweet]]</td>\n",
              "      <td>-0.5859</td>\n",
              "      <td>negative</td>\n",
              "    </tr>\n",
              "    <tr>\n",
              "      <th>4</th>\n",
              "      <td>AJBlackston</td>\n",
              "      <td>8 Ways eLearning Can Help Us Prepare For A New World Of Work https://t.co/opcKTjiyZr #Education #Federal #State #Local #News #Crime #Fire #Politics #COVID19 #Security #Mayor #Teachers #TechNews #Sports Please Retweet</td>\n",
              "      <td>[state, crime, education, technews, teachers, security, sports, federal, local, covid19, mayor, politics, fire, news]</td>\n",
              "      <td>1</td>\n",
              "      <td>0</td>\n",
              "      <td>Microsoft Power Platform</td>\n",
              "      <td>8 ways elearning can help us prepare for a new world of work education federal state local news crime fire politics covid19 security mayor teachers technews sports please retweet</td>\n",
              "      <td>[way, elearning, help, u, prepare, new, world, work, education, federal, state, local, news, crime, fire, politics, covid, security, mayor, teacher, technews, sport, please, retweet]</td>\n",
              "      <td>[[way, elearning], [help, u], [u, prepare], [new, world], [work, education], [education, federal], [federal, state], [state, local], [local, news], [news, crime], [crime, fire], [fire, politics], [politics, covid], [security, mayor], [mayor, teacher], [teacher, technews], [technews, sport], [sport, please], [please, retweet]]</td>\n",
              "      <td>0.1280</td>\n",
              "      <td>positive</td>\n",
              "    </tr>\n",
              "    <tr>\n",
              "      <th>...</th>\n",
              "      <td>...</td>\n",
              "      <td>...</td>\n",
              "      <td>...</td>\n",
              "      <td>...</td>\n",
              "      <td>...</td>\n",
              "      <td>...</td>\n",
              "      <td>...</td>\n",
              "      <td>...</td>\n",
              "      <td>...</td>\n",
              "      <td>...</td>\n",
              "      <td>...</td>\n",
              "    </tr>\n",
              "    <tr>\n",
              "      <th>95</th>\n",
              "      <td>AJBlackston</td>\n",
              "      <td>Sanders, Hawley team up to demand vote on second round of stimulus checks https://t.co/1meL43ntQS #Education #Federal #State #Local #News #Crime #Fire #Politics #COVID19 #Security #Mayor #Teachers #TechNews #Sports Please Retweet</td>\n",
              "      <td>[state, crime, education, technews, teachers, security, sports, federal, local, covid19, mayor, politics, fire, news]</td>\n",
              "      <td>0</td>\n",
              "      <td>0</td>\n",
              "      <td>Microsoft Power Platform</td>\n",
              "      <td>sanders hawley team up to demand vote on second round of stimulus checks education federal state local news crime fire politics covid19 security mayor teachers technews sports please retweet</td>\n",
              "      <td>[sander, hawley, team, demand, vote, second, round, stimulus, check, education, federal, state, local, news, crime, fire, politics, covid, security, mayor, teacher, technews, sport, please, retweet]</td>\n",
              "      <td>[[sander, hawley], [hawley, team], [demand, vote], [second, round], [stimulus, check], [check, education], [education, federal], [federal, state], [state, local], [local, news], [news, crime], [crime, fire], [fire, politics], [politics, covid], [security, mayor], [mayor, teacher], [teacher, technews], [technews, sport], [sport, please], [please, retweet]]</td>\n",
              "      <td>-0.4019</td>\n",
              "      <td>negative</td>\n",
              "    </tr>\n",
              "    <tr>\n",
              "      <th>96</th>\n",
              "      <td>AJBlackston</td>\n",
              "      <td>Biden says FDA panel vote on Pfizer vaccine a &amp;#039;bright light in a needlessly dark time&amp;#039; https://t.co/IdAKNkUoCD #Education #Federal #State #Local #News #Crime #Fire #Politics #COVID19 #Security #Mayor #Teachers #TechNews #Sports Please Retweet</td>\n",
              "      <td>[state, crime, education, technews, teachers, security, sports, federal, local, covid19, mayor, politics, fire, news]</td>\n",
              "      <td>0</td>\n",
              "      <td>0</td>\n",
              "      <td>Microsoft Power Platform</td>\n",
              "      <td>biden says fda panel vote on pfizer vaccine a 039bright light in a needlessly dark time039 education federal state local news crime fire politics covid19 security mayor teachers technews sports please retweet</td>\n",
              "      <td>[biden, say, fda, panel, vote, pfizer, vaccine, 039bright, light, needlessly, dark, time, education, federal, state, local, news, crime, fire, politics, covid, security, mayor, teacher, technews, sport, please, retweet]</td>\n",
              "      <td>[[biden, say], [say, fda], [fda, panel], [panel, vote], [pfizer, vaccine], [039bright, light], [needlessly, dark], [dark, time], [education, federal], [federal, state], [state, local], [local, news], [news, crime], [crime, fire], [fire, politics], [politics, covid], [security, mayor], [mayor, teacher], [teacher, technews], [technews, sport], [sport, please], [please, retweet]]</td>\n",
              "      <td>-0.2960</td>\n",
              "      <td>negative</td>\n",
              "    </tr>\n",
              "    <tr>\n",
              "      <th>97</th>\n",
              "      <td>AJBlackston</td>\n",
              "      <td>Minneapolis Approves Cutting Police Budget https://t.co/0uoj8PFydj #Education #Federal #State #Local #News #Crime #Fire #Politics #COVID19 #Security #Mayor #Teachers #TechNews #Sports Please Retweet</td>\n",
              "      <td>[state, crime, education, technews, teachers, security, sports, federal, local, covid19, mayor, politics, fire, news]</td>\n",
              "      <td>0</td>\n",
              "      <td>0</td>\n",
              "      <td>Microsoft Power Platform</td>\n",
              "      <td>minneapolis approves cutting police budget education federal state local news crime fire politics covid19 security mayor teachers technews sports please retweet</td>\n",
              "      <td>[minneapolis, approve, cut, police, budget, education, federal, state, local, news, crime, fire, politics, covid, security, mayor, teacher, technews, sport, please, retweet]</td>\n",
              "      <td>[[minneapolis, approve], [approve, cut], [cut, police], [police, budget], [budget, education], [education, federal], [federal, state], [state, local], [local, news], [news, crime], [crime, fire], [fire, politics], [politics, covid], [security, mayor], [mayor, teacher], [teacher, technews], [technews, sport], [sport, please], [please, retweet]]</td>\n",
              "      <td>0.0000</td>\n",
              "      <td>neutral</td>\n",
              "    </tr>\n",
              "    <tr>\n",
              "      <th>98</th>\n",
              "      <td>AJBlackston</td>\n",
              "      <td>Poverty among professors clocked in new survey https://t.co/OGTSwLWB3J #Education #Federal #State #Local #News #Crime #Fire #Politics #COVID19 #Security #Mayor #Teachers #TechNews #Sports Please Retweet</td>\n",
              "      <td>[state, crime, education, technews, teachers, security, sports, federal, local, covid19, mayor, politics, fire, news]</td>\n",
              "      <td>0</td>\n",
              "      <td>0</td>\n",
              "      <td>Microsoft Power Platform</td>\n",
              "      <td>poverty among professors clocked in new survey education federal state local news crime fire politics covid19 security mayor teachers technews sports please retweet</td>\n",
              "      <td>[poverty, among, professor, clock, new, survey, education, federal, state, local, news, crime, fire, politics, covid, security, mayor, teacher, technews, sport, please, retweet]</td>\n",
              "      <td>[[poverty, among], [among, professor], [professor, clock], [new, survey], [survey, education], [education, federal], [federal, state], [state, local], [local, news], [news, crime], [crime, fire], [fire, politics], [politics, covid], [security, mayor], [mayor, teacher], [teacher, technews], [technews, sport], [sport, please], [please, retweet]]</td>\n",
              "      <td>-0.6705</td>\n",
              "      <td>negative</td>\n",
              "    </tr>\n",
              "    <tr>\n",
              "      <th>99</th>\n",
              "      <td>AJBlackston</td>\n",
              "      <td>FDA panel votes in favor of Pfizer COVID-19 vaccine https://t.co/W2NK0ErF5t #Education #Federal #State #Local #News #Crime #Fire #Politics #COVID19 #Security #Mayor #Teachers #TechNews #Sports Please Retweet</td>\n",
              "      <td>[state, crime, education, technews, teachers, security, sports, federal, local, covid19, mayor, politics, fire, news]</td>\n",
              "      <td>0</td>\n",
              "      <td>0</td>\n",
              "      <td>Microsoft Power Platform</td>\n",
              "      <td>fda panel votes in favor of pfizer covid-19 vaccine education federal state local news crime fire politics covid19 security mayor teachers technews sports please retweet</td>\n",
              "      <td>[fda, panel, vote, favor, pfizer, covid, vaccine, education, federal, state, local, news, crime, fire, politics, covid, security, mayor, teacher, technews, sport, please, retweet]</td>\n",
              "      <td>[[fda, panel], [panel, vote], [pfizer, covid], [vaccine, education], [education, federal], [federal, state], [state, local], [local, news], [news, crime], [crime, fire], [fire, politics], [politics, covid], [security, mayor], [mayor, teacher], [teacher, technews], [technews, sport], [sport, please], [please, retweet]]</td>\n",
              "      <td>0.1280</td>\n",
              "      <td>positive</td>\n",
              "    </tr>\n",
              "  </tbody>\n",
              "</table>\n",
              "<p>100 rows × 11 columns</p>\n",
              "</div>"
            ],
            "text/plain": [
              "     screen_name  \\\n",
              "0   WorldBank      \n",
              "1   BrookingsGov   \n",
              "2   AJBlackston    \n",
              "3   AJBlackston    \n",
              "4   AJBlackston    \n",
              "..          ...    \n",
              "95  AJBlackston    \n",
              "96  AJBlackston    \n",
              "97  AJBlackston    \n",
              "98  AJBlackston    \n",
              "99  AJBlackston    \n",
              "\n",
              "                                                                                                                                                                                                                                                            text  \\\n",
              "0   Discover how #Rwanda is using digitalization to address the education challenges brought on by #COVID19 #ResilientRecovery: https://t.co/55rgCStz8V https://t.co/iPbHobpGaM                                                                                    \n",
              "1   Amid the #COVID19 pandemic and a White House transition, what's next for American schools? Join us Tuesday for an expert discussion of the future of US education, including pandemic recovery, school choice, and more. Register: https://t.co/c2mFMKB8FT     \n",
              "2   eLearning's Time To Shine? Apparently Not https://t.co/IphPqnejEz #Education #Federal #State #Local #News #Crime #Fire #Politics #COVID19 #Security #Mayor #Teachers #TechNews #Sports Please Retweet                                                          \n",
              "3   Navajo Nation Readies For Vaccine To Fight 'Invisible Monster' https://t.co/bdiibgEV88 #Education #Federal #State #Local #News #Crime #Fire #Politics #COVID19 #Security #Mayor #Teachers #TechNews #Sports Please Retweet                                     \n",
              "4   8 Ways eLearning Can Help Us Prepare For A New World Of Work https://t.co/opcKTjiyZr #Education #Federal #State #Local #News #Crime #Fire #Politics #COVID19 #Security #Mayor #Teachers #TechNews #Sports Please Retweet                                       \n",
              "..                                                                                                                                                                                                                       ...                                       \n",
              "95  Sanders, Hawley team up to demand vote on second round of stimulus checks https://t.co/1meL43ntQS #Education #Federal #State #Local #News #Crime #Fire #Politics #COVID19 #Security #Mayor #Teachers #TechNews #Sports Please Retweet                          \n",
              "96  Biden says FDA panel vote on Pfizer vaccine a &#039;bright light in a needlessly dark time&#039; https://t.co/IdAKNkUoCD #Education #Federal #State #Local #News #Crime #Fire #Politics #COVID19 #Security #Mayor #Teachers #TechNews #Sports Please Retweet   \n",
              "97  Minneapolis Approves Cutting Police Budget https://t.co/0uoj8PFydj #Education #Federal #State #Local #News #Crime #Fire #Politics #COVID19 #Security #Mayor #Teachers #TechNews #Sports Please Retweet                                                         \n",
              "98  Poverty among professors clocked in new survey https://t.co/OGTSwLWB3J #Education #Federal #State #Local #News #Crime #Fire #Politics #COVID19 #Security #Mayor #Teachers #TechNews #Sports Please Retweet                                                     \n",
              "99  FDA panel votes in favor of Pfizer COVID-19 vaccine https://t.co/W2NK0ErF5t #Education #Federal #State #Local #News #Crime #Fire #Politics #COVID19 #Security #Mayor #Teachers #TechNews #Sports Please Retweet                                                \n",
              "\n",
              "                                                                                                                 hashtags  \\\n",
              "0   [rwanda, covid19, resilientrecovery]                                                                                    \n",
              "1   [covid19]                                                                                                               \n",
              "2   [state, crime, education, technews, teachers, security, sports, federal, local, covid19, mayor, politics, fire, news]   \n",
              "3   [state, crime, education, technews, teachers, security, sports, federal, local, covid19, mayor, politics, fire, news]   \n",
              "4   [state, crime, education, technews, teachers, security, sports, federal, local, covid19, mayor, politics, fire, news]   \n",
              "..                                                                                                                    ...   \n",
              "95  [state, crime, education, technews, teachers, security, sports, federal, local, covid19, mayor, politics, fire, news]   \n",
              "96  [state, crime, education, technews, teachers, security, sports, federal, local, covid19, mayor, politics, fire, news]   \n",
              "97  [state, crime, education, technews, teachers, security, sports, federal, local, covid19, mayor, politics, fire, news]   \n",
              "98  [state, crime, education, technews, teachers, security, sports, federal, local, covid19, mayor, politics, fire, news]   \n",
              "99  [state, crime, education, technews, teachers, security, sports, federal, local, covid19, mayor, politics, fire, news]   \n",
              "\n",
              "    favorite_count  retweet_count                    source  \\\n",
              "0   14              5              Hootsuite Inc              \n",
              "1   0               0              Sprout Social              \n",
              "2   0               0              Microsoft Power Platform   \n",
              "3   0               0              Microsoft Power Platform   \n",
              "4   1               0              Microsoft Power Platform   \n",
              ".. ..              ..                                   ...   \n",
              "95  0               0              Microsoft Power Platform   \n",
              "96  0               0              Microsoft Power Platform   \n",
              "97  0               0              Microsoft Power Platform   \n",
              "98  0               0              Microsoft Power Platform   \n",
              "99  0               0              Microsoft Power Platform   \n",
              "\n",
              "                                                                                                                                                                                                                    clean_text  \\\n",
              "0   discover how rwanda is using digitalization to address the education challenges brought on by covid19 resilientrecovery                                                                                                      \n",
              "1   amid the covid19 pandemic and a white house transition what's next for american schools join us tuesday for an expert discussion of the future of us education including pandemic recovery school choice and more register   \n",
              "2   elearning's time to shine apparently not education federal state local news crime fire politics covid19 security mayor teachers technews sports please retweet                                                               \n",
              "3   navajo nation readies for vaccine to fight 'invisible monster' education federal state local news crime fire politics covid19 security mayor teachers technews sports please retweet                                         \n",
              "4   8 ways elearning can help us prepare for a new world of work education federal state local news crime fire politics covid19 security mayor teachers technews sports please retweet                                           \n",
              "..                                                                                                                                                                                 ...                                           \n",
              "95  sanders hawley team up to demand vote on second round of stimulus checks education federal state local news crime fire politics covid19 security mayor teachers technews sports please retweet                               \n",
              "96  biden says fda panel vote on pfizer vaccine a 039bright light in a needlessly dark time039 education federal state local news crime fire politics covid19 security mayor teachers technews sports please retweet             \n",
              "97  minneapolis approves cutting police budget education federal state local news crime fire politics covid19 security mayor teachers technews sports please retweet                                                             \n",
              "98  poverty among professors clocked in new survey education federal state local news crime fire politics covid19 security mayor teachers technews sports please retweet                                                         \n",
              "99  fda panel votes in favor of pfizer covid-19 vaccine education federal state local news crime fire politics covid19 security mayor teachers technews sports please retweet                                                    \n",
              "\n",
              "                                                                                                                                                                                                                 text_processed  \\\n",
              "0   [discover, rwanda, use, digitalization, address, education, challenge, bring, covid, resilientrecovery]                                                                                                                       \n",
              "1   [amid, covid, pandemic, white, house, transition, what's, next, american, school, join, u, tuesday, expert, discussion, future, u, education, include, pandemic, recovery, school, choice, register]                          \n",
              "2   [elearning's, time, shine, apparently, education, federal, state, local, news, crime, fire, politics, covid, security, mayor, teacher, technews, sport, please, retweet]                                                      \n",
              "3   [navajo, nation, ready, vaccine, fight, invisible, monster, education, federal, state, local, news, crime, fire, politics, covid, security, mayor, teacher, technews, sport, please, retweet]                                 \n",
              "4   [way, elearning, help, u, prepare, new, world, work, education, federal, state, local, news, crime, fire, politics, covid, security, mayor, teacher, technews, sport, please, retweet]                                        \n",
              "..                                                                                                                                                                                     ...                                        \n",
              "95  [sander, hawley, team, demand, vote, second, round, stimulus, check, education, federal, state, local, news, crime, fire, politics, covid, security, mayor, teacher, technews, sport, please, retweet]                        \n",
              "96  [biden, say, fda, panel, vote, pfizer, vaccine, 039bright, light, needlessly, dark, time, education, federal, state, local, news, crime, fire, politics, covid, security, mayor, teacher, technews, sport, please, retweet]   \n",
              "97  [minneapolis, approve, cut, police, budget, education, federal, state, local, news, crime, fire, politics, covid, security, mayor, teacher, technews, sport, please, retweet]                                                 \n",
              "98  [poverty, among, professor, clock, new, survey, education, federal, state, local, news, crime, fire, politics, covid, security, mayor, teacher, technews, sport, please, retweet]                                             \n",
              "99  [fda, panel, vote, favor, pfizer, covid, vaccine, education, federal, state, local, news, crime, fire, politics, covid, security, mayor, teacher, technews, sport, please, retweet]                                           \n",
              "\n",
              "                                                                                                                                                                                                                                                                                                                                                                                   text_bigrams  \\\n",
              "0   [[use, digitalization], [education, challenge], [challenge, bring]]                                                                                                                                                                                                                                                                                                                           \n",
              "1   [[white, house], [house, transition], [transition, what's], [what's, next], [american, school], [school, join], [join, u], [u, tuesday], [expert, discussion], [u, education], [education, include], [include, pandemic], [pandemic, recovery], [recovery, school], [school, choice]]                                                                                                         \n",
              "2   [[elearning's, time], [shine, apparently], [education, federal], [federal, state], [state, local], [local, news], [news, crime], [crime, fire], [fire, politics], [politics, covid], [security, mayor], [mayor, teacher], [teacher, technews], [technews, sport], [sport, please], [please, retweet]]                                                                                         \n",
              "3   [[navajo, nation], [nation, ready], [invisible, monster], [education, federal], [federal, state], [state, local], [local, news], [news, crime], [crime, fire], [fire, politics], [politics, covid], [security, mayor], [mayor, teacher], [teacher, technews], [technews, sport], [sport, please], [please, retweet]]                                                                          \n",
              "4   [[way, elearning], [help, u], [u, prepare], [new, world], [work, education], [education, federal], [federal, state], [state, local], [local, news], [news, crime], [crime, fire], [fire, politics], [politics, covid], [security, mayor], [mayor, teacher], [teacher, technews], [technews, sport], [sport, please], [please, retweet]]                                                       \n",
              "..                                                                                                                                                                                                                                                                                                                                      ...                                                       \n",
              "95  [[sander, hawley], [hawley, team], [demand, vote], [second, round], [stimulus, check], [check, education], [education, federal], [federal, state], [state, local], [local, news], [news, crime], [crime, fire], [fire, politics], [politics, covid], [security, mayor], [mayor, teacher], [teacher, technews], [technews, sport], [sport, please], [please, retweet]]                         \n",
              "96  [[biden, say], [say, fda], [fda, panel], [panel, vote], [pfizer, vaccine], [039bright, light], [needlessly, dark], [dark, time], [education, federal], [federal, state], [state, local], [local, news], [news, crime], [crime, fire], [fire, politics], [politics, covid], [security, mayor], [mayor, teacher], [teacher, technews], [technews, sport], [sport, please], [please, retweet]]   \n",
              "97  [[minneapolis, approve], [approve, cut], [cut, police], [police, budget], [budget, education], [education, federal], [federal, state], [state, local], [local, news], [news, crime], [crime, fire], [fire, politics], [politics, covid], [security, mayor], [mayor, teacher], [teacher, technews], [technews, sport], [sport, please], [please, retweet]]                                     \n",
              "98  [[poverty, among], [among, professor], [professor, clock], [new, survey], [survey, education], [education, federal], [federal, state], [state, local], [local, news], [news, crime], [crime, fire], [fire, politics], [politics, covid], [security, mayor], [mayor, teacher], [teacher, technews], [technews, sport], [sport, please], [please, retweet]]                                     \n",
              "99  [[fda, panel], [panel, vote], [pfizer, covid], [vaccine, education], [education, federal], [federal, state], [state, local], [local, news], [news, crime], [crime, fire], [fire, politics], [politics, covid], [security, mayor], [mayor, teacher], [teacher, technews], [technews, sport], [sport, please], [please, retweet]]                                                               \n",
              "\n",
              "    sentiment Type of Sentiment  \n",
              "0   0.0772     positive          \n",
              "1   0.2960     positive          \n",
              "2  -0.2960     negative          \n",
              "3  -0.5859     negative          \n",
              "4   0.1280     positive          \n",
              "..     ...          ...          \n",
              "95 -0.4019     negative          \n",
              "96 -0.2960     negative          \n",
              "97  0.0000     neutral           \n",
              "98 -0.6705     negative          \n",
              "99  0.1280     positive          \n",
              "\n",
              "[100 rows x 11 columns]"
            ]
          },
          "execution_count": 1130,
          "metadata": {},
          "output_type": "execute_result"
        }
      ],
      "source": [
        "from nltk.tokenize import TweetTokenizer\n",
        "\n",
        "# This tokenizer will tokenize tweets. \"preserve_case\" parameter can be used to\n",
        "# preserve cases or make it all lowercase. \"reduce_len\" parameter shortens\n",
        "# consecutive character repetitions to at most three consecutive repetitions to\n",
        "# reduce noise.\n",
        "tokenizer = TweetTokenizer(preserve_case=False, reduce_len=True)\n",
        "\n",
        "for tweet in dataset[\"hashtags\"].head():\n",
        "    print(tweet,\"\\n└─>\",tokenizer.tokenize(tweet),\"\\n\")\n",
        "\n",
        "\n",
        "from nltk.tokenize import word_tokenize\n",
        "\n",
        "def get_tokens(row):\n",
        "    return word_tokenize(row[\"hashtags\"].lower())\n",
        "\n",
        "dataset[\"hashtags\"] = dataset.apply(lambda row: get_tokens(row), axis = 1)\n",
        "dataset"
      ]
    },
    {
      "cell_type": "code",
      "execution_count": null,
      "metadata": {
        "id": "cd-ID_eLfpMC",
        "outputId": "2be68228-bbb1-4fb5-c53c-acfe9032e49f"
      },
      "outputs": [
        {
          "data": {
            "text/plain": [
              "covid19      100\n",
              "education    69 \n",
              "teachers     68 \n",
              "crime        67 \n",
              "mayor        67 \n",
              "fire         67 \n",
              "sports       67 \n",
              "news         67 \n",
              "federal      67 \n",
              "technews     67 \n",
              "Name: hashtags, dtype: int64"
            ]
          },
          "execution_count": 1131,
          "metadata": {},
          "output_type": "execute_result"
        }
      ],
      "source": [
        "\n",
        "# Flattening the lists together and counting the values:\n",
        "hashtagss = pd.Series(dataset.explode(\"hashtags\").hashtags).value_counts()\n",
        "\n",
        "hashtagss.head(n=10)"
      ]
    },
    {
      "cell_type": "code",
      "execution_count": null,
      "metadata": {
        "id": "Jrt5u7MifpMD"
      },
      "outputs": [],
      "source": [
        "dataset['text_length'] = dataset['clean_text'].apply(lambda x: len(x))"
      ]
    },
    {
      "cell_type": "code",
      "execution_count": null,
      "metadata": {
        "id": "cvQ1-GlYfpMD",
        "outputId": "638e99e1-6cf3-4a8a-a051-a127900708ac"
      },
      "outputs": [
        {
          "data": {
            "text/html": [
              "<div>\n",
              "<style scoped>\n",
              "    .dataframe tbody tr th:only-of-type {\n",
              "        vertical-align: middle;\n",
              "    }\n",
              "\n",
              "    .dataframe tbody tr th {\n",
              "        vertical-align: top;\n",
              "    }\n",
              "\n",
              "    .dataframe thead th {\n",
              "        text-align: right;\n",
              "    }\n",
              "</style>\n",
              "<table border=\"1\" class=\"dataframe\">\n",
              "  <thead>\n",
              "    <tr style=\"text-align: right;\">\n",
              "      <th></th>\n",
              "      <th>screen_name</th>\n",
              "      <th>text</th>\n",
              "      <th>hashtags</th>\n",
              "      <th>favorite_count</th>\n",
              "      <th>retweet_count</th>\n",
              "      <th>source</th>\n",
              "      <th>clean_text</th>\n",
              "      <th>text_processed</th>\n",
              "      <th>text_bigrams</th>\n",
              "      <th>sentiment</th>\n",
              "      <th>Type of Sentiment</th>\n",
              "      <th>text_length</th>\n",
              "    </tr>\n",
              "  </thead>\n",
              "  <tbody>\n",
              "    <tr>\n",
              "      <th>83</th>\n",
              "      <td>hpatrinos</td>\n",
              "      <td>Pleasure to present today at the 10th International Research-to-Practice Conference \"Early Childhood Care and Education\" (#ECCE 2020 Digital) - Moscow - on the costs of #COVID19 school closures https://t.co/f1xxv6VT4f https://t.co/9AG9zfsfFK</td>\n",
              "      <td>[covid19, ecce]</td>\n",
              "      <td>7</td>\n",
              "      <td>1</td>\n",
              "      <td>Twitter Web App</td>\n",
              "      <td>pleasure to present today at the 10th international research-to-practice conference \"early childhood care and education\" ecce 2020 digital - moscow - on the costs of covid19 school closures</td>\n",
              "      <td>[pleasure, present, today, 10th, international, research-to-practice, conference, early, childhood, care, education, ecce, digital, moscow, cost, covid, school, closure]</td>\n",
              "      <td>[[present, today], [10th, international], [international, research-to-practice], [research-to-practice, conference], [early, childhood], [childhood, care], [school, closure]]</td>\n",
              "      <td>0.7845</td>\n",
              "      <td>positive</td>\n",
              "      <td>189</td>\n",
              "    </tr>\n",
              "  </tbody>\n",
              "</table>\n",
              "</div>"
            ],
            "text/plain": [
              "   screen_name  \\\n",
              "83  hpatrinos    \n",
              "\n",
              "                                                                                                                                                                                                                                                 text  \\\n",
              "83  Pleasure to present today at the 10th International Research-to-Practice Conference \"Early Childhood Care and Education\" (#ECCE 2020 Digital) - Moscow - on the costs of #COVID19 school closures https://t.co/f1xxv6VT4f https://t.co/9AG9zfsfFK   \n",
              "\n",
              "           hashtags  favorite_count  retweet_count           source  \\\n",
              "83  [covid19, ecce]  7               1              Twitter Web App   \n",
              "\n",
              "                                                                                                                                                                                       clean_text  \\\n",
              "83  pleasure to present today at the 10th international research-to-practice conference \"early childhood care and education\" ecce 2020 digital - moscow - on the costs of covid19 school closures   \n",
              "\n",
              "                                                                                                                                                               text_processed  \\\n",
              "83  [pleasure, present, today, 10th, international, research-to-practice, conference, early, childhood, care, education, ecce, digital, moscow, cost, covid, school, closure]   \n",
              "\n",
              "                                                                                                                                                                      text_bigrams  \\\n",
              "83  [[present, today], [10th, international], [international, research-to-practice], [research-to-practice, conference], [early, childhood], [childhood, care], [school, closure]]   \n",
              "\n",
              "    sentiment Type of Sentiment  text_length  \n",
              "83  0.7845     positive          189          "
            ]
          },
          "execution_count": 1133,
          "metadata": {},
          "output_type": "execute_result"
        }
      ],
      "source": [
        "dataset.sample(1)"
      ]
    },
    {
      "cell_type": "markdown",
      "metadata": {
        "id": "-7E5BYF1fpME"
      },
      "source": [
        "# Data Taken in the UK"
      ]
    },
    {
      "cell_type": "markdown",
      "metadata": {
        "id": "J8sziJnJfpME"
      },
      "source": [
        "\n",
        "The same procedures are applied to the data drawn from the UK.\n"
      ]
    },
    {
      "cell_type": "code",
      "execution_count": null,
      "metadata": {
        "id": "L0NZOTi1fpME",
        "outputId": "4b72722c-5fbd-4a61-d0d0-38c17b332129"
      },
      "outputs": [
        {
          "name": "stdout",
          "output_type": "stream",
          "text": [
            "Requirement already satisfied: tweet-preprocessor in c:\\users\\begum\\anaconda3\\lib\\site-packages (0.6.0)\n"
          ]
        }
      ],
      "source": [
        "import tweepy # for pulling tweets\n",
        "import csv # for exporting and importing CSV files\n",
        "import json # for formatting, exporting, and importing JSON files\n",
        "import datetime # for date formatting\n",
        "import html # for unescaping certain characters in the text\n",
        "\n",
        "import os\n",
        "import tweepy as tw\n",
        "import pandas as pd\n",
        "\n",
        "from tweepy import *\n",
        "\n",
        "import pandas as pd\n",
        "import csv\n",
        "import re\n",
        "import string\n",
        "\n",
        "!pip install tweet-preprocessor\n",
        "\n",
        "import preprocessor as p"
      ]
    },
    {
      "cell_type": "code",
      "execution_count": null,
      "metadata": {
        "id": "7ng0jhjsfpME"
      },
      "outputs": [],
      "source": [
        "CONSUMER_KEY = \"\" # fill this\n",
        "CONSUMER_SECRET = \"\" # fill this\n",
        "ACCESS_TOKEN = \"\" # fill this (required only for OAuth 1a)\n",
        "ACCESS_TOKEN_SECRET = \"\" # fill this (required only for OAuth 1a)"
      ]
    },
    {
      "cell_type": "code",
      "execution_count": null,
      "metadata": {
        "id": "G7lBfpUYfpME"
      },
      "outputs": [],
      "source": [
        "\n",
        "# OAuth 1a: Authentication with the user context\n",
        "\n",
        "auth = tweepy.OAuthHandler(CONSUMER_KEY, CONSUMER_SECRET)\n",
        "auth.set_access_token(ACCESS_TOKEN, ACCESS_TOKEN_SECRET)\n",
        "api = tweepy.API(auth)\n",
        "\n",
        "# OAuth 2: Authentication without the user context\n",
        "\n",
        "# auth = tweepy.AppAuthHandler(CONSUMER_KEY, CONSUMER_SECRET)\n",
        "# api = tweepy.API(auth)\n"
      ]
    },
    {
      "cell_type": "markdown",
      "metadata": {
        "id": "kfkH_uRkfpME"
      },
      "source": [
        "\n",
        "In UK data, mileage has been increased more than in USA. Because the same number of data had to be taken to make a biased comparison. The purpose of the analysis was not population or city based. If it were, we would have to include naive bayes in hypothesis methods. However, the subject investigated was the emotional analysis of online education at covid19. So an equal number of data was taken."
      ]
    },
    {
      "cell_type": "code",
      "execution_count": null,
      "metadata": {
        "id": "Se5iqUTifpME",
        "outputId": "25725d7c-98c2-4e7c-87e7-9dc129c81be1"
      },
      "outputs": [
        {
          "name": "stdout",
          "output_type": "stream",
          "text": [
            "A total of 1,921 students absent from school on December 11 due to COVID-19, Cyprus Education Ministry says\n",
            "https://t.co/Tl9SA8j9AI #Cypriotstudents\n",
            "#Cyprus #coronavirus #covid19  #Cypruscoronavirus #covid19tests #Cyprusairports  #Cypruslockdownmeasures  #covid19vaccineCyprus https://t.co/5nmBjDHCjw\n",
            "Royal Borough of Greenwich schools to close from Monday as Covid-19 cases rise | #tier3 #london #CovidChristmas #covid19 @gmb @bbc5live  https://t.co/JPci8kMzHK\n",
            "News: Education inclusion focus of groundbreaking study to tackle violent crime\n",
            "\n",
            "The @wy_vru has partnered with @CrestAdvisory to explore patterns, trends and contributory factors, with a special attention paid to the #COVID19 period\n",
            "\n",
            "Read more: https://t.co/Q7nigoITXr https://t.co/eokfGz5U2l\n",
            "Her words resonate with me because of the #COVID19 related study of heart-based, unwritten New Covenant centered, \"battle of the sexes\" based education that I'm pursuing here: https://t.co/Yy026IQtgJ . (2\n",
            "@EcoUrbanRanger @TheGreenParty @natalieben @BBCPM @NaturePremium1 There's been so much reflection in the world of business &amp; industry post #COVID19 but there appears to no such desire for change in respect of education. There is much opportunity to reset &amp; @_TeachtheFuture Literally what it says on the tin! Teach the future - Change the Future\n",
            "Keeping schools during a pandemic open is just irresponsible! ☣️\n",
            "https://t.co/n8M7q5ng2w #Covid19 #education\n",
            "Welcome @UgandaCancer  who are raising funds on Givey!\n",
            "\n",
            "https://t.co/xF2q9o7mQX\n",
            "\n",
            "#Givey #community #donations #fundraising #giving #goodcauses #mentalhealth #education #foodbanks #COVID19 #HealthcareHeroes #animals #environmental #uganda #cancer https://t.co/NpZyQfOOWG\n",
            ".@TeacherPrize Covid Hero award winner @DrFrostMaths spoke to leading education publication @tes about the importance of celebrating the contributions of teachers during the #COVID19 pandemic. https://t.co/ndp942sEIB\n",
            "RT @andi_staub: The Effect of #Gamification Elements on #MOOCs\n",
            "\n",
            "#education #COVID19 #behavioraleconomics #fintech @ipfconline1 @floriansemle @AntonioSelas @mvollmer1 @jblefevre60 @Damien_CABADI @guzmand @Ronald_vanLoon @helene_wpli @YuHelenYu @luc_schuur… https://t.co/x61IqErewg\n",
            "Why COVID Is India’s Chance To Use Artificial Intelligence , Tech – And Enter The Future https://t.co/BHAO2rVHeG #ai #ArtificialIntelligence #MachineLearning #DeepLearning #COVID19  #future #india https://t.co/t0FewosjJW\n",
            "Essential Oral Care Training for individuals to participate.\n",
            "Ideal for Speech and Language Therapists, Hospice nurses, Doctors, Dental Care Professionals\n",
            "\n",
            "12th January - 19 spaces left\n",
            "\n",
            "#SLTchat #slt #education #COVID19 #healthcare #doctors #NurseLife #palliative #dementia #carer https://t.co/ceLkjxbql7\n",
            "Essential Oral Care Training for individuals to participate.\n",
            "Ideal for Speech and Language Therapists, Hospice nurses, Doctors, Dental Care Professionals\n",
            "\n",
            "12th January - 19 spaces left\n",
            "\n",
            "#SLTchat #slt #education #COVID19 #healthcare #doctors #NurseLife #palliative #dementia #carer https://t.co/7nF0GsTn08\n",
            "#TipOfTheWeek\n",
            "\n",
            "What is heavy work and how can it help your child?  Find out more!\n",
            "\n",
            "#sensoryintegration  #education  #SEND  #heavywork #proprioception  #christmasiscoming  #schools #covid19 https://t.co/TOjLIi0FP8\n",
            "Lockdown loneliness reaches record levels! #Covid19 is really bad but I do worry about longer term impact on #mentalhealth - it's a difficult balance to get right #Loneliness https://t.co/Wi4vUkeSJm https://t.co/QBhw8gkfNf\n",
            "Updated statistics 😔\n",
            "#LongCovid #coronavirus #COVID19 #Statistics #schools #education #teachers \n",
            "\n",
            "https://t.co/reSZx52E8a\n",
            "@educationgovuk Both kids (London secondary school) sent home to isolate. The eldest has several friends who have tested positive in the last week and numerous teachers. Your advice comes from an ivory tower. #education #COVID19\n",
            "#COVID19 chores could set women’s equality back by 25 years. Employment &amp; education opportunities are being lost putting women at a disadvantage. \n",
            "\n",
            "#CEDAW is key to empower women &amp; to ensure increasing gender equality is not wiped out. \n",
            "#womenempowerment \n",
            "\n",
            "https://t.co/wuJVPpHBjp https://t.co/Y3G9P64gPX\n",
            "Daniel Griffin provides his weekly clinical report on #COVID19, including the anticipated #EUA for the #Pfizer mRNA vaccine, mitigation strategies in early care and education settings, expressive #aphasia, and much more. https://t.co/ylIxJwn6kC\n",
            "For many children across the world, lockdowns have meant schools have been shut &amp; education put on hold.\n",
            "\n",
            "The IRC &amp; @SesameWorkshop have been reaching refugee children with education during the #COVID19 pandemic &amp; beyond. Read how: https://t.co/5qqLkAhPW0\n",
            "Interesting-this backs findings from current UK/US research with Sarah Robert @SUNY on teachers’ working conditions and policy discourses under #COVID19  and points to an authoritarian policy turn in edu. policies. Thanks @DonnaLFerguson @ObserverUK \n",
            "  https://t.co/ULCy3tC08p\n",
            "Nearly 224 million children are out of school worldwide due to school closures linked to the coronavirus pandemic. #education #COVID19\n",
            "Unbeliveable @NickGibbUK! This government do nothing but kick #teachers when they are doing a brilliant job at managing schools and #COVID19 @Conservatives  https://t.co/xnML8UrRmt\n",
            "Nick Gibb is a moron. This is effectively telling Heads ‘make sure the virus keeps spreading right up till Christmas’ #COVID19 #Coviduk  https://t.co/A47qtKS2Lh\n",
            "After a number of positive cases #Eton boys will be taught remotely, or sit internal exams at home, for the last three days of term\n",
            "#COVID19 #schools #education \n",
            "\n",
            "https://t.co/LSZcNRxu8I\n",
            "Minister threatens headteacher over pre-Christmas online lessons &lt; This makes NO SENSE. Schools are trying to help govt deliver its own policy of allowing contact at Christmas. I just despair. These people are insane. #schools #Covid19 #Christmas  https://t.co/ax4Opk77xo\n",
            "@ICNurses release call to give #health #education a prominent place in #COVID19 recovery plans. \n",
            "Read the press release 👉 https://t.co/NZaimkXfcv\n",
            "@RushNursingDean @RushMedical @kentnursing @acn_tweet @DaveOCWork @collegeofnurses @snc_shimla @JHUNursing @uccnursmid @UCVVGent https://t.co/E0DzLi4YD7\n",
            "You’ve got to wonder what the real agenda is here #schoolsuk #schoolsarenotcovidsecure #COVID19 #toryshambles https://t.co/ZMnvVTQRlL\n",
            "'Giving schools the flexibility to switch to remote learning for the final few days of term seems an obvious and straightforward solution.' Paul Whitehead\n",
            "\n",
            "#commonsense #COVID19\n",
            "@NAHTnews @AEPsychologists\n",
            "\n",
            "https://t.co/HJIoOo5Vsl\n",
            "I am humbled by this headteacher #schoolspirit #COVID19 https://t.co/ZvHkH8F9cK\n",
            "@scottywrotem 🤣 🤣 ...Wait what?!! @BorisJohnson is our Prime Minister?\n",
            "\n",
            "But if he was really PM, wouldn’t we have seen a lot more of the pompous media-whore? Y’know, with #BREXIT #COVID19 &amp; #EDUCATION and denouncing @realDonaldTrump’s despotic attempts to bring down the US with him?\n",
            "The govt’s ridiculous threat to seek injunctions against #schools or trusts who shut early for #Christmas because of high numbers of #COVID19 cases is the final sign that they just don’t understand or trust teachers \n",
            "#r4today #education https://t.co/w50I3aqPX3\n",
            "Does any person of influence understand the reality of teaching a class in real time and live streaming at the same time? #COVID19 #edchat #education #learning #school\n",
            "@Academicis – Calling all School Data Managers - We are very proud to have been retained by a wonderful Cambridge School who are seeking to appoint a  Data Manager – ASAP – Must have strong SQL experience - Call  to find out more – 01223-90-79-79\n",
            "#education  #Covid19 #school #SQL\n",
            "@Academicis – Congratulations to the Academicis team – What a great week, we appointed another two seniors leaders and were retained on three new assignments (Further info to follow shortly) - Well done team !\n",
            "\n",
            "Academicis - #education  #Covid19 #school #educationrecruitment https://t.co/d8IuRul3Kb\n",
            "The #COVID19 crisis has unveiled the critical importance of digital literacy, skills and capacity! @AmChamEU is committed to playing a role in fostering #digitalskills. Take a look here for more: ➡ https://t.co/aEcnNGJ2OP #EduSummitEU https://t.co/cMwKjeGDE0\n",
            "'The Inset plan is ham-fisted, tone deaf and demeaning' - read @RealGeoffBarton latest blog in @tes https://t.co/Yf6UKafBt9 #education #COVID19 #insetday https://t.co/S4PKF8c9Ic\n",
            "\"Despite the challenges, you have taken the lead to respond to the #Covid19 crisis and to emerge stronger from it.\n",
            "You have ensured education continues with or without the use of technologies and made sure that no student is left behind.\"\n",
            "@daveswords at EI's ACCRS meeting https://t.co/TWos1Qh5ED\n",
            "Int'l students in UK will be able to access vaccine @ThePIENews  https://t.co/vTh4tBrSWr #education #medicine #health #COVID19 #wellness #publichealth #internationalstudents #vaccine https://t.co/rqkDnAPCTD\n",
            "Welsh children's commissioner criticises government announcement that learning will move online from Monday, claiming it is \"not the right decision\" for students and the education sector. \n",
            "\n",
            "#secondary #FE #remotelearning #COVID19 #Wales\n",
            "\n",
            "Read more here: https://t.co/dv4ZRIfMUY https://t.co/RngLW3TNBN\n",
            "Listen to @Fielding20 talk to @SparksyOnRadio @BBCDevon about the extraordinary efforts of @UniofExeter staff &amp; students to maintain education, research and community safety in #COVID19 pandemic, plus an even bigger testing operation in January (1:08:27) https://t.co/weZwOoBeaZ\n",
            "#EACVIBestof2020 Thank you @ThorEdvardsen for your hard work in addition to modifying delivery of #CVimaging education in the time of #COVID19 @Cosyns @denisamuraru @alessia_gimelli @chiarabd @leylaelifsade @PalMaurovich @DonalErwan https://t.co/j5zVdLYyhU\n",
            "In StudyTravel news: The government of #WesternAustralia has announced a #Covid19 support fund to give up AUS$50,000 to small and medium-sized international #education providers.\n",
            "\n",
            "Read more: https://t.co/tRG0Weq0Pc https://t.co/2nq0kE5bp3\n",
            "#COVID19 has created unprecedented pressures on #universities. However it also provide opportunities to reconsider how we work. Dr @jo_stayo &amp; I have looked at one area for consideration in @Wonkhe: #enterpriseeducation in #highered \n",
            "\n",
            "https://t.co/nZ5TjFgEAU\n",
            "\n",
            "@EEUK @QAAtweets\n",
            "@BBCNews An absolutely disastrous idea. What 'good' can possibly come out of this except more lockdowns, more 'cases' and more disruption to education. All mass testing must end now #pcrpandemic #falsepositives #COVID19\n",
            "#COVID19 intensified inequalities for world’s one billion people with #disabilities; healthcare, access to information, employment, women's rights, access to education etc. #EUdisability\n",
            "\n",
            "We need to do better and work harder to #RecoverBetter https://t.co/eB8FzUVsuY https://t.co/t3e5SEE3N3\n",
            "Have you been identified as clinically extremely vulnerable? \n",
            "\n",
            "New government #COVID19 guidelines which include: socialising inside and outside the home, work, education, travel, going to shops and pharmacies &gt; https://t.co/G4fW5rzaat\n",
            "#shielding #staysafe https://t.co/evXV9AM5mS\n",
            "Join us TONIGHT to debate whether or not the focus of schools being COVID safe is distracting us all from what really matters. \n",
            "\n",
            "Be part of the discussion and share your views and opinions.\n",
            "\n",
            "Register your attendance now: https://t.co/ymK2piBAq5\n",
            "\n",
            "#education\n",
            "#COVID19\n",
            "#wellbeing https://t.co/qkOms131cX\n",
            "Asymptomatic #COVID19 testing identifies very, very low numbers of positive cases in University students.\n",
            "\n",
            "https://t.co/gXucqe10Zb\n",
            "For the most disadvantaged children, the Govt cut school laptop allocations by 80% depriving many of access to education. Yet schools had a #COVID19 legal duty to provide remote education!\n",
            "\n",
            "Govt have now done a U-turn following questions from me &amp; others\n",
            "https://t.co/PgmQvn5Fbu https://t.co/uyIstRnNwI\n",
            "\"Maintaining a great level of engagement has never been so pressing for education providers... compared with pre-COVID levels, more than 52% of education institutes said they’re sending more messages to their communities.\"\n",
            "\n",
            "#Education #Communication #COVID19 https://t.co/qyTjNUPCNj\n",
            "Great post by @Downes who takes us into the future of #education, and draws \"lessons from the future\". \n",
            "\"As we enter the 2040s the school remains the centre of education and development in the community. We should have expected no other outcome.\" #COVID19\n",
            "https://t.co/rbqDoShQpM\n",
            "Slovenian Safer Internet Centre (SIC) @Safe_si has just released some recommendations for safe remote teaching and learning in times of #COVID19, both for parents and for education professionals. Discover them at https://t.co/CvzoYlubyD https://t.co/P9idlTywws\n",
            "With COVID-19, we have seen an increase in distance learning. Is distance education better? https://t.co/OwxDXBwo4W #distancelearning #acsdistanceeducation #coursesonline #course #trainingcourses #training #COVID19 #education https://t.co/e39YYc1Phe\n",
            "1/ Really important reporting from @FT\n",
            "\n",
            "Despite its severity, the impact of #COVID19 on education in low- and middle-income countries remains far less visible than in countries like the UK\n",
            "\n",
            "Thanks to @AJack for giving this much-needed space and attention: https://t.co/whH9FOEFtR\n",
            "Are you bridging the gap of opportunity in supporting parent engagement in education?  \n",
            "\n",
            "Have you witnessed parent anxiety levels rising due to #Covid19 and would you like some help in rebuilding parent confidence? \n",
            "\n",
            "If so, please connect with me here   https://t.co/QqQ0EYaTXx https://t.co/ohCSaSsUkj\n",
            "Impact of #Covid19 on #fundraising\n",
            "and the need for Universities to expand their reach could reset how they carry their social mission #higherEd \n",
            "\n",
            " https://t.co/OEmwvPheS9\n",
            "v/ @C_Cripps\n",
            "Thank you to @solentuni &amp; @SmallBizCharter for providing practical expertise, support &amp; timely training to help business leaders combat #COVID19 and plan for economic recovery @SUS_Business @_indiagroup \n",
            "#Resilience #Agility #Education #Innovation #GlobalBritain #Southampton https://t.co/gSU8xnfjVM\n",
            "#conferenceseries #Nursing #COVID19 #Neonatal #Perinatal #Nursing #education #NURSING_EDUCATION_2021 #September #webinar \n",
            "E-mail: nursing.education@gmail.com https://t.co/hlvGUrAIaV\n",
            "NEW: Finances at England’s universities and other higher education providers largely remain sound despite the early impact of the pandemic, according to new analysis published today: https://t.co/2sB8FLPNRt\n",
            "\n",
            "Report: https://t.co/QiR57e09M6\n",
            "\n",
            "#finance #university #college #COVID19 https://t.co/atWTOFUkTN\n",
            "Good thing that Primary school teachers are immune to #COVID19 , no need to close primary schools early. But can't see family because they won't have isolated for long enough. #education #torfaen #CloseTheSchoolsNow #Isolation @torfaencouncil #teacherlife #christmasisolation https://t.co/anE5DtcQWr\n",
            "The power of #fakenews Education and awareness is vital from relevant and reliable sources #COVID19 #COVID19Vaccine https://t.co/i7Dj5R5LEl\n",
            "Are you bridging the gap of opportunity in supporting parent engagement in education?  Have you witnessed parent anxiety levels rising due to #Covid19 and would you like some help in rebuilding parent confidence? If so, please connect with me @TheEdPeople https://t.co/QqQ0EYaTXx\n",
            "The government placed a duty upon schools to provide remote education for pupils missing school due to #COVID19 then slashed access to laptops affecting the most disadvantaged.\n",
            "\n",
            "I’m pleased common sense prevailed and allocations are now restored. \n",
            "\n",
            "This 👇🏽 https://t.co/hnHWZFDYY0\n",
            "Join us TOMORROW to debate whether or not the focus of schools being COVID safe is distracting us all from what really matters?\n",
            "\n",
            "Be part of the discussion and share your views and opinions.\n",
            "\n",
            "Register your attendance now: https://t.co/ymK2piBAq5\n",
            "\n",
            "#education\n",
            "#COVID19\n",
            "#wellbeing https://t.co/HaQlExyb6h\n",
            "All secondary schools in Wales to shut next week and move online https://t.co/FYaoWaV3jU #covid19\n",
            "Thk you very much Svetlana! We feel privileged to have your contribution! \n",
            "\n",
            "What an opportunity #WorldEdSummit provides for celebrating the life &amp; works of @SirKenRobinson ..but also the #creativity educators across the world have shown during #COVID19!\n",
            "\n",
            "https://t.co/LnzWnln3Sp https://t.co/pn5s7AzRlu\n",
            "@Tweeteretta Thk you very much Svetlana! We feel privileged to have your contribution! \n",
            "\n",
            "What an opportunity #WorldEdSummit provides for celebrating the life &amp; works of @SirKenRobinson ..but also the #creativity educators across the world have shown during #COVID19!  \n",
            "\n",
            "https://t.co/LnzWnln3Sp\n",
            "Welsh gov. have announced Secondary schools will remote learn from next Monday. Perfect idea! Shame England can't do that. Intrigued how they are going to do this mass testing...surely that means Secondary schools can't open if pupils getting tested? #COVID19 #school #education\n",
            "“We have to question why the plan is to mass test children, and there is apparently no consideration of moving to remote learning for the last week of term.” Our full response to plans to test secondary pupils in worst-hit #Covid areas https://t.co/IMh1HBii2Z #education #COVID19 https://t.co/nNxBAKjv8o\n",
            "@BBCNews @SkyNews I have no idea why the surge of cases in schools has come as a surprise to @PHE_uk &amp; @MattHancock... anyone who works in secondary education will tell them that pupils don't follow #SocialDistancing guidelines #schools #Covid19 #schoolsaresafe #secondaryschools\n",
            "We need greater global commitments to finance education to address the devastating &amp; long-term impact of #COVID19 on education, especially in lower-income countries. @TEACH4UG alumnus @OboreCharles shares his own experience in piece by @AJack via @FT https://t.co/FFanWF8gHS\n",
            "Why COVID Is India’s Chance To Use Artificial Intelligence , Tech – And Enter The Future https://t.co/BHAO2rVHeG #ai #ArtificialIntelligence #MachineLearning #DeepLearning #COVID19  #future #india https://t.co/nKZJeooAtO\n",
            "@Academicis – Congratulations to the Academicis team - Today we appointed another two seniors leaders - Well done team !\n",
            "\n",
            "Academicis - #education  #Covid19 #school #principals #educationrecruitment #Lockdown #Lockdown2 https://t.co/rLZZXSO5of\n",
            "Brilliant idea of closing schools and bringing in online learning. It’s the best way to stop the spread in younger adults and teenagers. #COVID19 #education COVID-19: Wales' secondary schools and colleges to move to online learning from Monday https://t.co/vSmx5LyKDo https://t.co/HTQ9vdoedH\n",
            "Breaking down the @ISM_music report highlighting the devastating impact of #COVID19 on #MusicEducation.\n",
            "\n",
            "✍️ Comment with details of your school to apply for a #free instrument cleaning kit. In association with @bbicolondon. 🧼 \n",
            "\n",
            "👉 https://t.co/sKeH2Y79Xp\n",
            "\n",
            "#MillersMusic https://t.co/3ALc6jq7jM\n",
            "The pandemic has put 1.6 billion children out of school. Here's how to upgrade #education after #Covid19 amelkarboul https://t.co/EwPudU0UDg https://t.co/oVwuAwMa9C\n",
            "My son dropped from expected level 7/8 for #GCSE to level 4/5 in all subjects due to not having had a proper #education since Mar. Online lessons aren't working; school now closed as not enough #Teachers\n",
            "\n",
            "We are robbing kids' future!\n",
            "\n",
            "What do I do now?\n",
            "\n",
            "#COVID19 @Ofstednews\n",
            "Have you been identified as clinically extremely vulnerable? \n",
            "\n",
            "New government #COVID19 guidelines from Wed 2 Dec which include: socialising inside and outside the home, work, education, travel, going to shops and pharmacies &gt; https://t.co/G4fW5rzaat\n",
            "#shielding #staysafe https://t.co/Ll6o7oqDG5\n",
            "#COVID19 has disrupted #education, affecting in particular for children with #disabilities. Let’s ensure the right to education, during and beyond the pandemic. Collaboration across sectors is essential! #SDG4. Read our report 👉👉 https://t.co/FRipv0PEL9 https://t.co/M6Ro1G6SZe\n",
            "#COVID19 cancelled your staff party? Become #XmasPartyHeroes for #Christmas2020 by donating your party fund to a charitable cause.  We’d love to have your support! https://t.co/QNln78tsjH https://t.co/vg7nkCn1sY\n",
            "The disproportionate impact of #Covid19 has shown us that holistic, tailored support for the most vulnerable is more important than ever.\n",
            "\n",
            "☑️ Housing is a human right\n",
            "☑️ Education is a human right\n",
            "☑️ Employment is a human right\n",
            "\n",
            "Read more: https://t.co/SYg9PAMOqO\n",
            "\n",
            "#HumanRightsDay https://t.co/qjOJ8OGzAz\n",
            "#Education is 🔑 to tackle entrenched, systematic &amp; intergenerational inequalities, exclusion &amp; discrimination. We must #UniteToProtect the right to education in the #COVID19 recovery process.\n",
            "\n",
            "#RecoverBetter. Together. #HumanRightsDay\n",
            "\n",
            "@EAA_Foundation @UNHumanRights @mbachelet https://t.co/t4oopffYyQ\n",
            "The Netherlands has pledged 1 million euros to support @SheDecidesGFI as the right to safe abortion is a human right. Read why #COVID19 makes this issue urgent https://t.co/xror3jKA66 #humanrights #WhyAbortionWhyNow https://t.co/8fYpEHmJLS\n",
            ".@ProfBambra:\"Seeing COVID19 as a syndemic pandemic helps us understand how it interacts with existing epidemics of #NCDs and inequalities. This interaction makes particular groups more vulnerable during the pandemic.\"\n",
            "\n",
            "-@UNESCOchairGH-@CHAIN_NTNU webinar on education &amp; #COVID19 https://t.co/BlYKfo894g\n",
            "In this week's View From the Desk, Pat Moores, Director of UK Education Guide, writes about ensuring mental wellbeing of #international #students and staff at boarding #schools during #Covid19.\n",
            "\n",
            "Read it here: https://t.co/Dz6QwEoIme https://t.co/LyYGGEDRxo\n",
            "The entire yr 9 at my daughter’s school in #Leeds  are off until 4 Jan - having had all week off.\n",
            "\n",
            "Very worrying that only 4 students attended the Teams Spanish class that she was just on despite every child having a school iPad.   #education #COVID19\n",
            "Dismayed and disappointed by the move by @pearson to reduce DRM limit from 5% print, copy and paste to 0% on the @ProQuest Ebook Central Platform. Must be part of the 'heartfelt thank you' to education cited in Pearson global response to #COVID19 perhaps? https://t.co/gQOOtqJRDj\n",
            "#Acupuncture can help restore #olfaction. Loss of or change to smell and taste is on the NHS list of #COVID19 symptoms. https://t.co/YSiWx8U0cI via @acupunctureCEUs https://t.co/Z6mUsopIfc\n",
            "\". . . libraries don’t just provide books, but also serve as a solution for unemployment, an antidote for mental health crises, and a respite from the rat race of life.\" https://t.co/QMlwTzeTPk \n",
            "\n",
            "@navneetgidda @centreforlondon #LibrariesMatter #Covid19 #LivingStandards #Education\n",
            "@_MyUniChoices Schools in England can close for Christmas a day early... \n",
            "\n",
            "Schools are looking for the best way to operate as we get closer to Christmas to give teachers a break and allow six clear days before Christmas Eve. \n",
            "\n",
            "https://t.co/0ACynizYYL\n",
            "\n",
            "#education\n",
            "#Covid19\n",
            "Schools in England can close for Christmas a day early... \n",
            "\n",
            "Schools are looking for the best way to operate as we get closer to Christmas to give teachers a break and allow six clear days before Christmas Eve. \n",
            "\n",
            "https://t.co/0ACynizYYL\n",
            "\n",
            "#education\n",
            "#Covid19\n",
            "#MyCareerChoices https://t.co/0hKqbUcdsb\n",
            "Our #COVID19 research featured in Times Higher Education, highlighting the importance of funding extension and coping mechanisms in lowering the depression levels of PhD students. Thanks to our participants!\n",
            "#phdchat #AcademicChatter #highered\n",
            "#Wellbeing @OpenUniversity\n",
            " @IETatOU https://t.co/WVo6758zM9\n",
            "Have you been identified as clinically extremely vulnerable? \n",
            "\n",
            "New government #COVID19 guidelines include: socialising inside and outside the home, work, education, travel, going to shops and pharmacies &gt; https://t.co/JvQaFjnzSq\n",
            "#shielding #staysafe https://t.co/r0yMyXjqCk\n",
            "For decades, gaps have been growing within &amp; between countries in access to health, education and opportunity.\n",
            "\n",
            "#COVID19 is exacerbating these injustices. We must prioritize the most marginalized in the pandemic response to build a more equitable future. #HealthForAll\n",
            "On 10-11 Dec,🔴tune in LIVE for the 🇪🇺 @etfeuropa discussion on #education &amp; employment priorities for post-#COVID19 recovery 👉 https://t.co/rYCFJSh0Ua \n",
            "#EU4Youth #StrongerTogether @ilo @EBRD @UNIDO @UNICEF https://t.co/mqUH9pbQVD\n",
            "Our (very timely) research features in Times Higher Education today - \n",
            "\n",
            "Big thanks to our research participants across 94 UK #Universities, and to @jgro_the. \n",
            "\n",
            "#phdchat #phdlife #ECRs \n",
            "#Wellbeing #MentalHealthAwareness \n",
            "#research \n",
            "#researchpolicy\n",
            "#HigherEducation \n",
            "#COVID19 https://t.co/RbWJlpXjma\n",
            "This 👇\n",
            "\n",
            "More than half of students polled report mental health slump https://t.co/ntaJP3Tmfl #students #mentalhealth #COVID19\n",
            "School closures during #covid19 pandemic affected nearly 90% of students enrolled globally, forcing #education industry to rethink its strategy towards #digitisation. Read report&gt; https://t.co/nDImxeQTF6 (Sponsored by: @Huawei) https://t.co/kHBbBWyKWQ\n",
            "Lessons learned from #COVID19 according to @GabrielMariya 1⃣Large disparities exist in Europe when it comes to digital technologies 2⃣We need a strategic approach to digital education 3⃣Importance of working together at EU level to help each other #EduSummitEU https://t.co/81Oz1HCQ1w\n",
            "Join us for a conversation about what the pandemic has revealed and how relationships and data help address equity gaps and mitigate learning challenges now and in the future. #COVID19 #education #equitygap https://t.co/kEK0nlKEr6\n"
          ]
        }
      ],
      "source": [
        "tweets_searched = tweepy.Cursor(api.search, q=\"#covid19 education -filter:nativeretweets -public \",  # query string\n",
        "                                 # latitude, longitude, radius (these values in this case correspond to London, the UK)\n",
        "                                lang=\"en\",\n",
        "                                count=100, # tweet per page\n",
        "                                tweet_mode=\"extended\",\n",
        "                                geocode=\"51.5026784,-0.1167149,500km\").items(100) # English\n",
        "\n",
        "tweets_json = []\n",
        "\n",
        "for result_tweet in tweets_searched:\n",
        "    # result_tweet is a Status object\n",
        "    print(result_tweet.full_text)\n",
        "\n",
        "    tweets_json.append(result_tweet._json)"
      ]
    },
    {
      "cell_type": "markdown",
      "metadata": {
        "id": "APppgQqYfpME"
      },
      "source": [
        "After Json is created, we have selected the attributes we want below. These attributes will contain specific patterns that we will use when analyzing. We took the attributes in the tweet using objects. As an example, we used tweet [\"favorite_count\"] to get the favorite numbers in the tweet. And we created them below for all attributes."
      ]
    },
    {
      "cell_type": "code",
      "execution_count": null,
      "metadata": {
        "id": "0UywfJ9bfpMF"
      },
      "outputs": [],
      "source": [
        "# # Saving it in a JSON file\n",
        "with open(\"tweets.UK.json\", 'w', encoding=\"UTF-8\") as outfile:\n",
        "    # You can remove the indent parameter to make it more compact.\n",
        "    json.dump(tweets_json, outfile, ensure_ascii=False, indent=4)"
      ]
    },
    {
      "cell_type": "code",
      "execution_count": null,
      "metadata": {
        "id": "S54JfftgfpMF",
        "outputId": "7f98557b-4d27-425b-b379-b161dad3c1bb"
      },
      "outputs": [],
      "source": [
        "with open(\"tweets.UK.json\", 'r', encoding=\"UTF-8\") as file:\n",
        "    tweets_json = json.load(file)\n",
        "\n",
        "# print(tweets_json)"
      ]
    },
    {
      "cell_type": "code",
      "execution_count": null,
      "metadata": {
        "id": "DtpMZMzmfpMF",
        "outputId": "9cca8534-7d86-46b7-b2ff-5001180f19e4"
      },
      "outputs": [
        {
          "name": "stdout",
          "output_type": "stream",
          "text": [
            "User handle: Parikiaki\n",
            "User name: Parikiaki Newspaper\n",
            "Date and time: Sun Dec 13 21:40:21 +0000 2020\n",
            "UNIX timestamp from date: 1607895621\n",
            "Tweet: A total of 1,921 students absent from school on December 11 due to COVID-19, Cyprus Education Ministry says\n",
            "https://t.co/Tl9SA8j9AI #Cypriotstudents\n",
            "#Cyprus #coronavirus #covid19  #Cypruscoronavirus #covid19tests #Cyprusairports  #Cypruslockdownmeasures  #covid19vaccineCyprus https://t.co/5nmBjDHCjw\n",
            "Hashtags: [{'text': 'Cypriotstudents', 'indices': [132, 148]}, {'text': 'Cyprus', 'indices': [149, 156]}, {'text': 'coronavirus', 'indices': [157, 169]}, {'text': 'covid19', 'indices': [170, 178]}, {'text': 'Cypruscoronavirus', 'indices': [180, 198]}, {'text': 'covid19tests', 'indices': [199, 212]}, {'text': 'Cyprusairports', 'indices': [213, 228]}, {'text': 'Cypruslockdownmeasures', 'indices': [230, 253]}, {'text': 'covid19vaccineCyprus', 'indices': [255, 276]}]\n",
            "Unique hashtags: {'coronavirus', 'Cyprus', 'Cypruscoronavirus', 'covid19', 'Cypriotstudents', 'Cypruslockdownmeasures', 'covid19tests', 'covid19vaccineCyprus', 'Cyprusairports'}\n",
            "Favorite count: 0\n",
            "Retweet count: 0\n",
            "Source: <a href=\"http://twitter.com/download/android\" rel=\"nofollow\">Twitter for Android</a>\n",
            "User handle: darkavenger12a\n",
            "User name: darkavenger\n",
            "Date and time: Sun Dec 13 19:52:18 +0000 2020\n",
            "UNIX timestamp from date: 1607889138\n",
            "Tweet: Royal Borough of Greenwich schools to close from Monday as Covid-19 cases rise | #tier3 #london #CovidChristmas #covid19 @gmb @bbc5live  https://t.co/JPci8kMzHK\n",
            "Hashtags: [{'text': 'tier3', 'indices': [81, 87]}, {'text': 'london', 'indices': [88, 95]}, {'text': 'CovidChristmas', 'indices': [96, 111]}, {'text': 'covid19', 'indices': [112, 120]}]\n",
            "Unique hashtags: {'tier3', 'covid19', 'CovidChristmas', 'london'}\n",
            "Favorite count: 0\n",
            "Retweet count: 0\n",
            "Source: <a href=\"http://twitter.com/#!/download/ipad\" rel=\"nofollow\">Twitter for iPad</a>\n",
            "User handle: WestYorksOPCC\n",
            "User name: West Yorkshire's Police and Crime Commissioner\n",
            "Date and time: Sun Dec 13 18:45:00 +0000 2020\n",
            "UNIX timestamp from date: 1607885100\n",
            "Tweet: News: Education inclusion focus of groundbreaking study to tackle violent crime\n",
            "\n",
            "The @wy_vru has partnered with @CrestAdvisory to explore patterns, trends and contributory factors, with a special attention paid to the #COVID19 period\n",
            "\n",
            "Read more: https://t.co/Q7nigoITXr https://t.co/eokfGz5U2l\n",
            "Hashtags: [{'text': 'COVID19', 'indices': [218, 226]}]\n",
            "Unique hashtags: {'COVID19'}\n",
            "Favorite count: 1\n",
            "Retweet count: 0\n",
            "Source: <a href=\"https://about.twitter.com/products/tweetdeck\" rel=\"nofollow\">TweetDeck</a>\n",
            "User handle: Poeticjazztice\n",
            "User name: Junior Campbell\n",
            "Date and time: Sun Dec 13 18:40:42 +0000 2020\n",
            "UNIX timestamp from date: 1607884842\n",
            "Tweet: Her words resonate with me because of the #COVID19 related study of heart-based, unwritten New Covenant centered, \"battle of the sexes\" based education that I'm pursuing here: https://t.co/Yy026IQtgJ . (2\n",
            "Hashtags: [{'text': 'COVID19', 'indices': [42, 50]}]\n",
            "Unique hashtags: {'COVID19'}\n",
            "Favorite count: 0\n",
            "Retweet count: 0\n",
            "Source: <a href=\"https://mobile.twitter.com\" rel=\"nofollow\">Twitter Web App</a>\n",
            "User handle: playinwild\n",
            "User name: Jo Phillips🌎\n",
            "Date and time: Sun Dec 13 18:21:30 +0000 2020\n",
            "UNIX timestamp from date: 1607883690\n",
            "Tweet: @EcoUrbanRanger @TheGreenParty @natalieben @BBCPM @NaturePremium1 There's been so much reflection in the world of business &amp; industry post #COVID19 but there appears to no such desire for change in respect of education. There is much opportunity to reset &amp; @_TeachtheFuture Literally what it says on the tin! Teach the future - Change the Future\n",
            "Hashtags: [{'text': 'COVID19', 'indices': [143, 151]}]\n",
            "Unique hashtags: {'COVID19'}\n",
            "Favorite count: 0\n",
            "Retweet count: 0\n",
            "Source: <a href=\"http://twitter.com/download/android\" rel=\"nofollow\">Twitter for Android</a>\n",
            "User handle: m_lorek\n",
            "User name: Michael R. Lorek\n",
            "Date and time: Sun Dec 13 15:23:01 +0000 2020\n",
            "UNIX timestamp from date: 1607872981\n",
            "Tweet: Keeping schools during a pandemic open is just irresponsible! ☣️\n",
            "https://t.co/n8M7q5ng2w #Covid19 #education\n",
            "Hashtags: [{'text': 'Covid19', 'indices': [89, 97]}, {'text': 'education', 'indices': [98, 108]}]\n",
            "Unique hashtags: {'education', 'Covid19'}\n",
            "Favorite count: 3\n",
            "Retweet count: 0\n",
            "Source: <a href=\"http://twitter.com/download/iphone\" rel=\"nofollow\">Twitter for iPhone</a>\n",
            "User handle: GiveyHQ\n",
            "User name: Givey\n",
            "Date and time: Sun Dec 13 14:10:26 +0000 2020\n",
            "UNIX timestamp from date: 1607868626\n",
            "Tweet: Welcome @UgandaCancer  who are raising funds on Givey!\n",
            "\n",
            "https://t.co/xF2q9o7mQX\n",
            "\n",
            "#Givey #community #donations #fundraising #giving #goodcauses #mentalhealth #education #foodbanks #COVID19 #HealthcareHeroes #animals #environmental #uganda #cancer https://t.co/NpZyQfOOWG\n",
            "Hashtags: [{'text': 'Givey', 'indices': [81, 87]}, {'text': 'community', 'indices': [88, 98]}, {'text': 'donations', 'indices': [99, 109]}, {'text': 'fundraising', 'indices': [110, 122]}, {'text': 'giving', 'indices': [123, 130]}, {'text': 'goodcauses', 'indices': [131, 142]}, {'text': 'mentalhealth', 'indices': [143, 156]}, {'text': 'education', 'indices': [157, 167]}, {'text': 'foodbanks', 'indices': [168, 178]}, {'text': 'COVID19', 'indices': [179, 187]}, {'text': 'HealthcareHeroes', 'indices': [188, 205]}, {'text': 'animals', 'indices': [206, 214]}, {'text': 'environmental', 'indices': [215, 229]}, {'text': 'uganda', 'indices': [230, 237]}, {'text': 'cancer', 'indices': [238, 245]}]\n",
            "Unique hashtags: {'foodbanks', 'community', 'fundraising', 'education', 'goodcauses', 'uganda', 'cancer', 'COVID19', 'Givey', 'mentalhealth', 'environmental', 'giving', 'animals', 'HealthcareHeroes', 'donations'}\n",
            "Favorite count: 0\n",
            "Retweet count: 0\n",
            "Source: <a href=\"https://coschedule.com\" rel=\"nofollow\">CoSchedule</a>\n",
            "User handle: ApolloComms\n",
            "User name: Apollo Strategic Communications\n",
            "Date and time: Sun Dec 13 12:35:00 +0000 2020\n",
            "UNIX timestamp from date: 1607862900\n",
            "Tweet: .@TeacherPrize Covid Hero award winner @DrFrostMaths spoke to leading education publication @tes about the importance of celebrating the contributions of teachers during the #COVID19 pandemic. https://t.co/ndp942sEIB\n",
            "Hashtags: [{'text': 'COVID19', 'indices': [174, 182]}]\n",
            "Unique hashtags: {'COVID19'}\n",
            "Favorite count: 2\n",
            "Retweet count: 0\n",
            "Source: <a href=\"https://mobile.twitter.com\" rel=\"nofollow\">Twitter Web App</a>\n",
            "User handle: oluskayacan\n",
            "User name: Olus KAYACAN\n",
            "Date and time: Sun Dec 13 12:25:10 +0000 2020\n",
            "UNIX timestamp from date: 1607862310\n",
            "Tweet: RT @andi_staub: The Effect of #Gamification Elements on #MOOCs\n",
            "\n",
            "#education #COVID19 #behavioraleconomics #fintech @ipfconline1 @floriansemle @AntonioSelas @mvollmer1 @jblefevre60 @Damien_CABADI @guzmand @Ronald_vanLoon @helene_wpli @YuHelenYu @luc_schuur… https://t.co/x61IqErewg\n",
            "Hashtags: [{'text': 'Gamification', 'indices': [30, 43]}, {'text': 'MOOCs', 'indices': [56, 62]}, {'text': 'education', 'indices': [64, 74]}, {'text': 'COVID19', 'indices': [75, 83]}, {'text': 'behavioraleconomics', 'indices': [84, 104]}, {'text': 'fintech', 'indices': [105, 113]}]\n",
            "Unique hashtags: {'education', 'MOOCs', 'COVID19', 'behavioraleconomics', 'Gamification', 'fintech'}\n",
            "Favorite count: 2\n",
            "Retweet count: 0\n",
            "Source: <a href=\"https://ifttt.com\" rel=\"nofollow\">IFTTT</a>\n",
            "User handle: nigewillson\n",
            "User name: Nige Willson\n",
            "Date and time: Sun Dec 13 12:25:02 +0000 2020\n",
            "UNIX timestamp from date: 1607862302\n",
            "Tweet: Why COVID Is India’s Chance To Use Artificial Intelligence , Tech – And Enter The Future https://t.co/BHAO2rVHeG #ai #ArtificialIntelligence #MachineLearning #DeepLearning #COVID19  #future #india https://t.co/t0FewosjJW\n",
            "Hashtags: [{'text': 'ai', 'indices': [113, 116]}, {'text': 'ArtificialIntelligence', 'indices': [117, 140]}, {'text': 'MachineLearning', 'indices': [141, 157]}, {'text': 'DeepLearning', 'indices': [158, 171]}, {'text': 'COVID19', 'indices': [172, 180]}, {'text': 'future', 'indices': [182, 189]}, {'text': 'india', 'indices': [190, 196]}]\n",
            "Unique hashtags: {'ArtificialIntelligence', 'india', 'ai', 'MachineLearning', 'future', 'COVID19', 'DeepLearning'}\n",
            "Favorite count: 0\n",
            "Retweet count: 0\n",
            "Source: <a href=\"https://buffer.com\" rel=\"nofollow\">Buffer</a>\n",
            "User handle: wildeemma5\n",
            "User name: Emma Clayton\n",
            "Date and time: Sun Dec 13 10:40:24 +0000 2020\n",
            "UNIX timestamp from date: 1607856024\n",
            "Tweet: Essential Oral Care Training for individuals to participate.\n",
            "Ideal for Speech and Language Therapists, Hospice nurses, Doctors, Dental Care Professionals\n",
            "\n",
            "12th January - 19 spaces left\n",
            "\n",
            "#SLTchat #slt #education #COVID19 #healthcare #doctors #NurseLife #palliative #dementia #carer https://t.co/ceLkjxbql7\n",
            "Hashtags: [{'text': 'SLTchat', 'indices': [186, 194]}, {'text': 'slt', 'indices': [195, 199]}, {'text': 'education', 'indices': [200, 210]}, {'text': 'COVID19', 'indices': [211, 219]}, {'text': 'healthcare', 'indices': [220, 231]}, {'text': 'doctors', 'indices': [232, 240]}, {'text': 'NurseLife', 'indices': [241, 251]}, {'text': 'palliative', 'indices': [252, 263]}, {'text': 'dementia', 'indices': [264, 273]}, {'text': 'carer', 'indices': [274, 280]}]\n",
            "Unique hashtags: {'SLTchat', 'palliative', 'slt', 'education', 'dementia', 'doctors', 'NurseLife', 'COVID19', 'carer', 'healthcare'}\n",
            "Favorite count: 0\n",
            "Retweet count: 0\n",
            "Source: <a href=\"http://twitter.com/download/android\" rel=\"nofollow\">Twitter for Android</a>\n",
            "User handle: KOHCltd\n",
            "User name: Knowledge Oral Health Care\n",
            "Date and time: Sun Dec 13 10:39:29 +0000 2020\n",
            "UNIX timestamp from date: 1607855969\n",
            "Tweet: Essential Oral Care Training for individuals to participate.\n",
            "Ideal for Speech and Language Therapists, Hospice nurses, Doctors, Dental Care Professionals\n",
            "\n",
            "12th January - 19 spaces left\n",
            "\n",
            "#SLTchat #slt #education #COVID19 #healthcare #doctors #NurseLife #palliative #dementia #carer https://t.co/7nF0GsTn08\n",
            "Hashtags: [{'text': 'SLTchat', 'indices': [186, 194]}, {'text': 'slt', 'indices': [195, 199]}, {'text': 'education', 'indices': [200, 210]}, {'text': 'COVID19', 'indices': [211, 219]}, {'text': 'healthcare', 'indices': [220, 231]}, {'text': 'doctors', 'indices': [232, 240]}, {'text': 'NurseLife', 'indices': [241, 251]}, {'text': 'palliative', 'indices': [252, 263]}, {'text': 'dementia', 'indices': [264, 273]}, {'text': 'carer', 'indices': [274, 280]}]\n",
            "Unique hashtags: {'SLTchat', 'palliative', 'slt', 'education', 'dementia', 'doctors', 'NurseLife', 'COVID19', 'carer', 'healthcare'}\n",
            "Favorite count: 0\n",
            "Retweet count: 0\n",
            "Source: <a href=\"http://twitter.com/download/android\" rel=\"nofollow\">Twitter for Android</a>\n",
            "User handle: TreeTop_Therapy\n",
            "User name: Tree Tops OT\n",
            "Date and time: Sun Dec 13 09:17:55 +0000 2020\n",
            "UNIX timestamp from date: 1607851075\n",
            "Tweet: #TipOfTheWeek\n",
            "\n",
            "What is heavy work and how can it help your child?  Find out more!\n",
            "\n",
            "#sensoryintegration  #education  #SEND  #heavywork #proprioception  #christmasiscoming  #schools #covid19 https://t.co/TOjLIi0FP8\n",
            "Hashtags: [{'text': 'TipOfTheWeek', 'indices': [0, 13]}, {'text': 'sensoryintegration', 'indices': [83, 102]}, {'text': 'education', 'indices': [104, 114]}, {'text': 'SEND', 'indices': [116, 121]}, {'text': 'heavywork', 'indices': [123, 133]}, {'text': 'proprioception', 'indices': [134, 149]}, {'text': 'christmasiscoming', 'indices': [151, 169]}, {'text': 'schools', 'indices': [171, 179]}, {'text': 'covid19', 'indices': [180, 188]}]\n",
            "Unique hashtags: {'christmasiscoming', 'heavywork', 'TipOfTheWeek', 'education', 'SEND', 'covid19', 'proprioception', 'schools', 'sensoryintegration'}\n",
            "Favorite count: 1\n",
            "Retweet count: 0\n",
            "Source: <a href=\"http://twitter.com/download/android\" rel=\"nofollow\">Twitter for Android</a>\n",
            "User handle: lee_wilkinson2\n",
            "User name: Lee Wilkinson\n",
            "Date and time: Sun Dec 13 08:05:03 +0000 2020\n",
            "UNIX timestamp from date: 1607846703\n",
            "Tweet: Lockdown loneliness reaches record levels! #Covid19 is really bad but I do worry about longer term impact on #mentalhealth - it's a difficult balance to get right #Loneliness https://t.co/Wi4vUkeSJm https://t.co/QBhw8gkfNf\n",
            "Hashtags: [{'text': 'Covid19', 'indices': [43, 51]}, {'text': 'mentalhealth', 'indices': [109, 122]}, {'text': 'Loneliness', 'indices': [163, 174]}]\n",
            "Unique hashtags: {'Covid19', 'Loneliness', 'mentalhealth'}\n",
            "Favorite count: 3\n",
            "Retweet count: 0\n",
            "Source: <a href=\"https://www.hootsuite.com\" rel=\"nofollow\">Hootsuite Inc.</a>\n",
            "User handle: long_recovery\n",
            "User name: Long Covid Kids\n",
            "Date and time: Sat Dec 12 19:23:06 +0000 2020\n",
            "UNIX timestamp from date: 1607800986\n",
            "Tweet: Updated statistics 😔\n",
            "#LongCovid #coronavirus #COVID19 #Statistics #schools #education #teachers \n",
            "\n",
            "https://t.co/reSZx52E8a\n",
            "Hashtags: [{'text': 'LongCovid', 'indices': [21, 31]}, {'text': 'coronavirus', 'indices': [32, 44]}, {'text': 'COVID19', 'indices': [45, 53]}, {'text': 'Statistics', 'indices': [54, 65]}, {'text': 'schools', 'indices': [66, 74]}, {'text': 'education', 'indices': [75, 85]}, {'text': 'teachers', 'indices': [86, 95]}]\n",
            "Unique hashtags: {'teachers', 'coronavirus', 'education', 'LongCovid', 'Statistics', 'COVID19', 'schools'}\n",
            "Favorite count: 7\n",
            "Retweet count: 6\n",
            "Source: <a href=\"https://mobile.twitter.com\" rel=\"nofollow\">Twitter Web App</a>\n",
            "User handle: PinkfrogDesign\n",
            "User name: Lisa Webb\n",
            "Date and time: Sat Dec 12 18:05:00 +0000 2020\n",
            "UNIX timestamp from date: 1607796300\n",
            "Tweet: @educationgovuk Both kids (London secondary school) sent home to isolate. The eldest has several friends who have tested positive in the last week and numerous teachers. Your advice comes from an ivory tower. #education #COVID19\n",
            "Hashtags: [{'text': 'education', 'indices': [209, 219]}, {'text': 'COVID19', 'indices': [220, 228]}]\n",
            "Unique hashtags: {'education', 'COVID19'}\n",
            "Favorite count: 0\n",
            "Retweet count: 0\n",
            "Source: <a href=\"https://mobile.twitter.com\" rel=\"nofollow\">Twitter Web App</a>\n",
            "User handle: CedawPT\n",
            "User name: CEDAWPeople’sTribunal\n",
            "Date and time: Sat Dec 12 17:05:45 +0000 2020\n",
            "UNIX timestamp from date: 1607792745\n",
            "Tweet: #COVID19 chores could set women’s equality back by 25 years. Employment &amp; education opportunities are being lost putting women at a disadvantage. \n",
            "\n",
            "#CEDAW is key to empower women &amp; to ensure increasing gender equality is not wiped out. \n",
            "#womenempowerment \n",
            "\n",
            "https://t.co/wuJVPpHBjp https://t.co/Y3G9P64gPX\n",
            "Hashtags: [{'text': 'COVID19', 'indices': [0, 8]}, {'text': 'CEDAW', 'indices': [152, 158]}, {'text': 'womenempowerment', 'indices': [245, 262]}]\n",
            "Unique hashtags: {'COVID19', 'CEDAW', 'womenempowerment'}\n",
            "Favorite count: 18\n",
            "Retweet count: 17\n",
            "Source: <a href=\"http://twitter.com/download/iphone\" rel=\"nofollow\">Twitter for iPhone</a>\n",
            "User handle: postpolionews\n",
            "User name: Post-Polio News (ppn)\n",
            "Date and time: Sat Dec 12 16:33:48 +0000 2020\n",
            "UNIX timestamp from date: 1607790828\n",
            "Tweet: Daniel Griffin provides his weekly clinical report on #COVID19, including the anticipated #EUA for the #Pfizer mRNA vaccine, mitigation strategies in early care and education settings, expressive #aphasia, and much more. https://t.co/ylIxJwn6kC\n",
            "Hashtags: [{'text': 'COVID19', 'indices': [54, 62]}, {'text': 'EUA', 'indices': [90, 94]}, {'text': 'Pfizer', 'indices': [103, 110]}, {'text': 'aphasia', 'indices': [196, 204]}]\n",
            "Unique hashtags: {'aphasia', 'EUA', 'COVID19', 'Pfizer'}\n",
            "Favorite count: 0\n",
            "Retweet count: 0\n",
            "Source: <a href=\"https://buffer.com\" rel=\"nofollow\">Buffer</a>\n",
            "User handle: RESCUE_UK\n",
            "User name: International Rescue Committee - UK\n",
            "Date and time: Sat Dec 12 15:23:00 +0000 2020\n",
            "UNIX timestamp from date: 1607786580\n",
            "Tweet: For many children across the world, lockdowns have meant schools have been shut &amp; education put on hold.\n",
            "\n",
            "The IRC &amp; @SesameWorkshop have been reaching refugee children with education during the #COVID19 pandemic &amp; beyond. Read how: https://t.co/5qqLkAhPW0\n",
            "Hashtags: [{'text': 'COVID19', 'indices': [202, 210]}]\n",
            "Unique hashtags: {'COVID19'}\n",
            "Favorite count: 0\n",
            "Retweet count: 0\n",
            "Source: <a href=\"https://sproutsocial.com\" rel=\"nofollow\">Sprout Social</a>\n",
            "User handle: mpsmoreau\n",
            "User name: Marie-Pierre Moreau\n",
            "Date and time: Sat Dec 12 13:58:10 +0000 2020\n",
            "UNIX timestamp from date: 1607781490\n",
            "Tweet: Interesting-this backs findings from current UK/US research with Sarah Robert @SUNY on teachers’ working conditions and policy discourses under #COVID19  and points to an authoritarian policy turn in edu. policies. Thanks @DonnaLFerguson @ObserverUK \n",
            "  https://t.co/ULCy3tC08p\n",
            "Hashtags: [{'text': 'COVID19', 'indices': [144, 152]}]\n",
            "Unique hashtags: {'COVID19'}\n",
            "Favorite count: 1\n",
            "Retweet count: 1\n",
            "Source: <a href=\"https://mobile.twitter.com\" rel=\"nofollow\">Twitter Web App</a>\n",
            "User handle: SeedMalawi\n",
            "User name: SEEDMalawi\n",
            "Date and time: Sat Dec 12 12:50:00 +0000 2020\n",
            "UNIX timestamp from date: 1607777400\n",
            "Tweet: Nearly 224 million children are out of school worldwide due to school closures linked to the coronavirus pandemic. #education #COVID19\n",
            "Hashtags: [{'text': 'education', 'indices': [115, 125]}, {'text': 'COVID19', 'indices': [126, 134]}]\n",
            "Unique hashtags: {'education', 'COVID19'}\n",
            "Favorite count: 0\n",
            "Retweet count: 0\n",
            "Source: <a href=\"https://mobile.twitter.com\" rel=\"nofollow\">Twitter Web App</a>\n",
            "User handle: emskiUK\n",
            "User name: Emma Harris\n",
            "Date and time: Sat Dec 12 11:48:13 +0000 2020\n",
            "UNIX timestamp from date: 1607773693\n",
            "Tweet: Unbeliveable @NickGibbUK! This government do nothing but kick #teachers when they are doing a brilliant job at managing schools and #COVID19 @Conservatives  https://t.co/xnML8UrRmt\n",
            "Hashtags: [{'text': 'teachers', 'indices': [62, 71]}, {'text': 'COVID19', 'indices': [132, 140]}]\n",
            "Unique hashtags: {'teachers', 'COVID19'}\n",
            "Favorite count: 0\n",
            "Retweet count: 0\n",
            "Source: <a href=\"http://twitter.com/download/android\" rel=\"nofollow\">Twitter for Android</a>\n",
            "User handle: blacksheeplad\n",
            "User name: BlackSheepLad\n",
            "Date and time: Sat Dec 12 11:19:30 +0000 2020\n",
            "UNIX timestamp from date: 1607771970\n",
            "Tweet: Nick Gibb is a moron. This is effectively telling Heads ‘make sure the virus keeps spreading right up till Christmas’ #COVID19 #Coviduk  https://t.co/A47qtKS2Lh\n",
            "Hashtags: [{'text': 'COVID19', 'indices': [118, 126]}, {'text': 'Coviduk', 'indices': [127, 135]}]\n",
            "Unique hashtags: {'COVID19', 'Coviduk'}\n",
            "Favorite count: 4\n",
            "Retweet count: 5\n",
            "Source: <a href=\"http://twitter.com/download/iphone\" rel=\"nofollow\">Twitter for iPhone</a>\n",
            "User handle: politicsastar\n",
            "User name: Ben Fuller\n",
            "Date and time: Sat Dec 12 10:47:22 +0000 2020\n",
            "UNIX timestamp from date: 1607770042\n",
            "Tweet: After a number of positive cases #Eton boys will be taught remotely, or sit internal exams at home, for the last three days of term\n",
            "#COVID19 #schools #education \n",
            "\n",
            "https://t.co/LSZcNRxu8I\n",
            "Hashtags: [{'text': 'Eton', 'indices': [33, 38]}, {'text': 'COVID19', 'indices': [132, 140]}, {'text': 'schools', 'indices': [141, 149]}, {'text': 'education', 'indices': [150, 160]}]\n",
            "Unique hashtags: {'Eton', 'COVID19', 'education', 'schools'}\n",
            "Favorite count: 0\n",
            "Retweet count: 0\n",
            "Source: <a href=\"http://twitter.com/download/iphone\" rel=\"nofollow\">Twitter for iPhone</a>\n",
            "User handle: BDifficile\n",
            "User name: Beth\n",
            "Date and time: Sat Dec 12 10:39:20 +0000 2020\n",
            "UNIX timestamp from date: 1607769560\n",
            "Tweet: Minister threatens headteacher over pre-Christmas online lessons &lt; This makes NO SENSE. Schools are trying to help govt deliver its own policy of allowing contact at Christmas. I just despair. These people are insane. #schools #Covid19 #Christmas  https://t.co/ax4Opk77xo\n",
            "Hashtags: [{'text': 'schools', 'indices': [221, 229]}, {'text': 'Covid19', 'indices': [230, 238]}, {'text': 'Christmas', 'indices': [239, 249]}]\n",
            "Unique hashtags: {'Covid19', 'Christmas', 'schools'}\n",
            "Favorite count: 1\n",
            "Retweet count: 0\n",
            "Source: <a href=\"http://twitter.com/download/iphone\" rel=\"nofollow\">Twitter for iPhone</a>\n",
            "User handle: StijnBLOT\n",
            "User name: Stijn BLOT\n",
            "Date and time: Sat Dec 12 10:11:26 +0000 2020\n",
            "UNIX timestamp from date: 1607767886\n",
            "Tweet: @ICNurses release call to give #health #education a prominent place in #COVID19 recovery plans. \n",
            "Read the press release 👉 https://t.co/NZaimkXfcv\n",
            "@RushNursingDean @RushMedical @kentnursing @acn_tweet @DaveOCWork @collegeofnurses @snc_shimla @JHUNursing @uccnursmid @UCVVGent https://t.co/E0DzLi4YD7\n",
            "Hashtags: [{'text': 'health', 'indices': [31, 38]}, {'text': 'education', 'indices': [39, 49]}, {'text': 'COVID19', 'indices': [71, 79]}]\n",
            "Unique hashtags: {'education', 'health', 'COVID19'}\n",
            "Favorite count: 0\n",
            "Retweet count: 1\n",
            "Source: <a href=\"https://mobile.twitter.com\" rel=\"nofollow\">Twitter Web App</a>\n",
            "User handle: allgreeny\n",
            "User name: Loveday green 3.5%\n",
            "Date and time: Sat Dec 12 09:44:23 +0000 2020\n",
            "UNIX timestamp from date: 1607766263\n",
            "Tweet: You’ve got to wonder what the real agenda is here #schoolsuk #schoolsarenotcovidsecure #COVID19 #toryshambles https://t.co/ZMnvVTQRlL\n",
            "Hashtags: [{'text': 'schoolsuk', 'indices': [50, 60]}, {'text': 'schoolsarenotcovidsecure', 'indices': [61, 86]}, {'text': 'COVID19', 'indices': [87, 95]}, {'text': 'toryshambles', 'indices': [96, 109]}]\n",
            "Unique hashtags: {'toryshambles', 'COVID19', 'schoolsuk', 'schoolsarenotcovidsecure'}\n",
            "Favorite count: 2\n",
            "Retweet count: 1\n",
            "Source: <a href=\"http://twitter.com/#!/download/ipad\" rel=\"nofollow\">Twitter for iPad</a>\n",
            "User handle: CathLowther\n",
            "User name: Dr Cath Lowther\n",
            "Date and time: Sat Dec 12 09:03:48 +0000 2020\n",
            "UNIX timestamp from date: 1607763828\n",
            "Tweet: 'Giving schools the flexibility to switch to remote learning for the final few days of term seems an obvious and straightforward solution.' Paul Whitehead\n",
            "\n",
            "#commonsense #COVID19\n",
            "@NAHTnews @AEPsychologists\n",
            "\n",
            "https://t.co/HJIoOo5Vsl\n",
            "Hashtags: [{'text': 'commonsense', 'indices': [156, 168]}, {'text': 'COVID19', 'indices': [169, 177]}]\n",
            "Unique hashtags: {'COVID19', 'commonsense'}\n",
            "Favorite count: 3\n",
            "Retweet count: 0\n",
            "Source: <a href=\"http://twitter.com/download/android\" rel=\"nofollow\">Twitter for Android</a>\n",
            "User handle: saphiehashtiany\n",
            "User name: WOW\n",
            "Date and time: Sat Dec 12 08:58:46 +0000 2020\n",
            "UNIX timestamp from date: 1607763526\n",
            "Tweet: I am humbled by this headteacher #schoolspirit #COVID19 https://t.co/ZvHkH8F9cK\n",
            "Hashtags: [{'text': 'schoolspirit', 'indices': [33, 46]}, {'text': 'COVID19', 'indices': [47, 55]}]\n",
            "Unique hashtags: {'COVID19', 'schoolspirit'}\n",
            "Favorite count: 0\n",
            "Retweet count: 1\n",
            "Source: <a href=\"http://twitter.com/download/android\" rel=\"nofollow\">Twitter for Android</a>\n",
            "User handle: _jayenne\n",
            "User name: Jayenne\n",
            "Date and time: Sat Dec 12 08:38:32 +0000 2020\n",
            "UNIX timestamp from date: 1607762312\n",
            "Tweet: @scottywrotem 🤣 🤣 ...Wait what?!! @BorisJohnson is our Prime Minister?\n",
            "\n",
            "But if he was really PM, wouldn’t we have seen a lot more of the pompous media-whore? Y’know, with #BREXIT #COVID19 &amp; #EDUCATION and denouncing @realDonaldTrump’s despotic attempts to bring down the US with him?\n",
            "Hashtags: [{'text': 'BREXIT', 'indices': [171, 178]}, {'text': 'COVID19', 'indices': [179, 187]}, {'text': 'EDUCATION', 'indices': [194, 204]}]\n",
            "Unique hashtags: {'BREXIT', 'COVID19', 'EDUCATION'}\n",
            "Favorite count: 0\n",
            "Retweet count: 0\n",
            "Source: <a href=\"http://twitter.com/download/iphone\" rel=\"nofollow\">Twitter for iPhone</a>\n",
            "User handle: politicsastar\n",
            "User name: Ben Fuller\n",
            "Date and time: Sat Dec 12 08:13:08 +0000 2020\n",
            "UNIX timestamp from date: 1607760788\n",
            "Tweet: The govt’s ridiculous threat to seek injunctions against #schools or trusts who shut early for #Christmas because of high numbers of #COVID19 cases is the final sign that they just don’t understand or trust teachers \n",
            "#r4today #education https://t.co/w50I3aqPX3\n",
            "Hashtags: [{'text': 'schools', 'indices': [57, 65]}, {'text': 'Christmas', 'indices': [95, 105]}, {'text': 'COVID19', 'indices': [133, 141]}, {'text': 'r4today', 'indices': [217, 225]}, {'text': 'education', 'indices': [226, 236]}]\n",
            "Unique hashtags: {'education', 'COVID19', 'Christmas', 'r4today', 'schools'}\n",
            "Favorite count: 3\n",
            "Retweet count: 0\n",
            "Source: <a href=\"http://twitter.com/download/iphone\" rel=\"nofollow\">Twitter for iPhone</a>\n",
            "User handle: julzfen\n",
            "User name: Julz\n",
            "Date and time: Fri Dec 11 22:37:57 +0000 2020\n",
            "UNIX timestamp from date: 1607726277\n",
            "Tweet: Does any person of influence understand the reality of teaching a class in real time and live streaming at the same time? #COVID19 #edchat #education #learning #school\n",
            "Hashtags: [{'text': 'COVID19', 'indices': [122, 130]}, {'text': 'edchat', 'indices': [131, 138]}, {'text': 'education', 'indices': [139, 149]}, {'text': 'learning', 'indices': [150, 159]}, {'text': 'school', 'indices': [160, 167]}]\n",
            "Unique hashtags: {'school', 'education', 'edchat', 'COVID19', 'learning'}\n",
            "Favorite count: 0\n",
            "Retweet count: 1\n",
            "Source: <a href=\"http://twitter.com/download/iphone\" rel=\"nofollow\">Twitter for iPhone</a>\n",
            "User handle: Academicis\n",
            "User name: Academicis\n",
            "Date and time: Fri Dec 11 17:26:06 +0000 2020\n",
            "UNIX timestamp from date: 1607707566\n",
            "Tweet: @Academicis – Calling all School Data Managers - We are very proud to have been retained by a wonderful Cambridge School who are seeking to appoint a  Data Manager – ASAP – Must have strong SQL experience - Call  to find out more – 01223-90-79-79\n",
            "#education  #Covid19 #school #SQL\n",
            "Hashtags: [{'text': 'education', 'indices': [247, 257]}, {'text': 'Covid19', 'indices': [259, 267]}, {'text': 'school', 'indices': [268, 275]}, {'text': 'SQL', 'indices': [276, 280]}]\n",
            "Unique hashtags: {'education', 'Covid19', 'school', 'SQL'}\n",
            "Favorite count: 0\n",
            "Retweet count: 0\n",
            "Source: <a href=\"https://mobile.twitter.com\" rel=\"nofollow\">Twitter Web App</a>\n",
            "User handle: Academicis\n",
            "User name: Academicis\n",
            "Date and time: Fri Dec 11 16:46:27 +0000 2020\n",
            "UNIX timestamp from date: 1607705187\n",
            "Tweet: @Academicis – Congratulations to the Academicis team – What a great week, we appointed another two seniors leaders and were retained on three new assignments (Further info to follow shortly) - Well done team !\n",
            "\n",
            "Academicis - #education  #Covid19 #school #educationrecruitment https://t.co/d8IuRul3Kb\n",
            "Hashtags: [{'text': 'education', 'indices': [224, 234]}, {'text': 'Covid19', 'indices': [236, 244]}, {'text': 'school', 'indices': [245, 252]}, {'text': 'educationrecruitment', 'indices': [253, 274]}]\n",
            "Unique hashtags: {'education', 'Covid19', 'school', 'educationrecruitment'}\n",
            "Favorite count: 0\n",
            "Retweet count: 0\n",
            "Source: <a href=\"https://mobile.twitter.com\" rel=\"nofollow\">Twitter Web App</a>\n",
            "User handle: AmChamEU_SDA\n",
            "User name: Susan Danger\n",
            "Date and time: Fri Dec 11 15:24:46 +0000 2020\n",
            "UNIX timestamp from date: 1607700286\n",
            "Tweet: The #COVID19 crisis has unveiled the critical importance of digital literacy, skills and capacity! @AmChamEU is committed to playing a role in fostering #digitalskills. Take a look here for more: ➡ https://t.co/aEcnNGJ2OP #EduSummitEU https://t.co/cMwKjeGDE0\n",
            "Hashtags: [{'text': 'COVID19', 'indices': [4, 12]}, {'text': 'digitalskills', 'indices': [153, 167]}, {'text': 'EduSummitEU', 'indices': [222, 234]}]\n",
            "Unique hashtags: {'COVID19', 'digitalskills', 'EduSummitEU'}\n",
            "Favorite count: 4\n",
            "Retweet count: 2\n",
            "Source: <a href=\"https://mobile.twitter.com\" rel=\"nofollow\">Twitter Web App</a>\n",
            "User handle: ASCL_UK\n",
            "User name: ASCL\n",
            "Date and time: Fri Dec 11 14:02:49 +0000 2020\n",
            "UNIX timestamp from date: 1607695369\n",
            "Tweet: 'The Inset plan is ham-fisted, tone deaf and demeaning' - read @RealGeoffBarton latest blog in @tes https://t.co/Yf6UKafBt9 #education #COVID19 #insetday https://t.co/S4PKF8c9Ic\n",
            "Hashtags: [{'text': 'education', 'indices': [124, 134]}, {'text': 'COVID19', 'indices': [135, 143]}, {'text': 'insetday', 'indices': [144, 153]}]\n",
            "Unique hashtags: {'education', 'insetday', 'COVID19'}\n",
            "Favorite count: 3\n",
            "Retweet count: 5\n",
            "Source: <a href=\"https://about.twitter.com/products/tweetdeck\" rel=\"nofollow\">TweetDeck</a>\n",
            "User handle: eduint\n",
            "User name: eduint\n",
            "Date and time: Fri Dec 11 13:19:37 +0000 2020\n",
            "UNIX timestamp from date: 1607692777\n",
            "Tweet: \"Despite the challenges, you have taken the lead to respond to the #Covid19 crisis and to emerge stronger from it.\n",
            "You have ensured education continues with or without the use of technologies and made sure that no student is left behind.\"\n",
            "@daveswords at EI's ACCRS meeting https://t.co/TWos1Qh5ED\n",
            "Hashtags: [{'text': 'Covid19', 'indices': [67, 75]}]\n",
            "Unique hashtags: {'Covid19'}\n",
            "Favorite count: 4\n",
            "Retweet count: 1\n",
            "Source: <a href=\"https://mobile.twitter.com\" rel=\"nofollow\">Twitter Web App</a>\n",
            "User handle: B_Counsellors\n",
            "User name: Brite Counsellors\n",
            "Date and time: Fri Dec 11 13:14:54 +0000 2020\n",
            "UNIX timestamp from date: 1607692494\n",
            "Tweet: Int'l students in UK will be able to access vaccine @ThePIENews  https://t.co/vTh4tBrSWr #education #medicine #health #COVID19 #wellness #publichealth #internationalstudents #vaccine https://t.co/rqkDnAPCTD\n",
            "Hashtags: [{'text': 'education', 'indices': [89, 99]}, {'text': 'medicine', 'indices': [100, 109]}, {'text': 'health', 'indices': [110, 117]}, {'text': 'COVID19', 'indices': [118, 126]}, {'text': 'wellness', 'indices': [127, 136]}, {'text': 'publichealth', 'indices': [137, 150]}, {'text': 'internationalstudents', 'indices': [151, 173]}, {'text': 'vaccine', 'indices': [174, 182]}]\n",
            "Unique hashtags: {'internationalstudents', 'education', 'medicine', 'COVID19', 'health', 'wellness', 'vaccine', 'publichealth'}\n",
            "Favorite count: 3\n",
            "Retweet count: 0\n",
            "Source: <a href=\"http://twitter.com/download/iphone\" rel=\"nofollow\">Twitter for iPhone</a>\n",
            "User handle: Educ_Technology\n",
            "User name: Education Technology\n",
            "Date and time: Fri Dec 11 12:14:40 +0000 2020\n",
            "UNIX timestamp from date: 1607688880\n",
            "Tweet: Welsh children's commissioner criticises government announcement that learning will move online from Monday, claiming it is \"not the right decision\" for students and the education sector. \n",
            "\n",
            "#secondary #FE #remotelearning #COVID19 #Wales\n",
            "\n",
            "Read more here: https://t.co/dv4ZRIfMUY https://t.co/RngLW3TNBN\n",
            "Hashtags: [{'text': 'secondary', 'indices': [190, 200]}, {'text': 'FE', 'indices': [201, 204]}, {'text': 'remotelearning', 'indices': [205, 220]}, {'text': 'COVID19', 'indices': [221, 229]}, {'text': 'Wales', 'indices': [230, 236]}]\n",
            "Unique hashtags: {'secondary', 'FE', 'remotelearning', 'COVID19', 'Wales'}\n",
            "Favorite count: 3\n",
            "Retweet count: 0\n",
            "Source: <a href=\"https://www.hootsuite.com\" rel=\"nofollow\">Hootsuite Inc.</a>\n",
            "User handle: UniofExeterNews\n",
            "User name: University of Exeter News\n",
            "Date and time: Fri Dec 11 12:00:29 +0000 2020\n",
            "UNIX timestamp from date: 1607688029\n",
            "Tweet: Listen to @Fielding20 talk to @SparksyOnRadio @BBCDevon about the extraordinary efforts of @UniofExeter staff &amp; students to maintain education, research and community safety in #COVID19 pandemic, plus an even bigger testing operation in January (1:08:27) https://t.co/weZwOoBeaZ\n",
            "Hashtags: [{'text': 'COVID19', 'indices': [181, 189]}]\n",
            "Unique hashtags: {'COVID19'}\n",
            "Favorite count: 3\n",
            "Retweet count: 2\n",
            "Source: <a href=\"https://mobile.twitter.com\" rel=\"nofollow\">Twitter Web App</a>\n",
            "User handle: Sarah_Moharem\n",
            "User name: Sarah Moharem-Elgamal\n",
            "Date and time: Fri Dec 11 11:44:58 +0000 2020\n",
            "UNIX timestamp from date: 1607687098\n",
            "Tweet: #EACVIBestof2020 Thank you @ThorEdvardsen for your hard work in addition to modifying delivery of #CVimaging education in the time of #COVID19 @Cosyns @denisamuraru @alessia_gimelli @chiarabd @leylaelifsade @PalMaurovich @DonalErwan https://t.co/j5zVdLYyhU\n",
            "Hashtags: [{'text': 'EACVIBestof2020', 'indices': [0, 16]}, {'text': 'CVimaging', 'indices': [98, 108]}, {'text': 'COVID19', 'indices': [134, 142]}]\n",
            "Unique hashtags: {'COVID19', 'CVimaging', 'EACVIBestof2020'}\n",
            "Favorite count: 9\n",
            "Retweet count: 3\n",
            "Source: <a href=\"http://twitter.com/download/iphone\" rel=\"nofollow\">Twitter for iPhone</a>\n",
            "User handle: StudyTravelLtd\n",
            "User name: StudyTravel Ltd\n",
            "Date and time: Fri Dec 11 11:42:29 +0000 2020\n",
            "UNIX timestamp from date: 1607686949\n",
            "Tweet: In StudyTravel news: The government of #WesternAustralia has announced a #Covid19 support fund to give up AUS$50,000 to small and medium-sized international #education providers.\n",
            "\n",
            "Read more: https://t.co/tRG0Weq0Pc https://t.co/2nq0kE5bp3\n",
            "Hashtags: [{'text': 'WesternAustralia', 'indices': [39, 56]}, {'text': 'Covid19', 'indices': [73, 81]}, {'text': 'education', 'indices': [157, 167]}]\n",
            "Unique hashtags: {'WesternAustralia', 'education', 'Covid19'}\n",
            "Favorite count: 1\n",
            "Retweet count: 0\n",
            "Source: <a href=\"https://mobile.twitter.com\" rel=\"nofollow\">Twitter Web App</a>\n",
            "User handle: andrewboggs\n",
            "User name: Andrew M Boggs\n",
            "Date and time: Fri Dec 11 11:40:22 +0000 2020\n",
            "UNIX timestamp from date: 1607686822\n",
            "Tweet: #COVID19 has created unprecedented pressures on #universities. However it also provide opportunities to reconsider how we work. Dr @jo_stayo &amp; I have looked at one area for consideration in @Wonkhe: #enterpriseeducation in #highered \n",
            "\n",
            "https://t.co/nZ5TjFgEAU\n",
            "\n",
            "@EEUK @QAAtweets\n",
            "Hashtags: [{'text': 'COVID19', 'indices': [0, 8]}, {'text': 'universities', 'indices': [48, 61]}, {'text': 'enterpriseeducation', 'indices': [203, 223]}, {'text': 'highered', 'indices': [227, 236]}]\n",
            "Unique hashtags: {'highered', 'COVID19', 'enterpriseeducation', 'universities'}\n",
            "Favorite count: 2\n",
            "Retweet count: 1\n",
            "Source: <a href=\"https://mobile.twitter.com\" rel=\"nofollow\">Twitter Web App</a>\n",
            "User handle: treasuretroveuk\n",
            "User name: Dom Parmenter\n",
            "Date and time: Fri Dec 11 11:04:28 +0000 2020\n",
            "UNIX timestamp from date: 1607684668\n",
            "Tweet: @BBCNews An absolutely disastrous idea. What 'good' can possibly come out of this except more lockdowns, more 'cases' and more disruption to education. All mass testing must end now #pcrpandemic #falsepositives #COVID19\n",
            "Hashtags: [{'text': 'pcrpandemic', 'indices': [182, 194]}, {'text': 'falsepositives', 'indices': [195, 210]}, {'text': 'COVID19', 'indices': [211, 219]}]\n",
            "Unique hashtags: {'falsepositives', 'pcrpandemic', 'COVID19'}\n",
            "Favorite count: 1\n",
            "Retweet count: 0\n",
            "Source: <a href=\"http://twitter.com/download/android\" rel=\"nofollow\">Twitter for Android</a>\n",
            "User handle: InclusionEurope\n",
            "User name: Inclusion Europe\n",
            "Date and time: Fri Dec 11 11:02:34 +0000 2020\n",
            "UNIX timestamp from date: 1607684554\n",
            "Tweet: #COVID19 intensified inequalities for world’s one billion people with #disabilities; healthcare, access to information, employment, women's rights, access to education etc. #EUdisability\n",
            "\n",
            "We need to do better and work harder to #RecoverBetter https://t.co/eB8FzUVsuY https://t.co/t3e5SEE3N3\n",
            "Hashtags: [{'text': 'COVID19', 'indices': [0, 8]}, {'text': 'disabilities', 'indices': [70, 83]}, {'text': 'EUdisability', 'indices': [173, 186]}, {'text': 'RecoverBetter', 'indices': [228, 242]}]\n",
            "Unique hashtags: {'disabilities', 'COVID19', 'RecoverBetter', 'EUdisability'}\n",
            "Favorite count: 1\n",
            "Retweet count: 3\n",
            "Source: <a href=\"https://mobile.twitter.com\" rel=\"nofollow\">Twitter Web App</a>\n",
            "User handle: HWGateshead\n",
            "User name: Healthwatch Gateshead\n",
            "Date and time: Fri Dec 11 10:45:06 +0000 2020\n",
            "UNIX timestamp from date: 1607683506\n",
            "Tweet: Have you been identified as clinically extremely vulnerable? \n",
            "\n",
            "New government #COVID19 guidelines which include: socialising inside and outside the home, work, education, travel, going to shops and pharmacies &gt; https://t.co/G4fW5rzaat\n",
            "#shielding #staysafe https://t.co/evXV9AM5mS\n",
            "Hashtags: [{'text': 'COVID19', 'indices': [78, 86]}, {'text': 'shielding', 'indices': [238, 248]}, {'text': 'staysafe', 'indices': [249, 258]}]\n",
            "Unique hashtags: {'shielding', 'COVID19', 'staysafe'}\n",
            "Favorite count: 0\n",
            "Retweet count: 0\n",
            "Source: <a href=\"https://www.hootsuite.com\" rel=\"nofollow\">Hootsuite Inc.</a>\n",
            "User handle: 100BMOL\n",
            "User name: 100BlackMenOfLondon\n",
            "Date and time: Fri Dec 11 10:15:08 +0000 2020\n",
            "UNIX timestamp from date: 1607681708\n",
            "Tweet: Join us TONIGHT to debate whether or not the focus of schools being COVID safe is distracting us all from what really matters. \n",
            "\n",
            "Be part of the discussion and share your views and opinions.\n",
            "\n",
            "Register your attendance now: https://t.co/ymK2piBAq5\n",
            "\n",
            "#education\n",
            "#COVID19\n",
            "#wellbeing https://t.co/qkOms131cX\n",
            "Hashtags: [{'text': 'education', 'indices': [246, 256]}, {'text': 'COVID19', 'indices': [257, 265]}, {'text': 'wellbeing', 'indices': [266, 276]}]\n",
            "Unique hashtags: {'wellbeing', 'education', 'COVID19'}\n",
            "Favorite count: 1\n",
            "Retweet count: 0\n",
            "Source: <a href=\"https://www.hootsuite.com\" rel=\"nofollow\">Hootsuite Inc.</a>\n",
            "User handle: K_G_Spearpoint\n",
            "User name: Ken Spearpoint💙⚡️❤️😷\n",
            "Date and time: Fri Dec 11 09:52:42 +0000 2020\n",
            "UNIX timestamp from date: 1607680362\n",
            "Tweet: Asymptomatic #COVID19 testing identifies very, very low numbers of positive cases in University students.\n",
            "\n",
            "https://t.co/gXucqe10Zb\n",
            "Hashtags: [{'text': 'COVID19', 'indices': [13, 21]}]\n",
            "Unique hashtags: {'COVID19'}\n",
            "Favorite count: 2\n",
            "Retweet count: 0\n",
            "Source: <a href=\"http://twitter.com/download/iphone\" rel=\"nofollow\">Twitter for iPhone</a>\n",
            "User handle: ClaudiaWebbe\n",
            "User name: Claudia Webbe MP\n",
            "Date and time: Fri Dec 11 09:30:34 +0000 2020\n",
            "UNIX timestamp from date: 1607679034\n",
            "Tweet: For the most disadvantaged children, the Govt cut school laptop allocations by 80% depriving many of access to education. Yet schools had a #COVID19 legal duty to provide remote education!\n",
            "\n",
            "Govt have now done a U-turn following questions from me &amp; others\n",
            "https://t.co/PgmQvn5Fbu https://t.co/uyIstRnNwI\n",
            "Hashtags: [{'text': 'COVID19', 'indices': [140, 148]}]\n",
            "Unique hashtags: {'COVID19'}\n",
            "Favorite count: 25\n",
            "Retweet count: 10\n",
            "Source: <a href=\"http://twitter.com/#!/download/ipad\" rel=\"nofollow\">Twitter for iPad</a>\n",
            "User handle: TextAnywhere\n",
            "User name: TextAnywhere\n",
            "Date and time: Fri Dec 11 09:22:55 +0000 2020\n",
            "UNIX timestamp from date: 1607678575\n",
            "Tweet: \"Maintaining a great level of engagement has never been so pressing for education providers... compared with pre-COVID levels, more than 52% of education institutes said they’re sending more messages to their communities.\"\n",
            "\n",
            "#Education #Communication #COVID19 https://t.co/qyTjNUPCNj\n",
            "Hashtags: [{'text': 'Education', 'indices': [224, 234]}, {'text': 'Communication', 'indices': [235, 249]}, {'text': 'COVID19', 'indices': [250, 258]}]\n",
            "Unique hashtags: {'Communication', 'Education', 'COVID19'}\n",
            "Favorite count: 1\n",
            "Retweet count: 1\n",
            "Source: <a href=\"https://mobile.twitter.com\" rel=\"nofollow\">Twitter Web App</a>\n",
            "User handle: Fab_Inc_dev\n",
            "User name: Fab Inc. Education Consulting\n",
            "Date and time: Fri Dec 11 09:14:11 +0000 2020\n",
            "UNIX timestamp from date: 1607678051\n",
            "Tweet: Great post by @Downes who takes us into the future of #education, and draws \"lessons from the future\". \n",
            "\"As we enter the 2040s the school remains the centre of education and development in the community. We should have expected no other outcome.\" #COVID19\n",
            "https://t.co/rbqDoShQpM\n",
            "Hashtags: [{'text': 'education', 'indices': [54, 64]}, {'text': 'COVID19', 'indices': [247, 255]}]\n",
            "Unique hashtags: {'education', 'COVID19'}\n",
            "Favorite count: 1\n",
            "Retweet count: 0\n",
            "Source: <a href=\"https://mobile.twitter.com\" rel=\"nofollow\">Twitter Web App</a>\n",
            "User handle: Insafenetwork\n",
            "User name: Insafe\n",
            "Date and time: Fri Dec 11 09:09:02 +0000 2020\n",
            "UNIX timestamp from date: 1607677742\n",
            "Tweet: Slovenian Safer Internet Centre (SIC) @Safe_si has just released some recommendations for safe remote teaching and learning in times of #COVID19, both for parents and for education professionals. Discover them at https://t.co/CvzoYlubyD https://t.co/P9idlTywws\n",
            "Hashtags: [{'text': 'COVID19', 'indices': [136, 144]}]\n",
            "Unique hashtags: {'COVID19'}\n",
            "Favorite count: 1\n",
            "Retweet count: 0\n",
            "Source: <a href=\"https://sproutsocial.com\" rel=\"nofollow\">Sprout Social</a>\n",
            "User handle: ACSCoursesUK\n",
            "User name: ACSDistanceEducation\n",
            "Date and time: Fri Dec 11 08:52:08 +0000 2020\n",
            "UNIX timestamp from date: 1607676728\n",
            "Tweet: With COVID-19, we have seen an increase in distance learning. Is distance education better? https://t.co/OwxDXBwo4W #distancelearning #acsdistanceeducation #coursesonline #course #trainingcourses #training #COVID19 #education https://t.co/e39YYc1Phe\n",
            "Hashtags: [{'text': 'distancelearning', 'indices': [116, 133]}, {'text': 'acsdistanceeducation', 'indices': [134, 155]}, {'text': 'coursesonline', 'indices': [156, 170]}, {'text': 'course', 'indices': [171, 178]}, {'text': 'trainingcourses', 'indices': [179, 195]}, {'text': 'training', 'indices': [196, 205]}, {'text': 'COVID19', 'indices': [206, 214]}, {'text': 'education', 'indices': [215, 225]}]\n",
            "Unique hashtags: {'course', 'coursesonline', 'trainingcourses', 'acsdistanceeducation', 'education', 'COVID19', 'training', 'distancelearning'}\n",
            "Favorite count: 0\n",
            "Retweet count: 1\n",
            "Source: <a href=\"https://mobile.twitter.com\" rel=\"nofollow\">Twitter Web App</a>\n",
            "User handle: CamEdFac\n",
            "User name: Faculty of Education, University of Cambridge\n",
            "Date and time: Fri Dec 11 08:52:06 +0000 2020\n",
            "UNIX timestamp from date: 1607676726\n",
            "Tweet: 1/ Really important reporting from @FT\n",
            "\n",
            "Despite its severity, the impact of #COVID19 on education in low- and middle-income countries remains far less visible than in countries like the UK\n",
            "\n",
            "Thanks to @AJack for giving this much-needed space and attention: https://t.co/whH9FOEFtR\n",
            "Hashtags: [{'text': 'COVID19', 'indices': [76, 84]}]\n",
            "Unique hashtags: {'COVID19'}\n",
            "Favorite count: 3\n",
            "Retweet count: 7\n",
            "Source: <a href=\"https://mobile.twitter.com\" rel=\"nofollow\">Twitter Web App</a>\n",
            "User handle: mindworkmatters\n",
            "User name: Kelly Hannaghan\n",
            "Date and time: Fri Dec 11 07:31:52 +0000 2020\n",
            "UNIX timestamp from date: 1607671912\n",
            "Tweet: Are you bridging the gap of opportunity in supporting parent engagement in education?  \n",
            "\n",
            "Have you witnessed parent anxiety levels rising due to #Covid19 and would you like some help in rebuilding parent confidence? \n",
            "\n",
            "If so, please connect with me here   https://t.co/QqQ0EYaTXx https://t.co/ohCSaSsUkj\n",
            "Hashtags: [{'text': 'Covid19', 'indices': [144, 152]}]\n",
            "Unique hashtags: {'Covid19'}\n",
            "Favorite count: 3\n",
            "Retweet count: 2\n",
            "Source: <a href=\"http://twitter.com/download/iphone\" rel=\"nofollow\">Twitter for iPhone</a>\n",
            "User handle: CarolineHodak\n",
            "User name: Caroline Hodak\n",
            "Date and time: Fri Dec 11 07:20:35 +0000 2020\n",
            "UNIX timestamp from date: 1607671235\n",
            "Tweet: Impact of #Covid19 on #fundraising\n",
            "and the need for Universities to expand their reach could reset how they carry their social mission #higherEd \n",
            "\n",
            " https://t.co/OEmwvPheS9\n",
            "v/ @C_Cripps\n",
            "Hashtags: [{'text': 'Covid19', 'indices': [10, 18]}, {'text': 'fundraising', 'indices': [22, 34]}, {'text': 'higherEd', 'indices': [135, 144]}]\n",
            "Unique hashtags: {'fundraising', 'Covid19', 'higherEd'}\n",
            "Favorite count: 0\n",
            "Retweet count: 0\n",
            "Source: <a href=\"http://twitter.com/download/iphone\" rel=\"nofollow\">Twitter for iPhone</a>\n",
            "User handle: lackysingh1980\n",
            "User name: Lakbir Singh\n",
            "Date and time: Fri Dec 11 07:18:53 +0000 2020\n",
            "UNIX timestamp from date: 1607671133\n",
            "Tweet: Thank you to @solentuni &amp; @SmallBizCharter for providing practical expertise, support &amp; timely training to help business leaders combat #COVID19 and plan for economic recovery @SUS_Business @_indiagroup \n",
            "#Resilience #Agility #Education #Innovation #GlobalBritain #Southampton https://t.co/gSU8xnfjVM\n",
            "Hashtags: [{'text': 'COVID19', 'indices': [144, 152]}, {'text': 'Resilience', 'indices': [212, 223]}, {'text': 'Agility', 'indices': [224, 232]}, {'text': 'Education', 'indices': [233, 243]}, {'text': 'Innovation', 'indices': [244, 255]}, {'text': 'GlobalBritain', 'indices': [256, 270]}, {'text': 'Southampton', 'indices': [271, 283]}]\n",
            "Unique hashtags: {'Agility', 'Education', 'COVID19', 'Innovation', 'Resilience', 'GlobalBritain', 'Southampton'}\n",
            "Favorite count: 6\n",
            "Retweet count: 0\n",
            "Source: <a href=\"http://twitter.com/download/iphone\" rel=\"nofollow\">Twitter for iPhone</a>\n",
            "User handle: GeorgeO89886519\n",
            "User name: NURSING EDUCATION 2021\n",
            "Date and time: Fri Dec 11 06:12:19 +0000 2020\n",
            "UNIX timestamp from date: 1607667139\n",
            "Tweet: #conferenceseries #Nursing #COVID19 #Neonatal #Perinatal #Nursing #education #NURSING_EDUCATION_2021 #September #webinar \n",
            "E-mail: nursing.education@gmail.com https://t.co/hlvGUrAIaV\n",
            "Hashtags: [{'text': 'conferenceseries', 'indices': [0, 17]}, {'text': 'Nursing', 'indices': [18, 26]}, {'text': 'COVID19', 'indices': [27, 35]}, {'text': 'Neonatal', 'indices': [36, 45]}, {'text': 'Perinatal', 'indices': [46, 56]}, {'text': 'Nursing', 'indices': [57, 65]}, {'text': 'education', 'indices': [66, 76]}, {'text': 'NURSING_EDUCATION_2021', 'indices': [77, 100]}, {'text': 'September', 'indices': [101, 111]}, {'text': 'webinar', 'indices': [112, 120]}]\n",
            "Unique hashtags: {'September', 'Neonatal', 'Nursing', 'education', 'COVID19', 'NURSING_EDUCATION_2021', 'Perinatal', 'conferenceseries', 'webinar'}\n",
            "Favorite count: 0\n",
            "Retweet count: 0\n",
            "Source: <a href=\"https://mobile.twitter.com\" rel=\"nofollow\">Twitter Web App</a>\n",
            "User handle: officestudents\n",
            "User name: The Office for Students (OfS)\n",
            "Date and time: Fri Dec 11 00:03:00 +0000 2020\n",
            "UNIX timestamp from date: 1607644980\n",
            "Tweet: NEW: Finances at England’s universities and other higher education providers largely remain sound despite the early impact of the pandemic, according to new analysis published today: https://t.co/2sB8FLPNRt\n",
            "\n",
            "Report: https://t.co/QiR57e09M6\n",
            "\n",
            "#finance #university #college #COVID19 https://t.co/atWTOFUkTN\n",
            "Hashtags: [{'text': 'finance', 'indices': [241, 249]}, {'text': 'university', 'indices': [250, 261]}, {'text': 'college', 'indices': [262, 270]}, {'text': 'COVID19', 'indices': [271, 279]}]\n",
            "Unique hashtags: {'COVID19', 'university', 'finance', 'college'}\n",
            "Favorite count: 4\n",
            "Retweet count: 3\n",
            "Source: <a href=\"https://about.twitter.com/products/tweetdeck\" rel=\"nofollow\">TweetDeck</a>\n",
            "User handle: gerddiaffrica\n",
            "User name: Cnicht\n",
            "Date and time: Thu Dec 10 22:04:30 +0000 2020\n",
            "UNIX timestamp from date: 1607637870\n",
            "Tweet: Good thing that Primary school teachers are immune to #COVID19 , no need to close primary schools early. But can't see family because they won't have isolated for long enough. #education #torfaen #CloseTheSchoolsNow #Isolation @torfaencouncil #teacherlife #christmasisolation https://t.co/anE5DtcQWr\n",
            "Hashtags: [{'text': 'COVID19', 'indices': [54, 62]}, {'text': 'education', 'indices': [176, 186]}, {'text': 'torfaen', 'indices': [187, 195]}, {'text': 'CloseTheSchoolsNow', 'indices': [196, 215]}, {'text': 'Isolation', 'indices': [216, 226]}, {'text': 'teacherlife', 'indices': [243, 255]}, {'text': 'christmasisolation', 'indices': [256, 275]}]\n",
            "Unique hashtags: {'Isolation', 'CloseTheSchoolsNow', 'education', 'christmasisolation', 'COVID19', 'teacherlife', 'torfaen'}\n",
            "Favorite count: 4\n",
            "Retweet count: 1\n",
            "Source: <a href=\"http://twitter.com/download/android\" rel=\"nofollow\">Twitter for Android</a>\n",
            "User handle: Glowingfuture\n",
            "User name: mary akangbe\n",
            "Date and time: Thu Dec 10 20:46:18 +0000 2020\n",
            "UNIX timestamp from date: 1607633178\n",
            "Tweet: The power of #fakenews Education and awareness is vital from relevant and reliable sources #COVID19 #COVID19Vaccine https://t.co/i7Dj5R5LEl\n",
            "Hashtags: [{'text': 'fakenews', 'indices': [13, 22]}, {'text': 'COVID19', 'indices': [91, 99]}, {'text': 'COVID19Vaccine', 'indices': [100, 115]}]\n",
            "Unique hashtags: {'COVID19Vaccine', 'COVID19', 'fakenews'}\n",
            "Favorite count: 0\n",
            "Retweet count: 0\n",
            "Source: <a href=\"https://mobile.twitter.com\" rel=\"nofollow\">Twitter Web App</a>\n",
            "User handle: mindworkmatters\n",
            "User name: Kelly Hannaghan\n",
            "Date and time: Thu Dec 10 20:39:47 +0000 2020\n",
            "UNIX timestamp from date: 1607632787\n",
            "Tweet: Are you bridging the gap of opportunity in supporting parent engagement in education?  Have you witnessed parent anxiety levels rising due to #Covid19 and would you like some help in rebuilding parent confidence? If so, please connect with me @TheEdPeople https://t.co/QqQ0EYaTXx\n",
            "Hashtags: [{'text': 'Covid19', 'indices': [142, 150]}]\n",
            "Unique hashtags: {'Covid19'}\n",
            "Favorite count: 2\n",
            "Retweet count: 0\n",
            "Source: <a href=\"http://twitter.com/download/iphone\" rel=\"nofollow\">Twitter for iPhone</a>\n",
            "User handle: CllrMajid\n",
            "User name: Cllr Majid Mahmood\n",
            "Date and time: Thu Dec 10 20:31:02 +0000 2020\n",
            "UNIX timestamp from date: 1607632262\n",
            "Tweet: The government placed a duty upon schools to provide remote education for pupils missing school due to #COVID19 then slashed access to laptops affecting the most disadvantaged.\n",
            "\n",
            "I’m pleased common sense prevailed and allocations are now restored. \n",
            "\n",
            "This 👇🏽 https://t.co/hnHWZFDYY0\n",
            "Hashtags: [{'text': 'COVID19', 'indices': [103, 111]}]\n",
            "Unique hashtags: {'COVID19'}\n",
            "Favorite count: 4\n",
            "Retweet count: 1\n",
            "Source: <a href=\"http://twitter.com/download/iphone\" rel=\"nofollow\">Twitter for iPhone</a>\n",
            "User handle: 100BMOL\n",
            "User name: 100BlackMenOfLondon\n",
            "Date and time: Thu Dec 10 19:10:10 +0000 2020\n",
            "UNIX timestamp from date: 1607627410\n",
            "Tweet: Join us TOMORROW to debate whether or not the focus of schools being COVID safe is distracting us all from what really matters?\n",
            "\n",
            "Be part of the discussion and share your views and opinions.\n",
            "\n",
            "Register your attendance now: https://t.co/ymK2piBAq5\n",
            "\n",
            "#education\n",
            "#COVID19\n",
            "#wellbeing https://t.co/HaQlExyb6h\n",
            "Hashtags: [{'text': 'education', 'indices': [246, 256]}, {'text': 'COVID19', 'indices': [257, 265]}, {'text': 'wellbeing', 'indices': [266, 276]}]\n",
            "Unique hashtags: {'wellbeing', 'education', 'COVID19'}\n",
            "Favorite count: 4\n",
            "Retweet count: 1\n",
            "Source: <a href=\"https://www.hootsuite.com\" rel=\"nofollow\">Hootsuite Inc.</a>\n",
            "User handle: StudentLinkG\n",
            "User name: SLG\n",
            "Date and time: Thu Dec 10 19:06:03 +0000 2020\n",
            "UNIX timestamp from date: 1607627163\n",
            "Tweet: All secondary schools in Wales to shut next week and move online https://t.co/FYaoWaV3jU #covid19\n",
            "Hashtags: [{'text': 'covid19', 'indices': [89, 97]}]\n",
            "Unique hashtags: {'covid19'}\n",
            "Favorite count: 0\n",
            "Retweet count: 0\n",
            "Source: <a href=\"https://paper.li\" rel=\"nofollow\">Paper.li</a>\n",
            "User handle: osirisedu\n",
            "User name: Osiris Educational\n",
            "Date and time: Thu Dec 10 18:39:59 +0000 2020\n",
            "UNIX timestamp from date: 1607625599\n",
            "Tweet: Thk you very much Svetlana! We feel privileged to have your contribution! \n",
            "\n",
            "What an opportunity #WorldEdSummit provides for celebrating the life &amp; works of @SirKenRobinson ..but also the #creativity educators across the world have shown during #COVID19!\n",
            "\n",
            "https://t.co/LnzWnln3Sp https://t.co/pn5s7AzRlu\n",
            "Hashtags: [{'text': 'WorldEdSummit', 'indices': [96, 110]}, {'text': 'creativity', 'indices': [191, 202]}, {'text': 'COVID19', 'indices': [248, 256]}]\n",
            "Unique hashtags: {'WorldEdSummit', 'COVID19', 'creativity'}\n",
            "Favorite count: 1\n",
            "Retweet count: 0\n",
            "Source: <a href=\"http://twitter.com/download/iphone\" rel=\"nofollow\">Twitter for iPhone</a>\n",
            "User handle: osirisedu\n",
            "User name: Osiris Educational\n",
            "Date and time: Thu Dec 10 18:38:08 +0000 2020\n",
            "UNIX timestamp from date: 1607625488\n",
            "Tweet: @Tweeteretta Thk you very much Svetlana! We feel privileged to have your contribution! \n",
            "\n",
            "What an opportunity #WorldEdSummit provides for celebrating the life &amp; works of @SirKenRobinson ..but also the #creativity educators across the world have shown during #COVID19!  \n",
            "\n",
            "https://t.co/LnzWnln3Sp\n",
            "Hashtags: [{'text': 'WorldEdSummit', 'indices': [109, 123]}, {'text': 'creativity', 'indices': [204, 215]}, {'text': 'COVID19', 'indices': [261, 269]}]\n",
            "Unique hashtags: {'WorldEdSummit', 'COVID19', 'creativity'}\n",
            "Favorite count: 0\n",
            "Retweet count: 0\n",
            "Source: <a href=\"http://twitter.com/download/iphone\" rel=\"nofollow\">Twitter for iPhone</a>\n",
            "User handle: djboywonder92\n",
            "User name: D John\n",
            "Date and time: Thu Dec 10 18:16:39 +0000 2020\n",
            "UNIX timestamp from date: 1607624199\n",
            "Tweet: Welsh gov. have announced Secondary schools will remote learn from next Monday. Perfect idea! Shame England can't do that. Intrigued how they are going to do this mass testing...surely that means Secondary schools can't open if pupils getting tested? #COVID19 #school #education\n",
            "Hashtags: [{'text': 'COVID19', 'indices': [251, 259]}, {'text': 'school', 'indices': [260, 267]}, {'text': 'education', 'indices': [268, 278]}]\n",
            "Unique hashtags: {'COVID19', 'school', 'education'}\n",
            "Favorite count: 0\n",
            "Retweet count: 0\n",
            "Source: <a href=\"http://twitter.com/download/android\" rel=\"nofollow\">Twitter for Android</a>\n",
            "User handle: ASCL_UK\n",
            "User name: ASCL\n",
            "Date and time: Thu Dec 10 18:15:18 +0000 2020\n",
            "UNIX timestamp from date: 1607624118\n",
            "Tweet: “We have to question why the plan is to mass test children, and there is apparently no consideration of moving to remote learning for the last week of term.” Our full response to plans to test secondary pupils in worst-hit #Covid areas https://t.co/IMh1HBii2Z #education #COVID19 https://t.co/nNxBAKjv8o\n",
            "Hashtags: [{'text': 'Covid', 'indices': [223, 229]}, {'text': 'education', 'indices': [260, 270]}, {'text': 'COVID19', 'indices': [271, 279]}]\n",
            "Unique hashtags: {'education', 'Covid', 'COVID19'}\n",
            "Favorite count: 9\n",
            "Retweet count: 4\n",
            "Source: <a href=\"https://about.twitter.com/products/tweetdeck\" rel=\"nofollow\">TweetDeck</a>\n",
            "User handle: rockgod1970\n",
            "User name: Grinchy Dave\n",
            "Date and time: Thu Dec 10 18:09:34 +0000 2020\n",
            "UNIX timestamp from date: 1607623774\n",
            "Tweet: @BBCNews @SkyNews I have no idea why the surge of cases in schools has come as a surprise to @PHE_uk &amp; @MattHancock... anyone who works in secondary education will tell them that pupils don't follow #SocialDistancing guidelines #schools #Covid19 #schoolsaresafe #secondaryschools\n",
            "Hashtags: [{'text': 'SocialDistancing', 'indices': [203, 220]}, {'text': 'schools', 'indices': [232, 240]}, {'text': 'Covid19', 'indices': [241, 249]}, {'text': 'schoolsaresafe', 'indices': [250, 265]}, {'text': 'secondaryschools', 'indices': [266, 283]}]\n",
            "Unique hashtags: {'secondaryschools', 'schoolsaresafe', 'Covid19', 'schools', 'SocialDistancing'}\n",
            "Favorite count: 1\n",
            "Retweet count: 0\n",
            "Source: <a href=\"http://twitter.com/download/android\" rel=\"nofollow\">Twitter for Android</a>\n",
            "User handle: FranSoutoMoura\n",
            "User name: Francisca SM Bos\n",
            "Date and time: Thu Dec 10 18:08:52 +0000 2020\n",
            "UNIX timestamp from date: 1607623732\n",
            "Tweet: We need greater global commitments to finance education to address the devastating &amp; long-term impact of #COVID19 on education, especially in lower-income countries. @TEACH4UG alumnus @OboreCharles shares his own experience in piece by @AJack via @FT https://t.co/FFanWF8gHS\n",
            "Hashtags: [{'text': 'COVID19', 'indices': [109, 117]}]\n",
            "Unique hashtags: {'COVID19'}\n",
            "Favorite count: 8\n",
            "Retweet count: 1\n",
            "Source: <a href=\"https://mobile.twitter.com\" rel=\"nofollow\">Twitter Web App</a>\n",
            "User handle: nigewillson\n",
            "User name: Nige Willson\n",
            "Date and time: Thu Dec 10 17:20:01 +0000 2020\n",
            "UNIX timestamp from date: 1607620801\n",
            "Tweet: Why COVID Is India’s Chance To Use Artificial Intelligence , Tech – And Enter The Future https://t.co/BHAO2rVHeG #ai #ArtificialIntelligence #MachineLearning #DeepLearning #COVID19  #future #india https://t.co/nKZJeooAtO\n",
            "Hashtags: [{'text': 'ai', 'indices': [113, 116]}, {'text': 'ArtificialIntelligence', 'indices': [117, 140]}, {'text': 'MachineLearning', 'indices': [141, 157]}, {'text': 'DeepLearning', 'indices': [158, 171]}, {'text': 'COVID19', 'indices': [172, 180]}, {'text': 'future', 'indices': [182, 189]}, {'text': 'india', 'indices': [190, 196]}]\n",
            "Unique hashtags: {'ArtificialIntelligence', 'india', 'ai', 'MachineLearning', 'future', 'COVID19', 'DeepLearning'}\n",
            "Favorite count: 2\n",
            "Retweet count: 3\n",
            "Source: <a href=\"https://buffer.com\" rel=\"nofollow\">Buffer</a>\n",
            "User handle: Academicis\n",
            "User name: Academicis\n",
            "Date and time: Thu Dec 10 17:17:15 +0000 2020\n",
            "UNIX timestamp from date: 1607620635\n",
            "Tweet: @Academicis – Congratulations to the Academicis team - Today we appointed another two seniors leaders - Well done team !\n",
            "\n",
            "Academicis - #education  #Covid19 #school #principals #educationrecruitment #Lockdown #Lockdown2 https://t.co/rLZZXSO5of\n",
            "Hashtags: [{'text': 'education', 'indices': [135, 145]}, {'text': 'Covid19', 'indices': [147, 155]}, {'text': 'school', 'indices': [156, 163]}, {'text': 'principals', 'indices': [164, 175]}, {'text': 'educationrecruitment', 'indices': [176, 197]}, {'text': 'Lockdown', 'indices': [198, 207]}, {'text': 'Lockdown2', 'indices': [208, 218]}]\n",
            "Unique hashtags: {'Lockdown2', 'school', 'Lockdown', 'education', 'principals', 'Covid19', 'educationrecruitment'}\n",
            "Favorite count: 0\n",
            "Retweet count: 0\n",
            "Source: <a href=\"https://mobile.twitter.com\" rel=\"nofollow\">Twitter Web App</a>\n",
            "User handle: Benheggerty\n",
            "User name: Ben Haggerty\n",
            "Date and time: Thu Dec 10 17:16:29 +0000 2020\n",
            "UNIX timestamp from date: 1607620589\n",
            "Tweet: Brilliant idea of closing schools and bringing in online learning. It’s the best way to stop the spread in younger adults and teenagers. #COVID19 #education COVID-19: Wales' secondary schools and colleges to move to online learning from Monday https://t.co/vSmx5LyKDo https://t.co/HTQ9vdoedH\n",
            "Hashtags: [{'text': 'COVID19', 'indices': [137, 145]}, {'text': 'education', 'indices': [146, 156]}]\n",
            "Unique hashtags: {'COVID19', 'education'}\n",
            "Favorite count: 1\n",
            "Retweet count: 0\n",
            "Source: <a href=\"http://twitter.com/download/iphone\" rel=\"nofollow\">Twitter for iPhone</a>\n",
            "User handle: MillersMusic\n",
            "User name: Millers Music\n",
            "Date and time: Thu Dec 10 16:52:06 +0000 2020\n",
            "UNIX timestamp from date: 1607619126\n",
            "Tweet: Breaking down the @ISM_music report highlighting the devastating impact of #COVID19 on #MusicEducation.\n",
            "\n",
            "✍️ Comment with details of your school to apply for a #free instrument cleaning kit. In association with @bbicolondon. 🧼 \n",
            "\n",
            "👉 https://t.co/sKeH2Y79Xp\n",
            "\n",
            "#MillersMusic https://t.co/3ALc6jq7jM\n",
            "Hashtags: [{'text': 'COVID19', 'indices': [75, 83]}, {'text': 'MusicEducation', 'indices': [87, 102]}, {'text': 'free', 'indices': [159, 164]}, {'text': 'MillersMusic', 'indices': [255, 268]}]\n",
            "Unique hashtags: {'free', 'COVID19', 'MusicEducation', 'MillersMusic'}\n",
            "Favorite count: 0\n",
            "Retweet count: 0\n",
            "Source: <a href=\"https://sproutsocial.com\" rel=\"nofollow\">Sprout Social</a>\n",
            "User handle: mohamedanis\n",
            "User name: Mohamed Anis\n",
            "Date and time: Thu Dec 10 16:48:03 +0000 2020\n",
            "UNIX timestamp from date: 1607618883\n",
            "Tweet: The pandemic has put 1.6 billion children out of school. Here's how to upgrade #education after #Covid19 amelkarboul https://t.co/EwPudU0UDg https://t.co/oVwuAwMa9C\n",
            "Hashtags: [{'text': 'education', 'indices': [79, 89]}, {'text': 'Covid19', 'indices': [96, 104]}]\n",
            "Unique hashtags: {'education', 'Covid19'}\n",
            "Favorite count: 0\n",
            "Retweet count: 0\n",
            "Source: <a href=\"https://zapier.com/\" rel=\"nofollow\">Zapier.com</a>\n",
            "User handle: C_Veggie\n",
            "User name: C Veggie\n",
            "Date and time: Thu Dec 10 16:17:06 +0000 2020\n",
            "UNIX timestamp from date: 1607617026\n",
            "Tweet: My son dropped from expected level 7/8 for #GCSE to level 4/5 in all subjects due to not having had a proper #education since Mar. Online lessons aren't working; school now closed as not enough #Teachers\n",
            "\n",
            "We are robbing kids' future!\n",
            "\n",
            "What do I do now?\n",
            "\n",
            "#COVID19 @Ofstednews\n",
            "Hashtags: [{'text': 'GCSE', 'indices': [43, 48]}, {'text': 'education', 'indices': [109, 119]}, {'text': 'Teachers', 'indices': [194, 203]}, {'text': 'COVID19', 'indices': [254, 262]}]\n",
            "Unique hashtags: {'education', 'Teachers', 'GCSE', 'COVID19'}\n",
            "Favorite count: 4\n",
            "Retweet count: 2\n",
            "Source: <a href=\"http://twitter.com/download/android\" rel=\"nofollow\">Twitter for Android</a>\n",
            "User handle: HWGateshead\n",
            "User name: Healthwatch Gateshead\n",
            "Date and time: Thu Dec 10 16:15:14 +0000 2020\n",
            "UNIX timestamp from date: 1607616914\n",
            "Tweet: Have you been identified as clinically extremely vulnerable? \n",
            "\n",
            "New government #COVID19 guidelines from Wed 2 Dec which include: socialising inside and outside the home, work, education, travel, going to shops and pharmacies &gt; https://t.co/G4fW5rzaat\n",
            "#shielding #staysafe https://t.co/Ll6o7oqDG5\n",
            "Hashtags: [{'text': 'COVID19', 'indices': [78, 86]}, {'text': 'shielding', 'indices': [253, 263]}, {'text': 'staysafe', 'indices': [264, 273]}]\n",
            "Unique hashtags: {'shielding', 'COVID19', 'staysafe'}\n",
            "Favorite count: 0\n",
            "Retweet count: 0\n",
            "Source: <a href=\"https://www.hootsuite.com\" rel=\"nofollow\">Hootsuite Inc.</a>\n",
            "User handle: HI_Advocacy\n",
            "User name: HI_Advocacy\n",
            "Date and time: Thu Dec 10 15:50:00 +0000 2020\n",
            "UNIX timestamp from date: 1607615400\n",
            "Tweet: #COVID19 has disrupted #education, affecting in particular for children with #disabilities. Let’s ensure the right to education, during and beyond the pandemic. Collaboration across sectors is essential! #SDG4. Read our report 👉👉 https://t.co/FRipv0PEL9 https://t.co/M6Ro1G6SZe\n",
            "Hashtags: [{'text': 'COVID19', 'indices': [0, 8]}, {'text': 'education', 'indices': [23, 33]}, {'text': 'disabilities', 'indices': [77, 90]}, {'text': 'SDG4', 'indices': [204, 209]}]\n",
            "Unique hashtags: {'disabilities', 'COVID19', 'SDG4', 'education'}\n",
            "Favorite count: 8\n",
            "Retweet count: 2\n",
            "Source: <a href=\"https://mobile.twitter.com\" rel=\"nofollow\">Twitter Web App</a>\n",
            "User handle: ScienceBoostCIC\n",
            "User name: Science Boost CIC\n",
            "Date and time: Thu Dec 10 15:22:08 +0000 2020\n",
            "UNIX timestamp from date: 1607613728\n",
            "Tweet: #COVID19 cancelled your staff party? Become #XmasPartyHeroes for #Christmas2020 by donating your party fund to a charitable cause.  We’d love to have your support! https://t.co/QNln78tsjH https://t.co/vg7nkCn1sY\n",
            "Hashtags: [{'text': 'COVID19', 'indices': [0, 8]}, {'text': 'XmasPartyHeroes', 'indices': [44, 60]}, {'text': 'Christmas2020', 'indices': [65, 79]}]\n",
            "Unique hashtags: {'COVID19', 'Christmas2020', 'XmasPartyHeroes'}\n",
            "Favorite count: 0\n",
            "Retweet count: 1\n",
            "Source: <a href=\"http://twitter.com/download/iphone\" rel=\"nofollow\">Twitter for iPhone</a>\n",
            "User handle: Kineara\n",
            "User name: Kineara\n",
            "Date and time: Thu Dec 10 15:06:14 +0000 2020\n",
            "UNIX timestamp from date: 1607612774\n",
            "Tweet: The disproportionate impact of #Covid19 has shown us that holistic, tailored support for the most vulnerable is more important than ever.\n",
            "\n",
            "☑️ Housing is a human right\n",
            "☑️ Education is a human right\n",
            "☑️ Employment is a human right\n",
            "\n",
            "Read more: https://t.co/SYg9PAMOqO\n",
            "\n",
            "#HumanRightsDay https://t.co/qjOJ8OGzAz\n",
            "Hashtags: [{'text': 'Covid19', 'indices': [31, 39]}, {'text': 'HumanRightsDay', 'indices': [265, 280]}]\n"
          ]
        },
        {
          "name": "stdout",
          "output_type": "stream",
          "text": [
            "Unique hashtags: {'HumanRightsDay', 'Covid19'}\n",
            "Favorite count: 1\n",
            "Retweet count: 0\n",
            "Source: <a href=\"http://twitter.com/download/iphone\" rel=\"nofollow\">Twitter for iPhone</a>\n",
            "User handle: VVOBvzw\n",
            "User name: VVOB - education for development\n",
            "Date and time: Thu Dec 10 14:36:36 +0000 2020\n",
            "UNIX timestamp from date: 1607610996\n",
            "Tweet: #Education is 🔑 to tackle entrenched, systematic &amp; intergenerational inequalities, exclusion &amp; discrimination. We must #UniteToProtect the right to education in the #COVID19 recovery process.\n",
            "\n",
            "#RecoverBetter. Together. #HumanRightsDay\n",
            "\n",
            "@EAA_Foundation @UNHumanRights @mbachelet https://t.co/t4oopffYyQ\n",
            "Hashtags: [{'text': 'Education', 'indices': [0, 10]}, {'text': 'UniteToProtect', 'indices': [127, 142]}, {'text': 'COVID19', 'indices': [173, 181]}, {'text': 'RecoverBetter', 'indices': [201, 215]}, {'text': 'HumanRightsDay', 'indices': [227, 242]}]\n",
            "Unique hashtags: {'UniteToProtect', 'HumanRightsDay', 'Education', 'COVID19', 'RecoverBetter'}\n",
            "Favorite count: 7\n",
            "Retweet count: 2\n",
            "Source: <a href=\"https://mobile.twitter.com\" rel=\"nofollow\">Twitter Web App</a>\n",
            "User handle: NLNetherlands\n",
            "User name: Netherlands\n",
            "Date and time: Thu Dec 10 14:23:22 +0000 2020\n",
            "UNIX timestamp from date: 1607610202\n",
            "Tweet: The Netherlands has pledged 1 million euros to support @SheDecidesGFI as the right to safe abortion is a human right. Read why #COVID19 makes this issue urgent https://t.co/xror3jKA66 #humanrights #WhyAbortionWhyNow https://t.co/8fYpEHmJLS\n",
            "Hashtags: [{'text': 'COVID19', 'indices': [127, 135]}, {'text': 'humanrights', 'indices': [184, 196]}, {'text': 'WhyAbortionWhyNow', 'indices': [197, 215]}]\n",
            "Unique hashtags: {'humanrights', 'COVID19', 'WhyAbortionWhyNow'}\n",
            "Favorite count: 6\n",
            "Retweet count: 2\n",
            "Source: <a href=\"https://mobile.twitter.com\" rel=\"nofollow\">Twitter Web App</a>\n",
            "User handle: EuroHealthNet\n",
            "User name: EuroHealthNet\n",
            "Date and time: Thu Dec 10 13:43:06 +0000 2020\n",
            "UNIX timestamp from date: 1607607786\n",
            "Tweet: .@ProfBambra:\"Seeing COVID19 as a syndemic pandemic helps us understand how it interacts with existing epidemics of #NCDs and inequalities. This interaction makes particular groups more vulnerable during the pandemic.\"\n",
            "\n",
            "-@UNESCOchairGH-@CHAIN_NTNU webinar on education &amp; #COVID19 https://t.co/BlYKfo894g\n",
            "Hashtags: [{'text': 'NCDs', 'indices': [116, 121]}, {'text': 'COVID19', 'indices': [275, 283]}]\n",
            "Unique hashtags: {'COVID19', 'NCDs'}\n",
            "Favorite count: 6\n",
            "Retweet count: 3\n",
            "Source: <a href=\"https://mobile.twitter.com\" rel=\"nofollow\">Twitter Web App</a>\n",
            "User handle: StudyTravelLtd\n",
            "User name: StudyTravel Ltd\n",
            "Date and time: Thu Dec 10 12:30:00 +0000 2020\n",
            "UNIX timestamp from date: 1607603400\n",
            "Tweet: In this week's View From the Desk, Pat Moores, Director of UK Education Guide, writes about ensuring mental wellbeing of #international #students and staff at boarding #schools during #Covid19.\n",
            "\n",
            "Read it here: https://t.co/Dz6QwEoIme https://t.co/LyYGGEDRxo\n",
            "Hashtags: [{'text': 'international', 'indices': [121, 135]}, {'text': 'students', 'indices': [136, 145]}, {'text': 'schools', 'indices': [168, 176]}, {'text': 'Covid19', 'indices': [184, 192]}]\n",
            "Unique hashtags: {'schools', 'Covid19', 'students', 'international'}\n",
            "Favorite count: 0\n",
            "Retweet count: 0\n",
            "Source: <a href=\"https://about.twitter.com/products/tweetdeck\" rel=\"nofollow\">TweetDeck</a>\n",
            "User handle: DrChris_Walker\n",
            "User name: Chris Walker\n",
            "Date and time: Thu Dec 10 12:26:31 +0000 2020\n",
            "UNIX timestamp from date: 1607603191\n",
            "Tweet: The entire yr 9 at my daughter’s school in #Leeds  are off until 4 Jan - having had all week off.\n",
            "\n",
            "Very worrying that only 4 students attended the Teams Spanish class that she was just on despite every child having a school iPad.   #education #COVID19\n",
            "Hashtags: [{'text': 'Leeds', 'indices': [43, 49]}, {'text': 'education', 'indices': [232, 242]}, {'text': 'COVID19', 'indices': [243, 251]}]\n",
            "Unique hashtags: {'education', 'Leeds', 'COVID19'}\n",
            "Favorite count: 0\n",
            "Retweet count: 0\n",
            "Source: <a href=\"https://mobile.twitter.com\" rel=\"nofollow\">Twitter Web App</a>\n",
            "User handle: StuDempster\n",
            "User name: Stuart Dempster\n",
            "Date and time: Thu Dec 10 11:49:25 +0000 2020\n",
            "UNIX timestamp from date: 1607600965\n",
            "Tweet: Dismayed and disappointed by the move by @pearson to reduce DRM limit from 5% print, copy and paste to 0% on the @ProQuest Ebook Central Platform. Must be part of the 'heartfelt thank you' to education cited in Pearson global response to #COVID19 perhaps? https://t.co/gQOOtqJRDj\n",
            "Hashtags: [{'text': 'COVID19', 'indices': [238, 246]}]\n",
            "Unique hashtags: {'COVID19'}\n",
            "Favorite count: 18\n",
            "Retweet count: 7\n",
            "Source: <a href=\"https://mobile.twitter.com\" rel=\"nofollow\">Twitter Web App</a>\n",
            "User handle: CamberwellAcup\n",
            "User name: The Get Well Clinic\n",
            "Date and time: Thu Dec 10 11:32:24 +0000 2020\n",
            "UNIX timestamp from date: 1607599944\n",
            "Tweet: #Acupuncture can help restore #olfaction. Loss of or change to smell and taste is on the NHS list of #COVID19 symptoms. https://t.co/YSiWx8U0cI via @acupunctureCEUs https://t.co/Z6mUsopIfc\n",
            "Hashtags: [{'text': 'Acupuncture', 'indices': [0, 12]}, {'text': 'olfaction', 'indices': [30, 40]}, {'text': 'COVID19', 'indices': [101, 109]}]\n",
            "Unique hashtags: {'olfaction', 'Acupuncture', 'COVID19'}\n",
            "Favorite count: 1\n",
            "Retweet count: 0\n",
            "Source: <a href=\"https://mobile.twitter.com\" rel=\"nofollow\">Twitter Web App</a>\n",
            "User handle: OceaneToffoli\n",
            "User name: Océane T.\n",
            "Date and time: Thu Dec 10 11:20:36 +0000 2020\n",
            "UNIX timestamp from date: 1607599236\n",
            "Tweet: \". . . libraries don’t just provide books, but also serve as a solution for unemployment, an antidote for mental health crises, and a respite from the rat race of life.\" https://t.co/QMlwTzeTPk \n",
            "\n",
            "@navneetgidda @centreforlondon #LibrariesMatter #Covid19 #LivingStandards #Education\n",
            "Hashtags: [{'text': 'LibrariesMatter', 'indices': [227, 243]}, {'text': 'Covid19', 'indices': [244, 252]}, {'text': 'LivingStandards', 'indices': [253, 269]}, {'text': 'Education', 'indices': [270, 280]}]\n",
            "Unique hashtags: {'LibrariesMatter', 'Covid19', 'Education', 'LivingStandards'}\n",
            "Favorite count: 2\n",
            "Retweet count: 2\n",
            "Source: <a href=\"https://mobile.twitter.com\" rel=\"nofollow\">Twitter Web App</a>\n",
            "User handle: _MyFutureChoice\n",
            "User name: MyFutureChoice\n",
            "Date and time: Thu Dec 10 11:09:32 +0000 2020\n",
            "UNIX timestamp from date: 1607598572\n",
            "Tweet: @_MyUniChoices Schools in England can close for Christmas a day early... \n",
            "\n",
            "Schools are looking for the best way to operate as we get closer to Christmas to give teachers a break and allow six clear days before Christmas Eve. \n",
            "\n",
            "https://t.co/0ACynizYYL\n",
            "\n",
            "#education\n",
            "#Covid19\n",
            "Hashtags: [{'text': 'education', 'indices': [252, 262]}, {'text': 'Covid19', 'indices': [263, 271]}]\n",
            "Unique hashtags: {'education', 'Covid19'}\n",
            "Favorite count: 0\n",
            "Retweet count: 0\n",
            "Source: <a href=\"https://mobile.twitter.com\" rel=\"nofollow\">Twitter Web App</a>\n",
            "User handle: _MyFutureChoice\n",
            "User name: MyFutureChoice\n",
            "Date and time: Thu Dec 10 11:08:47 +0000 2020\n",
            "UNIX timestamp from date: 1607598527\n",
            "Tweet: Schools in England can close for Christmas a day early... \n",
            "\n",
            "Schools are looking for the best way to operate as we get closer to Christmas to give teachers a break and allow six clear days before Christmas Eve. \n",
            "\n",
            "https://t.co/0ACynizYYL\n",
            "\n",
            "#education\n",
            "#Covid19\n",
            "#MyCareerChoices https://t.co/0hKqbUcdsb\n",
            "Hashtags: [{'text': 'education', 'indices': [237, 247]}, {'text': 'Covid19', 'indices': [248, 256]}, {'text': 'MyCareerChoices', 'indices': [257, 273]}]\n",
            "Unique hashtags: {'education', 'Covid19', 'MyCareerChoices'}\n",
            "Favorite count: 0\n",
            "Retweet count: 0\n",
            "Source: <a href=\"https://mobile.twitter.com\" rel=\"nofollow\">Twitter Web App</a>\n",
            "User handle: aristeidoum\n",
            "User name: Maria Aristeidou\n",
            "Date and time: Thu Dec 10 10:40:29 +0000 2020\n",
            "UNIX timestamp from date: 1607596829\n",
            "Tweet: Our #COVID19 research featured in Times Higher Education, highlighting the importance of funding extension and coping mechanisms in lowering the depression levels of PhD students. Thanks to our participants!\n",
            "#phdchat #AcademicChatter #highered\n",
            "#Wellbeing @OpenUniversity\n",
            " @IETatOU https://t.co/WVo6758zM9\n",
            "Hashtags: [{'text': 'COVID19', 'indices': [4, 12]}, {'text': 'phdchat', 'indices': [208, 216]}, {'text': 'AcademicChatter', 'indices': [217, 233]}, {'text': 'highered', 'indices': [234, 243]}, {'text': 'Wellbeing', 'indices': [244, 254]}]\n",
            "Unique hashtags: {'AcademicChatter', 'highered', 'COVID19', 'Wellbeing', 'phdchat'}\n",
            "Favorite count: 21\n",
            "Retweet count: 8\n",
            "Source: <a href=\"https://mobile.twitter.com\" rel=\"nofollow\">Twitter Web App</a>\n",
            "User handle: HWNewcastle\n",
            "User name: Healthwatch Newcastle\n",
            "Date and time: Thu Dec 10 10:40:03 +0000 2020\n",
            "UNIX timestamp from date: 1607596803\n",
            "Tweet: Have you been identified as clinically extremely vulnerable? \n",
            "\n",
            "New government #COVID19 guidelines include: socialising inside and outside the home, work, education, travel, going to shops and pharmacies &gt; https://t.co/JvQaFjnzSq\n",
            "#shielding #staysafe https://t.co/r0yMyXjqCk\n",
            "Hashtags: [{'text': 'COVID19', 'indices': [78, 86]}, {'text': 'shielding', 'indices': [232, 242]}, {'text': 'staysafe', 'indices': [243, 252]}]\n",
            "Unique hashtags: {'shielding', 'COVID19', 'staysafe'}\n",
            "Favorite count: 0\n",
            "Retweet count: 0\n",
            "Source: <a href=\"https://www.hootsuite.com\" rel=\"nofollow\">Hootsuite Inc.</a>\n",
            "User handle: yates_rob\n",
            "User name: Rob Yates\n",
            "Date and time: Thu Dec 10 10:37:27 +0000 2020\n",
            "UNIX timestamp from date: 1607596647\n",
            "Tweet: For decades, gaps have been growing within &amp; between countries in access to health, education and opportunity.\n",
            "\n",
            "#COVID19 is exacerbating these injustices. We must prioritize the most marginalized in the pandemic response to build a more equitable future. #HealthForAll\n",
            "Hashtags: [{'text': 'COVID19', 'indices': [116, 124]}, {'text': 'HealthForAll', 'indices': [259, 272]}]\n",
            "Unique hashtags: {'COVID19', 'HealthForAll'}\n",
            "Favorite count: 8\n",
            "Retweet count: 2\n",
            "Source: <a href=\"https://mobile.twitter.com\" rel=\"nofollow\">Twitter Web App</a>\n",
            "User handle: LMeredithEU\n",
            "User name: Lawrence Meredith 🇪🇺\n",
            "Date and time: Thu Dec 10 10:07:34 +0000 2020\n",
            "UNIX timestamp from date: 1607594854\n",
            "Tweet: On 10-11 Dec,🔴tune in LIVE for the 🇪🇺 @etfeuropa discussion on #education &amp; employment priorities for post-#COVID19 recovery 👉 https://t.co/rYCFJSh0Ua \n",
            "#EU4Youth #StrongerTogether @ilo @EBRD @UNIDO @UNICEF https://t.co/mqUH9pbQVD\n",
            "Hashtags: [{'text': 'education', 'indices': [63, 73]}, {'text': 'COVID19', 'indices': [111, 119]}, {'text': 'EU4Youth', 'indices': [156, 165]}, {'text': 'StrongerTogether', 'indices': [166, 183]}]\n",
            "Unique hashtags: {'StrongerTogether', 'education', 'EU4Youth', 'COVID19'}\n",
            "Favorite count: 8\n",
            "Retweet count: 4\n",
            "Source: <a href=\"https://mobile.twitter.com\" rel=\"nofollow\">Twitter Web App</a>\n",
            "User handle: AristidouAngela\n",
            "User name: Dr Angela Aristidou\n",
            "Date and time: Thu Dec 10 09:59:46 +0000 2020\n",
            "UNIX timestamp from date: 1607594386\n",
            "Tweet: Our (very timely) research features in Times Higher Education today - \n",
            "\n",
            "Big thanks to our research participants across 94 UK #Universities, and to @jgro_the. \n",
            "\n",
            "#phdchat #phdlife #ECRs \n",
            "#Wellbeing #MentalHealthAwareness \n",
            "#research \n",
            "#researchpolicy\n",
            "#HigherEducation \n",
            "#COVID19 https://t.co/RbWJlpXjma\n",
            "Hashtags: [{'text': 'Universities', 'indices': [125, 138]}, {'text': 'phdchat', 'indices': [160, 168]}, {'text': 'phdlife', 'indices': [169, 177]}, {'text': 'ECRs', 'indices': [178, 183]}, {'text': 'Wellbeing', 'indices': [185, 195]}, {'text': 'MentalHealthAwareness', 'indices': [196, 218]}, {'text': 'research', 'indices': [220, 229]}, {'text': 'researchpolicy', 'indices': [231, 246]}, {'text': 'HigherEducation', 'indices': [247, 263]}, {'text': 'COVID19', 'indices': [265, 273]}]\n",
            "Unique hashtags: {'researchpolicy', 'Universities', 'COVID19', 'HigherEducation', 'Wellbeing', 'phdlife', 'phdchat', 'ECRs', 'MentalHealthAwareness', 'research'}\n",
            "Favorite count: 4\n",
            "Retweet count: 0\n",
            "Source: <a href=\"http://twitter.com/download/iphone\" rel=\"nofollow\">Twitter for iPhone</a>\n",
            "User handle: inter_gen\n",
            "User name: if.org.uk\n",
            "Date and time: Thu Dec 10 09:46:00 +0000 2020\n",
            "UNIX timestamp from date: 1607593560\n",
            "Tweet: This 👇\n",
            "\n",
            "More than half of students polled report mental health slump https://t.co/ntaJP3Tmfl #students #mentalhealth #COVID19\n",
            "Hashtags: [{'text': 'students', 'indices': [93, 102]}, {'text': 'mentalhealth', 'indices': [103, 116]}, {'text': 'COVID19', 'indices': [117, 125]}]\n",
            "Unique hashtags: {'COVID19', 'mentalhealth', 'students'}\n",
            "Favorite count: 0\n",
            "Retweet count: 0\n",
            "Source: <a href=\"https://mobile.twitter.com\" rel=\"nofollow\">Twitter Web App</a>\n",
            "User handle: EIUPerspectives\n",
            "User name: EIU Perspectives\n",
            "Date and time: Thu Dec 10 09:30:01 +0000 2020\n",
            "UNIX timestamp from date: 1607592601\n",
            "Tweet: School closures during #covid19 pandemic affected nearly 90% of students enrolled globally, forcing #education industry to rethink its strategy towards #digitisation. Read report&gt; https://t.co/nDImxeQTF6 (Sponsored by: @Huawei) https://t.co/kHBbBWyKWQ\n",
            "Hashtags: [{'text': 'covid19', 'indices': [23, 31]}, {'text': 'education', 'indices': [100, 110]}, {'text': 'digitisation', 'indices': [152, 165]}]\n",
            "Unique hashtags: {'education', 'covid19', 'digitisation'}\n",
            "Favorite count: 1\n",
            "Retweet count: 0\n",
            "Source: <a href=\"https://prod1.sprinklr.com\" rel=\"nofollow\">Sprinklr Publishing</a>\n",
            "User handle: ECIUniversities\n",
            "User name: ECIU\n",
            "Date and time: Thu Dec 10 09:12:33 +0000 2020\n",
            "UNIX timestamp from date: 1607591553\n",
            "Tweet: Lessons learned from #COVID19 according to @GabrielMariya 1⃣Large disparities exist in Europe when it comes to digital technologies 2⃣We need a strategic approach to digital education 3⃣Importance of working together at EU level to help each other #EduSummitEU https://t.co/81Oz1HCQ1w\n",
            "Hashtags: [{'text': 'COVID19', 'indices': [21, 29]}, {'text': 'EduSummitEU', 'indices': [248, 260]}]\n",
            "Unique hashtags: {'COVID19', 'EduSummitEU'}\n",
            "Favorite count: 3\n",
            "Retweet count: 0\n",
            "Source: <a href=\"https://mobile.twitter.com\" rel=\"nofollow\">Twitter Web App</a>\n",
            "User handle: suklpm\n",
            "User name: laurie miles\n",
            "Date and time: Thu Dec 10 09:09:01 +0000 2020\n",
            "UNIX timestamp from date: 1607591341\n",
            "Tweet: Join us for a conversation about what the pandemic has revealed and how relationships and data help address equity gaps and mitigate learning challenges now and in the future. #COVID19 #education #equitygap https://t.co/kEK0nlKEr6\n",
            "Hashtags: [{'text': 'COVID19', 'indices': [176, 184]}, {'text': 'education', 'indices': [185, 195]}, {'text': 'equitygap', 'indices': [196, 206]}]\n",
            "Unique hashtags: {'COVID19', 'education', 'equitygap'}\n",
            "Favorite count: 0\n",
            "Retweet count: 0\n",
            "Source: <a href=\"http://dynamicsignal.com/\" rel=\"nofollow\">Dynamic Signal</a>\n"
          ]
        }
      ],
      "source": [
        "def get_tweet_timestamp(created_at):\n",
        "    # A utility function that returns UNIX timestamp from the created_at attribute\n",
        "    return int(datetime.datetime.strptime(created_at, \"%a %b %d %H:%M:%S %z %Y\").timestamp())\n",
        "\n",
        "def get_unique_hashtags(hashtags_dict, serialize=False):\n",
        "    # A utility function that returns UNIX timestamp from the created_at attribute\n",
        "    hashtags = {hashtag[\"text\"] for hashtag in hashtags_dict}\n",
        "    if serialize:\n",
        "        # Returns it as a simple string, hashtags are separated by \",\"\n",
        "        return ','.join(hashtags)\n",
        "    else:\n",
        "        return hashtags\n",
        "\n",
        "for tweet in tweets_json:\n",
        "    print(\"User handle:\",tweet[\"user\"][\"screen_name\"])\n",
        "    print(\"User name:\",tweet[\"user\"][\"name\"])\n",
        "    # In this case, name and screen_name correspond to the same value, but most of the\n",
        "    # time, it is not the case.\n",
        "\n",
        "    print(\"Date and time:\",tweet[\"created_at\"])\n",
        "    # Obtaining a UNIX timestamp from the date and time (might come handy for further\n",
        "    # analyses):\n",
        "    print(\"UNIX timestamp from date:\",get_tweet_timestamp(tweet[\"created_at\"]))\n",
        "\n",
        "    print(\"Tweet:\",tweet[\"full_text\"])\n",
        "    print(\"Hashtags:\",tweet[\"entities\"][\"hashtags\"])\n",
        "    # If you do not need the indices, this directly gives you the unique hashtags:\n",
        "    print(\"Unique hashtags:\",get_unique_hashtags(tweet[\"entities\"][\"hashtags\"]))\n",
        "    print(\"Favorite count:\",tweet[\"favorite_count\"])\n",
        "    print(\"Retweet count:\",tweet[\"retweet_count\"])\n",
        "    print(\"Source:\",tweet[\"source\"])"
      ]
    },
    {
      "cell_type": "code",
      "execution_count": null,
      "metadata": {
        "id": "f_ZwkpYifpMF"
      },
      "outputs": [],
      "source": [
        "def simplify_text(full_text):\n",
        "    # Practically replaces line breaks or other whitespace characters with a single\n",
        "    # space and then unescapes characters.\n",
        "    return html.unescape(\" \".join(full_text.split()))"
      ]
    },
    {
      "cell_type": "markdown",
      "metadata": {
        "id": "J0pq877vfpMF"
      },
      "source": [
        "\n",
        "For UK data, the same steps as above were applied. Attributes found in CSV data are the same"
      ]
    },
    {
      "cell_type": "code",
      "execution_count": null,
      "metadata": {
        "id": "hAde60gffpMF"
      },
      "outputs": [],
      "source": [
        "with open(\"tweetsUK.csv\", 'w', encoding=\"UTF-8\") as outfile:\n",
        "    writer = csv.writer(outfile, delimiter=',', quotechar='\"', quoting=csv.QUOTE_MINIMAL, lineterminator='\\n')\n",
        "    # Writing the headers\n",
        "    writer.writerow([\"screen_name\",\n",
        "                     \"follower_count\",\n",
        "                     \"timestamp\",\n",
        "                     \"text\",\n",
        "                     \"hashtags\",\n",
        "                     \"favorite_count\",\n",
        "                     \"retweet_count\",\n",
        "                    \"source\"])\n",
        "\n",
        "    # Writing each tweet on a line\n",
        "    for tweet in tweets_json:\n",
        "        writer.writerow([tweet[\"user\"][\"screen_name\"],\n",
        "\n",
        "                         tweet[\"user\"][\"followers_count\"],\n",
        "                         get_tweet_timestamp(tweet[\"created_at\"]),\n",
        "                         simplify_text(tweet[\"full_text\"]),\n",
        "                         get_unique_hashtags(tweet[\"entities\"][\"hashtags\"], serialize=True),\n",
        "                         tweet[\"favorite_count\"],\n",
        "                         tweet[\"retweet_count\"],\n",
        "                         tweet[\"source\"]])"
      ]
    },
    {
      "cell_type": "markdown",
      "metadata": {
        "id": "Vhre_w4dfpMF"
      },
      "source": [
        "The created CSV is run in the below"
      ]
    },
    {
      "cell_type": "code",
      "execution_count": null,
      "metadata": {
        "id": "sBxPF7xOfpMF",
        "outputId": "bbf26ce4-e381-4e51-e1ee-359616650372"
      },
      "outputs": [
        {
          "data": {
            "text/html": [
              "<div>\n",
              "<style scoped>\n",
              "    .dataframe tbody tr th:only-of-type {\n",
              "        vertical-align: middle;\n",
              "    }\n",
              "\n",
              "    .dataframe tbody tr th {\n",
              "        vertical-align: top;\n",
              "    }\n",
              "\n",
              "    .dataframe thead th {\n",
              "        text-align: right;\n",
              "    }\n",
              "</style>\n",
              "<table border=\"1\" class=\"dataframe\">\n",
              "  <thead>\n",
              "    <tr style=\"text-align: right;\">\n",
              "      <th></th>\n",
              "      <th>screen_name</th>\n",
              "      <th>follower_count</th>\n",
              "      <th>timestamp</th>\n",
              "      <th>text</th>\n",
              "      <th>hashtags</th>\n",
              "      <th>favorite_count</th>\n",
              "      <th>retweet_count</th>\n",
              "      <th>source</th>\n",
              "    </tr>\n",
              "  </thead>\n",
              "  <tbody>\n",
              "    <tr>\n",
              "      <th>61</th>\n",
              "      <td>mindworkmatters</td>\n",
              "      <td>4186</td>\n",
              "      <td>1607632787</td>\n",
              "      <td>Are you bridging the gap of opportunity in supporting parent engagement in education? Have you witnessed parent anxiety levels rising due to #Covid19 and would you like some help in rebuilding parent confidence? If so, please connect with me @TheEdPeople https://t.co/QqQ0EYaTXx</td>\n",
              "      <td>Covid19</td>\n",
              "      <td>2</td>\n",
              "      <td>0</td>\n",
              "      <td>&lt;a href=\"http://twitter.com/download/iphone\" rel=\"nofollow\"&gt;Twitter for iPhone&lt;/a&gt;</td>\n",
              "    </tr>\n",
              "    <tr>\n",
              "      <th>56</th>\n",
              "      <td>lackysingh1980</td>\n",
              "      <td>275</td>\n",
              "      <td>1607671133</td>\n",
              "      <td>Thank you to @solentuni &amp; @SmallBizCharter for providing practical expertise, support &amp; timely training to help business leaders combat #COVID19 and plan for economic recovery @SUS_Business @_indiagroup #Resilience #Agility #Education #Innovation #GlobalBritain #Southampton https://t.co/gSU8xnfjVM</td>\n",
              "      <td>Agility,Education,COVID19,Innovation,Resilience,GlobalBritain,Southampton</td>\n",
              "      <td>6</td>\n",
              "      <td>0</td>\n",
              "      <td>&lt;a href=\"http://twitter.com/download/iphone\" rel=\"nofollow\"&gt;Twitter for iPhone&lt;/a&gt;</td>\n",
              "    </tr>\n",
              "    <tr>\n",
              "      <th>92</th>\n",
              "      <td>HWNewcastle</td>\n",
              "      <td>2484</td>\n",
              "      <td>1607596803</td>\n",
              "      <td>Have you been identified as clinically extremely vulnerable? New government #COVID19 guidelines include: socialising inside and outside the home, work, education, travel, going to shops and pharmacies &gt; https://t.co/JvQaFjnzSq #shielding #staysafe https://t.co/r0yMyXjqCk</td>\n",
              "      <td>shielding,COVID19,staysafe</td>\n",
              "      <td>0</td>\n",
              "      <td>0</td>\n",
              "      <td>&lt;a href=\"https://www.hootsuite.com\" rel=\"nofollow\"&gt;Hootsuite Inc.&lt;/a&gt;</td>\n",
              "    </tr>\n",
              "  </tbody>\n",
              "</table>\n",
              "</div>"
            ],
            "text/plain": [
              "        screen_name  follower_count   timestamp  \\\n",
              "61  mindworkmatters  4186            1607632787   \n",
              "56  lackysingh1980   275             1607671133   \n",
              "92  HWNewcastle      2484            1607596803   \n",
              "\n",
              "                                                                                                                                                                                                                                                                                                          text  \\\n",
              "61  Are you bridging the gap of opportunity in supporting parent engagement in education? Have you witnessed parent anxiety levels rising due to #Covid19 and would you like some help in rebuilding parent confidence? If so, please connect with me @TheEdPeople https://t.co/QqQ0EYaTXx                       \n",
              "56  Thank you to @solentuni & @SmallBizCharter for providing practical expertise, support & timely training to help business leaders combat #COVID19 and plan for economic recovery @SUS_Business @_indiagroup #Resilience #Agility #Education #Innovation #GlobalBritain #Southampton https://t.co/gSU8xnfjVM   \n",
              "92  Have you been identified as clinically extremely vulnerable? New government #COVID19 guidelines include: socialising inside and outside the home, work, education, travel, going to shops and pharmacies > https://t.co/JvQaFjnzSq #shielding #staysafe https://t.co/r0yMyXjqCk                              \n",
              "\n",
              "                                                                     hashtags  \\\n",
              "61  Covid19                                                                     \n",
              "56  Agility,Education,COVID19,Innovation,Resilience,GlobalBritain,Southampton   \n",
              "92  shielding,COVID19,staysafe                                                  \n",
              "\n",
              "    favorite_count  retweet_count  \\\n",
              "61  2               0               \n",
              "56  6               0               \n",
              "92  0               0               \n",
              "\n",
              "                                                                                source  \n",
              "61  <a href=\"http://twitter.com/download/iphone\" rel=\"nofollow\">Twitter for iPhone</a>  \n",
              "56  <a href=\"http://twitter.com/download/iphone\" rel=\"nofollow\">Twitter for iPhone</a>  \n",
              "92  <a href=\"https://www.hootsuite.com\" rel=\"nofollow\">Hootsuite Inc.</a>               "
            ]
          },
          "execution_count": 1143,
          "metadata": {},
          "output_type": "execute_result"
        }
      ],
      "source": [
        "import pandas as pd\n",
        "import html\n",
        "\n",
        "# Importing it using Pandas:\n",
        "datasetUk = pd.read_csv(\"tweetsUK.csv\")\n",
        "\n",
        "\n",
        "datasetUk.sample(3)"
      ]
    },
    {
      "cell_type": "markdown",
      "metadata": {
        "id": "wh7xPAtQfpMG"
      },
      "source": [
        "Twitter data taken from England is above. We checked how many attributes and observations this data consists of. The dimension of data is 100 and 8. That means, there is 100 tweets and 8 attributes."
      ]
    },
    {
      "cell_type": "code",
      "execution_count": null,
      "metadata": {
        "id": "aOtyES9ufpMG",
        "outputId": "dd9a6b9a-0b16-4f0e-afd4-7132e15ab87e"
      },
      "outputs": [
        {
          "data": {
            "text/plain": [
              "(100, 8)"
            ]
          },
          "execution_count": 1144,
          "metadata": {},
          "output_type": "execute_result"
        }
      ],
      "source": [
        "datasetUk.shape"
      ]
    },
    {
      "cell_type": "markdown",
      "metadata": {
        "id": "6ttjhZHWfpMG"
      },
      "source": [
        "Although the data was taken in English, the language of the data was checked again. According to the result, all of tweets' language is English."
      ]
    },
    {
      "cell_type": "code",
      "execution_count": null,
      "metadata": {
        "id": "7sF6xM5PfpMG",
        "outputId": "ce90bc73-dc82-4b0a-e064-1b8106605502"
      },
      "outputs": [
        {
          "data": {
            "text/plain": [
              "en    100\n",
              "Name: lang, dtype: int64"
            ]
          },
          "execution_count": 1145,
          "metadata": {},
          "output_type": "execute_result"
        }
      ],
      "source": [
        "from langdetect import detect\n",
        "\n",
        "def detect_tweet_lang(tweet):\n",
        "    # This roughly removes user handles and URLs:\n",
        "#     tweet = ' '.join(re.sub(\"(@[A-Za-z0-9_\\-]+ )|(https?:\\/\\/.* )|(www\\..* )\",\" \",tweet).split())\n",
        "    try:\n",
        "        lang = detect(tweet)\n",
        "    except:\n",
        "        lang = \"\"\n",
        "\n",
        "    return lang\n",
        "#this code enables us to understande the language of tweets\n",
        "datasetUk[\"lang\"] = datasetUk[\"text\"].map(detect_tweet_lang)\n",
        "\n",
        "# Summarizes detected language counts:\n",
        "datasetUk[\"lang\"].value_counts()\n",
        "#It is filtered that the language of tweets and the result shows there is only english tweets\n"
      ]
    },
    {
      "cell_type": "markdown",
      "metadata": {
        "id": "Jub5KlyVfpMG"
      },
      "source": [
        "\n",
        "The following steps were made to have the same structure as the data taken from America.\n",
        "\n",
        "The most important part of the data to be analyzed is the text part. Although we tried to simplify the data in previous codes, the data contains too many elements. Therefore, the things that break the text integrity in the text are transferred to other columns. This transferred data also contains important information. This will be studied in the following sections of this analysis. Hashtags and links in the text have been transferred to new columns. And most importantly, the cleaned data is in a new column called clean_text."
      ]
    },
    {
      "cell_type": "code",
      "execution_count": null,
      "metadata": {
        "id": "DntYEPUPfpMG",
        "outputId": "8dcfe29a-c2eb-4533-a50f-7e5c05986221"
      },
      "outputs": [
        {
          "data": {
            "text/html": [
              "<div>\n",
              "<style scoped>\n",
              "    .dataframe tbody tr th:only-of-type {\n",
              "        vertical-align: middle;\n",
              "    }\n",
              "\n",
              "    .dataframe tbody tr th {\n",
              "        vertical-align: top;\n",
              "    }\n",
              "\n",
              "    .dataframe thead th {\n",
              "        text-align: right;\n",
              "    }\n",
              "</style>\n",
              "<table border=\"1\" class=\"dataframe\">\n",
              "  <thead>\n",
              "    <tr style=\"text-align: right;\">\n",
              "      <th></th>\n",
              "      <th>screen_name</th>\n",
              "      <th>follower_count</th>\n",
              "      <th>timestamp</th>\n",
              "      <th>text</th>\n",
              "      <th>hashtags</th>\n",
              "      <th>favorite_count</th>\n",
              "      <th>retweet_count</th>\n",
              "      <th>source</th>\n",
              "      <th>lang</th>\n",
              "      <th>tags</th>\n",
              "      <th>links</th>\n",
              "      <th>clean_text</th>\n",
              "    </tr>\n",
              "  </thead>\n",
              "  <tbody>\n",
              "    <tr>\n",
              "      <th>31</th>\n",
              "      <td>julzfen</td>\n",
              "      <td>90</td>\n",
              "      <td>1607726277</td>\n",
              "      <td>Does any person of influence understand the reality of teaching a class in real time and live streaming at the same time? #COVID19 #edchat #education #learning #school</td>\n",
              "      <td>school,education,edchat,COVID19,learning</td>\n",
              "      <td>0</td>\n",
              "      <td>1</td>\n",
              "      <td>&lt;a href=\"http://twitter.com/download/iphone\" rel=\"nofollow\"&gt;Twitter for iPhone&lt;/a&gt;</td>\n",
              "      <td>en</td>\n",
              "      <td>[]</td>\n",
              "      <td>[]</td>\n",
              "      <td>Does any person of influence understand the reality of teaching a class in real time and live streaming at the same time? COVID19 edchat education learning school</td>\n",
              "    </tr>\n",
              "    <tr>\n",
              "      <th>91</th>\n",
              "      <td>aristeidoum</td>\n",
              "      <td>700</td>\n",
              "      <td>1607596829</td>\n",
              "      <td>Our #COVID19 research featured in Times Higher Education, highlighting the importance of funding extension and coping mechanisms in lowering the depression levels of PhD students. Thanks to our participants! #phdchat #AcademicChatter #highered #Wellbeing @OpenUniversity @IETatOU https://t.co/WVo6758zM9</td>\n",
              "      <td>AcademicChatter,highered,COVID19,Wellbeing,phdchat</td>\n",
              "      <td>21</td>\n",
              "      <td>8</td>\n",
              "      <td>&lt;a href=\"https://mobile.twitter.com\" rel=\"nofollow\"&gt;Twitter Web App&lt;/a&gt;</td>\n",
              "      <td>en</td>\n",
              "      <td>[@OpenUniversity, @IETatOU]</td>\n",
              "      <td>[https://t.co/WVo6758zM9]</td>\n",
              "      <td>Our COVID19 research featured in Times Higher Education, highlighting the importance of funding extension and coping mechanisms in lowering the depression levels of PhD students. Thanks to our participants! phdchat AcademicChatter highered Wellbeing</td>\n",
              "    </tr>\n",
              "  </tbody>\n",
              "</table>\n",
              "</div>"
            ],
            "text/plain": [
              "    screen_name  follower_count   timestamp  \\\n",
              "31  julzfen      90              1607726277   \n",
              "91  aristeidoum  700             1607596829   \n",
              "\n",
              "                                                                                                                                                                                                                                                                                                               text  \\\n",
              "31  Does any person of influence understand the reality of teaching a class in real time and live streaming at the same time? #COVID19 #edchat #education #learning #school                                                                                                                                           \n",
              "91  Our #COVID19 research featured in Times Higher Education, highlighting the importance of funding extension and coping mechanisms in lowering the depression levels of PhD students. Thanks to our participants! #phdchat #AcademicChatter #highered #Wellbeing @OpenUniversity @IETatOU https://t.co/WVo6758zM9   \n",
              "\n",
              "                                              hashtags  favorite_count  \\\n",
              "31  school,education,edchat,COVID19,learning            0                \n",
              "91  AcademicChatter,highered,COVID19,Wellbeing,phdchat  21               \n",
              "\n",
              "    retweet_count  \\\n",
              "31  1               \n",
              "91  8               \n",
              "\n",
              "                                                                                source  \\\n",
              "31  <a href=\"http://twitter.com/download/iphone\" rel=\"nofollow\">Twitter for iPhone</a>   \n",
              "91  <a href=\"https://mobile.twitter.com\" rel=\"nofollow\">Twitter Web App</a>              \n",
              "\n",
              "   lang                         tags                      links  \\\n",
              "31  en   []                           []                          \n",
              "91  en   [@OpenUniversity, @IETatOU]  [https://t.co/WVo6758zM9]   \n",
              "\n",
              "                                                                                                                                                                                                                                                   clean_text  \n",
              "31  Does any person of influence understand the reality of teaching a class in real time and live streaming at the same time? COVID19 edchat education learning school                                                                                         \n",
              "91  Our COVID19 research featured in Times Higher Education, highlighting the importance of funding extension and coping mechanisms in lowering the depression levels of PhD students. Thanks to our participants! phdchat AcademicChatter highered Wellbeing  "
            ]
          },
          "execution_count": 1146,
          "metadata": {},
          "output_type": "execute_result"
        }
      ],
      "source": [
        "def get_at(row):\n",
        "    return re.findall(\"@[\\w]+\", row[\"text\"])\n",
        "\n",
        "def get_http(row):\n",
        "    return re.findall(\"http[\\:\\/\\.\\w]+\", row[\"text\"])\n",
        "\n",
        "def get_hashtags(row):\n",
        "    return re.findall(\"#[\\w]+\", row[\"text\"])\n",
        "\n",
        "\n",
        "def number_of_hashs(row):\n",
        "    return len(row[\"hashtags\"])\n",
        "\n",
        "def clean_text(row):\n",
        "    clean = row[\"text\"]\n",
        "\n",
        "    if len(row[\"tags\"]) != 0:\n",
        "        for word in row[\"tags\"]:\n",
        "            clean = clean.replace(word, \"\")\n",
        "\n",
        "    if len(row[\"links\"]) != 0:\n",
        "        for word in row[\"links\"]:\n",
        "            clean = clean.replace(word, \"\")\n",
        "\n",
        "    #only remove the # symbol\n",
        "    clean = clean.replace(\"#\", \"\").replace(\"/\", \"\").replace(\"(\", \"\").replace(\")\", \"\")\n",
        "\n",
        "    return clean.strip()\n",
        "\n",
        "datasetUk[\"tags\"] = datasetUk.apply(lambda row: get_at(row), axis = 1)\n",
        "datasetUk[\"links\"] =datasetUk.apply(lambda row: get_http(row), axis = 1)\n",
        "datasetUk[\"clean_text\"] = datasetUk.apply(lambda row: clean_text(row), axis = 1)\n",
        "datasetUk.sample(2)"
      ]
    },
    {
      "cell_type": "markdown",
      "metadata": {
        "id": "Y5peFxagfpMH"
      },
      "source": [
        "In the above result, two observations were taken from the data. In the newly created data, the cleared version of the text, hashtags and link are seen separately.\n",
        "\n",
        "In addition, the commas in the hashtags have been removed because they will be a problem for the further steps of the analysis."
      ]
    },
    {
      "cell_type": "code",
      "execution_count": null,
      "metadata": {
        "id": "rEZ_baxgfpMH",
        "outputId": "b1e8c622-459f-4ce3-8eed-23d5b3ce322a"
      },
      "outputs": [
        {
          "data": {
            "text/plain": [
              "0    coronavirus Cyprus Cypruscoronavirus covid19 Cypriotstudents Cypruslockdownmeasures covid19tests covid19vaccineCyprus Cyprusairports\n",
              "1    tier3 covid19 CovidChristmas london                                                                                                 \n",
              "2    COVID19                                                                                                                             \n",
              "3    COVID19                                                                                                                             \n",
              "4    COVID19                                                                                                                             \n",
              "Name: hashtags, dtype: object"
            ]
          },
          "execution_count": 1147,
          "metadata": {},
          "output_type": "execute_result"
        }
      ],
      "source": [
        "# remove punctuation\n",
        "datasetUk['hashtags'] = datasetUk['hashtags'].map(lambda x: re.sub('[,\\@#.!?]', \" \", x))\n",
        "datasetUk['hashtags'].head()"
      ]
    },
    {
      "cell_type": "code",
      "execution_count": null,
      "metadata": {
        "id": "gVL-8Kx4fpMH"
      },
      "outputs": [],
      "source": [
        "#It is applied fot removing emojis and in the further steps ı also applied\n",
        "#But unfortunely, ı couldnt work it\n",
        "\n",
        "def remove_emoji(clean_textUk):\n",
        "    emoji_pattern = re.compile(\"[\"\n",
        "                               u\"\\U0001F600-\\U0001F64F\"  # emoticons\n",
        "                               u\"\\U0001F300-\\U0001F5FF\"  # symbols & pictographs\n",
        "                               u\"\\U0001F680-\\U0001F6FF\"  # transport & map symbols\n",
        "                               u\"\\U0001F1E0-\\U0001F1FF\"  # flags (iOS)\n",
        "                               u\"\\U00002500-\\U00002BEF\"  # chinese char\n",
        "                               u\"\\U00002702-\\U000027B0\"\n",
        "                               u\"\\U00002702-\\U000027B0\"\n",
        "                               u\"\\U000024C2-\\U0001F251\"\n",
        "                               u\"\\U0001f926-\\U0001f937\"\n",
        "                               u\"\\U00010000-\\U0010ffff\"\n",
        "                               u\"\\u2640-\\u2642\"\n",
        "                               u\"\\u2600-\\u2B55\"\n",
        "                               u\"\\u200d\"\n",
        "                               u\"\\u23cf\"\n",
        "                               u\"\\u23e9\"\n",
        "                               u\"\\u231a\"\n",
        "                               u\"\\ufe0f\"  # dingbats\n",
        "                               u\"\\u3030\"\n",
        "                               \"]+\", flags=re.UNICODE)\n",
        "    return emoji_pattern.sub(r'', clean_textUk)"
      ]
    },
    {
      "cell_type": "markdown",
      "metadata": {
        "id": "YkLcnKdpfpMH"
      },
      "source": [
        "\n",
        "Although the contents of the text were cleared before, at this stage, any signs in the text were removed. Additionally words have been changed from uppercase to lowercase"
      ]
    },
    {
      "cell_type": "code",
      "execution_count": null,
      "metadata": {
        "id": "JxL7mwPMfpMH",
        "outputId": "2ae57db0-3406-44df-c3ac-2fc1c360616f"
      },
      "outputs": [
        {
          "data": {
            "text/plain": [
              "'have you been identified as clinically extremely vulnerable new government covid19 guidelines which include socialising inside and outside the home work education travel going to shops and pharmacies > shielding staysafe'"
            ]
          },
          "execution_count": 1149,
          "metadata": {},
          "output_type": "execute_result"
        }
      ],
      "source": [
        "def remove_url(datasetUk):\n",
        "    return \" \".join(re.sub(\"([^0-9A-Za-z \\t])|(\\w+:\\/\\/\\S+)\", \"\", txt).split())\n",
        "\n",
        "datasetUk[\"clean_text\"] = datasetUk[\"clean_text\"] .apply(lambda x: re.sub('[!@#$:).;,?&]', '',x.lower()))\n",
        "datasetUk[\"clean_text\"]  = datasetUk[\"clean_text\"] .apply(lambda x: re.sub('  ', ' ', x))\n",
        "datasetUk[\"clean_text\"] [45]"
      ]
    },
    {
      "cell_type": "code",
      "execution_count": null,
      "metadata": {
        "id": "dJ3GCskkfpMH",
        "outputId": "1a677d7a-f4ca-41c2-d5a4-22be065c96ef"
      },
      "outputs": [
        {
          "data": {
            "text/plain": [
              "0    a total of 1921 students absent from school on december 11 due to covid-19 cyprus education ministry says cypriotstudents cyprus coronavirus covid19 cypruscoronavirus covid19tests cyprusairports cypruslockdownmeasures covid19vaccinecyprus                 \n",
              "1    royal borough of greenwich schools to close from monday as covid-19 cases rise | tier3 london covidchristmas covid19                                                                                                                                           \n",
              "2    news education inclusion focus of groundbreaking study to tackle violent crime the has partnered with to explore patterns trends and contributory factors with a special attention paid to the covid19 period read more                                        \n",
              "3    her words resonate with me because of the covid19 related study of heart-based unwritten new covenant centered \"battle of the sexes\" based education that i'm pursuing here 2                                                                                  \n",
              "4    there's been so much reflection in the world of business industry post covid19 but there appears to no such desire for change in respect of education there is much opportunity to reset literally what it says on the tin teach the future - change the future\n",
              "5    keeping schools during a pandemic open is just irresponsible ☣️ covid19 education                                                                                                                                                                              \n",
              "6    welcome who are raising funds on givey givey community donations fundraising giving goodcauses mentalhealth education foodbanks covid19 healthcareheroes animals environmental uganda cancer                                                                   \n",
              "7    covid hero award winner spoke to leading education publication about the importance of celebrating the contributions of teachers during the covid19 pandemic                                                                                                   \n",
              "8    rt the effect of gamification elements on moocs education covid19 behavioraleconomics fintech …                                                                                                                                                                \n",
              "9    why covid is india’s chance to use artificial intelligence tech – and enter the future ai artificialintelligence machinelearning deeplearning covid19 future india                                                                                             \n",
              "Name: clean_text, dtype: object"
            ]
          },
          "execution_count": 1150,
          "metadata": {},
          "output_type": "execute_result"
        }
      ],
      "source": [
        "# The function we had also used while collecting some tweets:\n",
        "def simplify_text(text):\n",
        "    # Practically replaces line breaks or other whitespace characters with a single\n",
        "    # space and then unescapes characters.\n",
        "    return html.unescape(\" \".join(text.split()))\n",
        "\n",
        "# It looks like tweets do not require HTML-unescaping anyway, but applying\n",
        "# simplify_text() to all texts should at least get rid of unnecessary whitespace:\n",
        "datasetUk[\"clean_text\"] = datasetUk[\"clean_text\"].map(simplify_text)\n",
        "\n",
        "# This option will automatically set the column width when we display data:\n",
        "pd.set_option('display.max_colwidth', 0)\n",
        "\n",
        "# Taking a look at the tweet contents:\n",
        "datasetUk[\"clean_text\"].head(n=10)"
      ]
    },
    {
      "cell_type": "markdown",
      "metadata": {
        "id": "eHe5kRczfpMH"
      },
      "source": [
        "\n",
        "Columns name in data checked in below"
      ]
    },
    {
      "cell_type": "code",
      "execution_count": null,
      "metadata": {
        "id": "jnHpQBpkfpMH",
        "outputId": "d9047969-76a0-4b07-aff1-cae0a9e96c7e"
      },
      "outputs": [
        {
          "name": "stdout",
          "output_type": "stream",
          "text": [
            "screen_name\n",
            "follower_count\n",
            "timestamp\n",
            "text\n",
            "hashtags\n",
            "favorite_count\n",
            "retweet_count\n",
            "source\n",
            "lang\n",
            "tags\n",
            "links\n",
            "clean_text\n"
          ]
        }
      ],
      "source": [
        "for col_name in datasetUk.columns:\n",
        "    print(col_name)"
      ]
    },
    {
      "cell_type": "markdown",
      "metadata": {
        "id": "nWGCL71EfpMH"
      },
      "source": [
        "The source included in the data as an attribute was examined. How many of the same variety are subtracted and their names are renewed.The result has been checked again"
      ]
    },
    {
      "cell_type": "code",
      "execution_count": null,
      "metadata": {
        "id": "Yk1LKo1FfpMH",
        "outputId": "2f5595b4-8a09-469f-cdd2-b51bf75d75ff"
      },
      "outputs": [
        {
          "name": "stdout",
          "output_type": "stream",
          "text": [
            "source\n",
            "<a href=\"http://dynamicsignal.com/\" rel=\"nofollow\">Dynamic Signal</a>                   1 \n",
            "<a href=\"http://twitter.com/#!/download/ipad\" rel=\"nofollow\">Twitter for iPad</a>       3 \n",
            "<a href=\"http://twitter.com/download/android\" rel=\"nofollow\">Twitter for Android</a>    13\n",
            "<a href=\"http://twitter.com/download/iphone\" rel=\"nofollow\">Twitter for iPhone</a>      22\n",
            "<a href=\"https://about.twitter.com/products/tweetdeck\" rel=\"nofollow\">TweetDeck</a>     5 \n",
            "<a href=\"https://buffer.com\" rel=\"nofollow\">Buffer</a>                                  3 \n",
            "<a href=\"https://coschedule.com\" rel=\"nofollow\">CoSchedule</a>                          1 \n",
            "<a href=\"https://ifttt.com\" rel=\"nofollow\">IFTTT</a>                                    1 \n",
            "<a href=\"https://mobile.twitter.com\" rel=\"nofollow\">Twitter Web App</a>                 38\n",
            "<a href=\"https://paper.li\" rel=\"nofollow\">Paper.li</a>                                  1 \n",
            "<a href=\"https://prod1.sprinklr.com\" rel=\"nofollow\">Sprinklr Publishing</a>             1 \n",
            "<a href=\"https://sproutsocial.com\" rel=\"nofollow\">Sprout Social</a>                     3 \n",
            "<a href=\"https://www.hootsuite.com\" rel=\"nofollow\">Hootsuite Inc.</a>                   7 \n",
            "<a href=\"https://zapier.com/\" rel=\"nofollow\">Zapier.com</a>                             1 \n",
            "dtype: int64\n",
            "source\n",
            "CoSchedule             1 \n",
            "IFTTT                  1 \n",
            "Zapiercom              1 \n",
            "buffer                 3 \n",
            "dynamic signal         1 \n",
            "hootsuite              7 \n",
            "paperli                1 \n",
            "sprinklr publishing    1 \n",
            "sprout social          3 \n",
            "tweetdeck              5 \n",
            "twitter for android    13\n",
            "twitter for ipad       3 \n",
            "twitter for iphone     22\n",
            "twitter web app        38\n",
            "dtype: int64\n"
          ]
        }
      ],
      "source": [
        "change=pd.DataFrame(datasetUk, columns=[\"source\"])\n",
        "trial2=change.pivot_table(index=['source'], aggfunc='size')\n",
        "print(trial2)\n",
        "datasetUk['source'] = datasetUk['source'].replace(['<a href=\"https://www.integromat.com\" rel=\"nofollow\">Integromat</a>'],'integromat')\n",
        "datasetUk['source'] = datasetUk['source'].replace(['<a href=\"https://www.hootsuite.com\" rel=\"nofollow\">Hootsuite Inc.</a>'],'hootsuite')\n",
        "datasetUk['source'] = datasetUk['source'].replace(['<a href=\"https://studio.twitter.com\" rel=\"nofollow\">Twitter Media Studio</a>'],'twitter media studio')\n",
        "datasetUk['source'] = datasetUk['source'].replace(['<a href=\"https://sproutsocial.com\" rel=\"nofollow\">Sprout Social</a>'],'sprout social')\n",
        "datasetUk['source'] = datasetUk['source'].replace(['<a href=\"https://socialbee.io/\" rel=\"nofollow\">SocialBee.io v2</a>'],'socialbeeio')\n",
        "datasetUk['source'] = datasetUk['source'].replace(['<a href=\"https://prod1.sprinklr.com\" rel=\"nofollow\">Sprinklr Publishing</a>'],'sprinklr publishing')\n",
        "datasetUk['source'] = datasetUk['source'].replace(['<a href=\"https://paper.li\" rel=\"nofollow\">Paper.li</a>'],'paperli')\n",
        "datasetUk['source'] = datasetUk['source'].replace(['<a href=\"https://mobile.twitter.com\" rel=\"nofollow\">Twitter Web App</a>'],'twitter web app')\n",
        "datasetUk['source'] = datasetUk['source'].replace(['<a href=\"https://crowdfireapp.com\" rel=\"nofollow\">Crowdfire App</a>'],'crowdfire app')\n",
        "datasetUk['source'] = datasetUk['source'].replace(['<a href=\"https://buffer.com\" rel=\"nofollow\">Buffer</a>'],'buffer')\n",
        "datasetUk['source'] = datasetUk['source'].replace(['<a href=\"https://app.socialpilot.co/\" rel=\"nofollow\">SocialPilot.co</a>'],'socialpilotco')\n",
        "datasetUk['source'] = datasetUk['source'].replace(['<a href=\"https://about.twitter.com/products/tweetdeck\" rel=\"nofollow\">TweetDeck</a>'],'tweetdeck')\n",
        "datasetUk['source'] = datasetUk['source'].replace(['<a href=\"https://zapier.com/\" rel=\"nofollow\">Zapier.com</a>'],'Zapiercom')\n",
        "datasetUk['source'] = datasetUk['source'].replace(['<a href=\"http://dynamicsignal.com/\" rel=\"nofollow\">Dynamic Signal</a>'],'dynamic signal')\n",
        "datasetUk['source'] = datasetUk['source'].replace(['<a href=\"http://twitter.com/#!/download/ipad\" rel=\"nofollow\">Twitter for iPad</a>'],'twitter for ipad')\n",
        "datasetUk['source'] = datasetUk['source'].replace(['<a href=\"http://twitter.com/download/android\" rel=\"nofollow\">Twitter for Android</a>'],'twitter for android')\n",
        "datasetUk['source'] = datasetUk['source'].replace(['<a href=\"http://twitter.com/download/iphone\" rel=\"nofollow\">Twitter for iPhone</a>'],'twitter for iphone')\n",
        "datasetUk['source'] = datasetUk['source'].replace(['<a href=\"http://wildmoka.com\" rel=\"nofollow\">Wildmoka</a>'],'wildmoka')\n",
        "datasetUk['source'] = datasetUk['source'].replace(['<a href=\"http://www.hubspot.com/\" rel=\"nofollow\">HubSpot</a>'],'hubspot')\n",
        "\n",
        "datasetUk['source'] = datasetUk['source'].replace(['<a href=\"https://coschedule.com\" rel=\"nofollow\">CoSchedule</a>'],'CoSchedule')\n",
        "datasetUk['source'] = datasetUk['source'].replace(['<a href=\"https://ifttt.com\" rel=\"nofollow\">IFTTT</a>'],'IFTTT')\n",
        "change=pd.DataFrame(datasetUk, columns=[\"source\"])\n",
        "trial2=change.pivot_table(index=['source'], aggfunc='size')\n",
        "print(trial2)"
      ]
    },
    {
      "cell_type": "markdown",
      "metadata": {
        "id": "whBl88bCfpMI"
      },
      "source": [
        "# Basic Natural Language Processing (NLP)"
      ]
    },
    {
      "cell_type": "markdown",
      "metadata": {
        "id": "Gl8d2SByfpMI"
      },
      "source": [
        "At this stage after organizing our data, Basic Natural Language Processing was consulted. Transactions were made using the NLTK package."
      ]
    },
    {
      "cell_type": "code",
      "execution_count": null,
      "metadata": {
        "id": "QdC20YiffpMI",
        "outputId": "3c87d728-059c-4616-dcbe-3d62dd046ca3"
      },
      "outputs": [
        {
          "name": "stderr",
          "output_type": "stream",
          "text": [
            "[nltk_data] Downloading collection 'popular'\n",
            "[nltk_data]    | \n",
            "[nltk_data]    | Downloading package cmudict to\n",
            "[nltk_data]    |     C:\\Users\\begum\\AppData\\Roaming\\nltk_data...\n",
            "[nltk_data]    |   Package cmudict is already up-to-date!\n",
            "[nltk_data]    | Downloading package gazetteers to\n",
            "[nltk_data]    |     C:\\Users\\begum\\AppData\\Roaming\\nltk_data...\n",
            "[nltk_data]    |   Package gazetteers is already up-to-date!\n",
            "[nltk_data]    | Downloading package genesis to\n",
            "[nltk_data]    |     C:\\Users\\begum\\AppData\\Roaming\\nltk_data...\n",
            "[nltk_data]    |   Package genesis is already up-to-date!\n",
            "[nltk_data]    | Downloading package gutenberg to\n",
            "[nltk_data]    |     C:\\Users\\begum\\AppData\\Roaming\\nltk_data...\n",
            "[nltk_data]    |   Package gutenberg is already up-to-date!\n",
            "[nltk_data]    | Downloading package inaugural to\n",
            "[nltk_data]    |     C:\\Users\\begum\\AppData\\Roaming\\nltk_data...\n",
            "[nltk_data]    |   Package inaugural is already up-to-date!\n",
            "[nltk_data]    | Downloading package movie_reviews to\n",
            "[nltk_data]    |     C:\\Users\\begum\\AppData\\Roaming\\nltk_data...\n",
            "[nltk_data]    |   Package movie_reviews is already up-to-date!\n",
            "[nltk_data]    | Downloading package names to\n",
            "[nltk_data]    |     C:\\Users\\begum\\AppData\\Roaming\\nltk_data...\n",
            "[nltk_data]    |   Package names is already up-to-date!\n",
            "[nltk_data]    | Downloading package shakespeare to\n",
            "[nltk_data]    |     C:\\Users\\begum\\AppData\\Roaming\\nltk_data...\n",
            "[nltk_data]    |   Package shakespeare is already up-to-date!\n",
            "[nltk_data]    | Downloading package stopwords to\n",
            "[nltk_data]    |     C:\\Users\\begum\\AppData\\Roaming\\nltk_data...\n",
            "[nltk_data]    |   Package stopwords is already up-to-date!\n",
            "[nltk_data]    | Downloading package treebank to\n",
            "[nltk_data]    |     C:\\Users\\begum\\AppData\\Roaming\\nltk_data...\n",
            "[nltk_data]    |   Package treebank is already up-to-date!\n",
            "[nltk_data]    | Downloading package twitter_samples to\n",
            "[nltk_data]    |     C:\\Users\\begum\\AppData\\Roaming\\nltk_data...\n",
            "[nltk_data]    |   Package twitter_samples is already up-to-date!\n",
            "[nltk_data]    | Downloading package omw to\n",
            "[nltk_data]    |     C:\\Users\\begum\\AppData\\Roaming\\nltk_data...\n",
            "[nltk_data]    |   Package omw is already up-to-date!\n",
            "[nltk_data]    | Downloading package wordnet to\n",
            "[nltk_data]    |     C:\\Users\\begum\\AppData\\Roaming\\nltk_data...\n",
            "[nltk_data]    |   Package wordnet is already up-to-date!\n",
            "[nltk_data]    | Downloading package wordnet_ic to\n",
            "[nltk_data]    |     C:\\Users\\begum\\AppData\\Roaming\\nltk_data...\n",
            "[nltk_data]    |   Package wordnet_ic is already up-to-date!\n",
            "[nltk_data]    | Downloading package words to\n",
            "[nltk_data]    |     C:\\Users\\begum\\AppData\\Roaming\\nltk_data...\n",
            "[nltk_data]    |   Package words is already up-to-date!\n",
            "[nltk_data]    | Downloading package maxent_ne_chunker to\n",
            "[nltk_data]    |     C:\\Users\\begum\\AppData\\Roaming\\nltk_data...\n",
            "[nltk_data]    |   Package maxent_ne_chunker is already up-to-date!\n",
            "[nltk_data]    | Downloading package punkt to\n",
            "[nltk_data]    |     C:\\Users\\begum\\AppData\\Roaming\\nltk_data...\n",
            "[nltk_data]    |   Package punkt is already up-to-date!\n",
            "[nltk_data]    | Downloading package snowball_data to\n",
            "[nltk_data]    |     C:\\Users\\begum\\AppData\\Roaming\\nltk_data...\n",
            "[nltk_data]    |   Package snowball_data is already up-to-date!\n",
            "[nltk_data]    | Downloading package averaged_perceptron_tagger to\n",
            "[nltk_data]    |     C:\\Users\\begum\\AppData\\Roaming\\nltk_data...\n",
            "[nltk_data]    |   Package averaged_perceptron_tagger is already up-\n",
            "[nltk_data]    |       to-date!\n",
            "[nltk_data]    | \n",
            "[nltk_data]  Done downloading collection popular\n",
            "[nltk_data] Downloading package tagsets to\n",
            "[nltk_data]     C:\\Users\\begum\\AppData\\Roaming\\nltk_data...\n",
            "[nltk_data]   Package tagsets is already up-to-date!\n",
            "[nltk_data] Downloading package vader_lexicon to\n",
            "[nltk_data]     C:\\Users\\begum\\AppData\\Roaming\\nltk_data...\n",
            "[nltk_data]   Package vader_lexicon is already up-to-date!\n"
          ]
        },
        {
          "data": {
            "text/plain": [
              "True"
            ]
          },
          "execution_count": 1153,
          "metadata": {},
          "output_type": "execute_result"
        }
      ],
      "source": [
        "import numpy as np # linear algebra\n",
        "import nltk\n",
        "import re\n",
        "import matplotlib.pyplot as plt\n",
        "from collections import Counter\n",
        "\n",
        "import os\n",
        "import nltk\n",
        "from nltk import download\n",
        "download(\"popular\") # Popular datasets\n",
        "download('tagsets') # Tagsets for POS tagging\n",
        "download('vader_lexicon') # Lexicon for sentiment analysis"
      ]
    },
    {
      "cell_type": "code",
      "execution_count": null,
      "metadata": {
        "id": "qpSfParffpMI"
      },
      "outputs": [],
      "source": [
        "from nltk.sentiment.util import mark_negation\n",
        "from nltk.tokenize import TweetTokenizer\n",
        "from nltk.stem import PorterStemmer\n",
        "from nltk.stem import LancasterStemmer\n",
        "from nltk.tokenize import sent_tokenize, word_tokenize\n"
      ]
    },
    {
      "cell_type": "markdown",
      "metadata": {
        "id": "0FlZIoi1fpML"
      },
      "source": [
        "The \"clean text\" variable in the data was named textuk."
      ]
    },
    {
      "cell_type": "code",
      "execution_count": null,
      "metadata": {
        "id": "gCge9rY0fpMM",
        "outputId": "a2f7c554-c1b1-4b26-d143-f261de81cacf"
      },
      "outputs": [],
      "source": [
        "textuk = datasetUk[\"clean_text\"]"
      ]
    },
    {
      "cell_type": "markdown",
      "metadata": {
        "id": "AfbL8Mv6fpMM"
      },
      "source": [
        "\n",
        "The TweetTokenizer enables us to split text into small units.\n",
        "This tokenization process takes place according to the gaps in the data. It is applied this process to \"clean_text\" and \"hashtags\" in our data.\n"
      ]
    },
    {
      "cell_type": "code",
      "execution_count": null,
      "metadata": {
        "id": "Ok69W-cGfpMM"
      },
      "outputs": [],
      "source": [
        "tokenizer = TweetTokenizer(preserve_case=False, reduce_len=True)"
      ]
    },
    {
      "cell_type": "markdown",
      "metadata": {
        "id": "jKzB0tmPfpMM"
      },
      "source": [
        "Words in sentences are an important step in understanding the sentence. In addition, it is important to examine the root of the word after tokenization. This was done with the Snowball Stemmer algorithm in NLTK. It is checked if stemming works in the code below."
      ]
    },
    {
      "cell_type": "code",
      "execution_count": null,
      "metadata": {
        "id": "bGR7UU-7fpMM",
        "outputId": "d9ff737c-29f6-4d81-f20f-de7f8765c5fe"
      },
      "outputs": [
        {
          "name": "stdout",
          "output_type": "stream",
          "text": [
            "Stemmed sentence\n",
            "a total of 1921 student absent from school on decemb 11 due to covid-19 cypru educ ministri say cypriotstud cypru coronaviru covid19 cypruscoronaviru covid19test cyprusairport cypruslockdownmeasur covid19vaccinecypru \n"
          ]
        }
      ],
      "source": [
        "#STEMMING TRIAL\n",
        "porter=PorterStemmer()\n",
        "\n",
        "def stemSentence(sentence):\n",
        "    token_words=word_tokenize(sentence)\n",
        "    token_words\n",
        "    stem_sentence=[]\n",
        "    for word in token_words:\n",
        "        stem_sentence.append(porter.stem(word))\n",
        "        stem_sentence.append(\" \")\n",
        "    return \"\".join(stem_sentence)\n",
        "\n",
        "\n",
        "print(\"Stemmed sentence\")\n",
        "x=stemSentence(textuk[0])\n",
        "print(x)"
      ]
    },
    {
      "cell_type": "code",
      "execution_count": null,
      "metadata": {
        "id": "mBChllotfpMM",
        "outputId": "b61690b2-8105-4999-acd0-eeea21f1e0c1"
      },
      "outputs": [
        {
          "name": "stdout",
          "output_type": "stream",
          "text": [
            "['a total of 1921 students absent from school on december 11 due to covid-19 cyprus education ministry says cypriotstudents cyprus coronavirus covid19 cypruscoronavirus covid19tests cyprusairports cypruslockdownmeasures covid19vaccinecyprus']\n"
          ]
        }
      ],
      "source": [
        "sentences = sent_tokenize(textuk[0])\n",
        "print(sentences)"
      ]
    },
    {
      "cell_type": "markdown",
      "metadata": {
        "id": "7kZGJzjXfpMM"
      },
      "source": [
        "Stop words in the word have been removed."
      ]
    },
    {
      "cell_type": "code",
      "execution_count": null,
      "metadata": {
        "id": "L05t2bIQfpMM",
        "outputId": "42368018-96b4-48ef-abb7-dbd77f46f74e"
      },
      "outputs": [
        {
          "name": "stdout",
          "output_type": "stream",
          "text": [
            "a total of 1921 students absent from school on december 11 due to covid-19 cyprus education ministry says cypriotstudents cyprus coronavirus covid19 cypruscoronavirus covid19tests cyprusairports cypruslockdownmeasures covid19vaccinecyprus\n"
          ]
        }
      ],
      "source": [
        "#Trial\n",
        "from nltk.corpus import stopwords\n",
        "#Create object of PorterStemmer\n",
        "stemmer=PorterStemmer()\n",
        "\n",
        "for i in range(len(sentences)):\n",
        "    words=word_tokenize(sentences[i])\n",
        "    #List comprehension\n",
        "    words=[stemmer.stem(word) for word in words if word not in set(stopwords.words('english'))]\n",
        "    sentences[i]=' '.join(words)\n",
        "\n",
        "    sentences =textuk\n",
        "\n",
        "    print (sentences[0])"
      ]
    },
    {
      "cell_type": "code",
      "execution_count": null,
      "metadata": {
        "id": "NYlFU_bRfpMM"
      },
      "outputs": [],
      "source": [
        "from nltk import pos_tag\n",
        "from nltk.stem import WordNetLemmatizer\n",
        "from nltk.corpus import wordnet as wn"
      ]
    },
    {
      "cell_type": "markdown",
      "metadata": {
        "id": "DJ8FaHrGfpMN"
      },
      "source": [
        "\n",
        "Using root may not always give the correct result. Therefore, it would be more logical to do lemmatization instead of stemming. The aim here is to find the tag of the word via postag's instead of taking the root word. Like Adjective noun.\n"
      ]
    },
    {
      "cell_type": "code",
      "execution_count": null,
      "metadata": {
        "id": "TQq0BzotfpMN",
        "outputId": "70b8b66a-c3da-4351-af1a-7d9ebaf8deb6",
        "scrolled": false
      },
      "outputs": [],
      "source": [
        "\n",
        "from nltk.sentiment.util import mark_negation\n",
        "from nltk.tokenize import TweetTokenizer\n",
        "\n",
        "lemmatizer = WordNetLemmatizer()\n",
        "\n",
        "def get_lemmatizer_pos(pos):\n",
        "    pos_start = pos[0] # Takes the first letter to simplify the POS tag\n",
        "    if pos_start == \"J\":\n",
        "        return wn.ADJ\n",
        "    elif pos_start == \"V\":\n",
        "        return wn.VERB\n",
        "    elif pos_start == \"R\":\n",
        "        return wn.ADV\n",
        "    else:\n",
        "        return wn.NOUN\n",
        "\n",
        "tokenizer = TweetTokenizer(preserve_case=False, reduce_len=True)\n",
        "\n",
        "\n",
        "for sentence in sentences:\n",
        "    sentence_tokens_pos = pos_tag(tokenizer.tokenize(sentence))\n",
        "    sentence_lemmas = [lemmatizer.lemmatize(token[0], pos=get_lemmatizer_pos(token[1])) for token in sentence_tokens_pos]\n",
        "    # Negations are marked here:\n",
        "    sentence_lemmas_negated = mark_negation(sentence_lemmas)\n",
        "    # print(sentence_lemmas_negated)"
      ]
    },
    {
      "cell_type": "markdown",
      "metadata": {
        "id": "Yy9v2ROzfpMN"
      },
      "source": [
        "In this part of the analysis, the emoji in the text were discarded."
      ]
    },
    {
      "cell_type": "code",
      "execution_count": null,
      "metadata": {
        "id": "J6sgmbw9fpMN"
      },
      "outputs": [],
      "source": [
        "import pandas as pd\n",
        "from flashtext import KeywordProcessor\n",
        "from nltk.corpus import stopwords\n",
        "\n",
        "stop = stopwords.words('english')\n",
        "bigram_token = []\n",
        "\n",
        "data = [text]\n",
        "\n",
        "# Create the pandas DataFrame\n",
        "df = pd.DataFrame(text, columns = ['Message'])\n",
        "\n",
        "kp = KeywordProcessor()\n",
        "kp.add_keywords_from_list(bigram_token)\n",
        "\n",
        "def bigram_finder(x, stop, kp):\n",
        "    token = x.split()\n",
        "    sent = ' '.join([x for x in token if x not in stop])\n",
        "    return kp.extract_keywords(sent)\n",
        "\n",
        "df['bigram_token'] = df['Message'].apply(lambda x : bigram_finder(x, stop, kp))\n"
      ]
    },
    {
      "cell_type": "code",
      "execution_count": null,
      "metadata": {
        "id": "py7M_rV6fpMN"
      },
      "outputs": [],
      "source": [
        "from nltk.corpus import stopwords\n",
        "import sys\n",
        "import re\n",
        "import nltk.data\n",
        "from nltk import pos_tag_sents\n",
        "# Tries to import autocorrect and emoji packages. If you have Anaconda, you can install\n",
        "# emoji using \"conda install -c conda-forge emoji\" command. You can download autocorrect\n",
        "# using pip and \"target\" parameter: \"pip install autocorrect --target=<directory>\"\n",
        "try:\n",
        "    from autocorrect import Speller\n",
        "    from emoji import get_emoji_regexp\n",
        "except:\n",
        "    print(sys.exc_info()[0])\n",
        "    print(\"WARNING: Probable missing packages, you may not be able to remove emojis or autocorrect texts.\")\n",
        "# Note that it looks like the POS tagger prefers us to feed sentences separately (or\n",
        "# feed them as a list to pos_tag_sents()). Therefore, we will tokenize sentences first.\n",
        "# Sentence tokenizer tokenizes sentences while also trying to handle periods that do not\n",
        "# function as a sentence terminator (such as the period in \"Mr.\").\n",
        "sentence_tokenizer = nltk.data.load('tokenizers/punkt/english.pickle')"
      ]
    },
    {
      "cell_type": "markdown",
      "metadata": {
        "id": "9dog_H0BfpMN"
      },
      "source": [
        "Running the code piece by piece was very important to see any errors that could arise. The code that includes all this is attached below."
      ]
    },
    {
      "cell_type": "code",
      "execution_count": null,
      "metadata": {
        "id": "exJE5HQvfpMN"
      },
      "outputs": [],
      "source": [
        "\n",
        "from nltk.tokenize import TweetTokenizer\n"
      ]
    },
    {
      "cell_type": "code",
      "execution_count": null,
      "metadata": {
        "id": "bXmgGs-rfpMN"
      },
      "outputs": [],
      "source": [
        "from nltk.tokenize import TweetTokenizer\n",
        "\n",
        "lemmatizer = WordNetLemmatizer()\n",
        "\n",
        "def get_lemmatizer_pos(pos):\n",
        "    pos_start = pos[0] # Takes the first letter to simplify the POS tag\n",
        "    if pos_start == \"J\":\n",
        "        return wn.ADJ\n",
        "    elif pos_start == \"V\":\n",
        "        return wn.VERB\n",
        "    elif pos_start == \"R\":\n",
        "        return wn.ADV\n",
        "    else:\n",
        "        return wn.NOUN\n",
        "\n",
        "\n",
        "\n",
        "def tokenize_normalize(tweet, sentence_tokenizer=nltk.data.load('tokenizers/punkt/english.pickle'),\n",
        "                       tokenizer=TweetTokenizer(preserve_case=False), return_bigrams=False,\n",
        "                       tokenize_numbers=False, tokenize_users=False, tokenize_hashtags=False,\n",
        "                       tokenize_urls=False, remove_emoji=True, remove_punct=True,\n",
        "                       handle_negation=True, autocorrect=False):\n",
        "\n",
        "    # This retrieves a list of stop words in English, which will be used to remove the\n",
        "    # stop words:\n",
        "    stop_words = stopwords.words(\"english\")\n",
        "\n",
        "    # These combined punctuations will be used to remove punctuations from tweets (it\n",
        "    # is an extension to string.punctuation):\n",
        "    punctuations = \"!\\\"“”#$%&'‘’()*+,-./:;<=>?@[\\]^_`{|}~‍\"\n",
        "\n",
        "    # We will use this function to correct typographic errors:\n",
        "    if autocorrect and \"autocorrect\" in sys.modules:\n",
        "        spell = Speller()\n",
        "\n",
        "    # Separates tweets into sentences:\n",
        "    tweet_sentences = sentence_tokenizer.tokenize(tweet)\n",
        "\n",
        "    # Tokenization outputs are kept in separate lists for each sentence:\n",
        "    tweet_sentences_tokens = [tokenizer.tokenize(sentence) for sentence in tweet_sentences]\n",
        "\n",
        "    # POS tagging happens separately for each sentence before they are combined:\n",
        "    tokens_pos = [pos_tag for pos_tags in pos_tag_sents(tweet_sentences_tokens) for pos_tag in pos_tags]\n",
        "\n",
        "    # For each POS-tagged token, a lemma is obtained:\n",
        "    lemmas = [lemmatizer.lemmatize(token[0], pos=get_lemmatizer_pos(token[1])) for token in tokens_pos]\n",
        "#     print(lemmas)\n",
        "\n",
        "    # Marks negations:\n",
        "    if handle_negation:\n",
        "        lemmas = mark_negation(lemmas)\n",
        "\n",
        "    filtered_lemmas = []\n",
        "    bigrams = []\n",
        "    last_filtered_lemma_index = None\n",
        "    last_filtered_lemma = None\n",
        "    for lemma_index, lemma in enumerate(lemmas):\n",
        "\n",
        "        # The amount of emojis has skyrocketed, and the way new emojis or their\n",
        "        # varients are added technically complicates handling emojis. For example,\n",
        "        # some emojis are formed by combining different emojis and a zero-width joiner\n",
        "        # in between. Removing variation selectors such as hair/skin color and gender\n",
        "        # for emojis since they cause noise and tokenization problems:\n",
        "        if re.sub(\"[\\\\uFE00-\\\\uFE0F♂♀‍]+\", \"\", lemma) == \"\":\n",
        "            continue\n",
        "\n",
        "        # Filters hashtags:\n",
        "        if lemma.startswith(\"#\"):\n",
        "            if tokenize_hashtags:\n",
        "                lemma = \"<hashtag>\"\n",
        "            else:\n",
        "                continue\n",
        "\n",
        "        # Filters user handles:\n",
        "        if lemma.startswith(\"@\"):\n",
        "            if tokenize_users:\n",
        "                lemma = \"<user>\"\n",
        "            else:\n",
        "                continue\n",
        "\n",
        "        # Filters stop words (considers negations):\n",
        "        if lemma.replace(\"_NEG\", \"\") in stop_words:\n",
        "            continue\n",
        "\n",
        "        # Filters the lemma by searching for \"https://,\" \"http://,\" or \"www.\" using\n",
        "        # regular expression. If one of them exists, they are not retrieved. Regular\n",
        "        # expression may seem daunting at first. It is not mandatory, but you can check\n",
        "        # tutorials like this: https://regexone.com/lesson/introduction_abcs\n",
        "        if re.search(\"(https?:\\/\\/)|(www\\.)\", lemma):\n",
        "            if tokenize_urls:\n",
        "                lemma = \"<url>\"\n",
        "            else:\n",
        "                continue\n",
        "\n",
        "        # Filters emojis using emeji package (considers negations):\n",
        "        if remove_emoji and \"emoji\" in sys.modules:\n",
        "            lemma = get_emoji_regexp().sub(u'', lemma.replace(\"_NEG\", \"\"))\n",
        "\n",
        "        # Filters punctuation (considers negations):\n",
        "        if remove_punct and lemma.replace(\"_NEG\", \"\").translate(lemma.replace(\"_NEG\", \"\").maketrans('', '', punctuations)) == \"\":\n",
        "            continue\n",
        "\n",
        "        # Corrects typographic errors using autocorrect package (considers negations):\n",
        "        if autocorrect and \"autocorrect\" in sys.modules and spell:\n",
        "            if \"_NEG\" in lemma:\n",
        "                # Removing \"_NEG\" and adding it back after autocorrection:\n",
        "                lemma_autocorrected = spell(lemma.replace(\"_NEG\", \"\")).join(\"_NEG\")\n",
        "            else:\n",
        "                lemma_autocorrected = spell(lemma)\n",
        "\n",
        "            if lemma != lemma_autocorrected:\n",
        "#                 print(lemma,\"autocorrected to\",lemma_autocorrected) # Uncomment this line to print the corrections\n",
        "                lemma = lemma_autocorrected\n",
        "\n",
        "        # Tries to convert a number from string to float while also handling commas\n",
        "        # and percentage signs. If the token is a number, it is transformed to \"<number>\"\n",
        "        # token or not retrieved. If not, it silently ignores the exception and\n",
        "        # continues.\n",
        "        try:\n",
        "            float(lemma.replace(\",\", \"\").replace(\"%\", \"\"))\n",
        "            if tokenize_numbers:\n",
        "                lemma = \"<number>\"\n",
        "            else:\n",
        "                continue\n",
        "        except:\n",
        "            pass\n",
        "\n",
        "        # If the lemma survives all these processes, it is appended to the list\n",
        "        filtered_lemmas.append(lemma)\n",
        "\n",
        "        # If returning bigrams is set to True, this part extracts the bigrams:\n",
        "        if return_bigrams:\n",
        "            # If there is a last filtered lemma, if its location in the sentences is\n",
        "            # right before the current lemma, and if the current lemma is not a\n",
        "            # punctuation:\n",
        "            if last_filtered_lemma and last_filtered_lemma_index + 1 == lemma_index and\\\n",
        "            lemma.replace(\"_NEG\", \"\").translate(lemma.replace(\"_NEG\", \"\").maketrans('', '', punctuations)) != \"\":\n",
        "                # The lemma group (bigram) is appended to the bigram list\n",
        "                bigrams.append([last_filtered_lemma, lemma])\n",
        "\n",
        "            last_filtered_lemma_index = lemma_index\n",
        "            last_filtered_lemma = lemma\n",
        "\n",
        "    if return_bigrams:\n",
        "        # It returns filtered lemmas and bigrams together\n",
        "        return (filtered_lemmas, bigrams)\n",
        "    else:\n",
        "        return filtered_lemmas"
      ]
    },
    {
      "cell_type": "markdown",
      "metadata": {
        "id": "yzQovZSQfpMO"
      },
      "source": [
        "It is normalized by using this code and it is created normalized tweet and retrives biagrams."
      ]
    },
    {
      "cell_type": "code",
      "execution_count": null,
      "metadata": {
        "id": "1JtFf0EWfpMO",
        "outputId": "05a5e3cb-d611-403a-b701-030d056be5c8"
      },
      "outputs": [
        {
          "data": {
            "text/html": [
              "<div>\n",
              "<style scoped>\n",
              "    .dataframe tbody tr th:only-of-type {\n",
              "        vertical-align: middle;\n",
              "    }\n",
              "\n",
              "    .dataframe tbody tr th {\n",
              "        vertical-align: top;\n",
              "    }\n",
              "\n",
              "    .dataframe thead th {\n",
              "        text-align: right;\n",
              "    }\n",
              "</style>\n",
              "<table border=\"1\" class=\"dataframe\">\n",
              "  <thead>\n",
              "    <tr style=\"text-align: right;\">\n",
              "      <th></th>\n",
              "      <th>clean_text</th>\n",
              "      <th>text_processed</th>\n",
              "      <th>text_bigrams</th>\n",
              "    </tr>\n",
              "  </thead>\n",
              "  <tbody>\n",
              "    <tr>\n",
              "      <th>0</th>\n",
              "      <td>a total of 1921 students absent from school on december 11 due to covid-19 cyprus education ministry says cypriotstudents cyprus coronavirus covid19 cypruscoronavirus covid19tests cyprusairports cypruslockdownmeasures covid19vaccinecyprus</td>\n",
              "      <td>[total, student, absent, school, december, due, covid, cyprus, education, ministry, say, cypriotstudents, cyprus, coronavirus, covid, cypruscoronavirus, covid, 19tests, cyprusairports, cypruslockdownmeasures, covid, 19vaccinecyprus]</td>\n",
              "      <td>[[student, absent], [cyprus, education], [education, ministry], [ministry, say], [say, cypriotstudents], [cypriotstudents, cyprus], [cyprus, coronavirus], [coronavirus, covid], [cypruscoronavirus, covid], [covid, 19tests], [19tests, cyprusairports], [cyprusairports, cypruslockdownmeasures], [cypruslockdownmeasures, covid], [covid, 19vaccinecyprus]]</td>\n",
              "    </tr>\n",
              "    <tr>\n",
              "      <th>1</th>\n",
              "      <td>royal borough of greenwich schools to close from monday as covid-19 cases rise | tier3 london covidchristmas covid19</td>\n",
              "      <td>[royal, borough, greenwich, school, close, monday, covid, case, rise, tier, london, covidchristmas, covid]</td>\n",
              "      <td>[[royal, borough], [greenwich, school], [case, rise], [london, covidchristmas], [covidchristmas, covid]]</td>\n",
              "    </tr>\n",
              "    <tr>\n",
              "      <th>2</th>\n",
              "      <td>news education inclusion focus of groundbreaking study to tackle violent crime the has partnered with to explore patterns trends and contributory factors with a special attention paid to the covid19 period read more</td>\n",
              "      <td>[news, education, inclusion, focus, groundbreaking, study, tackle, violent, crime, partner, explore, pattern, trend, contributory, factor, special, attention, pay, covid, period, read]</td>\n",
              "      <td>[[news, education], [education, inclusion], [inclusion, focus], [groundbreaking, study], [tackle, violent], [violent, crime], [explore, pattern], [pattern, trend], [contributory, factor], [special, attention], [attention, pay], [period, read]]</td>\n",
              "    </tr>\n",
              "    <tr>\n",
              "      <th>3</th>\n",
              "      <td>her words resonate with me because of the covid19 related study of heart-based unwritten new covenant centered \"battle of the sexes\" based education that i'm pursuing here 2</td>\n",
              "      <td>[word, resonate, covid, related, study, heart-based, unwritten, new, covenant, center, battle, sex, base, education, i'm, pursue]</td>\n",
              "      <td>[[word, resonate], [related, study], [heart-based, unwritten], [unwritten, new], [new, covenant], [covenant, center], [base, education], [i'm, pursue]]</td>\n",
              "    </tr>\n",
              "    <tr>\n",
              "      <th>4</th>\n",
              "      <td>there's been so much reflection in the world of business industry post covid19 but there appears to no such desire for change in respect of education there is much opportunity to reset literally what it says on the tin teach the future - change the future</td>\n",
              "      <td>[there's, much, reflection, world, business, industry, post, covid, appear, desire, change, respect, education, much, opportunity, reset, literally, say, tin, teach, future, change, future]</td>\n",
              "      <td>[[much, reflection], [business, industry], [industry, post], [post, covid], [much, opportunity], [reset, literally], [tin, teach]]</td>\n",
              "    </tr>\n",
              "    <tr>\n",
              "      <th>5</th>\n",
              "      <td>keeping schools during a pandemic open is just irresponsible ☣️ covid19 education</td>\n",
              "      <td>[keep, school, pandemic, open, irresponsible, covid, education]</td>\n",
              "      <td>[[keep, school], [pandemic, open]]</td>\n",
              "    </tr>\n",
              "    <tr>\n",
              "      <th>6</th>\n",
              "      <td>welcome who are raising funds on givey givey community donations fundraising giving goodcauses mentalhealth education foodbanks covid19 healthcareheroes animals environmental uganda cancer</td>\n",
              "      <td>[welcome, raise, fund, givey, givey, community, donation, fundraise, give, goodcauses, mentalhealth, education, foodbanks, covid, healthcareheroes, animal, environmental, uganda, cancer]</td>\n",
              "      <td>[[raise, fund], [givey, givey], [givey, community], [community, donation], [donation, fundraise], [fundraise, give], [give, goodcauses], [goodcauses, mentalhealth], [mentalhealth, education], [education, foodbanks], [foodbanks, covid], [healthcareheroes, animal], [animal, environmental], [environmental, uganda], [uganda, cancer]]</td>\n",
              "    </tr>\n",
              "    <tr>\n",
              "      <th>7</th>\n",
              "      <td>covid hero award winner spoke to leading education publication about the importance of celebrating the contributions of teachers during the covid19 pandemic</td>\n",
              "      <td>[covid, hero, award, winner, speak, lead, education, publication, importance, celebrate, contribution, teacher, covid, pandemic]</td>\n",
              "      <td>[[covid, hero], [hero, award], [award, winner], [winner, speak], [lead, education], [education, publication]]</td>\n",
              "    </tr>\n",
              "    <tr>\n",
              "      <th>8</th>\n",
              "      <td>rt the effect of gamification elements on moocs education covid19 behavioraleconomics fintech …</td>\n",
              "      <td>[rt, effect, gamification, element, moocs, education, covid, behavioraleconomics, fintech, …]</td>\n",
              "      <td>[[gamification, element], [moocs, education], [education, covid], [behavioraleconomics, fintech], [fintech, …]]</td>\n",
              "    </tr>\n",
              "    <tr>\n",
              "      <th>9</th>\n",
              "      <td>why covid is india’s chance to use artificial intelligence tech – and enter the future ai artificialintelligence machinelearning deeplearning covid19 future india</td>\n",
              "      <td>[covid, india, chance, use, artificial, intelligence, tech, –, enter, future, ai, artificialintelligence, machinelearning, deeplearning, covid, future, india]</td>\n",
              "      <td>[[use, artificial], [artificial, intelligence], [intelligence, tech], [tech, –], [future, ai], [ai, artificialintelligence], [artificialintelligence, machinelearning], [machinelearning, deeplearning], [deeplearning, covid], [future, india]]</td>\n",
              "    </tr>\n",
              "    <tr>\n",
              "      <th>10</th>\n",
              "      <td>essential oral care training for individuals to participate ideal for speech and language therapists hospice nurses doctors dental care professionals 12th january - 19 spaces left sltchat slt education covid19 healthcare doctors nurselife palliative dementia carer</td>\n",
              "      <td>[essential, oral, care, training, individual, participate, ideal, speech, language, therapist, hospice, nurse, doctor, dental, care, professional, 12th, january, space, leave, sltchat, slt, education, covid, healthcare, doctor, nurselife, palliative, dementia, carer]</td>\n",
              "      <td>[[essential, oral], [oral, care], [care, training], [participate, ideal], [language, therapist], [therapist, hospice], [hospice, nurse], [nurse, doctor], [doctor, dental], [dental, care], [care, professional], [professional, 12th], [12th, january], [space, leave], [leave, sltchat], [sltchat, slt], [slt, education], [education, covid], [healthcare, doctor], [doctor, nurselife], [nurselife, palliative], [palliative, dementia], [dementia, carer]]</td>\n",
              "    </tr>\n",
              "    <tr>\n",
              "      <th>11</th>\n",
              "      <td>essential oral care training for individuals to participate ideal for speech and language therapists hospice nurses doctors dental care professionals 12th january - 19 spaces left sltchat slt education covid19 healthcare doctors nurselife palliative dementia carer</td>\n",
              "      <td>[essential, oral, care, training, individual, participate, ideal, speech, language, therapist, hospice, nurse, doctor, dental, care, professional, 12th, january, space, leave, sltchat, slt, education, covid, healthcare, doctor, nurselife, palliative, dementia, carer]</td>\n",
              "      <td>[[essential, oral], [oral, care], [care, training], [participate, ideal], [language, therapist], [therapist, hospice], [hospice, nurse], [nurse, doctor], [doctor, dental], [dental, care], [care, professional], [professional, 12th], [12th, january], [space, leave], [leave, sltchat], [sltchat, slt], [slt, education], [education, covid], [healthcare, doctor], [doctor, nurselife], [nurselife, palliative], [palliative, dementia], [dementia, carer]]</td>\n",
              "    </tr>\n",
              "    <tr>\n",
              "      <th>12</th>\n",
              "      <td>tipoftheweek what is heavy work and how can it help your child find out more sensoryintegration education send heavywork proprioception christmasiscoming schools covid19</td>\n",
              "      <td>[tipoftheweek, heavy, work, help, child, find, sensoryintegration, education, send, heavywork, proprioception, christmasiscoming, school, covid]</td>\n",
              "      <td>[[heavy, work], [child, find], [sensoryintegration, education], [education, send], [send, heavywork], [heavywork, proprioception], [proprioception, christmasiscoming], [christmasiscoming, school], [school, covid]]</td>\n",
              "    </tr>\n",
              "    <tr>\n",
              "      <th>13</th>\n",
              "      <td>lockdown loneliness reaches record levels covid19 is really bad but i do worry about longer term impact on mentalhealth - it's a difficult balance to get right loneliness</td>\n",
              "      <td>[lockdown, loneliness, reach, record, level, covid, really, bad, worry, long, term, impact, mentalhealth, difficult, balance, get, right, loneliness]</td>\n",
              "      <td>[[lockdown, loneliness], [loneliness, reach], [reach, record], [record, level], [level, covid], [really, bad], [long, term], [term, impact], [difficult, balance], [get, right], [right, loneliness]]</td>\n",
              "    </tr>\n",
              "    <tr>\n",
              "      <th>14</th>\n",
              "      <td>updated statistics 😔 longcovid coronavirus covid19 statistics schools education teachers</td>\n",
              "      <td>[updated, statistic, longcovid, coronavirus, covid, statistic, school, education, teacher]</td>\n",
              "      <td>[[updated, statistic], [longcovid, coronavirus], [coronavirus, covid], [statistic, school], [school, education], [education, teacher]]</td>\n",
              "    </tr>\n",
              "    <tr>\n",
              "      <th>15</th>\n",
              "      <td>both kids london secondary school sent home to isolate the eldest has several friends who have tested positive in the last week and numerous teachers your advice comes from an ivory tower education covid19</td>\n",
              "      <td>[kid, london, secondary, school, send, home, isolate, eldest, several, friend, test, positive, last, week, numerous, teacher, advice, come, ivory, tower, education, covid]</td>\n",
              "      <td>[[kid, london], [london, secondary], [secondary, school], [school, send], [send, home], [several, friend], [test, positive], [last, week], [numerous, teacher], [advice, come], [ivory, tower], [tower, education], [education, covid]]</td>\n",
              "    </tr>\n",
              "    <tr>\n",
              "      <th>16</th>\n",
              "      <td>covid19 chores could set women’s equality back by 25 years employment education opportunities are being lost putting women at a disadvantage cedaw is key to empower women to ensure increasing gender equality is not wiped out womenempowerment</td>\n",
              "      <td>[covid, chore, could, set, woman, equality, back, year, employment, education, opportunity, lose, put, woman, disadvantage, cedaw, key, empower, woman, ensure, increase, gender, equality, wipe, womenempowerment]</td>\n",
              "      <td>[[chore, could], [could, set], [set, woman], [equality, back], [year, employment], [employment, education], [education, opportunity], [lose, put], [put, woman], [disadvantage, cedaw], [empower, woman], [ensure, increase], [increase, gender], [gender, equality]]</td>\n",
              "    </tr>\n",
              "    <tr>\n",
              "      <th>17</th>\n",
              "      <td>daniel griffin provides his weekly clinical report on covid19 including the anticipated eua for the pfizer mrna vaccine mitigation strategies in early care and education settings expressive aphasia and much more</td>\n",
              "      <td>[daniel, griffin, provide, weekly, clinical, report, covid, include, anticipated, eua, pfizer, mrna, vaccine, mitigation, strategy, early, care, education, setting, expressive, aphasia, much]</td>\n",
              "      <td>[[daniel, griffin], [griffin, provide], [weekly, clinical], [clinical, report], [anticipated, eua], [pfizer, mrna], [mrna, vaccine], [vaccine, mitigation], [mitigation, strategy], [early, care], [education, setting], [setting, expressive], [expressive, aphasia]]</td>\n",
              "    </tr>\n",
              "    <tr>\n",
              "      <th>18</th>\n",
              "      <td>for many children across the world lockdowns have meant schools have been shut education put on hold the irc have been reaching refugee children with education during the covid19 pandemic beyond read how</td>\n",
              "      <td>[many, child, across, world, lockdown, mean, school, shut, education, put, hold, irc, reach, refugee, child, education, covid, pandemic, beyond, read]</td>\n",
              "      <td>[[many, child], [child, across], [world, lockdown], [mean, school], [shut, education], [education, put], [reach, refugee], [refugee, child], [pandemic, beyond], [beyond, read]]</td>\n",
              "    </tr>\n",
              "    <tr>\n",
              "      <th>19</th>\n",
              "      <td>interesting-this backs findings from current ukus research with sarah robert on teachers’ working conditions and policy discourses under covid19 and points to an authoritarian policy turn in edu policies thanks</td>\n",
              "      <td>[interesting-this, back, finding, current, ukus, research, sarah, robert, teacher, work, condition, policy, discourse, covid, point, authoritarian, policy, turn, edu, policy, thanks]</td>\n",
              "      <td>[[interesting-this, back], [back, finding], [current, ukus], [ukus, research], [sarah, robert], [work, condition], [policy, discourse], [authoritarian, policy], [policy, turn], [edu, policy], [policy, thanks]]</td>\n",
              "    </tr>\n",
              "  </tbody>\n",
              "</table>\n",
              "</div>"
            ],
            "text/plain": [
              "                                                                                                                                                                                                                                                                  clean_text  \\\n",
              "0   a total of 1921 students absent from school on december 11 due to covid-19 cyprus education ministry says cypriotstudents cyprus coronavirus covid19 cypruscoronavirus covid19tests cyprusairports cypruslockdownmeasures covid19vaccinecyprus                             \n",
              "1   royal borough of greenwich schools to close from monday as covid-19 cases rise | tier3 london covidchristmas covid19                                                                                                                                                       \n",
              "2   news education inclusion focus of groundbreaking study to tackle violent crime the has partnered with to explore patterns trends and contributory factors with a special attention paid to the covid19 period read more                                                    \n",
              "3   her words resonate with me because of the covid19 related study of heart-based unwritten new covenant centered \"battle of the sexes\" based education that i'm pursuing here 2                                                                                              \n",
              "4   there's been so much reflection in the world of business industry post covid19 but there appears to no such desire for change in respect of education there is much opportunity to reset literally what it says on the tin teach the future - change the future            \n",
              "5   keeping schools during a pandemic open is just irresponsible ☣️ covid19 education                                                                                                                                                                                          \n",
              "6   welcome who are raising funds on givey givey community donations fundraising giving goodcauses mentalhealth education foodbanks covid19 healthcareheroes animals environmental uganda cancer                                                                               \n",
              "7   covid hero award winner spoke to leading education publication about the importance of celebrating the contributions of teachers during the covid19 pandemic                                                                                                               \n",
              "8   rt the effect of gamification elements on moocs education covid19 behavioraleconomics fintech …                                                                                                                                                                            \n",
              "9   why covid is india’s chance to use artificial intelligence tech – and enter the future ai artificialintelligence machinelearning deeplearning covid19 future india                                                                                                         \n",
              "10  essential oral care training for individuals to participate ideal for speech and language therapists hospice nurses doctors dental care professionals 12th january - 19 spaces left sltchat slt education covid19 healthcare doctors nurselife palliative dementia carer   \n",
              "11  essential oral care training for individuals to participate ideal for speech and language therapists hospice nurses doctors dental care professionals 12th january - 19 spaces left sltchat slt education covid19 healthcare doctors nurselife palliative dementia carer   \n",
              "12  tipoftheweek what is heavy work and how can it help your child find out more sensoryintegration education send heavywork proprioception christmasiscoming schools covid19                                                                                                  \n",
              "13  lockdown loneliness reaches record levels covid19 is really bad but i do worry about longer term impact on mentalhealth - it's a difficult balance to get right loneliness                                                                                                 \n",
              "14  updated statistics 😔 longcovid coronavirus covid19 statistics schools education teachers                                                                                                                                                                                   \n",
              "15  both kids london secondary school sent home to isolate the eldest has several friends who have tested positive in the last week and numerous teachers your advice comes from an ivory tower education covid19                                                              \n",
              "16  covid19 chores could set women’s equality back by 25 years employment education opportunities are being lost putting women at a disadvantage cedaw is key to empower women to ensure increasing gender equality is not wiped out womenempowerment                          \n",
              "17  daniel griffin provides his weekly clinical report on covid19 including the anticipated eua for the pfizer mrna vaccine mitigation strategies in early care and education settings expressive aphasia and much more                                                        \n",
              "18  for many children across the world lockdowns have meant schools have been shut education put on hold the irc have been reaching refugee children with education during the covid19 pandemic beyond read how                                                                \n",
              "19  interesting-this backs findings from current ukus research with sarah robert on teachers’ working conditions and policy discourses under covid19 and points to an authoritarian policy turn in edu policies thanks                                                         \n",
              "\n",
              "                                                                                                                                                                                                                                                                 text_processed  \\\n",
              "0   [total, student, absent, school, december, due, covid, cyprus, education, ministry, say, cypriotstudents, cyprus, coronavirus, covid, cypruscoronavirus, covid, 19tests, cyprusairports, cypruslockdownmeasures, covid, 19vaccinecyprus]                                      \n",
              "1   [royal, borough, greenwich, school, close, monday, covid, case, rise, tier, london, covidchristmas, covid]                                                                                                                                                                    \n",
              "2   [news, education, inclusion, focus, groundbreaking, study, tackle, violent, crime, partner, explore, pattern, trend, contributory, factor, special, attention, pay, covid, period, read]                                                                                      \n",
              "3   [word, resonate, covid, related, study, heart-based, unwritten, new, covenant, center, battle, sex, base, education, i'm, pursue]                                                                                                                                             \n",
              "4   [there's, much, reflection, world, business, industry, post, covid, appear, desire, change, respect, education, much, opportunity, reset, literally, say, tin, teach, future, change, future]                                                                                 \n",
              "5   [keep, school, pandemic, open, irresponsible, covid, education]                                                                                                                                                                                                               \n",
              "6   [welcome, raise, fund, givey, givey, community, donation, fundraise, give, goodcauses, mentalhealth, education, foodbanks, covid, healthcareheroes, animal, environmental, uganda, cancer]                                                                                    \n",
              "7   [covid, hero, award, winner, speak, lead, education, publication, importance, celebrate, contribution, teacher, covid, pandemic]                                                                                                                                              \n",
              "8   [rt, effect, gamification, element, moocs, education, covid, behavioraleconomics, fintech, …]                                                                                                                                                                                 \n",
              "9   [covid, india, chance, use, artificial, intelligence, tech, –, enter, future, ai, artificialintelligence, machinelearning, deeplearning, covid, future, india]                                                                                                                \n",
              "10  [essential, oral, care, training, individual, participate, ideal, speech, language, therapist, hospice, nurse, doctor, dental, care, professional, 12th, january, space, leave, sltchat, slt, education, covid, healthcare, doctor, nurselife, palliative, dementia, carer]   \n",
              "11  [essential, oral, care, training, individual, participate, ideal, speech, language, therapist, hospice, nurse, doctor, dental, care, professional, 12th, january, space, leave, sltchat, slt, education, covid, healthcare, doctor, nurselife, palliative, dementia, carer]   \n",
              "12  [tipoftheweek, heavy, work, help, child, find, sensoryintegration, education, send, heavywork, proprioception, christmasiscoming, school, covid]                                                                                                                              \n",
              "13  [lockdown, loneliness, reach, record, level, covid, really, bad, worry, long, term, impact, mentalhealth, difficult, balance, get, right, loneliness]                                                                                                                         \n",
              "14  [updated, statistic, longcovid, coronavirus, covid, statistic, school, education, teacher]                                                                                                                                                                                    \n",
              "15  [kid, london, secondary, school, send, home, isolate, eldest, several, friend, test, positive, last, week, numerous, teacher, advice, come, ivory, tower, education, covid]                                                                                                   \n",
              "16  [covid, chore, could, set, woman, equality, back, year, employment, education, opportunity, lose, put, woman, disadvantage, cedaw, key, empower, woman, ensure, increase, gender, equality, wipe, womenempowerment]                                                           \n",
              "17  [daniel, griffin, provide, weekly, clinical, report, covid, include, anticipated, eua, pfizer, mrna, vaccine, mitigation, strategy, early, care, education, setting, expressive, aphasia, much]                                                                               \n",
              "18  [many, child, across, world, lockdown, mean, school, shut, education, put, hold, irc, reach, refugee, child, education, covid, pandemic, beyond, read]                                                                                                                        \n",
              "19  [interesting-this, back, finding, current, ukus, research, sarah, robert, teacher, work, condition, policy, discourse, covid, point, authoritarian, policy, turn, edu, policy, thanks]                                                                                        \n",
              "\n",
              "                                                                                                                                                                                                                                                                                                                                                                                                                                                       text_bigrams  \n",
              "0   [[student, absent], [cyprus, education], [education, ministry], [ministry, say], [say, cypriotstudents], [cypriotstudents, cyprus], [cyprus, coronavirus], [coronavirus, covid], [cypruscoronavirus, covid], [covid, 19tests], [19tests, cyprusairports], [cyprusairports, cypruslockdownmeasures], [cypruslockdownmeasures, covid], [covid, 19vaccinecyprus]]                                                                                                   \n",
              "1   [[royal, borough], [greenwich, school], [case, rise], [london, covidchristmas], [covidchristmas, covid]]                                                                                                                                                                                                                                                                                                                                                         \n",
              "2   [[news, education], [education, inclusion], [inclusion, focus], [groundbreaking, study], [tackle, violent], [violent, crime], [explore, pattern], [pattern, trend], [contributory, factor], [special, attention], [attention, pay], [period, read]]                                                                                                                                                                                                              \n",
              "3   [[word, resonate], [related, study], [heart-based, unwritten], [unwritten, new], [new, covenant], [covenant, center], [base, education], [i'm, pursue]]                                                                                                                                                                                                                                                                                                          \n",
              "4   [[much, reflection], [business, industry], [industry, post], [post, covid], [much, opportunity], [reset, literally], [tin, teach]]                                                                                                                                                                                                                                                                                                                               \n",
              "5   [[keep, school], [pandemic, open]]                                                                                                                                                                                                                                                                                                                                                                                                                               \n",
              "6   [[raise, fund], [givey, givey], [givey, community], [community, donation], [donation, fundraise], [fundraise, give], [give, goodcauses], [goodcauses, mentalhealth], [mentalhealth, education], [education, foodbanks], [foodbanks, covid], [healthcareheroes, animal], [animal, environmental], [environmental, uganda], [uganda, cancer]]                                                                                                                      \n",
              "7   [[covid, hero], [hero, award], [award, winner], [winner, speak], [lead, education], [education, publication]]                                                                                                                                                                                                                                                                                                                                                    \n",
              "8   [[gamification, element], [moocs, education], [education, covid], [behavioraleconomics, fintech], [fintech, …]]                                                                                                                                                                                                                                                                                                                                                  \n",
              "9   [[use, artificial], [artificial, intelligence], [intelligence, tech], [tech, –], [future, ai], [ai, artificialintelligence], [artificialintelligence, machinelearning], [machinelearning, deeplearning], [deeplearning, covid], [future, india]]                                                                                                                                                                                                                 \n",
              "10  [[essential, oral], [oral, care], [care, training], [participate, ideal], [language, therapist], [therapist, hospice], [hospice, nurse], [nurse, doctor], [doctor, dental], [dental, care], [care, professional], [professional, 12th], [12th, january], [space, leave], [leave, sltchat], [sltchat, slt], [slt, education], [education, covid], [healthcare, doctor], [doctor, nurselife], [nurselife, palliative], [palliative, dementia], [dementia, carer]]  \n",
              "11  [[essential, oral], [oral, care], [care, training], [participate, ideal], [language, therapist], [therapist, hospice], [hospice, nurse], [nurse, doctor], [doctor, dental], [dental, care], [care, professional], [professional, 12th], [12th, january], [space, leave], [leave, sltchat], [sltchat, slt], [slt, education], [education, covid], [healthcare, doctor], [doctor, nurselife], [nurselife, palliative], [palliative, dementia], [dementia, carer]]  \n",
              "12  [[heavy, work], [child, find], [sensoryintegration, education], [education, send], [send, heavywork], [heavywork, proprioception], [proprioception, christmasiscoming], [christmasiscoming, school], [school, covid]]                                                                                                                                                                                                                                            \n",
              "13  [[lockdown, loneliness], [loneliness, reach], [reach, record], [record, level], [level, covid], [really, bad], [long, term], [term, impact], [difficult, balance], [get, right], [right, loneliness]]                                                                                                                                                                                                                                                            \n",
              "14  [[updated, statistic], [longcovid, coronavirus], [coronavirus, covid], [statistic, school], [school, education], [education, teacher]]                                                                                                                                                                                                                                                                                                                           \n",
              "15  [[kid, london], [london, secondary], [secondary, school], [school, send], [send, home], [several, friend], [test, positive], [last, week], [numerous, teacher], [advice, come], [ivory, tower], [tower, education], [education, covid]]                                                                                                                                                                                                                          \n",
              "16  [[chore, could], [could, set], [set, woman], [equality, back], [year, employment], [employment, education], [education, opportunity], [lose, put], [put, woman], [disadvantage, cedaw], [empower, woman], [ensure, increase], [increase, gender], [gender, equality]]                                                                                                                                                                                            \n",
              "17  [[daniel, griffin], [griffin, provide], [weekly, clinical], [clinical, report], [anticipated, eua], [pfizer, mrna], [mrna, vaccine], [vaccine, mitigation], [mitigation, strategy], [early, care], [education, setting], [setting, expressive], [expressive, aphasia]]                                                                                                                                                                                           \n",
              "18  [[many, child], [child, across], [world, lockdown], [mean, school], [shut, education], [education, put], [reach, refugee], [refugee, child], [pandemic, beyond], [beyond, read]]                                                                                                                                                                                                                                                                                 \n",
              "19  [[interesting-this, back], [back, finding], [current, ukus], [ukus, research], [sarah, robert], [work, condition], [policy, discourse], [authoritarian, policy], [policy, turn], [edu, policy], [policy, thanks]]                                                                                                                                                                                                                                                "
            ]
          },
          "execution_count": 1166,
          "metadata": {},
          "output_type": "execute_result"
        }
      ],
      "source": [
        "# Normalizes tweets using the default options.\n",
        "# dataset[\"text_processed\"] = [tokenize_normalize(text) for text in dataset[\"text\"].values.tolist()]\n",
        "# dataset[[\"text\", \"text_processed\"]].head(n=20)\n",
        "\n",
        "# Normalizes tweets and retrieves bigrams as well:\n",
        "datasetUk[\"text_processed\"], datasetUk[\"text_bigrams\"] = map(list, zip(*[tokenize_normalize(fulltext, return_bigrams=True) for fulltext in datasetUk[\"clean_text\"].values.tolist()]))\n",
        "datasetUk[[\"clean_text\", \"text_processed\", \"text_bigrams\"]].head(n=20)"
      ]
    },
    {
      "cell_type": "markdown",
      "metadata": {
        "id": "SQcVE-hIfpMO"
      },
      "source": [
        "\n",
        "In the code found below, the lists have been flattened together and counted the values.\n",
        "In the following steps, the graphics of the most repeating words in the text were given.\n"
      ]
    },
    {
      "cell_type": "code",
      "execution_count": null,
      "metadata": {
        "id": "kzBTQxrhfpMO",
        "outputId": "3244b9a2-825e-44fa-e013-14103b295ef2"
      },
      "outputs": [
        {
          "data": {
            "text/plain": [
              "covid        113\n",
              "education    86 \n",
              "school       49 \n",
              "work         13 \n",
              "pandemic     13 \n",
              "Name: text_processed, dtype: int64"
            ]
          },
          "execution_count": 1167,
          "metadata": {},
          "output_type": "execute_result"
        }
      ],
      "source": [
        "# Flattening the lists together and counting the values:\n",
        "termsuk = pd.Series(datasetUk.explode('text_processed').text_processed).value_counts()\n",
        "\n",
        "termsuk.head(n=5)"
      ]
    },
    {
      "cell_type": "markdown",
      "metadata": {
        "id": "quHjVA0sfpMO"
      },
      "source": [
        "Flattening the lists together, joining bigram list elements, and counting the values"
      ]
    },
    {
      "cell_type": "code",
      "execution_count": null,
      "metadata": {
        "id": "arCXz9rifpMO",
        "outputId": "ca16178b-7a90-4e43-e613-79186843a1e0"
      },
      "outputs": [
        {
          "data": {
            "text/plain": [
              "education - covid     17\n",
              "secondary - school    5 \n",
              "human - right         4 \n",
              "education - travel    3 \n",
              "join - u              3 \n",
              "dtype: int64"
            ]
          },
          "execution_count": 1168,
          "metadata": {},
          "output_type": "execute_result"
        }
      ],
      "source": [
        "# Flattening the lists together, joining bigram list elements, and counting the values:\n",
        "bigramsuk = pd.Series([bigram[0]+\" - \"+bigram[1] for bigram in datasetUk.explode(\"text_bigrams\").text_bigrams.to_list() if type(bigram) == list]).value_counts().head(n=50)\n",
        "\n",
        "bigramsuk.head(n=5)"
      ]
    },
    {
      "cell_type": "markdown",
      "metadata": {
        "id": "TAGxuxghfpMO"
      },
      "source": [
        "Sentiment Analysis"
      ]
    },
    {
      "cell_type": "markdown",
      "metadata": {
        "id": "18i6RpgwfpMP"
      },
      "source": [
        "\n",
        "\n",
        "Analysis was performed using NLTK's sensitivity analyzer using VADER tool and dictionary. Emotion rating is evaluated between 1 and -1.\n"
      ]
    },
    {
      "cell_type": "code",
      "execution_count": null,
      "metadata": {
        "id": "ksSS-WE8fpMP",
        "outputId": "43420e8e-544d-4ed4-c696-8ccee33313b9"
      },
      "outputs": [],
      "source": [
        "\n",
        "\n",
        "from nltk.sentiment.vader import SentimentIntensityAnalyzer\n",
        "\n",
        "sentiment_analyzer = SentimentIntensityAnalyzer()\n",
        "\n",
        "# Notice how sentiment scores differ for the following sentences:\n",
        "sentences = text\n",
        "\n",
        "for sentence in sentences:\n",
        "    # It retrieves separate scores for negativity, neutrality, and positivity, but we\n",
        "    # can generally simply use the compound score as well.\n",
        "    print(sentence,sentiment_analyzer.polarity_scores(sentence))\n"
      ]
    },
    {
      "cell_type": "markdown",
      "metadata": {
        "id": "BAZ6MX7ifpMP"
      },
      "source": [
        "\n",
        "This function the dataset and obtain the average sentiment score of each tweet\n"
      ]
    },
    {
      "cell_type": "code",
      "execution_count": null,
      "metadata": {
        "id": "LvQX1iUBfpMP"
      },
      "outputs": [],
      "source": [
        "# This function optionally takes tokenizer and analyzer objects. This is not needed,\n",
        "# but it can help with portability.\n",
        "def analyze_sentiment(tweet, sentence_tokenizer=nltk.data.load('tokenizers/punkt/english.pickle'),\n",
        "                      sentiment_analyzer=SentimentIntensityAnalyzer()):\n",
        "\n",
        "    # Sentences are tokenized:\n",
        "    sentences = sentence_tokenizer.tokenize(tweet)\n",
        "\n",
        "    # Remember that tweets have hashtags, URLs, etc. that may confuse sentiment\n",
        "    # analysis process and pull the sentiment towards the middle. A sentiment score\n",
        "    # is not retrieved if the sentence has no sentiment and it has less than four\n",
        "    # tokens (including punctuation). So that a URL would not affect the sentiment\n",
        "    # while genuinely neutral sentences, given that they are long enough, would not\n",
        "    # be disregarded. Some of the processes we have used (such as URL removal) could\n",
        "    # be applied here as well. Feel free to play with its logic.\n",
        "    sentiments = [sentiment_analyzer.polarity_scores(sentence)[\"compound\"] for sentence in sentences\n",
        "                  if sentiment_analyzer.polarity_scores(sentence)[\"compound\"] != 0 or len(tokenizer.tokenize(sentence)) > 3]\n",
        "\n",
        "    # Returns the average compound sentiment score if a sentiment is detected.\n",
        "    if sentiments:\n",
        "        return sum(sentiments)/len(sentiments)\n",
        "    # Returns 0 if a sentiment is not detected:\n",
        "    else:\n",
        "        return 0"
      ]
    },
    {
      "cell_type": "markdown",
      "metadata": {
        "id": "_Ie__aSpfpMP"
      },
      "source": [
        "The example of text and sentiment"
      ]
    },
    {
      "cell_type": "code",
      "execution_count": null,
      "metadata": {
        "id": "U16_PDU8fpMP",
        "outputId": "4752611f-16de-4be0-cb63-ccb64e82cc5b"
      },
      "outputs": [
        {
          "data": {
            "text/html": [
              "<div>\n",
              "<style scoped>\n",
              "    .dataframe tbody tr th:only-of-type {\n",
              "        vertical-align: middle;\n",
              "    }\n",
              "\n",
              "    .dataframe tbody tr th {\n",
              "        vertical-align: top;\n",
              "    }\n",
              "\n",
              "    .dataframe thead th {\n",
              "        text-align: right;\n",
              "    }\n",
              "</style>\n",
              "<table border=\"1\" class=\"dataframe\">\n",
              "  <thead>\n",
              "    <tr style=\"text-align: right;\">\n",
              "      <th></th>\n",
              "      <th>clean_text</th>\n",
              "      <th>sentiment</th>\n",
              "    </tr>\n",
              "  </thead>\n",
              "  <tbody>\n",
              "    <tr>\n",
              "      <th>0</th>\n",
              "      <td>a total of 1921 students absent from school on december 11 due to covid-19 cyprus education ministry says cypriotstudents cyprus coronavirus covid19 cypruscoronavirus covid19tests cyprusairports cypruslockdownmeasures covid19vaccinecyprus</td>\n",
              "      <td>0.0000</td>\n",
              "    </tr>\n",
              "    <tr>\n",
              "      <th>1</th>\n",
              "      <td>royal borough of greenwich schools to close from monday as covid-19 cases rise | tier3 london covidchristmas covid19</td>\n",
              "      <td>0.0000</td>\n",
              "    </tr>\n",
              "    <tr>\n",
              "      <th>2</th>\n",
              "      <td>news education inclusion focus of groundbreaking study to tackle violent crime the has partnered with to explore patterns trends and contributory factors with a special attention paid to the covid19 period read more</td>\n",
              "      <td>-0.6908</td>\n",
              "    </tr>\n",
              "    <tr>\n",
              "      <th>3</th>\n",
              "      <td>her words resonate with me because of the covid19 related study of heart-based unwritten new covenant centered \"battle of the sexes\" based education that i'm pursuing here 2</td>\n",
              "      <td>-0.3818</td>\n",
              "    </tr>\n",
              "    <tr>\n",
              "      <th>4</th>\n",
              "      <td>there's been so much reflection in the world of business industry post covid19 but there appears to no such desire for change in respect of education there is much opportunity to reset literally what it says on the tin teach the future - change the future</td>\n",
              "      <td>0.8625</td>\n",
              "    </tr>\n",
              "  </tbody>\n",
              "</table>\n",
              "</div>"
            ],
            "text/plain": [
              "                                                                                                                                                                                                                                                        clean_text  \\\n",
              "0  a total of 1921 students absent from school on december 11 due to covid-19 cyprus education ministry says cypriotstudents cyprus coronavirus covid19 cypruscoronavirus covid19tests cyprusairports cypruslockdownmeasures covid19vaccinecyprus                    \n",
              "1  royal borough of greenwich schools to close from monday as covid-19 cases rise | tier3 london covidchristmas covid19                                                                                                                                              \n",
              "2  news education inclusion focus of groundbreaking study to tackle violent crime the has partnered with to explore patterns trends and contributory factors with a special attention paid to the covid19 period read more                                           \n",
              "3  her words resonate with me because of the covid19 related study of heart-based unwritten new covenant centered \"battle of the sexes\" based education that i'm pursuing here 2                                                                                     \n",
              "4  there's been so much reflection in the world of business industry post covid19 but there appears to no such desire for change in respect of education there is much opportunity to reset literally what it says on the tin teach the future - change the future   \n",
              "\n",
              "   sentiment  \n",
              "0  0.0000     \n",
              "1  0.0000     \n",
              "2 -0.6908     \n",
              "3 -0.3818     \n",
              "4  0.8625     "
            ]
          },
          "execution_count": 1171,
          "metadata": {},
          "output_type": "execute_result"
        }
      ],
      "source": [
        "datasetUk[\"sentiment\"] = datasetUk[\"clean_text\"].map(analyze_sentiment)\n",
        "\n",
        "datasetUk[[\"clean_text\", \"sentiment\"]].head(5)"
      ]
    },
    {
      "cell_type": "markdown",
      "metadata": {
        "id": "9G4evQjzfpMP"
      },
      "source": [
        "After measuring the sentiment of the tweets, we rated it by adding a new column to the data. This rating is negative if sentiment is less than 0, positive if greater than 0, and neutral if equal."
      ]
    },
    {
      "cell_type": "code",
      "execution_count": null,
      "metadata": {
        "id": "2smdzX2FfpMP"
      },
      "outputs": [],
      "source": [
        "import pandas as pd\n",
        "\n",
        "\n",
        "datasetUk.loc[datasetUk['sentiment'] < 0, 'Type of Sentiment'] = 'negative'\n",
        "datasetUk.loc[datasetUk['sentiment'] == 0, 'Type of Sentiment'] = 'neutral'\n",
        "datasetUk.loc[datasetUk['sentiment'] > 0,'Type of Sentiment'] = 'positive'"
      ]
    },
    {
      "cell_type": "markdown",
      "metadata": {
        "id": "fkMVxO3PfpMP"
      },
      "source": [
        "It is taken one observation from the data to understand the process"
      ]
    },
    {
      "cell_type": "code",
      "execution_count": null,
      "metadata": {
        "id": "ZKi23a-6fpMP",
        "outputId": "61a6567f-4dd9-42cf-b7b8-c79a879e29d5"
      },
      "outputs": [
        {
          "data": {
            "text/html": [
              "<div>\n",
              "<style scoped>\n",
              "    .dataframe tbody tr th:only-of-type {\n",
              "        vertical-align: middle;\n",
              "    }\n",
              "\n",
              "    .dataframe tbody tr th {\n",
              "        vertical-align: top;\n",
              "    }\n",
              "\n",
              "    .dataframe thead th {\n",
              "        text-align: right;\n",
              "    }\n",
              "</style>\n",
              "<table border=\"1\" class=\"dataframe\">\n",
              "  <thead>\n",
              "    <tr style=\"text-align: right;\">\n",
              "      <th></th>\n",
              "      <th>screen_name</th>\n",
              "      <th>follower_count</th>\n",
              "      <th>timestamp</th>\n",
              "      <th>text</th>\n",
              "      <th>hashtags</th>\n",
              "      <th>favorite_count</th>\n",
              "      <th>retweet_count</th>\n",
              "      <th>source</th>\n",
              "      <th>lang</th>\n",
              "      <th>tags</th>\n",
              "      <th>links</th>\n",
              "      <th>clean_text</th>\n",
              "      <th>text_processed</th>\n",
              "      <th>text_bigrams</th>\n",
              "      <th>sentiment</th>\n",
              "      <th>Type of Sentiment</th>\n",
              "    </tr>\n",
              "  </thead>\n",
              "  <tbody>\n",
              "    <tr>\n",
              "      <th>6</th>\n",
              "      <td>GiveyHQ</td>\n",
              "      <td>5690</td>\n",
              "      <td>1607868626</td>\n",
              "      <td>Welcome @UgandaCancer who are raising funds on Givey! https://t.co/xF2q9o7mQX #Givey #community #donations #fundraising #giving #goodcauses #mentalhealth #education #foodbanks #COVID19 #HealthcareHeroes #animals #environmental #uganda #cancer https://t.co/NpZyQfOOWG</td>\n",
              "      <td>foodbanks community fundraising education goodcauses uganda cancer COVID19 Givey mentalhealth environmental giving animals HealthcareHeroes donations</td>\n",
              "      <td>0</td>\n",
              "      <td>0</td>\n",
              "      <td>CoSchedule</td>\n",
              "      <td>en</td>\n",
              "      <td>[@UgandaCancer]</td>\n",
              "      <td>[https://t.co/xF2q9o7mQX, https://t.co/NpZyQfOOWG]</td>\n",
              "      <td>welcome who are raising funds on givey givey community donations fundraising giving goodcauses mentalhealth education foodbanks covid19 healthcareheroes animals environmental uganda cancer</td>\n",
              "      <td>[welcome, raise, fund, givey, givey, community, donation, fundraise, give, goodcauses, mentalhealth, education, foodbanks, covid, healthcareheroes, animal, environmental, uganda, cancer]</td>\n",
              "      <td>[[raise, fund], [givey, givey], [givey, community], [community, donation], [donation, fundraise], [fundraise, give], [give, goodcauses], [goodcauses, mentalhealth], [mentalhealth, education], [education, foodbanks], [foodbanks, covid], [healthcareheroes, animal], [animal, environmental], [environmental, uganda], [uganda, cancer]]</td>\n",
              "      <td>0.0</td>\n",
              "      <td>neutral</td>\n",
              "    </tr>\n",
              "  </tbody>\n",
              "</table>\n",
              "</div>"
            ],
            "text/plain": [
              "  screen_name  follower_count   timestamp  \\\n",
              "6  GiveyHQ     5690            1607868626   \n",
              "\n",
              "                                                                                                                                                                                                                                                                         text  \\\n",
              "6  Welcome @UgandaCancer who are raising funds on Givey! https://t.co/xF2q9o7mQX #Givey #community #donations #fundraising #giving #goodcauses #mentalhealth #education #foodbanks #COVID19 #HealthcareHeroes #animals #environmental #uganda #cancer https://t.co/NpZyQfOOWG   \n",
              "\n",
              "                                                                                                                                                hashtags  \\\n",
              "6  foodbanks community fundraising education goodcauses uganda cancer COVID19 Givey mentalhealth environmental giving animals HealthcareHeroes donations   \n",
              "\n",
              "   favorite_count  retweet_count      source lang             tags  \\\n",
              "6  0               0              CoSchedule  en   [@UgandaCancer]   \n",
              "\n",
              "                                                links  \\\n",
              "6  [https://t.co/xF2q9o7mQX, https://t.co/NpZyQfOOWG]   \n",
              "\n",
              "                                                                                                                                                                                     clean_text  \\\n",
              "6  welcome who are raising funds on givey givey community donations fundraising giving goodcauses mentalhealth education foodbanks covid19 healthcareheroes animals environmental uganda cancer   \n",
              "\n",
              "                                                                                                                                                                               text_processed  \\\n",
              "6  [welcome, raise, fund, givey, givey, community, donation, fundraise, give, goodcauses, mentalhealth, education, foodbanks, covid, healthcareheroes, animal, environmental, uganda, cancer]   \n",
              "\n",
              "                                                                                                                                                                                                                                                                                                                                  text_bigrams  \\\n",
              "6  [[raise, fund], [givey, givey], [givey, community], [community, donation], [donation, fundraise], [fundraise, give], [give, goodcauses], [goodcauses, mentalhealth], [mentalhealth, education], [education, foodbanks], [foodbanks, covid], [healthcareheroes, animal], [animal, environmental], [environmental, uganda], [uganda, cancer]]   \n",
              "\n",
              "   sentiment Type of Sentiment  \n",
              "6  0.0        neutral           "
            ]
          },
          "execution_count": 1173,
          "metadata": {},
          "output_type": "execute_result"
        }
      ],
      "source": [
        "datasetUk.sample(1)"
      ]
    },
    {
      "cell_type": "code",
      "execution_count": null,
      "metadata": {
        "id": "X45l8478fpMQ"
      },
      "outputs": [],
      "source": [
        "datasetUk= datasetUk.drop(['timestamp', 'lang','links','tags','follower_count'], axis=1)"
      ]
    },
    {
      "cell_type": "code",
      "execution_count": null,
      "metadata": {
        "id": "NqLQapyifpMQ",
        "outputId": "ddfb0725-f8d0-4611-bb28-e89b255210f0"
      },
      "outputs": [
        {
          "data": {
            "text/html": [
              "<div>\n",
              "<style scoped>\n",
              "    .dataframe tbody tr th:only-of-type {\n",
              "        vertical-align: middle;\n",
              "    }\n",
              "\n",
              "    .dataframe tbody tr th {\n",
              "        vertical-align: top;\n",
              "    }\n",
              "\n",
              "    .dataframe thead th {\n",
              "        text-align: right;\n",
              "    }\n",
              "</style>\n",
              "<table border=\"1\" class=\"dataframe\">\n",
              "  <thead>\n",
              "    <tr style=\"text-align: right;\">\n",
              "      <th></th>\n",
              "      <th>screen_name</th>\n",
              "      <th>text</th>\n",
              "      <th>hashtags</th>\n",
              "      <th>favorite_count</th>\n",
              "      <th>retweet_count</th>\n",
              "      <th>source</th>\n",
              "      <th>clean_text</th>\n",
              "      <th>text_processed</th>\n",
              "      <th>text_bigrams</th>\n",
              "      <th>sentiment</th>\n",
              "      <th>Type of Sentiment</th>\n",
              "    </tr>\n",
              "  </thead>\n",
              "  <tbody>\n",
              "    <tr>\n",
              "      <th>16</th>\n",
              "      <td>CedawPT</td>\n",
              "      <td>#COVID19 chores could set women’s equality back by 25 years. Employment &amp; education opportunities are being lost putting women at a disadvantage. #CEDAW is key to empower women &amp; to ensure increasing gender equality is not wiped out. #womenempowerment https://t.co/wuJVPpHBjp https://t.co/Y3G9P64gPX</td>\n",
              "      <td>COVID19 CEDAW womenempowerment</td>\n",
              "      <td>18</td>\n",
              "      <td>17</td>\n",
              "      <td>twitter for iphone</td>\n",
              "      <td>covid19 chores could set women’s equality back by 25 years employment education opportunities are being lost putting women at a disadvantage cedaw is key to empower women to ensure increasing gender equality is not wiped out womenempowerment</td>\n",
              "      <td>[covid, chore, could, set, woman, equality, back, year, employment, education, opportunity, lose, put, woman, disadvantage, cedaw, key, empower, woman, ensure, increase, gender, equality, wipe, womenempowerment]</td>\n",
              "      <td>[[chore, could], [could, set], [set, woman], [equality, back], [year, employment], [employment, education], [education, opportunity], [lose, put], [put, woman], [disadvantage, cedaw], [empower, woman], [ensure, increase], [increase, gender], [gender, equality]]</td>\n",
              "      <td>0.0258</td>\n",
              "      <td>positive</td>\n",
              "    </tr>\n",
              "  </tbody>\n",
              "</table>\n",
              "</div>"
            ],
            "text/plain": [
              "   screen_name  \\\n",
              "16  CedawPT      \n",
              "\n",
              "                                                                                                                                                                                                                                                                                                           text  \\\n",
              "16  #COVID19 chores could set women’s equality back by 25 years. Employment & education opportunities are being lost putting women at a disadvantage. #CEDAW is key to empower women & to ensure increasing gender equality is not wiped out. #womenempowerment https://t.co/wuJVPpHBjp https://t.co/Y3G9P64gPX   \n",
              "\n",
              "                          hashtags  favorite_count  retweet_count  \\\n",
              "16  COVID19 CEDAW womenempowerment  18              17              \n",
              "\n",
              "                source  \\\n",
              "16  twitter for iphone   \n",
              "\n",
              "                                                                                                                                                                                                                                           clean_text  \\\n",
              "16  covid19 chores could set women’s equality back by 25 years employment education opportunities are being lost putting women at a disadvantage cedaw is key to empower women to ensure increasing gender equality is not wiped out womenempowerment   \n",
              "\n",
              "                                                                                                                                                                                                         text_processed  \\\n",
              "16  [covid, chore, could, set, woman, equality, back, year, employment, education, opportunity, lose, put, woman, disadvantage, cedaw, key, empower, woman, ensure, increase, gender, equality, wipe, womenempowerment]   \n",
              "\n",
              "                                                                                                                                                                                                                                                             text_bigrams  \\\n",
              "16  [[chore, could], [could, set], [set, woman], [equality, back], [year, employment], [employment, education], [education, opportunity], [lose, put], [put, woman], [disadvantage, cedaw], [empower, woman], [ensure, increase], [increase, gender], [gender, equality]]   \n",
              "\n",
              "    sentiment Type of Sentiment  \n",
              "16  0.0258     positive          "
            ]
          },
          "execution_count": 1175,
          "metadata": {},
          "output_type": "execute_result"
        }
      ],
      "source": [
        "datasetUk.sample(1)"
      ]
    },
    {
      "cell_type": "markdown",
      "metadata": {
        "id": "yGdfi-kNfpMQ"
      },
      "source": [
        "\n",
        "In this section, we have tokenized our hashtags. We will use it later in the analysis.\n"
      ]
    },
    {
      "cell_type": "code",
      "execution_count": null,
      "metadata": {
        "id": "-N8Sv35ufpMQ",
        "outputId": "995c9410-065d-4e64-8e05-eac287814cf6"
      },
      "outputs": [
        {
          "name": "stdout",
          "output_type": "stream",
          "text": [
            "coronavirus Cyprus Cypruscoronavirus covid19 Cypriotstudents Cypruslockdownmeasures covid19tests covid19vaccineCyprus Cyprusairports \n",
            "└─> ['coronavirus', 'cyprus', 'cypruscoronavirus', 'covid', '19', 'cypriotstudents', 'cypruslockdownmeasures', 'covid', '19tests', 'covid', '19vaccinecyprus', 'cyprusairports'] \n",
            "\n",
            "tier3 covid19 CovidChristmas london \n",
            "└─> ['tier', '3', 'covid', '19', 'covidchristmas', 'london'] \n",
            "\n",
            "COVID19 \n",
            "└─> ['covid', '19'] \n",
            "\n",
            "COVID19 \n",
            "└─> ['covid', '19'] \n",
            "\n",
            "COVID19 \n",
            "└─> ['covid', '19'] \n",
            "\n"
          ]
        },
        {
          "data": {
            "text/html": [
              "<div>\n",
              "<style scoped>\n",
              "    .dataframe tbody tr th:only-of-type {\n",
              "        vertical-align: middle;\n",
              "    }\n",
              "\n",
              "    .dataframe tbody tr th {\n",
              "        vertical-align: top;\n",
              "    }\n",
              "\n",
              "    .dataframe thead th {\n",
              "        text-align: right;\n",
              "    }\n",
              "</style>\n",
              "<table border=\"1\" class=\"dataframe\">\n",
              "  <thead>\n",
              "    <tr style=\"text-align: right;\">\n",
              "      <th></th>\n",
              "      <th>screen_name</th>\n",
              "      <th>text</th>\n",
              "      <th>hashtags</th>\n",
              "      <th>favorite_count</th>\n",
              "      <th>retweet_count</th>\n",
              "      <th>source</th>\n",
              "      <th>clean_text</th>\n",
              "      <th>text_processed</th>\n",
              "      <th>text_bigrams</th>\n",
              "      <th>sentiment</th>\n",
              "      <th>Type of Sentiment</th>\n",
              "    </tr>\n",
              "  </thead>\n",
              "  <tbody>\n",
              "    <tr>\n",
              "      <th>50</th>\n",
              "      <td>Fab_Inc_dev</td>\n",
              "      <td>Great post by @Downes who takes us into the future of #education, and draws \"lessons from the future\". \"As we enter the 2040s the school remains the centre of education and development in the community. We should have expected no other outcome.\" #COVID19 https://t.co/rbqDoShQpM</td>\n",
              "      <td>[education, covid19]</td>\n",
              "      <td>1</td>\n",
              "      <td>0</td>\n",
              "      <td>twitter web app</td>\n",
              "      <td>great post by who takes us into the future of education and draws \"lessons from the future\" \"as we enter the 2040s the school remains the centre of education and development in the community we should have expected no other outcome\" covid19</td>\n",
              "      <td>[great, post, take, u, future, education, draw, lesson, future, enter, 2040s, school, remain, centre, education, development, community, expect, outcome, covid]</td>\n",
              "      <td>[[great, post], [take, u], [school, remain]]</td>\n",
              "      <td>0.4404</td>\n",
              "      <td>positive</td>\n",
              "    </tr>\n",
              "    <tr>\n",
              "      <th>45</th>\n",
              "      <td>HWGateshead</td>\n",
              "      <td>Have you been identified as clinically extremely vulnerable? New government #COVID19 guidelines which include: socialising inside and outside the home, work, education, travel, going to shops and pharmacies &gt; https://t.co/G4fW5rzaat #shielding #staysafe https://t.co/evXV9AM5mS</td>\n",
              "      <td>[shielding, covid19, staysafe]</td>\n",
              "      <td>0</td>\n",
              "      <td>0</td>\n",
              "      <td>hootsuite</td>\n",
              "      <td>have you been identified as clinically extremely vulnerable new government covid19 guidelines which include socialising inside and outside the home work education travel going to shops and pharmacies &gt; shielding staysafe</td>\n",
              "      <td>[identify, clinically, extremely, vulnerable, new, government, covid, guideline, include, socialise, inside, outside, home, work, education, travel, go, shop, pharmacy, shield, staysafe]</td>\n",
              "      <td>[[clinically, extremely], [extremely, vulnerable], [vulnerable, new], [new, government], [government, covid], [include, socialise], [socialise, inside], [home, work], [work, education], [education, travel], [travel, go], [shield, staysafe]]</td>\n",
              "      <td>-0.2944</td>\n",
              "      <td>negative</td>\n",
              "    </tr>\n",
              "    <tr>\n",
              "      <th>89</th>\n",
              "      <td>_MyFutureChoice</td>\n",
              "      <td>@_MyUniChoices Schools in England can close for Christmas a day early... Schools are looking for the best way to operate as we get closer to Christmas to give teachers a break and allow six clear days before Christmas Eve. https://t.co/0ACynizYYL #education #Covid19</td>\n",
              "      <td>[education, covid19]</td>\n",
              "      <td>0</td>\n",
              "      <td>0</td>\n",
              "      <td>twitter web app</td>\n",
              "      <td>schools in england can close for christmas a day early schools are looking for the best way to operate as we get closer to christmas to give teachers a break and allow six clear days before christmas eve education covid19</td>\n",
              "      <td>[school, england, close, christmas, day, early, school, look, best, way, operate, get, close, christmas, give, teacher, break, allow, six, clear, day, christmas, eve, education, covid]</td>\n",
              "      <td>[[day, early], [early, school], [best, way], [get, close], [give, teacher], [allow, six], [six, clear], [clear, day], [christmas, eve], [eve, education], [education, covid]]</td>\n",
              "      <td>0.8271</td>\n",
              "      <td>positive</td>\n",
              "    </tr>\n",
              "  </tbody>\n",
              "</table>\n",
              "</div>"
            ],
            "text/plain": [
              "        screen_name  \\\n",
              "50  Fab_Inc_dev       \n",
              "45  HWGateshead       \n",
              "89  _MyFutureChoice   \n",
              "\n",
              "                                                                                                                                                                                                                                                                                      text  \\\n",
              "50  Great post by @Downes who takes us into the future of #education, and draws \"lessons from the future\". \"As we enter the 2040s the school remains the centre of education and development in the community. We should have expected no other outcome.\" #COVID19 https://t.co/rbqDoShQpM   \n",
              "45  Have you been identified as clinically extremely vulnerable? New government #COVID19 guidelines which include: socialising inside and outside the home, work, education, travel, going to shops and pharmacies > https://t.co/G4fW5rzaat #shielding #staysafe https://t.co/evXV9AM5mS    \n",
              "89  @_MyUniChoices Schools in England can close for Christmas a day early... Schools are looking for the best way to operate as we get closer to Christmas to give teachers a break and allow six clear days before Christmas Eve. https://t.co/0ACynizYYL #education #Covid19               \n",
              "\n",
              "                          hashtags  favorite_count  retweet_count  \\\n",
              "50  [education, covid19]            1               0               \n",
              "45  [shielding, covid19, staysafe]  0               0               \n",
              "89  [education, covid19]            0               0               \n",
              "\n",
              "             source  \\\n",
              "50  twitter web app   \n",
              "45  hootsuite         \n",
              "89  twitter web app   \n",
              "\n",
              "                                                                                                                                                                                                                                          clean_text  \\\n",
              "50  great post by who takes us into the future of education and draws \"lessons from the future\" \"as we enter the 2040s the school remains the centre of education and development in the community we should have expected no other outcome\" covid19   \n",
              "45  have you been identified as clinically extremely vulnerable new government covid19 guidelines which include socialising inside and outside the home work education travel going to shops and pharmacies > shielding staysafe                       \n",
              "89  schools in england can close for christmas a day early schools are looking for the best way to operate as we get closer to christmas to give teachers a break and allow six clear days before christmas eve education covid19                      \n",
              "\n",
              "                                                                                                                                                                                text_processed  \\\n",
              "50  [great, post, take, u, future, education, draw, lesson, future, enter, 2040s, school, remain, centre, education, development, community, expect, outcome, covid]                             \n",
              "45  [identify, clinically, extremely, vulnerable, new, government, covid, guideline, include, socialise, inside, outside, home, work, education, travel, go, shop, pharmacy, shield, staysafe]   \n",
              "89  [school, england, close, christmas, day, early, school, look, best, way, operate, get, close, christmas, give, teacher, break, allow, six, clear, day, christmas, eve, education, covid]     \n",
              "\n",
              "                                                                                                                                                                                                                                        text_bigrams  \\\n",
              "50  [[great, post], [take, u], [school, remain]]                                                                                                                                                                                                       \n",
              "45  [[clinically, extremely], [extremely, vulnerable], [vulnerable, new], [new, government], [government, covid], [include, socialise], [socialise, inside], [home, work], [work, education], [education, travel], [travel, go], [shield, staysafe]]   \n",
              "89  [[day, early], [early, school], [best, way], [get, close], [give, teacher], [allow, six], [six, clear], [clear, day], [christmas, eve], [eve, education], [education, covid]]                                                                      \n",
              "\n",
              "    sentiment Type of Sentiment  \n",
              "50  0.4404     positive          \n",
              "45 -0.2944     negative          \n",
              "89  0.8271     positive          "
            ]
          },
          "execution_count": 1176,
          "metadata": {},
          "output_type": "execute_result"
        }
      ],
      "source": [
        "from nltk.tokenize import TweetTokenizer\n",
        "\n",
        "# This tokenizer will tokenize tweets. \"preserve_case\" parameter can be used to\n",
        "# preserve cases or make it all lowercase. \"reduce_len\" parameter shortens\n",
        "# consecutive character repetitions to at most three consecutive repetitions to\n",
        "# reduce noise.\n",
        "tokenizer = TweetTokenizer(preserve_case=False, reduce_len=True)\n",
        "\n",
        "for tweet in datasetUk[\"hashtags\"].head():\n",
        "    print(tweet,\"\\n└─>\",tokenizer.tokenize(tweet),\"\\n\")\n",
        "\n",
        "\n",
        "from nltk.tokenize import word_tokenize\n",
        "\n",
        "def get_tokens(row):\n",
        "    return word_tokenize(row[\"hashtags\"].lower())\n",
        "\n",
        "datasetUk[\"hashtags\"] = datasetUk.apply(lambda row: get_tokens(row), axis = 1)\n",
        "datasetUk.sample(3)"
      ]
    },
    {
      "cell_type": "code",
      "execution_count": null,
      "metadata": {
        "id": "SuJl3GIPfpMQ",
        "outputId": "7731eebe-a43b-4621-c968-782937eb5b39"
      },
      "outputs": [
        {
          "data": {
            "text/plain": [
              "covid19         100\n",
              "education       42 \n",
              "schools         7  \n",
              "school          5  \n",
              "wellbeing       4  \n",
              "shielding       3  \n",
              "highered        3  \n",
              "mentalhealth    3  \n",
              "teachers        3  \n",
              "staysafe        3  \n",
              "Name: hashtags, dtype: int64"
            ]
          },
          "execution_count": 1177,
          "metadata": {},
          "output_type": "execute_result"
        }
      ],
      "source": [
        "\n",
        "# Flattening the lists together and counting the values:\n",
        "hashtagsuk = pd.Series(datasetUk.explode(\"hashtags\").hashtags).value_counts()\n",
        "\n",
        "hashtagsuk.head(n=10)"
      ]
    },
    {
      "cell_type": "code",
      "execution_count": null,
      "metadata": {
        "id": "Ln70OEZDfpMQ"
      },
      "outputs": [],
      "source": [
        "datasetUk['text_length'] = datasetUk['clean_text'].apply(lambda x: len(x))"
      ]
    },
    {
      "cell_type": "code",
      "execution_count": null,
      "metadata": {
        "id": "gTJMtyb2fpMQ"
      },
      "outputs": [],
      "source": []
    },
    {
      "cell_type": "code",
      "execution_count": null,
      "metadata": {
        "id": "STg6_2jlfpMQ"
      },
      "outputs": [],
      "source": []
    },
    {
      "cell_type": "code",
      "execution_count": null,
      "metadata": {
        "id": "-lwAs5V3fpMR"
      },
      "outputs": [],
      "source": []
    },
    {
      "cell_type": "code",
      "execution_count": null,
      "metadata": {
        "id": "Z207AlvcfpMR",
        "scrolled": false
      },
      "outputs": [],
      "source": []
    },
    {
      "cell_type": "code",
      "execution_count": null,
      "metadata": {
        "id": "FBcFW0wZfpMR"
      },
      "outputs": [],
      "source": []
    },
    {
      "cell_type": "code",
      "execution_count": null,
      "metadata": {
        "id": "6ksGL5i6fpMR"
      },
      "outputs": [],
      "source": []
    },
    {
      "cell_type": "code",
      "execution_count": null,
      "metadata": {
        "id": "P-qA1FzGfpMR"
      },
      "outputs": [],
      "source": []
    },
    {
      "cell_type": "markdown",
      "metadata": {
        "id": "6NOZf4r6fpMR"
      },
      "source": [
        "# Exploratory Data Analysis"
      ]
    },
    {
      "cell_type": "markdown",
      "metadata": {
        "id": "CGNQJXgCfpMR"
      },
      "source": [
        "This part of the analysis looked at the distribution of data attributes. Descriptive statistics was created for both data"
      ]
    },
    {
      "cell_type": "markdown",
      "metadata": {
        "id": "YbXWhtqffpMR"
      },
      "source": [
        "Descriptive Statistics which illustrates the aspect of the\n",
        "dataset can enable us to understand the structure of the data\n",
        "and create research questions in the following part of the\n",
        "analy analysis. It has been a descriptive summary statistics\n",
        "table below."
      ]
    },
    {
      "cell_type": "code",
      "execution_count": null,
      "metadata": {
        "id": "9JhIXxOIfpMR"
      },
      "outputs": [],
      "source": [
        "import pandas as pd\n",
        "import numpy as np"
      ]
    },
    {
      "cell_type": "markdown",
      "metadata": {
        "id": "ZYJs06tQfpMR"
      },
      "source": [
        "Decriptive Statistics for USA Data"
      ]
    },
    {
      "cell_type": "code",
      "execution_count": null,
      "metadata": {
        "id": "z0DrPXDNfpMS",
        "outputId": "f5001439-40af-4912-d8c2-ae6da8e14b55"
      },
      "outputs": [
        {
          "data": {
            "text/html": [
              "<div>\n",
              "<style scoped>\n",
              "    .dataframe tbody tr th:only-of-type {\n",
              "        vertical-align: middle;\n",
              "    }\n",
              "\n",
              "    .dataframe tbody tr th {\n",
              "        vertical-align: top;\n",
              "    }\n",
              "\n",
              "    .dataframe thead th {\n",
              "        text-align: right;\n",
              "    }\n",
              "</style>\n",
              "<table border=\"1\" class=\"dataframe\">\n",
              "  <thead>\n",
              "    <tr style=\"text-align: right;\">\n",
              "      <th></th>\n",
              "      <th>favorite_count</th>\n",
              "      <th>retweet_count</th>\n",
              "      <th>sentiment</th>\n",
              "      <th>text_length</th>\n",
              "    </tr>\n",
              "  </thead>\n",
              "  <tbody>\n",
              "    <tr>\n",
              "      <th>count</th>\n",
              "      <td>100.000000</td>\n",
              "      <td>100.000000</td>\n",
              "      <td>100.000000</td>\n",
              "      <td>100.00000</td>\n",
              "    </tr>\n",
              "    <tr>\n",
              "      <th>mean</th>\n",
              "      <td>1.260000</td>\n",
              "      <td>0.400000</td>\n",
              "      <td>-0.080255</td>\n",
              "      <td>179.79000</td>\n",
              "    </tr>\n",
              "    <tr>\n",
              "      <th>std</th>\n",
              "      <td>3.252412</td>\n",
              "      <td>1.255292</td>\n",
              "      <td>0.399045</td>\n",
              "      <td>29.46674</td>\n",
              "    </tr>\n",
              "    <tr>\n",
              "      <th>min</th>\n",
              "      <td>0.000000</td>\n",
              "      <td>0.000000</td>\n",
              "      <td>-0.855500</td>\n",
              "      <td>50.00000</td>\n",
              "    </tr>\n",
              "    <tr>\n",
              "      <th>25%</th>\n",
              "      <td>0.000000</td>\n",
              "      <td>0.000000</td>\n",
              "      <td>-0.296000</td>\n",
              "      <td>164.00000</td>\n",
              "    </tr>\n",
              "    <tr>\n",
              "      <th>50%</th>\n",
              "      <td>0.000000</td>\n",
              "      <td>0.000000</td>\n",
              "      <td>-0.202100</td>\n",
              "      <td>178.50000</td>\n",
              "    </tr>\n",
              "    <tr>\n",
              "      <th>75%</th>\n",
              "      <td>1.000000</td>\n",
              "      <td>0.000000</td>\n",
              "      <td>0.177900</td>\n",
              "      <td>196.50000</td>\n",
              "    </tr>\n",
              "    <tr>\n",
              "      <th>max</th>\n",
              "      <td>20.000000</td>\n",
              "      <td>7.000000</td>\n",
              "      <td>0.915300</td>\n",
              "      <td>247.00000</td>\n",
              "    </tr>\n",
              "  </tbody>\n",
              "</table>\n",
              "</div>"
            ],
            "text/plain": [
              "       favorite_count  retweet_count   sentiment  text_length\n",
              "count  100.000000      100.000000     100.000000  100.00000  \n",
              "mean   1.260000        0.400000      -0.080255    179.79000  \n",
              "std    3.252412        1.255292       0.399045    29.46674   \n",
              "min    0.000000        0.000000      -0.855500    50.00000   \n",
              "25%    0.000000        0.000000      -0.296000    164.00000  \n",
              "50%    0.000000        0.000000      -0.202100    178.50000  \n",
              "75%    1.000000        0.000000       0.177900    196.50000  \n",
              "max    20.000000       7.000000       0.915300    247.00000  "
            ]
          },
          "execution_count": 1180,
          "metadata": {},
          "output_type": "execute_result"
        }
      ],
      "source": [
        "dataset.describe()"
      ]
    },
    {
      "cell_type": "markdown",
      "metadata": {
        "id": "XFXyjyEgfpMS"
      },
      "source": [
        " These tables cover the continuous variables in the data set.\n",
        "It represents the minimum value, 1st quantile, Median, 3rd\n",
        "quantile,mean,st deviation and the maximum value of the variables on the\n",
        "given tables"
      ]
    },
    {
      "cell_type": "markdown",
      "metadata": {
        "id": "HxVhcWELfpMS"
      },
      "source": [
        "To illustrate it, the minimum and the maximum values of favorite count  are 0 and 20 respectively. The mean of favorite count  is a higher value than the median.Moreover, the variability is calculated by using the interquartile range which is the difference between the 1st quartile and the 3rd quartile. It is equal to 1."
      ]
    },
    {
      "cell_type": "markdown",
      "metadata": {
        "id": "MXckKYqpfpMS"
      },
      "source": [
        "Also, the minimum and the maximum values of retweet count are 0 and 7 respectively. Moreover, the variability is calculated by using the interquartile range which is the difference between the 1st quartile and the 3rd quartile. It is equal to 7."
      ]
    },
    {
      "cell_type": "markdown",
      "metadata": {
        "id": "GniyFEXsfpMS"
      },
      "source": [
        "Decriptive Statistics for UK Data"
      ]
    },
    {
      "cell_type": "code",
      "execution_count": null,
      "metadata": {
        "id": "hVcW1NdLfpMS",
        "outputId": "e2415a17-51e7-48bf-a909-3ec02399c627"
      },
      "outputs": [
        {
          "data": {
            "text/html": [
              "<div>\n",
              "<style scoped>\n",
              "    .dataframe tbody tr th:only-of-type {\n",
              "        vertical-align: middle;\n",
              "    }\n",
              "\n",
              "    .dataframe tbody tr th {\n",
              "        vertical-align: top;\n",
              "    }\n",
              "\n",
              "    .dataframe thead th {\n",
              "        text-align: right;\n",
              "    }\n",
              "</style>\n",
              "<table border=\"1\" class=\"dataframe\">\n",
              "  <thead>\n",
              "    <tr style=\"text-align: right;\">\n",
              "      <th></th>\n",
              "      <th>favorite_count</th>\n",
              "      <th>retweet_count</th>\n",
              "      <th>sentiment</th>\n",
              "      <th>text_length</th>\n",
              "    </tr>\n",
              "  </thead>\n",
              "  <tbody>\n",
              "    <tr>\n",
              "      <th>count</th>\n",
              "      <td>100.000000</td>\n",
              "      <td>100.000000</td>\n",
              "      <td>100.000000</td>\n",
              "      <td>100.000000</td>\n",
              "    </tr>\n",
              "    <tr>\n",
              "      <th>mean</th>\n",
              "      <td>2.660000</td>\n",
              "      <td>1.200000</td>\n",
              "      <td>0.237841</td>\n",
              "      <td>194.910000</td>\n",
              "    </tr>\n",
              "    <tr>\n",
              "      <th>std</th>\n",
              "      <td>4.406652</td>\n",
              "      <td>2.502524</td>\n",
              "      <td>0.457705</td>\n",
              "      <td>53.544298</td>\n",
              "    </tr>\n",
              "    <tr>\n",
              "      <th>min</th>\n",
              "      <td>0.000000</td>\n",
              "      <td>0.000000</td>\n",
              "      <td>-0.932500</td>\n",
              "      <td>53.000000</td>\n",
              "    </tr>\n",
              "    <tr>\n",
              "      <th>25%</th>\n",
              "      <td>0.000000</td>\n",
              "      <td>0.000000</td>\n",
              "      <td>0.000000</td>\n",
              "      <td>159.750000</td>\n",
              "    </tr>\n",
              "    <tr>\n",
              "      <th>50%</th>\n",
              "      <td>1.000000</td>\n",
              "      <td>0.000000</td>\n",
              "      <td>0.261600</td>\n",
              "      <td>210.000000</td>\n",
              "    </tr>\n",
              "    <tr>\n",
              "      <th>75%</th>\n",
              "      <td>3.000000</td>\n",
              "      <td>1.000000</td>\n",
              "      <td>0.645100</td>\n",
              "      <td>239.250000</td>\n",
              "    </tr>\n",
              "    <tr>\n",
              "      <th>max</th>\n",
              "      <td>25.000000</td>\n",
              "      <td>17.000000</td>\n",
              "      <td>0.952400</td>\n",
              "      <td>267.000000</td>\n",
              "    </tr>\n",
              "  </tbody>\n",
              "</table>\n",
              "</div>"
            ],
            "text/plain": [
              "       favorite_count  retweet_count   sentiment  text_length\n",
              "count  100.000000      100.000000     100.000000  100.000000 \n",
              "mean   2.660000        1.200000       0.237841    194.910000 \n",
              "std    4.406652        2.502524       0.457705    53.544298  \n",
              "min    0.000000        0.000000      -0.932500    53.000000  \n",
              "25%    0.000000        0.000000       0.000000    159.750000 \n",
              "50%    1.000000        0.000000       0.261600    210.000000 \n",
              "75%    3.000000        1.000000       0.645100    239.250000 \n",
              "max    25.000000       17.000000      0.952400    267.000000 "
            ]
          },
          "execution_count": 1181,
          "metadata": {},
          "output_type": "execute_result"
        }
      ],
      "source": [
        "datasetUk.describe()"
      ]
    },
    {
      "cell_type": "markdown",
      "metadata": {
        "id": "MhgB7kTpfpMS"
      },
      "source": [
        "\n",
        "\n",
        "To illustrate it, the minimum and the maximum values of favorite count are 0 and 25 respectively. The mean of favorite count is a higher value than the median.Moreover, the variability is calculated by using the interquartile range which is the difference between the 1st quartile and the 3rd quartile. It is equal to 3.\n",
        "\n",
        "Also, the minimum and the maximum values of retweet count are 0 and 16 respectively. Moreover, the variability is calculated by using the interquartile range which is the difference between the 1st quartile and the 3rd quartile. It is equal to 1.25."
      ]
    },
    {
      "cell_type": "code",
      "execution_count": null,
      "metadata": {
        "id": "ltDyam-9fpMT",
        "outputId": "4a72fcec-40ed-4ae2-8251-59ed94624710"
      },
      "outputs": [
        {
          "data": {
            "text/html": [
              "<div>\n",
              "<style scoped>\n",
              "    .dataframe tbody tr th:only-of-type {\n",
              "        vertical-align: middle;\n",
              "    }\n",
              "\n",
              "    .dataframe tbody tr th {\n",
              "        vertical-align: top;\n",
              "    }\n",
              "\n",
              "    .dataframe thead th {\n",
              "        text-align: right;\n",
              "    }\n",
              "</style>\n",
              "<table border=\"1\" class=\"dataframe\">\n",
              "  <thead>\n",
              "    <tr style=\"text-align: right;\">\n",
              "      <th></th>\n",
              "      <th>screen_name</th>\n",
              "      <th>text</th>\n",
              "      <th>hashtags</th>\n",
              "      <th>source</th>\n",
              "      <th>clean_text</th>\n",
              "      <th>text_processed</th>\n",
              "      <th>text_bigrams</th>\n",
              "      <th>Type of Sentiment</th>\n",
              "    </tr>\n",
              "  </thead>\n",
              "  <tbody>\n",
              "    <tr>\n",
              "      <th>count</th>\n",
              "      <td>100</td>\n",
              "      <td>100</td>\n",
              "      <td>100</td>\n",
              "      <td>100</td>\n",
              "      <td>100</td>\n",
              "      <td>100</td>\n",
              "      <td>100</td>\n",
              "      <td>100</td>\n",
              "    </tr>\n",
              "    <tr>\n",
              "      <th>unique</th>\n",
              "      <td>31</td>\n",
              "      <td>100</td>\n",
              "      <td>21</td>\n",
              "      <td>11</td>\n",
              "      <td>96</td>\n",
              "      <td>95</td>\n",
              "      <td>95</td>\n",
              "      <td>3</td>\n",
              "    </tr>\n",
              "    <tr>\n",
              "      <th>top</th>\n",
              "      <td>AJBlackston</td>\n",
              "      <td>Discover how #Rwanda is using digitalization to address the education challenges brought on by #COVID19 #ResilientRecovery: https://t.co/55rgCStz8V https://t.co/iPbHobpGaM</td>\n",
              "      <td>[state, crime, education, technews, teachers, security, sports, federal, local, covid19, mayor, politics, fire, news]</td>\n",
              "      <td>Microsoft Power Platform</td>\n",
              "      <td>amid the covid19 pandemic and a white house transition what's next for american schools join us tuesday for an expert discussion of the future of us education including pandemic recovery school choice and more register</td>\n",
              "      <td>[perfect, presentation, technology, part, education, federal, state, local, news, crime, fire, politics, covid, security, mayor, teacher, technews, sport, please, retweet]</td>\n",
              "      <td>[[perfect, presentation], [technology, part], [education, federal], [federal, state], [state, local], [local, news], [news, crime], [crime, fire], [fire, politics], [politics, covid], [security, mayor], [mayor, teacher], [teacher, technews], [technews, sport], [sport, please], [please, retweet]]</td>\n",
              "      <td>negative</td>\n",
              "    </tr>\n",
              "    <tr>\n",
              "      <th>freq</th>\n",
              "      <td>68</td>\n",
              "      <td>1</td>\n",
              "      <td>67</td>\n",
              "      <td>68</td>\n",
              "      <td>2</td>\n",
              "      <td>2</td>\n",
              "      <td>2</td>\n",
              "      <td>58</td>\n",
              "    </tr>\n",
              "  </tbody>\n",
              "</table>\n",
              "</div>"
            ],
            "text/plain": [
              "        screen_name  \\\n",
              "count   100           \n",
              "unique  31            \n",
              "top     AJBlackston   \n",
              "freq    68            \n",
              "\n",
              "                                                                                                                                                                               text  \\\n",
              "count   100                                                                                                                                                                           \n",
              "unique  100                                                                                                                                                                           \n",
              "top     Discover how #Rwanda is using digitalization to address the education challenges brought on by #COVID19 #ResilientRecovery: https://t.co/55rgCStz8V https://t.co/iPbHobpGaM   \n",
              "freq    1                                                                                                                                                                             \n",
              "\n",
              "                                                                                                                     hashtags  \\\n",
              "count   100                                                                                                                     \n",
              "unique  21                                                                                                                      \n",
              "top     [state, crime, education, technews, teachers, security, sports, federal, local, covid19, mayor, politics, fire, news]   \n",
              "freq    67                                                                                                                      \n",
              "\n",
              "                          source  \\\n",
              "count   100                        \n",
              "unique  11                         \n",
              "top     Microsoft Power Platform   \n",
              "freq    68                         \n",
              "\n",
              "                                                                                                                                                                                                                        clean_text  \\\n",
              "count   100                                                                                                                                                                                                                          \n",
              "unique  96                                                                                                                                                                                                                           \n",
              "top     amid the covid19 pandemic and a white house transition what's next for american schools join us tuesday for an expert discussion of the future of us education including pandemic recovery school choice and more register   \n",
              "freq    2                                                                                                                                                                                                                            \n",
              "\n",
              "                                                                                                                                                                     text_processed  \\\n",
              "count   100                                                                                                                                                                           \n",
              "unique  95                                                                                                                                                                            \n",
              "top     [perfect, presentation, technology, part, education, federal, state, local, news, crime, fire, politics, covid, security, mayor, teacher, technews, sport, please, retweet]   \n",
              "freq    2                                                                                                                                                                             \n",
              "\n",
              "                                                                                                                                                                                                                                                                                                    text_bigrams  \\\n",
              "count   100                                                                                                                                                                                                                                                                                                        \n",
              "unique  95                                                                                                                                                                                                                                                                                                         \n",
              "top     [[perfect, presentation], [technology, part], [education, federal], [federal, state], [state, local], [local, news], [news, crime], [crime, fire], [fire, politics], [politics, covid], [security, mayor], [mayor, teacher], [teacher, technews], [technews, sport], [sport, please], [please, retweet]]   \n",
              "freq    2                                                                                                                                                                                                                                                                                                          \n",
              "\n",
              "       Type of Sentiment  \n",
              "count   100               \n",
              "unique  3                 \n",
              "top     negative          \n",
              "freq    58                "
            ]
          },
          "execution_count": 1182,
          "metadata": {},
          "output_type": "execute_result"
        }
      ],
      "source": [
        "dataset.describe(include=['object'])"
      ]
    },
    {
      "cell_type": "markdown",
      "metadata": {
        "id": "0hT1dXqffpMW"
      },
      "source": [
        "# Most Common 10 Hashtags"
      ]
    },
    {
      "cell_type": "markdown",
      "metadata": {
        "id": "87iF3BP0fpMW"
      },
      "source": [
        "Most common 10 hashtags for UK"
      ]
    },
    {
      "cell_type": "markdown",
      "metadata": {
        "id": "HjS9eBFCfpMW"
      },
      "source": [
        "Flattening the lists together and counting the values:"
      ]
    },
    {
      "cell_type": "code",
      "execution_count": null,
      "metadata": {
        "id": "x_mJeNuufpMW"
      },
      "outputs": [],
      "source": [
        "hashtagsuk = pd.Series(datasetUk.explode(\"hashtags\").hashtags).value_counts()\n",
        "\n",
        "hashtagsUK=hashtagsuk.head(n=10)"
      ]
    },
    {
      "cell_type": "markdown",
      "metadata": {
        "id": "Ey07DdK6fpMW"
      },
      "source": [
        "\n",
        "Hashtags in raw data were in the text column. They were transferred to a new column with the above codes and tokenized. Hashtags are counted and made into a list and converted to dataframe"
      ]
    },
    {
      "cell_type": "code",
      "execution_count": null,
      "metadata": {
        "id": "LhTn_IF2fpMX",
        "outputId": "7def7f7f-fa30-4d50-9764-bce5ef8fb189"
      },
      "outputs": [
        {
          "data": {
            "text/html": [
              "<div>\n",
              "<style scoped>\n",
              "    .dataframe tbody tr th:only-of-type {\n",
              "        vertical-align: middle;\n",
              "    }\n",
              "\n",
              "    .dataframe tbody tr th {\n",
              "        vertical-align: top;\n",
              "    }\n",
              "\n",
              "    .dataframe thead th {\n",
              "        text-align: right;\n",
              "    }\n",
              "</style>\n",
              "<table border=\"1\" class=\"dataframe\">\n",
              "  <thead>\n",
              "    <tr style=\"text-align: right;\">\n",
              "      <th></th>\n",
              "      <th>hashtags</th>\n",
              "    </tr>\n",
              "  </thead>\n",
              "  <tbody>\n",
              "    <tr>\n",
              "      <th>covid19</th>\n",
              "      <td>100</td>\n",
              "    </tr>\n",
              "    <tr>\n",
              "      <th>education</th>\n",
              "      <td>42</td>\n",
              "    </tr>\n",
              "    <tr>\n",
              "      <th>schools</th>\n",
              "      <td>7</td>\n",
              "    </tr>\n",
              "    <tr>\n",
              "      <th>school</th>\n",
              "      <td>5</td>\n",
              "    </tr>\n",
              "    <tr>\n",
              "      <th>wellbeing</th>\n",
              "      <td>4</td>\n",
              "    </tr>\n",
              "    <tr>\n",
              "      <th>shielding</th>\n",
              "      <td>3</td>\n",
              "    </tr>\n",
              "    <tr>\n",
              "      <th>highered</th>\n",
              "      <td>3</td>\n",
              "    </tr>\n",
              "    <tr>\n",
              "      <th>mentalhealth</th>\n",
              "      <td>3</td>\n",
              "    </tr>\n",
              "    <tr>\n",
              "      <th>teachers</th>\n",
              "      <td>3</td>\n",
              "    </tr>\n",
              "    <tr>\n",
              "      <th>staysafe</th>\n",
              "      <td>3</td>\n",
              "    </tr>\n",
              "  </tbody>\n",
              "</table>\n",
              "</div>"
            ],
            "text/plain": [
              "              hashtags\n",
              "covid19       100     \n",
              "education     42      \n",
              "schools       7       \n",
              "school        5       \n",
              "wellbeing     4       \n",
              "shielding     3       \n",
              "highered      3       \n",
              "mentalhealth  3       \n",
              "teachers      3       \n",
              "staysafe      3       "
            ]
          },
          "execution_count": 1185,
          "metadata": {},
          "output_type": "execute_result"
        }
      ],
      "source": [
        "hashtagsUK.to_frame()"
      ]
    },
    {
      "cell_type": "markdown",
      "metadata": {
        "id": "Cdxa7hm8fpMX"
      },
      "source": [
        "\n",
        "It contains the ten most used words in the UK in the plot shown below. The ten most used words are covid19, education, schools, wellbeing, staysafe, christmas, shielding, highered and mental health, respectively."
      ]
    },
    {
      "cell_type": "code",
      "execution_count": null,
      "metadata": {
        "id": "BYZFLmiTfpMX",
        "outputId": "7e6a6269-7921-40b4-8cb9-911b4ce56ec6"
      },
      "outputs": [
        {
          "data": {
            "image/png": "[encoded data removed]",
            "text/plain": [
              "<Figure size 432x288 with 1 Axes>"
            ]
          },
          "metadata": {
            "needs_background": "light"
          },
          "output_type": "display_data"
        }
      ],
      "source": [
        "\n",
        "hashtagsUK.plot(x ='Most common 10 hashtags', kind = 'bar')\n",
        "plt.show()\n"
      ]
    },
    {
      "cell_type": "markdown",
      "metadata": {
        "id": "I63pIUaffpMX"
      },
      "source": [
        "Most common 10 hashtags for USA"
      ]
    },
    {
      "cell_type": "markdown",
      "metadata": {
        "id": "-jHU6rSofpMX"
      },
      "source": [
        "Flattening the lists together and counting the values:"
      ]
    },
    {
      "cell_type": "code",
      "execution_count": null,
      "metadata": {
        "id": "C7YievMcfpMX"
      },
      "outputs": [],
      "source": [
        "\n",
        "hashtagss = pd.Series(dataset.explode(\"hashtags\").hashtags).value_counts()\n",
        "\n",
        "hashtagsUsa=hashtagss.head(n=10)"
      ]
    },
    {
      "cell_type": "markdown",
      "metadata": {
        "id": "B0k-InLPfpMX"
      },
      "source": [
        "Same as above"
      ]
    },
    {
      "cell_type": "code",
      "execution_count": null,
      "metadata": {
        "id": "wimWRGM0fpMX",
        "outputId": "0548861f-b50f-4b8d-99a3-d11ca9d4e392"
      },
      "outputs": [
        {
          "data": {
            "text/html": [
              "<div>\n",
              "<style scoped>\n",
              "    .dataframe tbody tr th:only-of-type {\n",
              "        vertical-align: middle;\n",
              "    }\n",
              "\n",
              "    .dataframe tbody tr th {\n",
              "        vertical-align: top;\n",
              "    }\n",
              "\n",
              "    .dataframe thead th {\n",
              "        text-align: right;\n",
              "    }\n",
              "</style>\n",
              "<table border=\"1\" class=\"dataframe\">\n",
              "  <thead>\n",
              "    <tr style=\"text-align: right;\">\n",
              "      <th></th>\n",
              "      <th>hashtags</th>\n",
              "    </tr>\n",
              "  </thead>\n",
              "  <tbody>\n",
              "    <tr>\n",
              "      <th>covid19</th>\n",
              "      <td>100</td>\n",
              "    </tr>\n",
              "    <tr>\n",
              "      <th>education</th>\n",
              "      <td>69</td>\n",
              "    </tr>\n",
              "    <tr>\n",
              "      <th>teachers</th>\n",
              "      <td>68</td>\n",
              "    </tr>\n",
              "    <tr>\n",
              "      <th>crime</th>\n",
              "      <td>67</td>\n",
              "    </tr>\n",
              "    <tr>\n",
              "      <th>mayor</th>\n",
              "      <td>67</td>\n",
              "    </tr>\n",
              "    <tr>\n",
              "      <th>fire</th>\n",
              "      <td>67</td>\n",
              "    </tr>\n",
              "    <tr>\n",
              "      <th>sports</th>\n",
              "      <td>67</td>\n",
              "    </tr>\n",
              "    <tr>\n",
              "      <th>news</th>\n",
              "      <td>67</td>\n",
              "    </tr>\n",
              "    <tr>\n",
              "      <th>federal</th>\n",
              "      <td>67</td>\n",
              "    </tr>\n",
              "    <tr>\n",
              "      <th>technews</th>\n",
              "      <td>67</td>\n",
              "    </tr>\n",
              "  </tbody>\n",
              "</table>\n",
              "</div>"
            ],
            "text/plain": [
              "           hashtags\n",
              "covid19    100     \n",
              "education  69      \n",
              "teachers   68      \n",
              "crime      67      \n",
              "mayor      67      \n",
              "fire       67      \n",
              "sports     67      \n",
              "news       67      \n",
              "federal    67      \n",
              "technews   67      "
            ]
          },
          "execution_count": 1188,
          "metadata": {},
          "output_type": "execute_result"
        }
      ],
      "source": [
        "hashtagsUsa.to_frame()"
      ]
    },
    {
      "cell_type": "markdown",
      "metadata": {
        "id": "ebwwc_VcfpMX"
      },
      "source": [
        "It contains the ten most used words in the UK in the plot shown below."
      ]
    },
    {
      "cell_type": "code",
      "execution_count": null,
      "metadata": {
        "id": "mmFFLGmKfpMX",
        "outputId": "82824cb5-e6c9-4ad9-8ec7-53bfdc7a175c"
      },
      "outputs": [
        {
          "data": {
            "image/png": "[encoded data removed]",
            "text/plain": [
              "<Figure size 432x288 with 1 Axes>"
            ]
          },
          "metadata": {
            "needs_background": "light"
          },
          "output_type": "display_data"
        }
      ],
      "source": [
        "\n",
        "hashtagsUsa.plot(x ='Most common 10 hashtags', kind = 'bar')\n",
        "plt.show()"
      ]
    },
    {
      "cell_type": "markdown",
      "metadata": {
        "id": "BPQbLKc6fpMY"
      },
      "source": [
        "# Most common 10 words in Tweets"
      ]
    },
    {
      "cell_type": "markdown",
      "metadata": {
        "id": "X-ZDQuXZfpMY"
      },
      "source": [
        "Most common 10 words in USA"
      ]
    },
    {
      "cell_type": "markdown",
      "metadata": {
        "id": "JVOBX_sFfpMY"
      },
      "source": [
        "Flattening the lists together and counting the values:"
      ]
    },
    {
      "cell_type": "markdown",
      "metadata": {
        "id": "iNzVwyymfpMY"
      },
      "source": [
        "\n",
        "\n",
        "In the raw data, the text was full of links and hashtags. Above data was cleared and transferred to a new column, tokenized. The most repetitive words are counted and put into a list and converted into a data frame."
      ]
    },
    {
      "cell_type": "code",
      "execution_count": null,
      "metadata": {
        "id": "exnStka0fpMY",
        "outputId": "ad55c528-e705-4eea-b8fd-f2a681bc4689"
      },
      "outputs": [
        {
          "data": {
            "text/plain": [
              "covid        114\n",
              "education    87 \n",
              "teacher      71 \n",
              "state        68 \n",
              "politics     68 \n",
              "retweet      68 \n",
              "please       68 \n",
              "news         67 \n",
              "mayor        67 \n",
              "federal      67 \n",
              "Name: text_processed, dtype: int64"
            ]
          },
          "execution_count": 1190,
          "metadata": {},
          "output_type": "execute_result"
        }
      ],
      "source": [
        "\n",
        "terms = pd.Series(dataset.explode('text_processed').text_processed).value_counts()\n",
        "\n",
        "commonword=terms.head(n=10)\n",
        "commonword"
      ]
    },
    {
      "cell_type": "code",
      "execution_count": null,
      "metadata": {
        "id": "ja9LTNfgfpMY",
        "outputId": "d07ac488-b9f9-4ffe-fbaa-78e2c975ce42"
      },
      "outputs": [
        {
          "data": {
            "text/html": [
              "<div>\n",
              "<style scoped>\n",
              "    .dataframe tbody tr th:only-of-type {\n",
              "        vertical-align: middle;\n",
              "    }\n",
              "\n",
              "    .dataframe tbody tr th {\n",
              "        vertical-align: top;\n",
              "    }\n",
              "\n",
              "    .dataframe thead th {\n",
              "        text-align: right;\n",
              "    }\n",
              "</style>\n",
              "<table border=\"1\" class=\"dataframe\">\n",
              "  <thead>\n",
              "    <tr style=\"text-align: right;\">\n",
              "      <th></th>\n",
              "      <th>text_processed</th>\n",
              "    </tr>\n",
              "  </thead>\n",
              "  <tbody>\n",
              "    <tr>\n",
              "      <th>covid</th>\n",
              "      <td>114</td>\n",
              "    </tr>\n",
              "    <tr>\n",
              "      <th>education</th>\n",
              "      <td>87</td>\n",
              "    </tr>\n",
              "    <tr>\n",
              "      <th>teacher</th>\n",
              "      <td>71</td>\n",
              "    </tr>\n",
              "    <tr>\n",
              "      <th>state</th>\n",
              "      <td>68</td>\n",
              "    </tr>\n",
              "    <tr>\n",
              "      <th>politics</th>\n",
              "      <td>68</td>\n",
              "    </tr>\n",
              "    <tr>\n",
              "      <th>retweet</th>\n",
              "      <td>68</td>\n",
              "    </tr>\n",
              "    <tr>\n",
              "      <th>please</th>\n",
              "      <td>68</td>\n",
              "    </tr>\n",
              "    <tr>\n",
              "      <th>news</th>\n",
              "      <td>67</td>\n",
              "    </tr>\n",
              "    <tr>\n",
              "      <th>mayor</th>\n",
              "      <td>67</td>\n",
              "    </tr>\n",
              "    <tr>\n",
              "      <th>federal</th>\n",
              "      <td>67</td>\n",
              "    </tr>\n",
              "  </tbody>\n",
              "</table>\n",
              "</div>"
            ],
            "text/plain": [
              "           text_processed\n",
              "covid      114           \n",
              "education  87            \n",
              "teacher    71            \n",
              "state      68            \n",
              "politics   68            \n",
              "retweet    68            \n",
              "please     68            \n",
              "news       67            \n",
              "mayor      67            \n",
              "federal    67            "
            ]
          },
          "execution_count": 1191,
          "metadata": {},
          "output_type": "execute_result"
        }
      ],
      "source": [
        "commonword.to_frame()"
      ]
    },
    {
      "cell_type": "markdown",
      "metadata": {
        "id": "kWBt05bUfpMY"
      },
      "source": [
        "The ten most repetitive words in the cleared data are given in the plot below. Plot shows how many times it occurs in the data."
      ]
    },
    {
      "cell_type": "code",
      "execution_count": null,
      "metadata": {
        "id": "0Ky3oFw5fpMY",
        "outputId": "040856db-7e0c-43ca-d1dc-197c7d7010b6",
        "scrolled": true
      },
      "outputs": [
        {
          "data": {
            "image/png": "[encoded data removed]",
            "text/plain": [
              "<Figure size 432x288 with 1 Axes>"
            ]
          },
          "metadata": {
            "needs_background": "light"
          },
          "output_type": "display_data"
        }
      ],
      "source": [
        "\n",
        "commonword.plot(x ='Most common 10 Words', kind = 'bar')\n",
        "plt.show()"
      ]
    },
    {
      "cell_type": "markdown",
      "metadata": {
        "id": "jLezk5KVfpMY"
      },
      "source": [
        "Most common 10 words in UK"
      ]
    },
    {
      "cell_type": "markdown",
      "metadata": {
        "id": "1SDaRctifpMY"
      },
      "source": [
        " Flattening the lists together and counting the values:"
      ]
    },
    {
      "cell_type": "markdown",
      "metadata": {
        "id": "kiZtttD-fpMZ"
      },
      "source": [
        "The ten most repetitive words in the cleared data are given in the plot below. Plot shows how many times it occurs in the data"
      ]
    },
    {
      "cell_type": "code",
      "execution_count": null,
      "metadata": {
        "id": "IooP-qePfpMZ",
        "outputId": "652ca166-fedd-43cd-932d-7b05c825730c"
      },
      "outputs": [
        {
          "data": {
            "image/png": "[encoded data removed]",
            "text/plain": [
              "<Figure size 432x288 with 1 Axes>"
            ]
          },
          "metadata": {
            "needs_background": "light"
          },
          "output_type": "display_data"
        }
      ],
      "source": [
        "\n",
        "termsuk = pd.Series(datasetUk.explode('text_processed').text_processed).value_counts()\n",
        "\n",
        "worduk=termsuk.head(n=10)\n",
        "worduk.to_frame()\n",
        "worduk.plot(x ='Most common 10 hashtags', kind = 'bar')\n",
        "plt.show()"
      ]
    },
    {
      "cell_type": "markdown",
      "metadata": {
        "id": "eeYNu7N6fpMZ"
      },
      "source": [
        "\n",
        "When these two data are compared, covid, education are among the top ten most common words."
      ]
    },
    {
      "cell_type": "markdown",
      "metadata": {
        "id": "TkuMR0XwfpMZ"
      },
      "source": [
        "# Distribution of Source"
      ]
    },
    {
      "cell_type": "markdown",
      "metadata": {
        "id": "-bzOpeZCfpMZ"
      },
      "source": [
        "\n",
        "In both data, it was seen from which source the users were tweeted. These resources are investigated below"
      ]
    },
    {
      "cell_type": "markdown",
      "metadata": {
        "id": "mvW3QihcfpMZ"
      },
      "source": [
        "Below are the tools that users in the UK tweet about."
      ]
    },
    {
      "cell_type": "code",
      "execution_count": null,
      "metadata": {
        "id": "EHpCszQ0fpMZ",
        "outputId": "f3390692-be9f-4ac2-e773-281d7386daa2"
      },
      "outputs": [
        {
          "name": "stdout",
          "output_type": "stream",
          "text": [
            "source\n",
            "CoSchedule             1 \n",
            "IFTTT                  1 \n",
            "Zapiercom              1 \n",
            "buffer                 3 \n",
            "dynamic signal         1 \n",
            "hootsuite              7 \n",
            "paperli                1 \n",
            "sprinklr publishing    1 \n",
            "sprout social          3 \n",
            "tweetdeck              5 \n",
            "twitter for android    13\n",
            "twitter for ipad       3 \n",
            "twitter for iphone     22\n",
            "twitter web app        38\n",
            "dtype: int64\n"
          ]
        }
      ],
      "source": [
        "changesuk=pd.DataFrame(datasetUk, columns=[\"source\"])\n",
        "trialUk=changesuk.pivot_table(index=['source'], aggfunc='size')\n",
        "\n",
        "print(trialUk)"
      ]
    },
    {
      "cell_type": "markdown",
      "metadata": {
        "id": "iXvm-EaJfpMa"
      },
      "source": [
        "# The Distribution of Text Length"
      ]
    },
    {
      "cell_type": "markdown",
      "metadata": {
        "id": "MWoah-nyfpMa"
      },
      "source": [
        "\n",
        "Uncleaned data contained url and hashtags. The main text written by separating them above has been reached. The number of characters, which is an important factor for Twitter, was calculated in both data and added to the data."
      ]
    },
    {
      "cell_type": "markdown",
      "metadata": {
        "id": "Up6a5YUAfpMa"
      },
      "source": [
        "To illustrate it, the minimum and the maximum values of lengthUk are 58 and 267 respectively. The mean of lengthUk is a lower value than the median.Moreover, the variability is calculated by using the interquartile range which is the difference between the 1st quartile and the 3rd quartile. It is equal to 81.25."
      ]
    },
    {
      "cell_type": "code",
      "execution_count": null,
      "metadata": {
        "id": "50QBLntvfpMa",
        "outputId": "c2f34934-2b36-4c2b-d09e-d9a0b026ac24"
      },
      "outputs": [
        {
          "data": {
            "text/plain": [
              "count    100.000000\n",
              "mean     194.910000\n",
              "std      53.544298 \n",
              "min      53.000000 \n",
              "25%      159.750000\n",
              "50%      210.000000\n",
              "75%      239.250000\n",
              "max      267.000000\n",
              "Name: text_length, dtype: float64"
            ]
          },
          "execution_count": 1198,
          "metadata": {},
          "output_type": "execute_result"
        }
      ],
      "source": [
        "datasetUk.text_length.describe()"
      ]
    },
    {
      "cell_type": "markdown",
      "metadata": {
        "id": "C4UnmyKVfpMa"
      },
      "source": [
        "According to the legth of text for USA data, the minimum and the maximum values of lengthUSA are 50 and 268 respectively. The mean of lengthUk is a lower value than the median.Moreover, the variability is calculated by using the interquartile range which is the difference between the 1st quartile and the 3rd quartile. It is equal to 37.25.\n"
      ]
    },
    {
      "cell_type": "code",
      "execution_count": null,
      "metadata": {
        "id": "D_m4kG9tfpMa",
        "outputId": "f8c7cb1e-4c1f-4505-954b-c1e475411dc7"
      },
      "outputs": [
        {
          "data": {
            "text/plain": [
              "count    100.00000\n",
              "mean     179.79000\n",
              "std      29.46674 \n",
              "min      50.00000 \n",
              "25%      164.00000\n",
              "50%      178.50000\n",
              "75%      196.50000\n",
              "max      247.00000\n",
              "Name: text_length, dtype: float64"
            ]
          },
          "execution_count": 1199,
          "metadata": {},
          "output_type": "execute_result"
        }
      ],
      "source": [
        "dataset.text_length.describe()\n"
      ]
    },
    {
      "cell_type": "markdown",
      "metadata": {
        "id": "SEXMYPdUfpMa"
      },
      "source": [
        "\n",
        "Compared to UK data, we see that variability is less."
      ]
    },
    {
      "cell_type": "code",
      "execution_count": null,
      "metadata": {
        "id": "tRmp9StKfpMa"
      },
      "outputs": [],
      "source": [
        "import matplotlib.pyplot as plt\n",
        "import seaborn as sns, numpy as np"
      ]
    },
    {
      "cell_type": "code",
      "execution_count": null,
      "metadata": {
        "id": "cKYEsOMEfpMb",
        "outputId": "f13111cc-d0f1-42ab-eade-8673c64f25a9"
      },
      "outputs": [
        {
          "name": "stderr",
          "output_type": "stream",
          "text": [
            "C:\\Users\\begum\\anaconda3\\lib\\site-packages\\seaborn\\distributions.py:2551: FutureWarning: `distplot` is a deprecated function and will be removed in a future version. Please adapt your code to use either `displot` (a figure-level function with similar flexibility) or `histplot` (an axes-level function for histograms).\n",
            "  warnings.warn(msg, FutureWarning)\n"
          ]
        },
        {
          "data": {
            "image/png": "[encoded data removed]",
            "text/plain": [
              "<Figure size 432x288 with 1 Axes>"
            ]
          },
          "metadata": {
            "needs_background": "light"
          },
          "output_type": "display_data"
        }
      ],
      "source": [
        "#create distribution chart to visualize text dist\n",
        "distlengthuk = sns.distplot(datasetUk['text_length'], color='green').set_title('Distribution of the Tweet Lengths');\n",
        "plt.grid(True)"
      ]
    },
    {
      "cell_type": "markdown",
      "metadata": {
        "id": "RscVW3F3fpMb"
      },
      "source": [
        "According to the Dİstribution of the Tweet Lenggths of the UK, it seems like bimodel. There are 2 peaks in the plot"
      ]
    },
    {
      "cell_type": "code",
      "execution_count": null,
      "metadata": {
        "id": "2oAdglPVfpMb",
        "outputId": "26b7d1ab-1208-4ed9-a755-795b0de4254f"
      },
      "outputs": [
        {
          "name": "stderr",
          "output_type": "stream",
          "text": [
            "C:\\Users\\begum\\anaconda3\\lib\\site-packages\\seaborn\\distributions.py:2551: FutureWarning: `distplot` is a deprecated function and will be removed in a future version. Please adapt your code to use either `displot` (a figure-level function with similar flexibility) or `histplot` (an axes-level function for histograms).\n",
            "  warnings.warn(msg, FutureWarning)\n"
          ]
        },
        {
          "data": {
            "image/png": "[encoded data removed]",
            "text/plain": [
              "<Figure size 432x288 with 1 Axes>"
            ]
          },
          "metadata": {
            "needs_background": "light"
          },
          "output_type": "display_data"
        }
      ],
      "source": [
        "#create distribution chart to visualize text dist\n",
        "distlengthus = sns.distplot(dataset['text_length']).set_title('Distribution of the Tweet Lengths');\n",
        "plt.grid(True)"
      ]
    },
    {
      "cell_type": "markdown",
      "metadata": {
        "id": "p5fgZDcKfpMb"
      },
      "source": [
        "The plot shows that the text length of USA data is right skewed."
      ]
    },
    {
      "cell_type": "markdown",
      "metadata": {
        "id": "GydWzoD2fpMb"
      },
      "source": [
        "# The Distribution of Retweet Count for UK& USA"
      ]
    },
    {
      "cell_type": "markdown",
      "metadata": {
        "id": "CoocoS-2fpMb"
      },
      "source": [
        "According to the retweeet count for UK data, the minimum and the maximum values of retweet counts are 0 and 17 respectively.Moreover, the variability is calculated by using the interquartile range which is the difference between the 1st quartile and the 3rd quartile. It is equal to 1."
      ]
    },
    {
      "cell_type": "code",
      "execution_count": null,
      "metadata": {
        "id": "atIylw4VfpMb",
        "outputId": "9fe22722-f910-429e-eca1-031073c374c0"
      },
      "outputs": [
        {
          "data": {
            "text/plain": [
              "count    100.000000\n",
              "mean     1.200000  \n",
              "std      2.502524  \n",
              "min      0.000000  \n",
              "25%      0.000000  \n",
              "50%      0.000000  \n",
              "75%      1.000000  \n",
              "max      17.000000 \n",
              "Name: retweet_count, dtype: float64"
            ]
          },
          "execution_count": 1203,
          "metadata": {},
          "output_type": "execute_result"
        }
      ],
      "source": [
        "datasetUk.retweet_count.describe()"
      ]
    },
    {
      "cell_type": "markdown",
      "metadata": {
        "id": "hBnLPp5KfpMb"
      },
      "source": [
        "Distribution of the retweet count is"
      ]
    },
    {
      "cell_type": "code",
      "execution_count": null,
      "metadata": {
        "id": "A4--55pDfpMb",
        "outputId": "a411d347-5bf3-4d19-efde-2a5e89931872"
      },
      "outputs": [
        {
          "name": "stderr",
          "output_type": "stream",
          "text": [
            "C:\\Users\\begum\\anaconda3\\lib\\site-packages\\seaborn\\distributions.py:2551: FutureWarning: `distplot` is a deprecated function and will be removed in a future version. Please adapt your code to use either `displot` (a figure-level function with similar flexibility) or `histplot` (an axes-level function for histograms).\n",
            "  warnings.warn(msg, FutureWarning)\n"
          ]
        },
        {
          "data": {
            "image/png": "[encoded data removed]",
            "text/plain": [
              "<Figure size 432x288 with 1 Axes>"
            ]
          },
          "metadata": {
            "needs_background": "light"
          },
          "output_type": "display_data"
        }
      ],
      "source": [
        "distrtcountuk = sns.distplot(datasetUk['retweet_count'], color='green').set_title('retweet_count');\n",
        "plt.grid(True)"
      ]
    },
    {
      "cell_type": "markdown",
      "metadata": {
        "id": "5U-pni_6fpMc"
      },
      "source": [
        "To illustrate it, the minimum and the maximum values of retweet count are 0 and 7 respectively. The mean of favorite count is a higher value than the median.Moreover, the variability is calculated by using the interquartile range which is the difference between the 1st quartile and the 3rd quartile. It is equal to 7.When we compare it with UK data, we see that variability is higher. It is Right skewed."
      ]
    },
    {
      "cell_type": "code",
      "execution_count": null,
      "metadata": {
        "id": "a0j4IledfpMc",
        "outputId": "0134b705-11d8-4662-8b8f-993aa0bd2e09"
      },
      "outputs": [
        {
          "data": {
            "text/plain": [
              "count    100.000000\n",
              "mean     0.400000  \n",
              "std      1.255292  \n",
              "min      0.000000  \n",
              "25%      0.000000  \n",
              "50%      0.000000  \n",
              "75%      0.000000  \n",
              "max      7.000000  \n",
              "Name: retweet_count, dtype: float64"
            ]
          },
          "execution_count": 1205,
          "metadata": {},
          "output_type": "execute_result"
        }
      ],
      "source": [
        "dataset.retweet_count.describe()"
      ]
    },
    {
      "cell_type": "markdown",
      "metadata": {
        "id": "U031DhmEfpMc"
      },
      "source": [
        "To illustrate it, the minimum and the maximum values of retweet USA are 0 and 7 respectively. The mean of retweet count is a higher value than the median."
      ]
    },
    {
      "cell_type": "code",
      "execution_count": null,
      "metadata": {
        "id": "33-fTkc7fpMc",
        "outputId": "1cb219cb-9166-45d8-dc9b-598b9e1718fd"
      },
      "outputs": [
        {
          "name": "stderr",
          "output_type": "stream",
          "text": [
            "C:\\Users\\begum\\anaconda3\\lib\\site-packages\\seaborn\\distributions.py:2551: FutureWarning: `distplot` is a deprecated function and will be removed in a future version. Please adapt your code to use either `displot` (a figure-level function with similar flexibility) or `histplot` (an axes-level function for histograms).\n",
            "  warnings.warn(msg, FutureWarning)\n"
          ]
        },
        {
          "data": {
            "image/png": "[encoded data removed]",
            "text/plain": [
              "<Figure size 432x288 with 1 Axes>"
            ]
          },
          "metadata": {
            "needs_background": "light"
          },
          "output_type": "display_data"
        }
      ],
      "source": [
        "distretcountuk = sns.distplot(datasetUk['retweet_count'], color='green').set_title('retweet_count');\n",
        "plt.grid(True)"
      ]
    },
    {
      "cell_type": "code",
      "execution_count": null,
      "metadata": {
        "id": "JNli4HmUfpMc"
      },
      "outputs": [],
      "source": []
    },
    {
      "cell_type": "markdown",
      "metadata": {
        "id": "7oD_7TuSfpMc"
      },
      "source": [
        "# The Distribution of Favorite Count for UK& USA"
      ]
    },
    {
      "cell_type": "markdown",
      "metadata": {
        "id": "EXg0sYRDfpMc"
      },
      "source": [
        "To illustrate it, the minimum and the maximum values of Favorite count are 0 and 20 respectively for the USA. The mean of favorite count is a higher value than the median.Moreover, the variability is calculated by using the interquartile range which is the difference between the 1st quartile and the 3rd quartile. It is equal to 1.\n",
        "\n",
        "The minimum and maximum values of favorite counts are 0 and 25 for the Uk data. And the variability is 2.25 It can be said that variability of UK data is higher than USA data."
      ]
    },
    {
      "cell_type": "code",
      "execution_count": null,
      "metadata": {
        "id": "chWCM-gTfpMc",
        "outputId": "0ccb07ee-c6d6-4d59-8fb3-864674b1399c"
      },
      "outputs": [
        {
          "data": {
            "text/plain": [
              "count    100.000000\n",
              "mean     1.260000  \n",
              "std      3.252412  \n",
              "min      0.000000  \n",
              "25%      0.000000  \n",
              "50%      0.000000  \n",
              "75%      1.000000  \n",
              "max      20.000000 \n",
              "Name: favorite_count, dtype: float64"
            ]
          },
          "execution_count": 1207,
          "metadata": {},
          "output_type": "execute_result"
        }
      ],
      "source": [
        "dataset.favorite_count.describe()"
      ]
    },
    {
      "cell_type": "code",
      "execution_count": null,
      "metadata": {
        "id": "RNhiOg19fpMc",
        "outputId": "857ef746-e038-4682-a772-928bb7b7d29b"
      },
      "outputs": [
        {
          "data": {
            "text/plain": [
              "count    100.000000\n",
              "mean     2.660000  \n",
              "std      4.406652  \n",
              "min      0.000000  \n",
              "25%      0.000000  \n",
              "50%      1.000000  \n",
              "75%      3.000000  \n",
              "max      25.000000 \n",
              "Name: favorite_count, dtype: float64"
            ]
          },
          "execution_count": 1208,
          "metadata": {},
          "output_type": "execute_result"
        }
      ],
      "source": [
        "datasetUk.favorite_count.describe()\n"
      ]
    },
    {
      "cell_type": "markdown",
      "metadata": {
        "id": "1SP7yeF1fpMd"
      },
      "source": [
        "The distribution of Favorite count of UK and Usa both of them are right skewed"
      ]
    },
    {
      "cell_type": "code",
      "execution_count": null,
      "metadata": {
        "id": "Q7UNJ45SfpMd",
        "outputId": "d048b7ee-9436-4ba9-e86f-60c552689896"
      },
      "outputs": [
        {
          "name": "stderr",
          "output_type": "stream",
          "text": [
            "C:\\Users\\begum\\anaconda3\\lib\\site-packages\\seaborn\\distributions.py:2551: FutureWarning: `distplot` is a deprecated function and will be removed in a future version. Please adapt your code to use either `displot` (a figure-level function with similar flexibility) or `histplot` (an axes-level function for histograms).\n",
            "  warnings.warn(msg, FutureWarning)\n"
          ]
        },
        {
          "data": {
            "image/png": "[encoded data removed]",
            "text/plain": [
              "<Figure size 432x288 with 1 Axes>"
            ]
          },
          "metadata": {
            "needs_background": "light"
          },
          "output_type": "display_data"
        }
      ],
      "source": [
        "distfavcountuk = sns.distplot(datasetUk['favorite_count'], color='green').set_title('Favorite Count');\n",
        "plt.grid(True)"
      ]
    },
    {
      "cell_type": "code",
      "execution_count": null,
      "metadata": {
        "id": "1M3coy3tfpMd",
        "outputId": "bb485210-a735-43d9-c54a-8067b2d4a6dc"
      },
      "outputs": [
        {
          "name": "stderr",
          "output_type": "stream",
          "text": [
            "C:\\Users\\begum\\anaconda3\\lib\\site-packages\\seaborn\\distributions.py:2551: FutureWarning: `distplot` is a deprecated function and will be removed in a future version. Please adapt your code to use either `displot` (a figure-level function with similar flexibility) or `histplot` (an axes-level function for histograms).\n",
            "  warnings.warn(msg, FutureWarning)\n"
          ]
        },
        {
          "data": {
            "image/png": "[encoded data removed]",
            "text/plain": [
              "<Figure size 432x288 with 1 Axes>"
            ]
          },
          "metadata": {
            "needs_background": "light"
          },
          "output_type": "display_data"
        }
      ],
      "source": [
        "distfavcount = sns.distplot(dataset['favorite_count'], color='green').set_title('Favorite Count');\n",
        "plt.grid(True)"
      ]
    },
    {
      "cell_type": "markdown",
      "metadata": {
        "id": "xsNlZ7pNfpMd"
      },
      "source": [
        "The plot of Text Length, Type of Sentiment and Country"
      ]
    },
    {
      "cell_type": "code",
      "execution_count": null,
      "metadata": {
        "id": "GmCUFtOwfpMf",
        "outputId": "401bfc8d-c572-4b19-ca5e-35995fca7861"
      },
      "outputs": [
        {
          "data": {
            "text/plain": [
              "<seaborn.axisgrid.FacetGrid at 0x29e84fa8b80>"
            ]
          },
          "execution_count": 1214,
          "metadata": {},
          "output_type": "execute_result"
        },
        {
          "data": {
            "image/png": "[encoded data removed]",
            "text/plain": [
              "<Figure size 416.625x360 with 1 Axes>"
            ]
          },
          "metadata": {
            "needs_background": "light"
          },
          "output_type": "display_data"
        }
      ],
      "source": [
        "sns.catplot(x=\"text_length\", y=\"Type of Sentiment\", hue=\"country\",\n",
        "            kind=\"violin\", inner=\"stick\", split=True,\n",
        "            palette=\"pastel\", data=datasetwhole)"
      ]
    },
    {
      "cell_type": "markdown",
      "metadata": {
        "id": "-XIvQLaFfpMg"
      },
      "source": [
        "In UK, both negative and positive tweets have similar distribution ,which is left skewed,in terms of shape. However, neutral has bimodal distribution. Similar concluison can be drawn in US. Both positive and negative tweets have approximately symmetric distribution while neutral ones have left skewed distribution. If we compare them by countries, all of three categories show different patterns based on country."
      ]
    },
    {
      "cell_type": "markdown",
      "metadata": {
        "id": "5HBbIEFifpMg"
      },
      "source": [
        "TYPE OF SENTIMENT"
      ]
    },
    {
      "cell_type": "markdown",
      "metadata": {
        "id": "NlHpR3pifpMg"
      },
      "source": [
        "\n",
        "Looking at the chart, 57 tweets from the UK were positive, 28 were neutral and 15 were negative."
      ]
    },
    {
      "cell_type": "code",
      "execution_count": null,
      "metadata": {
        "id": "Z8ERo5Z0fpMg",
        "outputId": "bd9dfe46-5cee-4c4d-a77b-e3d391a613a5"
      },
      "outputs": [
        {
          "data": {
            "image/png": "[encoded data removed]",
            "text/plain": [
              "<Figure size 720x360 with 1 Axes>"
            ]
          },
          "metadata": {
            "needs_background": "light"
          },
          "output_type": "display_data"
        }
      ],
      "source": [
        "import numpy as np\n",
        "import matplotlib.pyplot as plt\n",
        "\n",
        "\n",
        "# creating the dataset\n",
        "data = {'Neutral':28, 'Positive':57, 'Negative':15,\n",
        "        }\n",
        "courses = list(data.keys())\n",
        "values = list(data.values())\n",
        "\n",
        "fig = plt.figure(figsize = (10, 5))\n",
        "\n",
        "# creating the bar plot\n",
        "plt.bar(courses, values, color ='maroon',\n",
        "        width = 0.4)\n",
        "\n",
        "plt.xlabel(\"\")\n",
        "plt.ylabel(\"Sentiment\")\n",
        "plt.title(\"Bar Plot of Sentiment Analysis in UK\")\n",
        "plt.show()"
      ]
    },
    {
      "cell_type": "markdown",
      "metadata": {
        "id": "3HEVcPx2fpMh"
      },
      "source": [
        "Looking at the chart, 36 tweets from the USA were positive, 9 were neutral and 55 were negative."
      ]
    },
    {
      "cell_type": "code",
      "execution_count": null,
      "metadata": {
        "id": "yD_vnr5tfpMh",
        "outputId": "e3074d0c-b301-4ff9-ccb1-22be0147d571"
      },
      "outputs": [
        {
          "data": {
            "image/png": "[encoded data removed]",
            "text/plain": [
              "<Figure size 720x360 with 1 Axes>"
            ]
          },
          "metadata": {
            "needs_background": "light"
          },
          "output_type": "display_data"
        }
      ],
      "source": [
        "import numpy as np\n",
        "import matplotlib.pyplot as plt\n",
        "\n",
        "\n",
        "# creating the dataset\n",
        "data = {'Neutral':9, 'Positive':36, 'Negative':55,\n",
        "        }\n",
        "courses = list(data.keys())\n",
        "values = list(data.values())\n",
        "\n",
        "fig = plt.figure(figsize = (10, 5))\n",
        "\n",
        "# creating the bar plot\n",
        "plt.bar(courses, values, color ='maroon',\n",
        "        width = 0.4)\n",
        "\n",
        "plt.xlabel(\"\")\n",
        "plt.ylabel(\"Sentiment\")\n",
        "plt.title(\"Bar Plot of Sentiment Analysis in USA\")\n",
        "plt.show()"
      ]
    },
    {
      "cell_type": "markdown",
      "metadata": {
        "id": "ZLRZApT4fpMh"
      },
      "source": [
        "In this part of analysis, the UK data and USA data is nerged."
      ]
    },
    {
      "cell_type": "code",
      "execution_count": null,
      "metadata": {
        "id": "RBd20I_XfpMh",
        "outputId": "8dbba038-ca3f-4f24-d81c-c31ecc26d289"
      },
      "outputs": [
        {
          "data": {
            "text/html": [
              "<div>\n",
              "<style scoped>\n",
              "    .dataframe tbody tr th:only-of-type {\n",
              "        vertical-align: middle;\n",
              "    }\n",
              "\n",
              "    .dataframe tbody tr th {\n",
              "        vertical-align: top;\n",
              "    }\n",
              "\n",
              "    .dataframe thead th {\n",
              "        text-align: right;\n",
              "    }\n",
              "</style>\n",
              "<table border=\"1\" class=\"dataframe\">\n",
              "  <thead>\n",
              "    <tr style=\"text-align: right;\">\n",
              "      <th></th>\n",
              "      <th>screen_name</th>\n",
              "      <th>text</th>\n",
              "      <th>hashtags</th>\n",
              "      <th>favorite_count</th>\n",
              "      <th>retweet_count</th>\n",
              "      <th>source</th>\n",
              "      <th>clean_text</th>\n",
              "      <th>text_processed</th>\n",
              "      <th>text_bigrams</th>\n",
              "      <th>sentiment</th>\n",
              "      <th>Type of Sentiment</th>\n",
              "      <th>text_length</th>\n",
              "      <th>country</th>\n",
              "    </tr>\n",
              "  </thead>\n",
              "  <tbody>\n",
              "    <tr>\n",
              "      <th>0</th>\n",
              "      <td>WorldBank</td>\n",
              "      <td>Discover how #Rwanda is using digitalization to address the education challenges brought on by #COVID19 #ResilientRecovery: https://t.co/55rgCStz8V https://t.co/iPbHobpGaM</td>\n",
              "      <td>[rwanda, covid19, resilientrecovery]</td>\n",
              "      <td>14</td>\n",
              "      <td>5</td>\n",
              "      <td>Hootsuite Inc</td>\n",
              "      <td>discover how rwanda is using digitalization to address the education challenges brought on by covid19 resilientrecovery</td>\n",
              "      <td>[discover, rwanda, use, digitalization, address, education, challenge, bring, covid, resilientrecovery]</td>\n",
              "      <td>[[use, digitalization], [education, challenge], [challenge, bring]]</td>\n",
              "      <td>0.0772</td>\n",
              "      <td>positive</td>\n",
              "      <td>119</td>\n",
              "      <td>USA</td>\n",
              "    </tr>\n",
              "    <tr>\n",
              "      <th>1</th>\n",
              "      <td>BrookingsGov</td>\n",
              "      <td>Amid the #COVID19 pandemic and a White House transition, what's next for American schools? Join us Tuesday for an expert discussion of the future of US education, including pandemic recovery, school choice, and more. Register: https://t.co/c2mFMKB8FT</td>\n",
              "      <td>[covid19]</td>\n",
              "      <td>0</td>\n",
              "      <td>0</td>\n",
              "      <td>Sprout Social</td>\n",
              "      <td>amid the covid19 pandemic and a white house transition what's next for american schools join us tuesday for an expert discussion of the future of us education including pandemic recovery school choice and more register</td>\n",
              "      <td>[amid, covid, pandemic, white, house, transition, what's, next, american, school, join, u, tuesday, expert, discussion, future, u, education, include, pandemic, recovery, school, choice, register]</td>\n",
              "      <td>[[white, house], [house, transition], [transition, what's], [what's, next], [american, school], [school, join], [join, u], [u, tuesday], [expert, discussion], [u, education], [education, include], [include, pandemic], [pandemic, recovery], [recovery, school], [school, choice]]</td>\n",
              "      <td>0.2960</td>\n",
              "      <td>positive</td>\n",
              "      <td>218</td>\n",
              "      <td>USA</td>\n",
              "    </tr>\n",
              "    <tr>\n",
              "      <th>2</th>\n",
              "      <td>AJBlackston</td>\n",
              "      <td>eLearning's Time To Shine? Apparently Not https://t.co/IphPqnejEz #Education #Federal #State #Local #News #Crime #Fire #Politics #COVID19 #Security #Mayor #Teachers #TechNews #Sports Please Retweet</td>\n",
              "      <td>[state, crime, education, technews, teachers, security, sports, federal, local, covid19, mayor, politics, fire, news]</td>\n",
              "      <td>0</td>\n",
              "      <td>0</td>\n",
              "      <td>Microsoft Power Platform</td>\n",
              "      <td>elearning's time to shine apparently not education federal state local news crime fire politics covid19 security mayor teachers technews sports please retweet</td>\n",
              "      <td>[elearning's, time, shine, apparently, education, federal, state, local, news, crime, fire, politics, covid, security, mayor, teacher, technews, sport, please, retweet]</td>\n",
              "      <td>[[elearning's, time], [shine, apparently], [education, federal], [federal, state], [state, local], [local, news], [news, crime], [crime, fire], [fire, politics], [politics, covid], [security, mayor], [mayor, teacher], [teacher, technews], [technews, sport], [sport, please], [please, retweet]]</td>\n",
              "      <td>-0.2960</td>\n",
              "      <td>negative</td>\n",
              "      <td>158</td>\n",
              "      <td>USA</td>\n",
              "    </tr>\n",
              "    <tr>\n",
              "      <th>3</th>\n",
              "      <td>AJBlackston</td>\n",
              "      <td>Navajo Nation Readies For Vaccine To Fight 'Invisible Monster' https://t.co/bdiibgEV88 #Education #Federal #State #Local #News #Crime #Fire #Politics #COVID19 #Security #Mayor #Teachers #TechNews #Sports Please Retweet</td>\n",
              "      <td>[state, crime, education, technews, teachers, security, sports, federal, local, covid19, mayor, politics, fire, news]</td>\n",
              "      <td>0</td>\n",
              "      <td>0</td>\n",
              "      <td>Microsoft Power Platform</td>\n",
              "      <td>navajo nation readies for vaccine to fight 'invisible monster' education federal state local news crime fire politics covid19 security mayor teachers technews sports please retweet</td>\n",
              "      <td>[navajo, nation, ready, vaccine, fight, invisible, monster, education, federal, state, local, news, crime, fire, politics, covid, security, mayor, teacher, technews, sport, please, retweet]</td>\n",
              "      <td>[[navajo, nation], [nation, ready], [invisible, monster], [education, federal], [federal, state], [state, local], [local, news], [news, crime], [crime, fire], [fire, politics], [politics, covid], [security, mayor], [mayor, teacher], [teacher, technews], [technews, sport], [sport, please], [please, retweet]]</td>\n",
              "      <td>-0.5859</td>\n",
              "      <td>negative</td>\n",
              "      <td>180</td>\n",
              "      <td>USA</td>\n",
              "    </tr>\n",
              "    <tr>\n",
              "      <th>4</th>\n",
              "      <td>AJBlackston</td>\n",
              "      <td>8 Ways eLearning Can Help Us Prepare For A New World Of Work https://t.co/opcKTjiyZr #Education #Federal #State #Local #News #Crime #Fire #Politics #COVID19 #Security #Mayor #Teachers #TechNews #Sports Please Retweet</td>\n",
              "      <td>[state, crime, education, technews, teachers, security, sports, federal, local, covid19, mayor, politics, fire, news]</td>\n",
              "      <td>1</td>\n",
              "      <td>0</td>\n",
              "      <td>Microsoft Power Platform</td>\n",
              "      <td>8 ways elearning can help us prepare for a new world of work education federal state local news crime fire politics covid19 security mayor teachers technews sports please retweet</td>\n",
              "      <td>[way, elearning, help, u, prepare, new, world, work, education, federal, state, local, news, crime, fire, politics, covid, security, mayor, teacher, technews, sport, please, retweet]</td>\n",
              "      <td>[[way, elearning], [help, u], [u, prepare], [new, world], [work, education], [education, federal], [federal, state], [state, local], [local, news], [news, crime], [crime, fire], [fire, politics], [politics, covid], [security, mayor], [mayor, teacher], [teacher, technews], [technews, sport], [sport, please], [please, retweet]]</td>\n",
              "      <td>0.1280</td>\n",
              "      <td>positive</td>\n",
              "      <td>178</td>\n",
              "      <td>USA</td>\n",
              "    </tr>\n",
              "    <tr>\n",
              "      <th>...</th>\n",
              "      <td>...</td>\n",
              "      <td>...</td>\n",
              "      <td>...</td>\n",
              "      <td>...</td>\n",
              "      <td>...</td>\n",
              "      <td>...</td>\n",
              "      <td>...</td>\n",
              "      <td>...</td>\n",
              "      <td>...</td>\n",
              "      <td>...</td>\n",
              "      <td>...</td>\n",
              "      <td>...</td>\n",
              "      <td>...</td>\n",
              "    </tr>\n",
              "    <tr>\n",
              "      <th>95</th>\n",
              "      <td>AJBlackston</td>\n",
              "      <td>Sanders, Hawley team up to demand vote on second round of stimulus checks https://t.co/1meL43ntQS #Education #Federal #State #Local #News #Crime #Fire #Politics #COVID19 #Security #Mayor #Teachers #TechNews #Sports Please Retweet</td>\n",
              "      <td>[state, crime, education, technews, teachers, security, sports, federal, local, covid19, mayor, politics, fire, news]</td>\n",
              "      <td>0</td>\n",
              "      <td>0</td>\n",
              "      <td>Microsoft Power Platform</td>\n",
              "      <td>sanders hawley team up to demand vote on second round of stimulus checks education federal state local news crime fire politics covid19 security mayor teachers technews sports please retweet</td>\n",
              "      <td>[sander, hawley, team, demand, vote, second, round, stimulus, check, education, federal, state, local, news, crime, fire, politics, covid, security, mayor, teacher, technews, sport, please, retweet]</td>\n",
              "      <td>[[sander, hawley], [hawley, team], [demand, vote], [second, round], [stimulus, check], [check, education], [education, federal], [federal, state], [state, local], [local, news], [news, crime], [crime, fire], [fire, politics], [politics, covid], [security, mayor], [mayor, teacher], [teacher, technews], [technews, sport], [sport, please], [please, retweet]]</td>\n",
              "      <td>-0.4019</td>\n",
              "      <td>negative</td>\n",
              "      <td>190</td>\n",
              "      <td>USA</td>\n",
              "    </tr>\n",
              "    <tr>\n",
              "      <th>96</th>\n",
              "      <td>AJBlackston</td>\n",
              "      <td>Biden says FDA panel vote on Pfizer vaccine a &amp;#039;bright light in a needlessly dark time&amp;#039; https://t.co/IdAKNkUoCD #Education #Federal #State #Local #News #Crime #Fire #Politics #COVID19 #Security #Mayor #Teachers #TechNews #Sports Please Retweet</td>\n",
              "      <td>[state, crime, education, technews, teachers, security, sports, federal, local, covid19, mayor, politics, fire, news]</td>\n",
              "      <td>0</td>\n",
              "      <td>0</td>\n",
              "      <td>Microsoft Power Platform</td>\n",
              "      <td>biden says fda panel vote on pfizer vaccine a 039bright light in a needlessly dark time039 education federal state local news crime fire politics covid19 security mayor teachers technews sports please retweet</td>\n",
              "      <td>[biden, say, fda, panel, vote, pfizer, vaccine, 039bright, light, needlessly, dark, time, education, federal, state, local, news, crime, fire, politics, covid, security, mayor, teacher, technews, sport, please, retweet]</td>\n",
              "      <td>[[biden, say], [say, fda], [fda, panel], [panel, vote], [pfizer, vaccine], [039bright, light], [needlessly, dark], [dark, time], [education, federal], [federal, state], [state, local], [local, news], [news, crime], [crime, fire], [fire, politics], [politics, covid], [security, mayor], [mayor, teacher], [teacher, technews], [technews, sport], [sport, please], [please, retweet]]</td>\n",
              "      <td>-0.2960</td>\n",
              "      <td>negative</td>\n",
              "      <td>208</td>\n",
              "      <td>USA</td>\n",
              "    </tr>\n",
              "    <tr>\n",
              "      <th>97</th>\n",
              "      <td>AJBlackston</td>\n",
              "      <td>Minneapolis Approves Cutting Police Budget https://t.co/0uoj8PFydj #Education #Federal #State #Local #News #Crime #Fire #Politics #COVID19 #Security #Mayor #Teachers #TechNews #Sports Please Retweet</td>\n",
              "      <td>[state, crime, education, technews, teachers, security, sports, federal, local, covid19, mayor, politics, fire, news]</td>\n",
              "      <td>0</td>\n",
              "      <td>0</td>\n",
              "      <td>Microsoft Power Platform</td>\n",
              "      <td>minneapolis approves cutting police budget education federal state local news crime fire politics covid19 security mayor teachers technews sports please retweet</td>\n",
              "      <td>[minneapolis, approve, cut, police, budget, education, federal, state, local, news, crime, fire, politics, covid, security, mayor, teacher, technews, sport, please, retweet]</td>\n",
              "      <td>[[minneapolis, approve], [approve, cut], [cut, police], [police, budget], [budget, education], [education, federal], [federal, state], [state, local], [local, news], [news, crime], [crime, fire], [fire, politics], [politics, covid], [security, mayor], [mayor, teacher], [teacher, technews], [technews, sport], [sport, please], [please, retweet]]</td>\n",
              "      <td>0.0000</td>\n",
              "      <td>neutral</td>\n",
              "      <td>160</td>\n",
              "      <td>USA</td>\n",
              "    </tr>\n",
              "    <tr>\n",
              "      <th>98</th>\n",
              "      <td>AJBlackston</td>\n",
              "      <td>Poverty among professors clocked in new survey https://t.co/OGTSwLWB3J #Education #Federal #State #Local #News #Crime #Fire #Politics #COVID19 #Security #Mayor #Teachers #TechNews #Sports Please Retweet</td>\n",
              "      <td>[state, crime, education, technews, teachers, security, sports, federal, local, covid19, mayor, politics, fire, news]</td>\n",
              "      <td>0</td>\n",
              "      <td>0</td>\n",
              "      <td>Microsoft Power Platform</td>\n",
              "      <td>poverty among professors clocked in new survey education federal state local news crime fire politics covid19 security mayor teachers technews sports please retweet</td>\n",
              "      <td>[poverty, among, professor, clock, new, survey, education, federal, state, local, news, crime, fire, politics, covid, security, mayor, teacher, technews, sport, please, retweet]</td>\n",
              "      <td>[[poverty, among], [among, professor], [professor, clock], [new, survey], [survey, education], [education, federal], [federal, state], [state, local], [local, news], [news, crime], [crime, fire], [fire, politics], [politics, covid], [security, mayor], [mayor, teacher], [teacher, technews], [technews, sport], [sport, please], [please, retweet]]</td>\n",
              "      <td>-0.6705</td>\n",
              "      <td>negative</td>\n",
              "      <td>164</td>\n",
              "      <td>USA</td>\n",
              "    </tr>\n",
              "    <tr>\n",
              "      <th>99</th>\n",
              "      <td>AJBlackston</td>\n",
              "      <td>FDA panel votes in favor of Pfizer COVID-19 vaccine https://t.co/W2NK0ErF5t #Education #Federal #State #Local #News #Crime #Fire #Politics #COVID19 #Security #Mayor #Teachers #TechNews #Sports Please Retweet</td>\n",
              "      <td>[state, crime, education, technews, teachers, security, sports, federal, local, covid19, mayor, politics, fire, news]</td>\n",
              "      <td>0</td>\n",
              "      <td>0</td>\n",
              "      <td>Microsoft Power Platform</td>\n",
              "      <td>fda panel votes in favor of pfizer covid-19 vaccine education federal state local news crime fire politics covid19 security mayor teachers technews sports please retweet</td>\n",
              "      <td>[fda, panel, vote, favor, pfizer, covid, vaccine, education, federal, state, local, news, crime, fire, politics, covid, security, mayor, teacher, technews, sport, please, retweet]</td>\n",
              "      <td>[[fda, panel], [panel, vote], [pfizer, covid], [vaccine, education], [education, federal], [federal, state], [state, local], [local, news], [news, crime], [crime, fire], [fire, politics], [politics, covid], [security, mayor], [mayor, teacher], [teacher, technews], [technews, sport], [sport, please], [please, retweet]]</td>\n",
              "      <td>0.1280</td>\n",
              "      <td>positive</td>\n",
              "      <td>169</td>\n",
              "      <td>USA</td>\n",
              "    </tr>\n",
              "  </tbody>\n",
              "</table>\n",
              "<p>100 rows × 13 columns</p>\n",
              "</div>"
            ],
            "text/plain": [
              "     screen_name  \\\n",
              "0   WorldBank      \n",
              "1   BrookingsGov   \n",
              "2   AJBlackston    \n",
              "3   AJBlackston    \n",
              "4   AJBlackston    \n",
              "..          ...    \n",
              "95  AJBlackston    \n",
              "96  AJBlackston    \n",
              "97  AJBlackston    \n",
              "98  AJBlackston    \n",
              "99  AJBlackston    \n",
              "\n",
              "                                                                                                                                                                                                                                                            text  \\\n",
              "0   Discover how #Rwanda is using digitalization to address the education challenges brought on by #COVID19 #ResilientRecovery: https://t.co/55rgCStz8V https://t.co/iPbHobpGaM                                                                                    \n",
              "1   Amid the #COVID19 pandemic and a White House transition, what's next for American schools? Join us Tuesday for an expert discussion of the future of US education, including pandemic recovery, school choice, and more. Register: https://t.co/c2mFMKB8FT     \n",
              "2   eLearning's Time To Shine? Apparently Not https://t.co/IphPqnejEz #Education #Federal #State #Local #News #Crime #Fire #Politics #COVID19 #Security #Mayor #Teachers #TechNews #Sports Please Retweet                                                          \n",
              "3   Navajo Nation Readies For Vaccine To Fight 'Invisible Monster' https://t.co/bdiibgEV88 #Education #Federal #State #Local #News #Crime #Fire #Politics #COVID19 #Security #Mayor #Teachers #TechNews #Sports Please Retweet                                     \n",
              "4   8 Ways eLearning Can Help Us Prepare For A New World Of Work https://t.co/opcKTjiyZr #Education #Federal #State #Local #News #Crime #Fire #Politics #COVID19 #Security #Mayor #Teachers #TechNews #Sports Please Retweet                                       \n",
              "..                                                                                                                                                                                                                       ...                                       \n",
              "95  Sanders, Hawley team up to demand vote on second round of stimulus checks https://t.co/1meL43ntQS #Education #Federal #State #Local #News #Crime #Fire #Politics #COVID19 #Security #Mayor #Teachers #TechNews #Sports Please Retweet                          \n",
              "96  Biden says FDA panel vote on Pfizer vaccine a &#039;bright light in a needlessly dark time&#039; https://t.co/IdAKNkUoCD #Education #Federal #State #Local #News #Crime #Fire #Politics #COVID19 #Security #Mayor #Teachers #TechNews #Sports Please Retweet   \n",
              "97  Minneapolis Approves Cutting Police Budget https://t.co/0uoj8PFydj #Education #Federal #State #Local #News #Crime #Fire #Politics #COVID19 #Security #Mayor #Teachers #TechNews #Sports Please Retweet                                                         \n",
              "98  Poverty among professors clocked in new survey https://t.co/OGTSwLWB3J #Education #Federal #State #Local #News #Crime #Fire #Politics #COVID19 #Security #Mayor #Teachers #TechNews #Sports Please Retweet                                                     \n",
              "99  FDA panel votes in favor of Pfizer COVID-19 vaccine https://t.co/W2NK0ErF5t #Education #Federal #State #Local #News #Crime #Fire #Politics #COVID19 #Security #Mayor #Teachers #TechNews #Sports Please Retweet                                                \n",
              "\n",
              "                                                                                                                 hashtags  \\\n",
              "0   [rwanda, covid19, resilientrecovery]                                                                                    \n",
              "1   [covid19]                                                                                                               \n",
              "2   [state, crime, education, technews, teachers, security, sports, federal, local, covid19, mayor, politics, fire, news]   \n",
              "3   [state, crime, education, technews, teachers, security, sports, federal, local, covid19, mayor, politics, fire, news]   \n",
              "4   [state, crime, education, technews, teachers, security, sports, federal, local, covid19, mayor, politics, fire, news]   \n",
              "..                                                                                                                    ...   \n",
              "95  [state, crime, education, technews, teachers, security, sports, federal, local, covid19, mayor, politics, fire, news]   \n",
              "96  [state, crime, education, technews, teachers, security, sports, federal, local, covid19, mayor, politics, fire, news]   \n",
              "97  [state, crime, education, technews, teachers, security, sports, federal, local, covid19, mayor, politics, fire, news]   \n",
              "98  [state, crime, education, technews, teachers, security, sports, federal, local, covid19, mayor, politics, fire, news]   \n",
              "99  [state, crime, education, technews, teachers, security, sports, federal, local, covid19, mayor, politics, fire, news]   \n",
              "\n",
              "    favorite_count  retweet_count                    source  \\\n",
              "0   14              5              Hootsuite Inc              \n",
              "1   0               0              Sprout Social              \n",
              "2   0               0              Microsoft Power Platform   \n",
              "3   0               0              Microsoft Power Platform   \n",
              "4   1               0              Microsoft Power Platform   \n",
              ".. ..              ..                                   ...   \n",
              "95  0               0              Microsoft Power Platform   \n",
              "96  0               0              Microsoft Power Platform   \n",
              "97  0               0              Microsoft Power Platform   \n",
              "98  0               0              Microsoft Power Platform   \n",
              "99  0               0              Microsoft Power Platform   \n",
              "\n",
              "                                                                                                                                                                                                                    clean_text  \\\n",
              "0   discover how rwanda is using digitalization to address the education challenges brought on by covid19 resilientrecovery                                                                                                      \n",
              "1   amid the covid19 pandemic and a white house transition what's next for american schools join us tuesday for an expert discussion of the future of us education including pandemic recovery school choice and more register   \n",
              "2   elearning's time to shine apparently not education federal state local news crime fire politics covid19 security mayor teachers technews sports please retweet                                                               \n",
              "3   navajo nation readies for vaccine to fight 'invisible monster' education federal state local news crime fire politics covid19 security mayor teachers technews sports please retweet                                         \n",
              "4   8 ways elearning can help us prepare for a new world of work education federal state local news crime fire politics covid19 security mayor teachers technews sports please retweet                                           \n",
              "..                                                                                                                                                                                 ...                                           \n",
              "95  sanders hawley team up to demand vote on second round of stimulus checks education federal state local news crime fire politics covid19 security mayor teachers technews sports please retweet                               \n",
              "96  biden says fda panel vote on pfizer vaccine a 039bright light in a needlessly dark time039 education federal state local news crime fire politics covid19 security mayor teachers technews sports please retweet             \n",
              "97  minneapolis approves cutting police budget education federal state local news crime fire politics covid19 security mayor teachers technews sports please retweet                                                             \n",
              "98  poverty among professors clocked in new survey education federal state local news crime fire politics covid19 security mayor teachers technews sports please retweet                                                         \n",
              "99  fda panel votes in favor of pfizer covid-19 vaccine education federal state local news crime fire politics covid19 security mayor teachers technews sports please retweet                                                    \n",
              "\n",
              "                                                                                                                                                                                                                 text_processed  \\\n",
              "0   [discover, rwanda, use, digitalization, address, education, challenge, bring, covid, resilientrecovery]                                                                                                                       \n",
              "1   [amid, covid, pandemic, white, house, transition, what's, next, american, school, join, u, tuesday, expert, discussion, future, u, education, include, pandemic, recovery, school, choice, register]                          \n",
              "2   [elearning's, time, shine, apparently, education, federal, state, local, news, crime, fire, politics, covid, security, mayor, teacher, technews, sport, please, retweet]                                                      \n",
              "3   [navajo, nation, ready, vaccine, fight, invisible, monster, education, federal, state, local, news, crime, fire, politics, covid, security, mayor, teacher, technews, sport, please, retweet]                                 \n",
              "4   [way, elearning, help, u, prepare, new, world, work, education, federal, state, local, news, crime, fire, politics, covid, security, mayor, teacher, technews, sport, please, retweet]                                        \n",
              "..                                                                                                                                                                                     ...                                        \n",
              "95  [sander, hawley, team, demand, vote, second, round, stimulus, check, education, federal, state, local, news, crime, fire, politics, covid, security, mayor, teacher, technews, sport, please, retweet]                        \n",
              "96  [biden, say, fda, panel, vote, pfizer, vaccine, 039bright, light, needlessly, dark, time, education, federal, state, local, news, crime, fire, politics, covid, security, mayor, teacher, technews, sport, please, retweet]   \n",
              "97  [minneapolis, approve, cut, police, budget, education, federal, state, local, news, crime, fire, politics, covid, security, mayor, teacher, technews, sport, please, retweet]                                                 \n",
              "98  [poverty, among, professor, clock, new, survey, education, federal, state, local, news, crime, fire, politics, covid, security, mayor, teacher, technews, sport, please, retweet]                                             \n",
              "99  [fda, panel, vote, favor, pfizer, covid, vaccine, education, federal, state, local, news, crime, fire, politics, covid, security, mayor, teacher, technews, sport, please, retweet]                                           \n",
              "\n",
              "                                                                                                                                                                                                                                                                                                                                                                                   text_bigrams  \\\n",
              "0   [[use, digitalization], [education, challenge], [challenge, bring]]                                                                                                                                                                                                                                                                                                                           \n",
              "1   [[white, house], [house, transition], [transition, what's], [what's, next], [american, school], [school, join], [join, u], [u, tuesday], [expert, discussion], [u, education], [education, include], [include, pandemic], [pandemic, recovery], [recovery, school], [school, choice]]                                                                                                         \n",
              "2   [[elearning's, time], [shine, apparently], [education, federal], [federal, state], [state, local], [local, news], [news, crime], [crime, fire], [fire, politics], [politics, covid], [security, mayor], [mayor, teacher], [teacher, technews], [technews, sport], [sport, please], [please, retweet]]                                                                                         \n",
              "3   [[navajo, nation], [nation, ready], [invisible, monster], [education, federal], [federal, state], [state, local], [local, news], [news, crime], [crime, fire], [fire, politics], [politics, covid], [security, mayor], [mayor, teacher], [teacher, technews], [technews, sport], [sport, please], [please, retweet]]                                                                          \n",
              "4   [[way, elearning], [help, u], [u, prepare], [new, world], [work, education], [education, federal], [federal, state], [state, local], [local, news], [news, crime], [crime, fire], [fire, politics], [politics, covid], [security, mayor], [mayor, teacher], [teacher, technews], [technews, sport], [sport, please], [please, retweet]]                                                       \n",
              "..                                                                                                                                                                                                                                                                                                                                      ...                                                       \n",
              "95  [[sander, hawley], [hawley, team], [demand, vote], [second, round], [stimulus, check], [check, education], [education, federal], [federal, state], [state, local], [local, news], [news, crime], [crime, fire], [fire, politics], [politics, covid], [security, mayor], [mayor, teacher], [teacher, technews], [technews, sport], [sport, please], [please, retweet]]                         \n",
              "96  [[biden, say], [say, fda], [fda, panel], [panel, vote], [pfizer, vaccine], [039bright, light], [needlessly, dark], [dark, time], [education, federal], [federal, state], [state, local], [local, news], [news, crime], [crime, fire], [fire, politics], [politics, covid], [security, mayor], [mayor, teacher], [teacher, technews], [technews, sport], [sport, please], [please, retweet]]   \n",
              "97  [[minneapolis, approve], [approve, cut], [cut, police], [police, budget], [budget, education], [education, federal], [federal, state], [state, local], [local, news], [news, crime], [crime, fire], [fire, politics], [politics, covid], [security, mayor], [mayor, teacher], [teacher, technews], [technews, sport], [sport, please], [please, retweet]]                                     \n",
              "98  [[poverty, among], [among, professor], [professor, clock], [new, survey], [survey, education], [education, federal], [federal, state], [state, local], [local, news], [news, crime], [crime, fire], [fire, politics], [politics, covid], [security, mayor], [mayor, teacher], [teacher, technews], [technews, sport], [sport, please], [please, retweet]]                                     \n",
              "99  [[fda, panel], [panel, vote], [pfizer, covid], [vaccine, education], [education, federal], [federal, state], [state, local], [local, news], [news, crime], [crime, fire], [fire, politics], [politics, covid], [security, mayor], [mayor, teacher], [teacher, technews], [technews, sport], [sport, please], [please, retweet]]                                                               \n",
              "\n",
              "    sentiment Type of Sentiment  text_length country  \n",
              "0   0.0772     positive          119          USA     \n",
              "1   0.2960     positive          218          USA     \n",
              "2  -0.2960     negative          158          USA     \n",
              "3  -0.5859     negative          180          USA     \n",
              "4   0.1280     positive          178          USA     \n",
              "..     ...          ...          ...          ...     \n",
              "95 -0.4019     negative          190          USA     \n",
              "96 -0.2960     negative          208          USA     \n",
              "97  0.0000     neutral           160          USA     \n",
              "98 -0.6705     negative          164          USA     \n",
              "99  0.1280     positive          169          USA     \n",
              "\n",
              "[100 rows x 13 columns]"
            ]
          },
          "metadata": {},
          "output_type": "display_data"
        }
      ],
      "source": [
        "country = np.repeat(\"USA\",100)\n",
        "dataset[\"country\"] = country\n",
        "\n",
        "display(dataset)"
      ]
    },
    {
      "cell_type": "code",
      "execution_count": null,
      "metadata": {
        "id": "eg2WMsSMfpMh",
        "outputId": "ecc602fe-b94a-44ac-b3b2-0708302cb9d3"
      },
      "outputs": [
        {
          "data": {
            "text/html": [
              "<div>\n",
              "<style scoped>\n",
              "    .dataframe tbody tr th:only-of-type {\n",
              "        vertical-align: middle;\n",
              "    }\n",
              "\n",
              "    .dataframe tbody tr th {\n",
              "        vertical-align: top;\n",
              "    }\n",
              "\n",
              "    .dataframe thead th {\n",
              "        text-align: right;\n",
              "    }\n",
              "</style>\n",
              "<table border=\"1\" class=\"dataframe\">\n",
              "  <thead>\n",
              "    <tr style=\"text-align: right;\">\n",
              "      <th></th>\n",
              "      <th>screen_name</th>\n",
              "      <th>text</th>\n",
              "      <th>hashtags</th>\n",
              "      <th>favorite_count</th>\n",
              "      <th>retweet_count</th>\n",
              "      <th>source</th>\n",
              "      <th>clean_text</th>\n",
              "      <th>text_processed</th>\n",
              "      <th>text_bigrams</th>\n",
              "      <th>sentiment</th>\n",
              "      <th>Type of Sentiment</th>\n",
              "      <th>text_length</th>\n",
              "      <th>country</th>\n",
              "    </tr>\n",
              "  </thead>\n",
              "  <tbody>\n",
              "    <tr>\n",
              "      <th>0</th>\n",
              "      <td>WorldBank</td>\n",
              "      <td>Discover how #Rwanda is using digitalization to address the education challenges brought on by #COVID19 #ResilientRecovery: https://t.co/55rgCStz8V https://t.co/iPbHobpGaM</td>\n",
              "      <td>[rwanda, covid19, resilientrecovery]</td>\n",
              "      <td>14</td>\n",
              "      <td>5</td>\n",
              "      <td>Hootsuite Inc</td>\n",
              "      <td>discover how rwanda is using digitalization to address the education challenges brought on by covid19 resilientrecovery</td>\n",
              "      <td>[discover, rwanda, use, digitalization, address, education, challenge, bring, covid, resilientrecovery]</td>\n",
              "      <td>[[use, digitalization], [education, challenge], [challenge, bring]]</td>\n",
              "      <td>0.0772</td>\n",
              "      <td>positive</td>\n",
              "      <td>119</td>\n",
              "      <td>USA</td>\n",
              "    </tr>\n",
              "    <tr>\n",
              "      <th>1</th>\n",
              "      <td>BrookingsGov</td>\n",
              "      <td>Amid the #COVID19 pandemic and a White House transition, what's next for American schools? Join us Tuesday for an expert discussion of the future of US education, including pandemic recovery, school choice, and more. Register: https://t.co/c2mFMKB8FT</td>\n",
              "      <td>[covid19]</td>\n",
              "      <td>0</td>\n",
              "      <td>0</td>\n",
              "      <td>Sprout Social</td>\n",
              "      <td>amid the covid19 pandemic and a white house transition what's next for american schools join us tuesday for an expert discussion of the future of us education including pandemic recovery school choice and more register</td>\n",
              "      <td>[amid, covid, pandemic, white, house, transition, what's, next, american, school, join, u, tuesday, expert, discussion, future, u, education, include, pandemic, recovery, school, choice, register]</td>\n",
              "      <td>[[white, house], [house, transition], [transition, what's], [what's, next], [american, school], [school, join], [join, u], [u, tuesday], [expert, discussion], [u, education], [education, include], [include, pandemic], [pandemic, recovery], [recovery, school], [school, choice]]</td>\n",
              "      <td>0.2960</td>\n",
              "      <td>positive</td>\n",
              "      <td>218</td>\n",
              "      <td>USA</td>\n",
              "    </tr>\n",
              "    <tr>\n",
              "      <th>2</th>\n",
              "      <td>AJBlackston</td>\n",
              "      <td>eLearning's Time To Shine? Apparently Not https://t.co/IphPqnejEz #Education #Federal #State #Local #News #Crime #Fire #Politics #COVID19 #Security #Mayor #Teachers #TechNews #Sports Please Retweet</td>\n",
              "      <td>[state, crime, education, technews, teachers, security, sports, federal, local, covid19, mayor, politics, fire, news]</td>\n",
              "      <td>0</td>\n",
              "      <td>0</td>\n",
              "      <td>Microsoft Power Platform</td>\n",
              "      <td>elearning's time to shine apparently not education federal state local news crime fire politics covid19 security mayor teachers technews sports please retweet</td>\n",
              "      <td>[elearning's, time, shine, apparently, education, federal, state, local, news, crime, fire, politics, covid, security, mayor, teacher, technews, sport, please, retweet]</td>\n",
              "      <td>[[elearning's, time], [shine, apparently], [education, federal], [federal, state], [state, local], [local, news], [news, crime], [crime, fire], [fire, politics], [politics, covid], [security, mayor], [mayor, teacher], [teacher, technews], [technews, sport], [sport, please], [please, retweet]]</td>\n",
              "      <td>-0.2960</td>\n",
              "      <td>negative</td>\n",
              "      <td>158</td>\n",
              "      <td>USA</td>\n",
              "    </tr>\n",
              "    <tr>\n",
              "      <th>3</th>\n",
              "      <td>AJBlackston</td>\n",
              "      <td>Navajo Nation Readies For Vaccine To Fight 'Invisible Monster' https://t.co/bdiibgEV88 #Education #Federal #State #Local #News #Crime #Fire #Politics #COVID19 #Security #Mayor #Teachers #TechNews #Sports Please Retweet</td>\n",
              "      <td>[state, crime, education, technews, teachers, security, sports, federal, local, covid19, mayor, politics, fire, news]</td>\n",
              "      <td>0</td>\n",
              "      <td>0</td>\n",
              "      <td>Microsoft Power Platform</td>\n",
              "      <td>navajo nation readies for vaccine to fight 'invisible monster' education federal state local news crime fire politics covid19 security mayor teachers technews sports please retweet</td>\n",
              "      <td>[navajo, nation, ready, vaccine, fight, invisible, monster, education, federal, state, local, news, crime, fire, politics, covid, security, mayor, teacher, technews, sport, please, retweet]</td>\n",
              "      <td>[[navajo, nation], [nation, ready], [invisible, monster], [education, federal], [federal, state], [state, local], [local, news], [news, crime], [crime, fire], [fire, politics], [politics, covid], [security, mayor], [mayor, teacher], [teacher, technews], [technews, sport], [sport, please], [please, retweet]]</td>\n",
              "      <td>-0.5859</td>\n",
              "      <td>negative</td>\n",
              "      <td>180</td>\n",
              "      <td>USA</td>\n",
              "    </tr>\n",
              "    <tr>\n",
              "      <th>4</th>\n",
              "      <td>AJBlackston</td>\n",
              "      <td>8 Ways eLearning Can Help Us Prepare For A New World Of Work https://t.co/opcKTjiyZr #Education #Federal #State #Local #News #Crime #Fire #Politics #COVID19 #Security #Mayor #Teachers #TechNews #Sports Please Retweet</td>\n",
              "      <td>[state, crime, education, technews, teachers, security, sports, federal, local, covid19, mayor, politics, fire, news]</td>\n",
              "      <td>1</td>\n",
              "      <td>0</td>\n",
              "      <td>Microsoft Power Platform</td>\n",
              "      <td>8 ways elearning can help us prepare for a new world of work education federal state local news crime fire politics covid19 security mayor teachers technews sports please retweet</td>\n",
              "      <td>[way, elearning, help, u, prepare, new, world, work, education, federal, state, local, news, crime, fire, politics, covid, security, mayor, teacher, technews, sport, please, retweet]</td>\n",
              "      <td>[[way, elearning], [help, u], [u, prepare], [new, world], [work, education], [education, federal], [federal, state], [state, local], [local, news], [news, crime], [crime, fire], [fire, politics], [politics, covid], [security, mayor], [mayor, teacher], [teacher, technews], [technews, sport], [sport, please], [please, retweet]]</td>\n",
              "      <td>0.1280</td>\n",
              "      <td>positive</td>\n",
              "      <td>178</td>\n",
              "      <td>USA</td>\n",
              "    </tr>\n",
              "    <tr>\n",
              "      <th>...</th>\n",
              "      <td>...</td>\n",
              "      <td>...</td>\n",
              "      <td>...</td>\n",
              "      <td>...</td>\n",
              "      <td>...</td>\n",
              "      <td>...</td>\n",
              "      <td>...</td>\n",
              "      <td>...</td>\n",
              "      <td>...</td>\n",
              "      <td>...</td>\n",
              "      <td>...</td>\n",
              "      <td>...</td>\n",
              "      <td>...</td>\n",
              "    </tr>\n",
              "    <tr>\n",
              "      <th>95</th>\n",
              "      <td>AJBlackston</td>\n",
              "      <td>Sanders, Hawley team up to demand vote on second round of stimulus checks https://t.co/1meL43ntQS #Education #Federal #State #Local #News #Crime #Fire #Politics #COVID19 #Security #Mayor #Teachers #TechNews #Sports Please Retweet</td>\n",
              "      <td>[state, crime, education, technews, teachers, security, sports, federal, local, covid19, mayor, politics, fire, news]</td>\n",
              "      <td>0</td>\n",
              "      <td>0</td>\n",
              "      <td>Microsoft Power Platform</td>\n",
              "      <td>sanders hawley team up to demand vote on second round of stimulus checks education federal state local news crime fire politics covid19 security mayor teachers technews sports please retweet</td>\n",
              "      <td>[sander, hawley, team, demand, vote, second, round, stimulus, check, education, federal, state, local, news, crime, fire, politics, covid, security, mayor, teacher, technews, sport, please, retweet]</td>\n",
              "      <td>[[sander, hawley], [hawley, team], [demand, vote], [second, round], [stimulus, check], [check, education], [education, federal], [federal, state], [state, local], [local, news], [news, crime], [crime, fire], [fire, politics], [politics, covid], [security, mayor], [mayor, teacher], [teacher, technews], [technews, sport], [sport, please], [please, retweet]]</td>\n",
              "      <td>-0.4019</td>\n",
              "      <td>negative</td>\n",
              "      <td>190</td>\n",
              "      <td>USA</td>\n",
              "    </tr>\n",
              "    <tr>\n",
              "      <th>96</th>\n",
              "      <td>AJBlackston</td>\n",
              "      <td>Biden says FDA panel vote on Pfizer vaccine a &amp;#039;bright light in a needlessly dark time&amp;#039; https://t.co/IdAKNkUoCD #Education #Federal #State #Local #News #Crime #Fire #Politics #COVID19 #Security #Mayor #Teachers #TechNews #Sports Please Retweet</td>\n",
              "      <td>[state, crime, education, technews, teachers, security, sports, federal, local, covid19, mayor, politics, fire, news]</td>\n",
              "      <td>0</td>\n",
              "      <td>0</td>\n",
              "      <td>Microsoft Power Platform</td>\n",
              "      <td>biden says fda panel vote on pfizer vaccine a 039bright light in a needlessly dark time039 education federal state local news crime fire politics covid19 security mayor teachers technews sports please retweet</td>\n",
              "      <td>[biden, say, fda, panel, vote, pfizer, vaccine, 039bright, light, needlessly, dark, time, education, federal, state, local, news, crime, fire, politics, covid, security, mayor, teacher, technews, sport, please, retweet]</td>\n",
              "      <td>[[biden, say], [say, fda], [fda, panel], [panel, vote], [pfizer, vaccine], [039bright, light], [needlessly, dark], [dark, time], [education, federal], [federal, state], [state, local], [local, news], [news, crime], [crime, fire], [fire, politics], [politics, covid], [security, mayor], [mayor, teacher], [teacher, technews], [technews, sport], [sport, please], [please, retweet]]</td>\n",
              "      <td>-0.2960</td>\n",
              "      <td>negative</td>\n",
              "      <td>208</td>\n",
              "      <td>USA</td>\n",
              "    </tr>\n",
              "    <tr>\n",
              "      <th>97</th>\n",
              "      <td>AJBlackston</td>\n",
              "      <td>Minneapolis Approves Cutting Police Budget https://t.co/0uoj8PFydj #Education #Federal #State #Local #News #Crime #Fire #Politics #COVID19 #Security #Mayor #Teachers #TechNews #Sports Please Retweet</td>\n",
              "      <td>[state, crime, education, technews, teachers, security, sports, federal, local, covid19, mayor, politics, fire, news]</td>\n",
              "      <td>0</td>\n",
              "      <td>0</td>\n",
              "      <td>Microsoft Power Platform</td>\n",
              "      <td>minneapolis approves cutting police budget education federal state local news crime fire politics covid19 security mayor teachers technews sports please retweet</td>\n",
              "      <td>[minneapolis, approve, cut, police, budget, education, federal, state, local, news, crime, fire, politics, covid, security, mayor, teacher, technews, sport, please, retweet]</td>\n",
              "      <td>[[minneapolis, approve], [approve, cut], [cut, police], [police, budget], [budget, education], [education, federal], [federal, state], [state, local], [local, news], [news, crime], [crime, fire], [fire, politics], [politics, covid], [security, mayor], [mayor, teacher], [teacher, technews], [technews, sport], [sport, please], [please, retweet]]</td>\n",
              "      <td>0.0000</td>\n",
              "      <td>neutral</td>\n",
              "      <td>160</td>\n",
              "      <td>USA</td>\n",
              "    </tr>\n",
              "    <tr>\n",
              "      <th>98</th>\n",
              "      <td>AJBlackston</td>\n",
              "      <td>Poverty among professors clocked in new survey https://t.co/OGTSwLWB3J #Education #Federal #State #Local #News #Crime #Fire #Politics #COVID19 #Security #Mayor #Teachers #TechNews #Sports Please Retweet</td>\n",
              "      <td>[state, crime, education, technews, teachers, security, sports, federal, local, covid19, mayor, politics, fire, news]</td>\n",
              "      <td>0</td>\n",
              "      <td>0</td>\n",
              "      <td>Microsoft Power Platform</td>\n",
              "      <td>poverty among professors clocked in new survey education federal state local news crime fire politics covid19 security mayor teachers technews sports please retweet</td>\n",
              "      <td>[poverty, among, professor, clock, new, survey, education, federal, state, local, news, crime, fire, politics, covid, security, mayor, teacher, technews, sport, please, retweet]</td>\n",
              "      <td>[[poverty, among], [among, professor], [professor, clock], [new, survey], [survey, education], [education, federal], [federal, state], [state, local], [local, news], [news, crime], [crime, fire], [fire, politics], [politics, covid], [security, mayor], [mayor, teacher], [teacher, technews], [technews, sport], [sport, please], [please, retweet]]</td>\n",
              "      <td>-0.6705</td>\n",
              "      <td>negative</td>\n",
              "      <td>164</td>\n",
              "      <td>USA</td>\n",
              "    </tr>\n",
              "    <tr>\n",
              "      <th>99</th>\n",
              "      <td>AJBlackston</td>\n",
              "      <td>FDA panel votes in favor of Pfizer COVID-19 vaccine https://t.co/W2NK0ErF5t #Education #Federal #State #Local #News #Crime #Fire #Politics #COVID19 #Security #Mayor #Teachers #TechNews #Sports Please Retweet</td>\n",
              "      <td>[state, crime, education, technews, teachers, security, sports, federal, local, covid19, mayor, politics, fire, news]</td>\n",
              "      <td>0</td>\n",
              "      <td>0</td>\n",
              "      <td>Microsoft Power Platform</td>\n",
              "      <td>fda panel votes in favor of pfizer covid-19 vaccine education federal state local news crime fire politics covid19 security mayor teachers technews sports please retweet</td>\n",
              "      <td>[fda, panel, vote, favor, pfizer, covid, vaccine, education, federal, state, local, news, crime, fire, politics, covid, security, mayor, teacher, technews, sport, please, retweet]</td>\n",
              "      <td>[[fda, panel], [panel, vote], [pfizer, covid], [vaccine, education], [education, federal], [federal, state], [state, local], [local, news], [news, crime], [crime, fire], [fire, politics], [politics, covid], [security, mayor], [mayor, teacher], [teacher, technews], [technews, sport], [sport, please], [please, retweet]]</td>\n",
              "      <td>0.1280</td>\n",
              "      <td>positive</td>\n",
              "      <td>169</td>\n",
              "      <td>USA</td>\n",
              "    </tr>\n",
              "  </tbody>\n",
              "</table>\n",
              "<p>100 rows × 13 columns</p>\n",
              "</div>"
            ],
            "text/plain": [
              "     screen_name  \\\n",
              "0   WorldBank      \n",
              "1   BrookingsGov   \n",
              "2   AJBlackston    \n",
              "3   AJBlackston    \n",
              "4   AJBlackston    \n",
              "..          ...    \n",
              "95  AJBlackston    \n",
              "96  AJBlackston    \n",
              "97  AJBlackston    \n",
              "98  AJBlackston    \n",
              "99  AJBlackston    \n",
              "\n",
              "                                                                                                                                                                                                                                                            text  \\\n",
              "0   Discover how #Rwanda is using digitalization to address the education challenges brought on by #COVID19 #ResilientRecovery: https://t.co/55rgCStz8V https://t.co/iPbHobpGaM                                                                                    \n",
              "1   Amid the #COVID19 pandemic and a White House transition, what's next for American schools? Join us Tuesday for an expert discussion of the future of US education, including pandemic recovery, school choice, and more. Register: https://t.co/c2mFMKB8FT     \n",
              "2   eLearning's Time To Shine? Apparently Not https://t.co/IphPqnejEz #Education #Federal #State #Local #News #Crime #Fire #Politics #COVID19 #Security #Mayor #Teachers #TechNews #Sports Please Retweet                                                          \n",
              "3   Navajo Nation Readies For Vaccine To Fight 'Invisible Monster' https://t.co/bdiibgEV88 #Education #Federal #State #Local #News #Crime #Fire #Politics #COVID19 #Security #Mayor #Teachers #TechNews #Sports Please Retweet                                     \n",
              "4   8 Ways eLearning Can Help Us Prepare For A New World Of Work https://t.co/opcKTjiyZr #Education #Federal #State #Local #News #Crime #Fire #Politics #COVID19 #Security #Mayor #Teachers #TechNews #Sports Please Retweet                                       \n",
              "..                                                                                                                                                                                                                       ...                                       \n",
              "95  Sanders, Hawley team up to demand vote on second round of stimulus checks https://t.co/1meL43ntQS #Education #Federal #State #Local #News #Crime #Fire #Politics #COVID19 #Security #Mayor #Teachers #TechNews #Sports Please Retweet                          \n",
              "96  Biden says FDA panel vote on Pfizer vaccine a &#039;bright light in a needlessly dark time&#039; https://t.co/IdAKNkUoCD #Education #Federal #State #Local #News #Crime #Fire #Politics #COVID19 #Security #Mayor #Teachers #TechNews #Sports Please Retweet   \n",
              "97  Minneapolis Approves Cutting Police Budget https://t.co/0uoj8PFydj #Education #Federal #State #Local #News #Crime #Fire #Politics #COVID19 #Security #Mayor #Teachers #TechNews #Sports Please Retweet                                                         \n",
              "98  Poverty among professors clocked in new survey https://t.co/OGTSwLWB3J #Education #Federal #State #Local #News #Crime #Fire #Politics #COVID19 #Security #Mayor #Teachers #TechNews #Sports Please Retweet                                                     \n",
              "99  FDA panel votes in favor of Pfizer COVID-19 vaccine https://t.co/W2NK0ErF5t #Education #Federal #State #Local #News #Crime #Fire #Politics #COVID19 #Security #Mayor #Teachers #TechNews #Sports Please Retweet                                                \n",
              "\n",
              "                                                                                                                 hashtags  \\\n",
              "0   [rwanda, covid19, resilientrecovery]                                                                                    \n",
              "1   [covid19]                                                                                                               \n",
              "2   [state, crime, education, technews, teachers, security, sports, federal, local, covid19, mayor, politics, fire, news]   \n",
              "3   [state, crime, education, technews, teachers, security, sports, federal, local, covid19, mayor, politics, fire, news]   \n",
              "4   [state, crime, education, technews, teachers, security, sports, federal, local, covid19, mayor, politics, fire, news]   \n",
              "..                                                                                                                    ...   \n",
              "95  [state, crime, education, technews, teachers, security, sports, federal, local, covid19, mayor, politics, fire, news]   \n",
              "96  [state, crime, education, technews, teachers, security, sports, federal, local, covid19, mayor, politics, fire, news]   \n",
              "97  [state, crime, education, technews, teachers, security, sports, federal, local, covid19, mayor, politics, fire, news]   \n",
              "98  [state, crime, education, technews, teachers, security, sports, federal, local, covid19, mayor, politics, fire, news]   \n",
              "99  [state, crime, education, technews, teachers, security, sports, federal, local, covid19, mayor, politics, fire, news]   \n",
              "\n",
              "    favorite_count  retweet_count                    source  \\\n",
              "0   14              5              Hootsuite Inc              \n",
              "1   0               0              Sprout Social              \n",
              "2   0               0              Microsoft Power Platform   \n",
              "3   0               0              Microsoft Power Platform   \n",
              "4   1               0              Microsoft Power Platform   \n",
              ".. ..              ..                                   ...   \n",
              "95  0               0              Microsoft Power Platform   \n",
              "96  0               0              Microsoft Power Platform   \n",
              "97  0               0              Microsoft Power Platform   \n",
              "98  0               0              Microsoft Power Platform   \n",
              "99  0               0              Microsoft Power Platform   \n",
              "\n",
              "                                                                                                                                                                                                                    clean_text  \\\n",
              "0   discover how rwanda is using digitalization to address the education challenges brought on by covid19 resilientrecovery                                                                                                      \n",
              "1   amid the covid19 pandemic and a white house transition what's next for american schools join us tuesday for an expert discussion of the future of us education including pandemic recovery school choice and more register   \n",
              "2   elearning's time to shine apparently not education federal state local news crime fire politics covid19 security mayor teachers technews sports please retweet                                                               \n",
              "3   navajo nation readies for vaccine to fight 'invisible monster' education federal state local news crime fire politics covid19 security mayor teachers technews sports please retweet                                         \n",
              "4   8 ways elearning can help us prepare for a new world of work education federal state local news crime fire politics covid19 security mayor teachers technews sports please retweet                                           \n",
              "..                                                                                                                                                                                 ...                                           \n",
              "95  sanders hawley team up to demand vote on second round of stimulus checks education federal state local news crime fire politics covid19 security mayor teachers technews sports please retweet                               \n",
              "96  biden says fda panel vote on pfizer vaccine a 039bright light in a needlessly dark time039 education federal state local news crime fire politics covid19 security mayor teachers technews sports please retweet             \n",
              "97  minneapolis approves cutting police budget education federal state local news crime fire politics covid19 security mayor teachers technews sports please retweet                                                             \n",
              "98  poverty among professors clocked in new survey education federal state local news crime fire politics covid19 security mayor teachers technews sports please retweet                                                         \n",
              "99  fda panel votes in favor of pfizer covid-19 vaccine education federal state local news crime fire politics covid19 security mayor teachers technews sports please retweet                                                    \n",
              "\n",
              "                                                                                                                                                                                                                 text_processed  \\\n",
              "0   [discover, rwanda, use, digitalization, address, education, challenge, bring, covid, resilientrecovery]                                                                                                                       \n",
              "1   [amid, covid, pandemic, white, house, transition, what's, next, american, school, join, u, tuesday, expert, discussion, future, u, education, include, pandemic, recovery, school, choice, register]                          \n",
              "2   [elearning's, time, shine, apparently, education, federal, state, local, news, crime, fire, politics, covid, security, mayor, teacher, technews, sport, please, retweet]                                                      \n",
              "3   [navajo, nation, ready, vaccine, fight, invisible, monster, education, federal, state, local, news, crime, fire, politics, covid, security, mayor, teacher, technews, sport, please, retweet]                                 \n",
              "4   [way, elearning, help, u, prepare, new, world, work, education, federal, state, local, news, crime, fire, politics, covid, security, mayor, teacher, technews, sport, please, retweet]                                        \n",
              "..                                                                                                                                                                                     ...                                        \n",
              "95  [sander, hawley, team, demand, vote, second, round, stimulus, check, education, federal, state, local, news, crime, fire, politics, covid, security, mayor, teacher, technews, sport, please, retweet]                        \n",
              "96  [biden, say, fda, panel, vote, pfizer, vaccine, 039bright, light, needlessly, dark, time, education, federal, state, local, news, crime, fire, politics, covid, security, mayor, teacher, technews, sport, please, retweet]   \n",
              "97  [minneapolis, approve, cut, police, budget, education, federal, state, local, news, crime, fire, politics, covid, security, mayor, teacher, technews, sport, please, retweet]                                                 \n",
              "98  [poverty, among, professor, clock, new, survey, education, federal, state, local, news, crime, fire, politics, covid, security, mayor, teacher, technews, sport, please, retweet]                                             \n",
              "99  [fda, panel, vote, favor, pfizer, covid, vaccine, education, federal, state, local, news, crime, fire, politics, covid, security, mayor, teacher, technews, sport, please, retweet]                                           \n",
              "\n",
              "                                                                                                                                                                                                                                                                                                                                                                                   text_bigrams  \\\n",
              "0   [[use, digitalization], [education, challenge], [challenge, bring]]                                                                                                                                                                                                                                                                                                                           \n",
              "1   [[white, house], [house, transition], [transition, what's], [what's, next], [american, school], [school, join], [join, u], [u, tuesday], [expert, discussion], [u, education], [education, include], [include, pandemic], [pandemic, recovery], [recovery, school], [school, choice]]                                                                                                         \n",
              "2   [[elearning's, time], [shine, apparently], [education, federal], [federal, state], [state, local], [local, news], [news, crime], [crime, fire], [fire, politics], [politics, covid], [security, mayor], [mayor, teacher], [teacher, technews], [technews, sport], [sport, please], [please, retweet]]                                                                                         \n",
              "3   [[navajo, nation], [nation, ready], [invisible, monster], [education, federal], [federal, state], [state, local], [local, news], [news, crime], [crime, fire], [fire, politics], [politics, covid], [security, mayor], [mayor, teacher], [teacher, technews], [technews, sport], [sport, please], [please, retweet]]                                                                          \n",
              "4   [[way, elearning], [help, u], [u, prepare], [new, world], [work, education], [education, federal], [federal, state], [state, local], [local, news], [news, crime], [crime, fire], [fire, politics], [politics, covid], [security, mayor], [mayor, teacher], [teacher, technews], [technews, sport], [sport, please], [please, retweet]]                                                       \n",
              "..                                                                                                                                                                                                                                                                                                                                      ...                                                       \n",
              "95  [[sander, hawley], [hawley, team], [demand, vote], [second, round], [stimulus, check], [check, education], [education, federal], [federal, state], [state, local], [local, news], [news, crime], [crime, fire], [fire, politics], [politics, covid], [security, mayor], [mayor, teacher], [teacher, technews], [technews, sport], [sport, please], [please, retweet]]                         \n",
              "96  [[biden, say], [say, fda], [fda, panel], [panel, vote], [pfizer, vaccine], [039bright, light], [needlessly, dark], [dark, time], [education, federal], [federal, state], [state, local], [local, news], [news, crime], [crime, fire], [fire, politics], [politics, covid], [security, mayor], [mayor, teacher], [teacher, technews], [technews, sport], [sport, please], [please, retweet]]   \n",
              "97  [[minneapolis, approve], [approve, cut], [cut, police], [police, budget], [budget, education], [education, federal], [federal, state], [state, local], [local, news], [news, crime], [crime, fire], [fire, politics], [politics, covid], [security, mayor], [mayor, teacher], [teacher, technews], [technews, sport], [sport, please], [please, retweet]]                                     \n",
              "98  [[poverty, among], [among, professor], [professor, clock], [new, survey], [survey, education], [education, federal], [federal, state], [state, local], [local, news], [news, crime], [crime, fire], [fire, politics], [politics, covid], [security, mayor], [mayor, teacher], [teacher, technews], [technews, sport], [sport, please], [please, retweet]]                                     \n",
              "99  [[fda, panel], [panel, vote], [pfizer, covid], [vaccine, education], [education, federal], [federal, state], [state, local], [local, news], [news, crime], [crime, fire], [fire, politics], [politics, covid], [security, mayor], [mayor, teacher], [teacher, technews], [technews, sport], [sport, please], [please, retweet]]                                                               \n",
              "\n",
              "    sentiment Type of Sentiment  text_length country  \n",
              "0   0.0772     positive          119          USA     \n",
              "1   0.2960     positive          218          USA     \n",
              "2  -0.2960     negative          158          USA     \n",
              "3  -0.5859     negative          180          USA     \n",
              "4   0.1280     positive          178          USA     \n",
              "..     ...          ...          ...          ...     \n",
              "95 -0.4019     negative          190          USA     \n",
              "96 -0.2960     negative          208          USA     \n",
              "97  0.0000     neutral           160          USA     \n",
              "98 -0.6705     negative          164          USA     \n",
              "99  0.1280     positive          169          USA     \n",
              "\n",
              "[100 rows x 13 columns]"
            ]
          },
          "metadata": {},
          "output_type": "display_data"
        }
      ],
      "source": [
        "country = np.repeat(\"UK\",100)\n",
        "datasetUk[\"country\"] = country\n",
        "\n",
        "display(dataset)"
      ]
    },
    {
      "cell_type": "code",
      "execution_count": null,
      "metadata": {
        "id": "IHOBodgEfpMh",
        "outputId": "dd6ea9df-d732-4f43-ae23-6159717072a6"
      },
      "outputs": [
        {
          "data": {
            "text/html": [
              "<div>\n",
              "<style scoped>\n",
              "    .dataframe tbody tr th:only-of-type {\n",
              "        vertical-align: middle;\n",
              "    }\n",
              "\n",
              "    .dataframe tbody tr th {\n",
              "        vertical-align: top;\n",
              "    }\n",
              "\n",
              "    .dataframe thead th {\n",
              "        text-align: right;\n",
              "    }\n",
              "</style>\n",
              "<table border=\"1\" class=\"dataframe\">\n",
              "  <thead>\n",
              "    <tr style=\"text-align: right;\">\n",
              "      <th></th>\n",
              "      <th>screen_name</th>\n",
              "      <th>text</th>\n",
              "      <th>hashtags</th>\n",
              "      <th>favorite_count</th>\n",
              "      <th>retweet_count</th>\n",
              "      <th>source</th>\n",
              "      <th>clean_text</th>\n",
              "      <th>text_processed</th>\n",
              "      <th>text_bigrams</th>\n",
              "      <th>sentiment</th>\n",
              "      <th>Type of Sentiment</th>\n",
              "      <th>text_length</th>\n",
              "      <th>country</th>\n",
              "    </tr>\n",
              "  </thead>\n",
              "  <tbody>\n",
              "    <tr>\n",
              "      <th>0</th>\n",
              "      <td>Parikiaki</td>\n",
              "      <td>A total of 1,921 students absent from school on December 11 due to COVID-19, Cyprus Education Ministry says https://t.co/Tl9SA8j9AI #Cypriotstudents #Cyprus #coronavirus #covid19 #Cypruscoronavirus #covid19tests #Cyprusairports #Cypruslockdownmeasures #covid19vaccineCyprus https://t.co/5nmBjDHCjw</td>\n",
              "      <td>[coronavirus, cyprus, cypruscoronavirus, covid19, cypriotstudents, cypruslockdownmeasures, covid19tests, covid19vaccinecyprus, cyprusairports]</td>\n",
              "      <td>0</td>\n",
              "      <td>0</td>\n",
              "      <td>twitter for android</td>\n",
              "      <td>a total of 1921 students absent from school on december 11 due to covid-19 cyprus education ministry says cypriotstudents cyprus coronavirus covid19 cypruscoronavirus covid19tests cyprusairports cypruslockdownmeasures covid19vaccinecyprus</td>\n",
              "      <td>[total, student, absent, school, december, due, covid, cyprus, education, ministry, say, cypriotstudents, cyprus, coronavirus, covid, cypruscoronavirus, covid, 19tests, cyprusairports, cypruslockdownmeasures, covid, 19vaccinecyprus]</td>\n",
              "      <td>[[student, absent], [cyprus, education], [education, ministry], [ministry, say], [say, cypriotstudents], [cypriotstudents, cyprus], [cyprus, coronavirus], [coronavirus, covid], [cypruscoronavirus, covid], [covid, 19tests], [19tests, cyprusairports], [cyprusairports, cypruslockdownmeasures], [cypruslockdownmeasures, covid], [covid, 19vaccinecyprus]]</td>\n",
              "      <td>0.0000</td>\n",
              "      <td>neutral</td>\n",
              "      <td>238</td>\n",
              "      <td>UK</td>\n",
              "    </tr>\n",
              "    <tr>\n",
              "      <th>1</th>\n",
              "      <td>darkavenger12a</td>\n",
              "      <td>Royal Borough of Greenwich schools to close from Monday as Covid-19 cases rise | #tier3 #london #CovidChristmas #covid19 @gmb @bbc5live https://t.co/JPci8kMzHK</td>\n",
              "      <td>[tier3, covid19, covidchristmas, london]</td>\n",
              "      <td>0</td>\n",
              "      <td>0</td>\n",
              "      <td>twitter for ipad</td>\n",
              "      <td>royal borough of greenwich schools to close from monday as covid-19 cases rise | tier3 london covidchristmas covid19</td>\n",
              "      <td>[royal, borough, greenwich, school, close, monday, covid, case, rise, tier, london, covidchristmas, covid]</td>\n",
              "      <td>[[royal, borough], [greenwich, school], [case, rise], [london, covidchristmas], [covidchristmas, covid]]</td>\n",
              "      <td>0.0000</td>\n",
              "      <td>neutral</td>\n",
              "      <td>116</td>\n",
              "      <td>UK</td>\n",
              "    </tr>\n",
              "    <tr>\n",
              "      <th>2</th>\n",
              "      <td>WestYorksOPCC</td>\n",
              "      <td>News: Education inclusion focus of groundbreaking study to tackle violent crime The @wy_vru has partnered with @CrestAdvisory to explore patterns, trends and contributory factors, with a special attention paid to the #COVID19 period Read more: https://t.co/Q7nigoITXr https://t.co/eokfGz5U2l</td>\n",
              "      <td>[covid19]</td>\n",
              "      <td>1</td>\n",
              "      <td>0</td>\n",
              "      <td>tweetdeck</td>\n",
              "      <td>news education inclusion focus of groundbreaking study to tackle violent crime the has partnered with to explore patterns trends and contributory factors with a special attention paid to the covid19 period read more</td>\n",
              "      <td>[news, education, inclusion, focus, groundbreaking, study, tackle, violent, crime, partner, explore, pattern, trend, contributory, factor, special, attention, pay, covid, period, read]</td>\n",
              "      <td>[[news, education], [education, inclusion], [inclusion, focus], [groundbreaking, study], [tackle, violent], [violent, crime], [explore, pattern], [pattern, trend], [contributory, factor], [special, attention], [attention, pay], [period, read]]</td>\n",
              "      <td>-0.6908</td>\n",
              "      <td>negative</td>\n",
              "      <td>215</td>\n",
              "      <td>UK</td>\n",
              "    </tr>\n",
              "    <tr>\n",
              "      <th>3</th>\n",
              "      <td>Poeticjazztice</td>\n",
              "      <td>Her words resonate with me because of the #COVID19 related study of heart-based, unwritten New Covenant centered, \"battle of the sexes\" based education that I'm pursuing here: https://t.co/Yy026IQtgJ . (2</td>\n",
              "      <td>[covid19]</td>\n",
              "      <td>0</td>\n",
              "      <td>0</td>\n",
              "      <td>twitter web app</td>\n",
              "      <td>her words resonate with me because of the covid19 related study of heart-based unwritten new covenant centered \"battle of the sexes\" based education that i'm pursuing here 2</td>\n",
              "      <td>[word, resonate, covid, related, study, heart-based, unwritten, new, covenant, center, battle, sex, base, education, i'm, pursue]</td>\n",
              "      <td>[[word, resonate], [related, study], [heart-based, unwritten], [unwritten, new], [new, covenant], [covenant, center], [base, education], [i'm, pursue]]</td>\n",
              "      <td>-0.3818</td>\n",
              "      <td>negative</td>\n",
              "      <td>173</td>\n",
              "      <td>UK</td>\n",
              "    </tr>\n",
              "    <tr>\n",
              "      <th>4</th>\n",
              "      <td>playinwild</td>\n",
              "      <td>@EcoUrbanRanger @TheGreenParty @natalieben @BBCPM @NaturePremium1 There's been so much reflection in the world of business &amp; industry post #COVID19 but there appears to no such desire for change in respect of education. There is much opportunity to reset &amp; @_TeachtheFuture Literally what it says on the tin! Teach the future - Change the Future</td>\n",
              "      <td>[covid19]</td>\n",
              "      <td>0</td>\n",
              "      <td>0</td>\n",
              "      <td>twitter for android</td>\n",
              "      <td>there's been so much reflection in the world of business industry post covid19 but there appears to no such desire for change in respect of education there is much opportunity to reset literally what it says on the tin teach the future - change the future</td>\n",
              "      <td>[there's, much, reflection, world, business, industry, post, covid, appear, desire, change, respect, education, much, opportunity, reset, literally, say, tin, teach, future, change, future]</td>\n",
              "      <td>[[much, reflection], [business, industry], [industry, post], [post, covid], [much, opportunity], [reset, literally], [tin, teach]]</td>\n",
              "      <td>0.8625</td>\n",
              "      <td>positive</td>\n",
              "      <td>255</td>\n",
              "      <td>UK</td>\n",
              "    </tr>\n",
              "    <tr>\n",
              "      <th>...</th>\n",
              "      <td>...</td>\n",
              "      <td>...</td>\n",
              "      <td>...</td>\n",
              "      <td>...</td>\n",
              "      <td>...</td>\n",
              "      <td>...</td>\n",
              "      <td>...</td>\n",
              "      <td>...</td>\n",
              "      <td>...</td>\n",
              "      <td>...</td>\n",
              "      <td>...</td>\n",
              "      <td>...</td>\n",
              "      <td>...</td>\n",
              "    </tr>\n",
              "    <tr>\n",
              "      <th>95</th>\n",
              "      <td>AJBlackston</td>\n",
              "      <td>Sanders, Hawley team up to demand vote on second round of stimulus checks https://t.co/1meL43ntQS #Education #Federal #State #Local #News #Crime #Fire #Politics #COVID19 #Security #Mayor #Teachers #TechNews #Sports Please Retweet</td>\n",
              "      <td>[state, crime, education, technews, teachers, security, sports, federal, local, covid19, mayor, politics, fire, news]</td>\n",
              "      <td>0</td>\n",
              "      <td>0</td>\n",
              "      <td>Microsoft Power Platform</td>\n",
              "      <td>sanders hawley team up to demand vote on second round of stimulus checks education federal state local news crime fire politics covid19 security mayor teachers technews sports please retweet</td>\n",
              "      <td>[sander, hawley, team, demand, vote, second, round, stimulus, check, education, federal, state, local, news, crime, fire, politics, covid, security, mayor, teacher, technews, sport, please, retweet]</td>\n",
              "      <td>[[sander, hawley], [hawley, team], [demand, vote], [second, round], [stimulus, check], [check, education], [education, federal], [federal, state], [state, local], [local, news], [news, crime], [crime, fire], [fire, politics], [politics, covid], [security, mayor], [mayor, teacher], [teacher, technews], [technews, sport], [sport, please], [please, retweet]]</td>\n",
              "      <td>-0.4019</td>\n",
              "      <td>negative</td>\n",
              "      <td>190</td>\n",
              "      <td>USA</td>\n",
              "    </tr>\n",
              "    <tr>\n",
              "      <th>96</th>\n",
              "      <td>AJBlackston</td>\n",
              "      <td>Biden says FDA panel vote on Pfizer vaccine a &amp;#039;bright light in a needlessly dark time&amp;#039; https://t.co/IdAKNkUoCD #Education #Federal #State #Local #News #Crime #Fire #Politics #COVID19 #Security #Mayor #Teachers #TechNews #Sports Please Retweet</td>\n",
              "      <td>[state, crime, education, technews, teachers, security, sports, federal, local, covid19, mayor, politics, fire, news]</td>\n",
              "      <td>0</td>\n",
              "      <td>0</td>\n",
              "      <td>Microsoft Power Platform</td>\n",
              "      <td>biden says fda panel vote on pfizer vaccine a 039bright light in a needlessly dark time039 education federal state local news crime fire politics covid19 security mayor teachers technews sports please retweet</td>\n",
              "      <td>[biden, say, fda, panel, vote, pfizer, vaccine, 039bright, light, needlessly, dark, time, education, federal, state, local, news, crime, fire, politics, covid, security, mayor, teacher, technews, sport, please, retweet]</td>\n",
              "      <td>[[biden, say], [say, fda], [fda, panel], [panel, vote], [pfizer, vaccine], [039bright, light], [needlessly, dark], [dark, time], [education, federal], [federal, state], [state, local], [local, news], [news, crime], [crime, fire], [fire, politics], [politics, covid], [security, mayor], [mayor, teacher], [teacher, technews], [technews, sport], [sport, please], [please, retweet]]</td>\n",
              "      <td>-0.2960</td>\n",
              "      <td>negative</td>\n",
              "      <td>208</td>\n",
              "      <td>USA</td>\n",
              "    </tr>\n",
              "    <tr>\n",
              "      <th>97</th>\n",
              "      <td>AJBlackston</td>\n",
              "      <td>Minneapolis Approves Cutting Police Budget https://t.co/0uoj8PFydj #Education #Federal #State #Local #News #Crime #Fire #Politics #COVID19 #Security #Mayor #Teachers #TechNews #Sports Please Retweet</td>\n",
              "      <td>[state, crime, education, technews, teachers, security, sports, federal, local, covid19, mayor, politics, fire, news]</td>\n",
              "      <td>0</td>\n",
              "      <td>0</td>\n",
              "      <td>Microsoft Power Platform</td>\n",
              "      <td>minneapolis approves cutting police budget education federal state local news crime fire politics covid19 security mayor teachers technews sports please retweet</td>\n",
              "      <td>[minneapolis, approve, cut, police, budget, education, federal, state, local, news, crime, fire, politics, covid, security, mayor, teacher, technews, sport, please, retweet]</td>\n",
              "      <td>[[minneapolis, approve], [approve, cut], [cut, police], [police, budget], [budget, education], [education, federal], [federal, state], [state, local], [local, news], [news, crime], [crime, fire], [fire, politics], [politics, covid], [security, mayor], [mayor, teacher], [teacher, technews], [technews, sport], [sport, please], [please, retweet]]</td>\n",
              "      <td>0.0000</td>\n",
              "      <td>neutral</td>\n",
              "      <td>160</td>\n",
              "      <td>USA</td>\n",
              "    </tr>\n",
              "    <tr>\n",
              "      <th>98</th>\n",
              "      <td>AJBlackston</td>\n",
              "      <td>Poverty among professors clocked in new survey https://t.co/OGTSwLWB3J #Education #Federal #State #Local #News #Crime #Fire #Politics #COVID19 #Security #Mayor #Teachers #TechNews #Sports Please Retweet</td>\n",
              "      <td>[state, crime, education, technews, teachers, security, sports, federal, local, covid19, mayor, politics, fire, news]</td>\n",
              "      <td>0</td>\n",
              "      <td>0</td>\n",
              "      <td>Microsoft Power Platform</td>\n",
              "      <td>poverty among professors clocked in new survey education federal state local news crime fire politics covid19 security mayor teachers technews sports please retweet</td>\n",
              "      <td>[poverty, among, professor, clock, new, survey, education, federal, state, local, news, crime, fire, politics, covid, security, mayor, teacher, technews, sport, please, retweet]</td>\n",
              "      <td>[[poverty, among], [among, professor], [professor, clock], [new, survey], [survey, education], [education, federal], [federal, state], [state, local], [local, news], [news, crime], [crime, fire], [fire, politics], [politics, covid], [security, mayor], [mayor, teacher], [teacher, technews], [technews, sport], [sport, please], [please, retweet]]</td>\n",
              "      <td>-0.6705</td>\n",
              "      <td>negative</td>\n",
              "      <td>164</td>\n",
              "      <td>USA</td>\n",
              "    </tr>\n",
              "    <tr>\n",
              "      <th>99</th>\n",
              "      <td>AJBlackston</td>\n",
              "      <td>FDA panel votes in favor of Pfizer COVID-19 vaccine https://t.co/W2NK0ErF5t #Education #Federal #State #Local #News #Crime #Fire #Politics #COVID19 #Security #Mayor #Teachers #TechNews #Sports Please Retweet</td>\n",
              "      <td>[state, crime, education, technews, teachers, security, sports, federal, local, covid19, mayor, politics, fire, news]</td>\n",
              "      <td>0</td>\n",
              "      <td>0</td>\n",
              "      <td>Microsoft Power Platform</td>\n",
              "      <td>fda panel votes in favor of pfizer covid-19 vaccine education federal state local news crime fire politics covid19 security mayor teachers technews sports please retweet</td>\n",
              "      <td>[fda, panel, vote, favor, pfizer, covid, vaccine, education, federal, state, local, news, crime, fire, politics, covid, security, mayor, teacher, technews, sport, please, retweet]</td>\n",
              "      <td>[[fda, panel], [panel, vote], [pfizer, covid], [vaccine, education], [education, federal], [federal, state], [state, local], [local, news], [news, crime], [crime, fire], [fire, politics], [politics, covid], [security, mayor], [mayor, teacher], [teacher, technews], [technews, sport], [sport, please], [please, retweet]]</td>\n",
              "      <td>0.1280</td>\n",
              "      <td>positive</td>\n",
              "      <td>169</td>\n",
              "      <td>USA</td>\n",
              "    </tr>\n",
              "  </tbody>\n",
              "</table>\n",
              "<p>200 rows × 13 columns</p>\n",
              "</div>"
            ],
            "text/plain": [
              "       screen_name  \\\n",
              "0   Parikiaki        \n",
              "1   darkavenger12a   \n",
              "2   WestYorksOPCC    \n",
              "3   Poeticjazztice   \n",
              "4   playinwild       \n",
              "..         ...       \n",
              "95  AJBlackston      \n",
              "96  AJBlackston      \n",
              "97  AJBlackston      \n",
              "98  AJBlackston      \n",
              "99  AJBlackston      \n",
              "\n",
              "                                                                                                                                                                                                                                                                                                                                                         text  \\\n",
              "0   A total of 1,921 students absent from school on December 11 due to COVID-19, Cyprus Education Ministry says https://t.co/Tl9SA8j9AI #Cypriotstudents #Cyprus #coronavirus #covid19 #Cypruscoronavirus #covid19tests #Cyprusairports #Cypruslockdownmeasures #covid19vaccineCyprus https://t.co/5nmBjDHCjw                                                   \n",
              "1   Royal Borough of Greenwich schools to close from Monday as Covid-19 cases rise | #tier3 #london #CovidChristmas #covid19 @gmb @bbc5live https://t.co/JPci8kMzHK                                                                                                                                                                                             \n",
              "2   News: Education inclusion focus of groundbreaking study to tackle violent crime The @wy_vru has partnered with @CrestAdvisory to explore patterns, trends and contributory factors, with a special attention paid to the #COVID19 period Read more: https://t.co/Q7nigoITXr https://t.co/eokfGz5U2l                                                         \n",
              "3   Her words resonate with me because of the #COVID19 related study of heart-based, unwritten New Covenant centered, \"battle of the sexes\" based education that I'm pursuing here: https://t.co/Yy026IQtgJ . (2                                                                                                                                                \n",
              "4   @EcoUrbanRanger @TheGreenParty @natalieben @BBCPM @NaturePremium1 There's been so much reflection in the world of business & industry post #COVID19 but there appears to no such desire for change in respect of education. There is much opportunity to reset & @_TeachtheFuture Literally what it says on the tin! Teach the future - Change the Future   \n",
              "..                                                                                                                                                                                                                                                                                                                                                        ...   \n",
              "95  Sanders, Hawley team up to demand vote on second round of stimulus checks https://t.co/1meL43ntQS #Education #Federal #State #Local #News #Crime #Fire #Politics #COVID19 #Security #Mayor #Teachers #TechNews #Sports Please Retweet                                                                                                                       \n",
              "96  Biden says FDA panel vote on Pfizer vaccine a &#039;bright light in a needlessly dark time&#039; https://t.co/IdAKNkUoCD #Education #Federal #State #Local #News #Crime #Fire #Politics #COVID19 #Security #Mayor #Teachers #TechNews #Sports Please Retweet                                                                                                \n",
              "97  Minneapolis Approves Cutting Police Budget https://t.co/0uoj8PFydj #Education #Federal #State #Local #News #Crime #Fire #Politics #COVID19 #Security #Mayor #Teachers #TechNews #Sports Please Retweet                                                                                                                                                      \n",
              "98  Poverty among professors clocked in new survey https://t.co/OGTSwLWB3J #Education #Federal #State #Local #News #Crime #Fire #Politics #COVID19 #Security #Mayor #Teachers #TechNews #Sports Please Retweet                                                                                                                                                  \n",
              "99  FDA panel votes in favor of Pfizer COVID-19 vaccine https://t.co/W2NK0ErF5t #Education #Federal #State #Local #News #Crime #Fire #Politics #COVID19 #Security #Mayor #Teachers #TechNews #Sports Please Retweet                                                                                                                                             \n",
              "\n",
              "                                                                                                                                          hashtags  \\\n",
              "0   [coronavirus, cyprus, cypruscoronavirus, covid19, cypriotstudents, cypruslockdownmeasures, covid19tests, covid19vaccinecyprus, cyprusairports]   \n",
              "1   [tier3, covid19, covidchristmas, london]                                                                                                         \n",
              "2   [covid19]                                                                                                                                        \n",
              "3   [covid19]                                                                                                                                        \n",
              "4   [covid19]                                                                                                                                        \n",
              "..        ...                                                                                                                                        \n",
              "95  [state, crime, education, technews, teachers, security, sports, federal, local, covid19, mayor, politics, fire, news]                            \n",
              "96  [state, crime, education, technews, teachers, security, sports, federal, local, covid19, mayor, politics, fire, news]                            \n",
              "97  [state, crime, education, technews, teachers, security, sports, federal, local, covid19, mayor, politics, fire, news]                            \n",
              "98  [state, crime, education, technews, teachers, security, sports, federal, local, covid19, mayor, politics, fire, news]                            \n",
              "99  [state, crime, education, technews, teachers, security, sports, federal, local, covid19, mayor, politics, fire, news]                            \n",
              "\n",
              "    favorite_count  retweet_count                    source  \\\n",
              "0   0               0              twitter for android        \n",
              "1   0               0              twitter for ipad           \n",
              "2   1               0              tweetdeck                  \n",
              "3   0               0              twitter web app            \n",
              "4   0               0              twitter for android        \n",
              ".. ..              ..                              ...        \n",
              "95  0               0              Microsoft Power Platform   \n",
              "96  0               0              Microsoft Power Platform   \n",
              "97  0               0              Microsoft Power Platform   \n",
              "98  0               0              Microsoft Power Platform   \n",
              "99  0               0              Microsoft Power Platform   \n",
              "\n",
              "                                                                                                                                                                                                                                                         clean_text  \\\n",
              "0   a total of 1921 students absent from school on december 11 due to covid-19 cyprus education ministry says cypriotstudents cyprus coronavirus covid19 cypruscoronavirus covid19tests cyprusairports cypruslockdownmeasures covid19vaccinecyprus                    \n",
              "1   royal borough of greenwich schools to close from monday as covid-19 cases rise | tier3 london covidchristmas covid19                                                                                                                                              \n",
              "2   news education inclusion focus of groundbreaking study to tackle violent crime the has partnered with to explore patterns trends and contributory factors with a special attention paid to the covid19 period read more                                           \n",
              "3   her words resonate with me because of the covid19 related study of heart-based unwritten new covenant centered \"battle of the sexes\" based education that i'm pursuing here 2                                                                                     \n",
              "4   there's been so much reflection in the world of business industry post covid19 but there appears to no such desire for change in respect of education there is much opportunity to reset literally what it says on the tin teach the future - change the future   \n",
              "..                                                                                                                                                                                                                                                              ...   \n",
              "95  sanders hawley team up to demand vote on second round of stimulus checks education federal state local news crime fire politics covid19 security mayor teachers technews sports please retweet                                                                    \n",
              "96  biden says fda panel vote on pfizer vaccine a 039bright light in a needlessly dark time039 education federal state local news crime fire politics covid19 security mayor teachers technews sports please retweet                                                  \n",
              "97  minneapolis approves cutting police budget education federal state local news crime fire politics covid19 security mayor teachers technews sports please retweet                                                                                                  \n",
              "98  poverty among professors clocked in new survey education federal state local news crime fire politics covid19 security mayor teachers technews sports please retweet                                                                                              \n",
              "99  fda panel votes in favor of pfizer covid-19 vaccine education federal state local news crime fire politics covid19 security mayor teachers technews sports please retweet                                                                                         \n",
              "\n",
              "                                                                                                                                                                                                                              text_processed  \\\n",
              "0   [total, student, absent, school, december, due, covid, cyprus, education, ministry, say, cypriotstudents, cyprus, coronavirus, covid, cypruscoronavirus, covid, 19tests, cyprusairports, cypruslockdownmeasures, covid, 19vaccinecyprus]   \n",
              "1   [royal, borough, greenwich, school, close, monday, covid, case, rise, tier, london, covidchristmas, covid]                                                                                                                                 \n",
              "2   [news, education, inclusion, focus, groundbreaking, study, tackle, violent, crime, partner, explore, pattern, trend, contributory, factor, special, attention, pay, covid, period, read]                                                   \n",
              "3   [word, resonate, covid, related, study, heart-based, unwritten, new, covenant, center, battle, sex, base, education, i'm, pursue]                                                                                                          \n",
              "4   [there's, much, reflection, world, business, industry, post, covid, appear, desire, change, respect, education, much, opportunity, reset, literally, say, tin, teach, future, change, future]                                              \n",
              "..                                                                                                                                                                                            ...                                              \n",
              "95  [sander, hawley, team, demand, vote, second, round, stimulus, check, education, federal, state, local, news, crime, fire, politics, covid, security, mayor, teacher, technews, sport, please, retweet]                                     \n",
              "96  [biden, say, fda, panel, vote, pfizer, vaccine, 039bright, light, needlessly, dark, time, education, federal, state, local, news, crime, fire, politics, covid, security, mayor, teacher, technews, sport, please, retweet]                \n",
              "97  [minneapolis, approve, cut, police, budget, education, federal, state, local, news, crime, fire, politics, covid, security, mayor, teacher, technews, sport, please, retweet]                                                              \n",
              "98  [poverty, among, professor, clock, new, survey, education, federal, state, local, news, crime, fire, politics, covid, security, mayor, teacher, technews, sport, please, retweet]                                                          \n",
              "99  [fda, panel, vote, favor, pfizer, covid, vaccine, education, federal, state, local, news, crime, fire, politics, covid, security, mayor, teacher, technews, sport, please, retweet]                                                        \n",
              "\n",
              "                                                                                                                                                                                                                                                                                                                                                                                   text_bigrams  \\\n",
              "0   [[student, absent], [cyprus, education], [education, ministry], [ministry, say], [say, cypriotstudents], [cypriotstudents, cyprus], [cyprus, coronavirus], [coronavirus, covid], [cypruscoronavirus, covid], [covid, 19tests], [19tests, cyprusairports], [cyprusairports, cypruslockdownmeasures], [cypruslockdownmeasures, covid], [covid, 19vaccinecyprus]]                                \n",
              "1   [[royal, borough], [greenwich, school], [case, rise], [london, covidchristmas], [covidchristmas, covid]]                                                                                                                                                                                                                                                                                      \n",
              "2   [[news, education], [education, inclusion], [inclusion, focus], [groundbreaking, study], [tackle, violent], [violent, crime], [explore, pattern], [pattern, trend], [contributory, factor], [special, attention], [attention, pay], [period, read]]                                                                                                                                           \n",
              "3   [[word, resonate], [related, study], [heart-based, unwritten], [unwritten, new], [new, covenant], [covenant, center], [base, education], [i'm, pursue]]                                                                                                                                                                                                                                       \n",
              "4   [[much, reflection], [business, industry], [industry, post], [post, covid], [much, opportunity], [reset, literally], [tin, teach]]                                                                                                                                                                                                                                                            \n",
              "..                                                                                                                                 ...                                                                                                                                                                                                                                                            \n",
              "95  [[sander, hawley], [hawley, team], [demand, vote], [second, round], [stimulus, check], [check, education], [education, federal], [federal, state], [state, local], [local, news], [news, crime], [crime, fire], [fire, politics], [politics, covid], [security, mayor], [mayor, teacher], [teacher, technews], [technews, sport], [sport, please], [please, retweet]]                         \n",
              "96  [[biden, say], [say, fda], [fda, panel], [panel, vote], [pfizer, vaccine], [039bright, light], [needlessly, dark], [dark, time], [education, federal], [federal, state], [state, local], [local, news], [news, crime], [crime, fire], [fire, politics], [politics, covid], [security, mayor], [mayor, teacher], [teacher, technews], [technews, sport], [sport, please], [please, retweet]]   \n",
              "97  [[minneapolis, approve], [approve, cut], [cut, police], [police, budget], [budget, education], [education, federal], [federal, state], [state, local], [local, news], [news, crime], [crime, fire], [fire, politics], [politics, covid], [security, mayor], [mayor, teacher], [teacher, technews], [technews, sport], [sport, please], [please, retweet]]                                     \n",
              "98  [[poverty, among], [among, professor], [professor, clock], [new, survey], [survey, education], [education, federal], [federal, state], [state, local], [local, news], [news, crime], [crime, fire], [fire, politics], [politics, covid], [security, mayor], [mayor, teacher], [teacher, technews], [technews, sport], [sport, please], [please, retweet]]                                     \n",
              "99  [[fda, panel], [panel, vote], [pfizer, covid], [vaccine, education], [education, federal], [federal, state], [state, local], [local, news], [news, crime], [crime, fire], [fire, politics], [politics, covid], [security, mayor], [mayor, teacher], [teacher, technews], [technews, sport], [sport, please], [please, retweet]]                                                               \n",
              "\n",
              "    sentiment Type of Sentiment  text_length country  \n",
              "0   0.0000     neutral           238          UK      \n",
              "1   0.0000     neutral           116          UK      \n",
              "2  -0.6908     negative          215          UK      \n",
              "3  -0.3818     negative          173          UK      \n",
              "4   0.8625     positive          255          UK      \n",
              "..     ...          ...          ...          ..      \n",
              "95 -0.4019     negative          190          USA     \n",
              "96 -0.2960     negative          208          USA     \n",
              "97  0.0000     neutral           160          USA     \n",
              "98 -0.6705     negative          164          USA     \n",
              "99  0.1280     positive          169          USA     \n",
              "\n",
              "[200 rows x 13 columns]"
            ]
          },
          "metadata": {},
          "output_type": "display_data"
        }
      ],
      "source": [
        "frames = [datasetUk , dataset]\n",
        "\n",
        "datasetwhole = pd.concat(frames)\n",
        "\n",
        "display(datasetwhole)"
      ]
    },
    {
      "cell_type": "markdown",
      "metadata": {
        "id": "Q1L-xBeXfpMi"
      },
      "source": [
        "# Hypothesis Test\n"
      ]
    },
    {
      "cell_type": "markdown",
      "metadata": {
        "id": "Mq0XmnYffpMi"
      },
      "source": [
        "1-)\n",
        "\n",
        "Mutiple Logistic Regression is applied to the effect of covariates on a binary response. It uses the logit function and model the odds of success.\n",
        "\n",
        "The model of multiple logistic regression is;\n",
        "\n",
        "logit(p/(1-p)) =ß0 +ß1*x1+..+ßn*xn\n"
      ]
    },
    {
      "cell_type": "markdown",
      "metadata": {
        "id": "y4RsxlfDfpMi"
      },
      "source": [
        "Multiple logistic regression is implemented to see the effect of retweet count and text length on the country"
      ]
    },
    {
      "cell_type": "code",
      "execution_count": null,
      "metadata": {
        "id": "CeH1GsQffpMi"
      },
      "outputs": [],
      "source": [
        "import pandas as pd\n",
        "import statsmodels.api as sm\n",
        "\n",
        "datasetwhole = pd.get_dummies(datasetwhole, columns=[\"country\"], drop_first = True)\n",
        "datasetwhole[\"intercept\"]=1.0 # intercept is as 1"
      ]
    },
    {
      "cell_type": "code",
      "execution_count": null,
      "metadata": {
        "id": "EPypSNqHfpMi"
      },
      "outputs": [],
      "source": [
        "\n",
        "\n",
        "#split dataset in features and target variable\n",
        "feature_cols = ['retweet_count', 'text_length', \"intercept\"] #covariates of model\n",
        "xs = datasetwhole[feature_cols] # Features\n",
        "y = datasetwhole[\"country_USA\"] # response variable is dummy\n"
      ]
    },
    {
      "cell_type": "code",
      "execution_count": null,
      "metadata": {
        "id": "4FMRG9XHfpMi",
        "outputId": "aa23c84c-52b2-4800-e4bd-b58dbec61076"
      },
      "outputs": [
        {
          "name": "stdout",
          "output_type": "stream",
          "text": [
            "Optimization terminated successfully.\n",
            "         Current function value: inf\n",
            "         Iterations 6\n",
            "                           Logit Regression Results                           \n",
            "==============================================================================\n",
            "Dep. Variable:            country_USA   No. Observations:                  200\n",
            "Model:                          Logit   Df Residuals:                      197\n",
            "Method:                           MLE   Df Model:                            2\n",
            "Date:                Mon, 14 Dec 2020   Pseudo R-squ.:                     inf\n",
            "Time:                        02:22:46   Log-Likelihood:                   -inf\n",
            "converged:                       True   LL-Null:                        0.0000\n",
            "Covariance Type:            nonrobust   LLR p-value:                     1.000\n",
            "=================================================================================\n",
            "                    coef    std err          z      P>|z|      [0.025      0.975]\n",
            "---------------------------------------------------------------------------------\n",
            "retweet_count    -0.3007      0.114     -2.641      0.008      -0.524      -0.077\n",
            "text_length      -0.0086      0.004     -2.435      0.015      -0.015      -0.002\n",
            "intercept         1.8079      0.686      2.636      0.008       0.464       3.152\n",
            "=================================================================================\n"
          ]
        },
        {
          "name": "stderr",
          "output_type": "stream",
          "text": [
            "C:\\Users\\begum\\anaconda3\\lib\\site-packages\\statsmodels\\discrete\\discrete_model.py:1799: RuntimeWarning: overflow encountered in exp\n",
            "  return 1/(1+np.exp(-X))\n",
            "C:\\Users\\begum\\anaconda3\\lib\\site-packages\\statsmodels\\discrete\\discrete_model.py:1852: RuntimeWarning: divide by zero encountered in log\n",
            "  return np.sum(np.log(self.cdf(q*np.dot(X,params))))\n",
            "C:\\Users\\begum\\anaconda3\\lib\\site-packages\\statsmodels\\base\\model.py:547: HessianInversionWarning: Inverting hessian failed, no bse or cov_params available\n",
            "  warnings.warn('Inverting hessian failed, no bse or cov_params '\n",
            "C:\\Users\\begum\\anaconda3\\lib\\site-packages\\statsmodels\\base\\model.py:547: HessianInversionWarning: Inverting hessian failed, no bse or cov_params available\n",
            "  warnings.warn('Inverting hessian failed, no bse or cov_params '\n"
          ]
        }
      ],
      "source": [
        "\n",
        "logit_model=sm.Logit(datasetwhole[\"country_USA\"], xs.astype(float)) #multiple logistic regression model, type of covariates of is set as float\n",
        "result = logit_model.fit()\n",
        "print(result.summary()) #model summary"
      ]
    },
    {
      "cell_type": "markdown",
      "metadata": {
        "id": "hcvZormBfpMi"
      },
      "source": [
        "The model above is conducted to see the effect of sentiment and retweet count on country. It can be seen that the model is not significant by looking at the p value of the model which is 1 which is very high from the signifcance level 0.05 and results in not rejecting the null hypothesis which the coefficients are equal to each other and zero. Moreover, looking at the significance of the variables, none of the is significant since their confidence intervals including zero, that means with 95% the coeeficients may lie between these intervals and also may take the value 0. Therefore covariates of the model are also not significant to be added to the model. Even though the variables are not significant the odds ratios of them can be explained as, one unit change in sentiment results in decreasing the odds of country by 0.317 units. Similarly, one unit change in retweet counts results in 0.0037 units decrease in the odds of country."
      ]
    },
    {
      "cell_type": "code",
      "execution_count": null,
      "metadata": {
        "id": "pHdc15v_fpMj"
      },
      "outputs": [],
      "source": []
    },
    {
      "cell_type": "markdown",
      "metadata": {
        "id": "XNnTtJVSfpMj"
      },
      "source": [
        "2-)\n",
        "H0: The text length is equal between the two groups\n",
        "\n",
        "HA: The text length is not equal between the two groups"
      ]
    },
    {
      "cell_type": "markdown",
      "metadata": {
        "id": "Hn8GGSY-fpMj"
      },
      "source": [
        "It is compared to mean of text length for the UK and  USA. It is applied to t-test for the hypothesis test. The assumption is that the continous data comes from normality. In order to check assumption, the shapiro-wilk test is used. However, the result of shapiro wilk's p value is smaller than 0.05. That means, text length is not normal because of this reason I apply that wilcoxon test."
      ]
    },
    {
      "cell_type": "code",
      "execution_count": null,
      "metadata": {
        "id": "lY91oh1JfpMj",
        "outputId": "fa8e0705-4cde-47fb-d5a4-7bd504c3d718"
      },
      "outputs": [
        {
          "data": {
            "text/plain": [
              "ShapiroResult(statistic=0.9111338257789612, pvalue=4.909830749966204e-06)"
            ]
          },
          "execution_count": 1218,
          "metadata": {},
          "output_type": "execute_result"
        }
      ],
      "source": [
        "stats.shapiro(dataset['text_length'])\n",
        "stats.shapiro(datasetUk['text_length'])"
      ]
    },
    {
      "cell_type": "code",
      "execution_count": null,
      "metadata": {
        "id": "cdazKkQXfpMj"
      },
      "outputs": [],
      "source": [
        "from scipy import stats\n",
        "from scipy.stats import wilcoxon"
      ]
    },
    {
      "cell_type": "code",
      "execution_count": null,
      "metadata": {
        "id": "oCPXXh7NfpMj"
      },
      "outputs": [],
      "source": [
        "rv1 = datasetUk['text_length']\n",
        "rv2 = dataset['text_length']"
      ]
    },
    {
      "cell_type": "code",
      "execution_count": null,
      "metadata": {
        "id": "bJ8GlvnSfpMk",
        "outputId": "ba5903d3-6005-46be-f168-915510c7290d"
      },
      "outputs": [
        {
          "data": {
            "text/plain": [
              "MannwhitneyuResult(statistic=6455.5, pvalue=0.00037744825907499996)"
            ]
          },
          "execution_count": 1221,
          "metadata": {},
          "output_type": "execute_result"
        }
      ],
      "source": [
        "stats.mannwhitneyu(rv1, rv2, alternative='two-sided')\n"
      ]
    },
    {
      "cell_type": "markdown",
      "metadata": {
        "id": "k9q2DUkkfpMk"
      },
      "source": [
        "The result of the Mann-Whitney U Test is in above. The following null and alternative hypotheses:\n",
        "\n",
        "H0: The text length is equal between the two groups\n",
        "\n",
        "HA: The text length is not equal between the two groups\n",
        "\n",
        "Since the p-value 0.002528 is not less than 0.05, it can be said that there is no sufficient evidence to say the text length different between the UK and USA"
      ]
    }
  ],
  "metadata": {
    "colab": {
      "include_colab_link": true,
      "provenance": []
    },
    "kernelspec": {
      "display_name": "Python 3",
      "language": "python",
      "name": "python3"
    },
    "language_info": {
      "codemirror_mode": {
        "name": "ipython",
        "version": 3
      },
      "file_extension": ".py",
      "mimetype": "text/x-python",
      "name": "python",
      "nbconvert_exporter": "python",
      "pygments_lexer": "ipython3",
      "version": "3.8.5"
    }
  },
  "nbformat": 4,
  "nbformat_minor": 0
}
